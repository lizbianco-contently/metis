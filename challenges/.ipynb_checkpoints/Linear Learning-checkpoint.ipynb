{
 "cells": [
  {
   "cell_type": "markdown",
   "metadata": {},
   "source": [
    "<h1>Challenge Set 4</h1>\n",
    "Topic: Linear Regression and Learning Curves\n",
    "\n",
    "Name: Liz Bianco\n",
    "\n",
    "Date: 5/1/2016"
   ]
  },
  {
   "cell_type": "code",
   "execution_count": 37,
   "metadata": {
    "collapsed": false
   },
   "outputs": [],
   "source": [
    "#import libraries\n",
    "import numpy as np\n",
    "from patsy import dmatrices\n",
    "import pandas as pd\n",
    "from sklearn.linear_model import LinearRegression\n",
    "from sklearn.cross_validation import train_test_split\n",
    "from sklearn.metrics import mean_squared_error\n",
    "import math\n",
    "from scipy.optimize import minimize\n",
    "from scipy.stats import t\n",
    "import statsmodels.api as sm    #import statsmodels for the stats models\n",
    "import matplotlib.pyplot as plt\n",
    "%matplotlib inline"
   ]
  },
  {
   "cell_type": "markdown",
   "metadata": {},
   "source": [
    "<b>Challenge 1</b>\n",
    "\n",
    "Generate (fake) data that is linearly related to log(x).\n",
    "\n",
    "You are making this model up. It is of the form B0 + B1*log(x) + epsilon. (You are making up the parameters.)\n",
    "\n",
    "Simulate some data from this model."
   ]
  },
  {
   "cell_type": "code",
   "execution_count": 10,
   "metadata": {
    "collapsed": false
   },
   "outputs": [],
   "source": [
    "#generate fake data\n",
    "x = np.arange(1,101)\n",
    "e = np.random.randn(100) *1.0\n",
    "b0 = 8.0\n",
    "b1 = 3.0\n",
    "y = b0*np.ones(100) + b1*np.log(x)+e\n",
    "\n",
    "data = pd.DataFrame({'x': x, 'x**2': x**2, 'logx' :np.log(x), 'y': y})\n"
   ]
  },
  {
   "cell_type": "markdown",
   "metadata": {},
   "source": [
    "Then fit two models to it:\n",
    "\n",
    "quadratic (second degree polynomial)"
   ]
  },
  {
   "cell_type": "code",
   "execution_count": 13,
   "metadata": {
    "collapsed": false
   },
   "outputs": [
    {
     "name": "stdout",
     "output_type": "stream",
     "text": [
      "                            OLS Regression Results                            \n",
      "==============================================================================\n",
      "Dep. Variable:                      y   R-squared:                       0.681\n",
      "Model:                            OLS   Adj. R-squared:                  0.678\n",
      "Method:                 Least Squares   F-statistic:                     209.1\n",
      "Date:                Tue, 03 May 2016   Prob (F-statistic):           4.77e-26\n",
      "Time:                        06:43:33   Log-Likelihood:                -194.15\n",
      "No. Observations:                 100   AIC:                             392.3\n",
      "Df Residuals:                      98   BIC:                             397.5\n",
      "Df Model:                           1                                         \n",
      "Covariance Type:            nonrobust                                         \n",
      "==============================================================================\n",
      "                 coef    std err          t      P>|t|      [95.0% Conf. Int.]\n",
      "------------------------------------------------------------------------------\n",
      "Intercept     14.5568      0.343     42.407      0.000        13.876    15.238\n",
      "x              0.0853      0.006     14.461      0.000         0.074     0.097\n",
      "==============================================================================\n",
      "Omnibus:                       45.744   Durbin-Watson:                   0.791\n",
      "Prob(Omnibus):                  0.000   Jarque-Bera (JB):              148.202\n",
      "Skew:                          -1.562   Prob(JB):                     6.58e-33\n",
      "Kurtosis:                       8.080   Cond. No.                         117.\n",
      "==============================================================================\n",
      "\n",
      "Warnings:\n",
      "[1] Standard Errors assume that the covariance matrix of the errors is correctly specified.\n"
     ]
    }
   ],
   "source": [
    "#quadratic model\n",
    "y1, X1 = dmatrices('y ~ x**2', data = data, return_type = 'dataframe')\n",
    "quadratic_model = sm.OLS(y1, X1).fit()\n",
    "print (quadratic_model.summary())"
   ]
  },
  {
   "cell_type": "markdown",
   "metadata": {},
   "source": [
    "logarithmic (log(x))\n",
    "(The second one should fit really well, since it has the same form as the underlying model!)"
   ]
  },
  {
   "cell_type": "code",
   "execution_count": 14,
   "metadata": {
    "collapsed": false
   },
   "outputs": [
    {
     "name": "stdout",
     "output_type": "stream",
     "text": [
      "                            OLS Regression Results                            \n",
      "==============================================================================\n",
      "Dep. Variable:                      y   R-squared:                       0.884\n",
      "Model:                            OLS   Adj. R-squared:                  0.883\n",
      "Method:                 Least Squares   F-statistic:                     745.3\n",
      "Date:                Tue, 03 May 2016   Prob (F-statistic):           1.35e-47\n",
      "Time:                        06:46:15   Log-Likelihood:                -143.65\n",
      "No. Observations:                 100   AIC:                             291.3\n",
      "Df Residuals:                      98   BIC:                             296.5\n",
      "Df Model:                           1                                         \n",
      "Covariance Type:            nonrobust                                         \n",
      "==============================================================================\n",
      "                 coef    std err          t      P>|t|      [95.0% Conf. Int.]\n",
      "------------------------------------------------------------------------------\n",
      "Intercept      7.8114      0.418     18.696      0.000         6.982     8.640\n",
      "logx           3.0392      0.111     27.299      0.000         2.818     3.260\n",
      "==============================================================================\n",
      "Omnibus:                        1.239   Durbin-Watson:                   2.056\n",
      "Prob(Omnibus):                  0.538   Jarque-Bera (JB):                1.190\n",
      "Skew:                           0.135   Prob(JB):                        0.551\n",
      "Kurtosis:                       2.539   Cond. No.                         16.3\n",
      "==============================================================================\n",
      "\n",
      "Warnings:\n",
      "[1] Standard Errors assume that the covariance matrix of the errors is correctly specified.\n"
     ]
    }
   ],
   "source": [
    "#Logarithmic model\n",
    "y1, X2 = dmatrices('y ~ logx', data = data, return_type = 'dataframe')\n",
    "log_model = sm.OLS(y1, X2).fit()\n",
    "print (log_model.summary())"
   ]
  },
  {
   "cell_type": "markdown",
   "metadata": {},
   "source": [
    "<b>Challenge 2</b>\n",
    "\n",
    "Generate (fake) data from a model of the form B0 + B1*x + B2*x^2 + epsilon. (You are making up the parameters.)"
   ]
  },
  {
   "cell_type": "code",
   "execution_count": 15,
   "metadata": {
    "collapsed": true
   },
   "outputs": [],
   "source": [
    "#generate fake data\n",
    "x = np.arange(1,101)\n",
    "e = np.random.randn(100) *1.0\n",
    "b0 = 8.0\n",
    "b1 = 3.0\n",
    "b2 = 5.0\n",
    "y = b0*np.ones(100) + b1*x + b2*x**2 + e\n",
    "\n",
    "data2 = pd.DataFrame({'x': x, 'x**2': x**2,  'y': y})\n"
   ]
  },
  {
   "cell_type": "markdown",
   "metadata": {},
   "source": [
    "Split the data into a training and test set."
   ]
  },
  {
   "cell_type": "code",
   "execution_count": 19,
   "metadata": {
    "collapsed": false
   },
   "outputs": [],
   "source": [
    "train,test = train_test_split(data, test_size = 0.25)"
   ]
  },
  {
   "cell_type": "markdown",
   "metadata": {},
   "source": [
    "Fit a model to your training set. Calculate mean squared error on your training set. Then calculate it on your test set.\n",
    "\n",
    "(You could use sklearn.metrics.mean_squared_error.)"
   ]
  },
  {
   "cell_type": "code",
   "execution_count": 22,
   "metadata": {
    "collapsed": false
   },
   "outputs": [
    {
     "name": "stdout",
     "output_type": "stream",
     "text": [
      "                            OLS Regression Results                            \n",
      "==============================================================================\n",
      "Dep. Variable:                      y   R-squared:                       0.671\n",
      "Model:                            OLS   Adj. R-squared:                  0.667\n",
      "Method:                 Least Squares   F-statistic:                     149.0\n",
      "Date:                Tue, 03 May 2016   Prob (F-statistic):           2.63e-19\n",
      "Time:                        06:56:05   Log-Likelihood:                -148.04\n",
      "No. Observations:                  75   AIC:                             300.1\n",
      "Df Residuals:                      73   BIC:                             304.7\n",
      "Df Model:                           1                                         \n",
      "Covariance Type:            nonrobust                                         \n",
      "==============================================================================\n",
      "                 coef    std err          t      P>|t|      [95.0% Conf. Int.]\n",
      "------------------------------------------------------------------------------\n",
      "Intercept     14.4340      0.427     33.771      0.000        13.582    15.286\n",
      "x              0.0861      0.007     12.207      0.000         0.072     0.100\n",
      "==============================================================================\n",
      "Omnibus:                       41.636   Durbin-Watson:                   1.797\n",
      "Prob(Omnibus):                  0.000   Jarque-Bera (JB):              131.163\n",
      "Skew:                          -1.746   Prob(JB):                     3.30e-29\n",
      "Kurtosis:                       8.457   Cond. No.                         127.\n",
      "==============================================================================\n",
      "\n",
      "Warnings:\n",
      "[1] Standard Errors assume that the covariance matrix of the errors is correctly specified.\n"
     ]
    }
   ],
   "source": [
    "y_train, X_train = dmatrices('y ~ x + x**2', data=train, return_type='dataframe')\n",
    "model = sm.OLS(y_train, X_train).fit()\n",
    "print (model.summary())"
   ]
  },
  {
   "cell_type": "code",
   "execution_count": 28,
   "metadata": {
    "collapsed": false
   },
   "outputs": [
    {
     "name": "stdout",
     "output_type": "stream",
     "text": [
      "mse of training set 3.03397645328\n"
     ]
    }
   ],
   "source": [
    "pred_train = model.predict(X_train)\n",
    "print ('mse of training set is ' + str(mean_squared_error(y_train, pred_train)))\n"
   ]
  },
  {
   "cell_type": "code",
   "execution_count": 30,
   "metadata": {
    "collapsed": false
   },
   "outputs": [
    {
     "name": "stdout",
     "output_type": "stream",
     "text": [
      "mse of test set is 2.3040993697\n"
     ]
    }
   ],
   "source": [
    "y_test, X_test = dmatrices('y ~ x + x**2', data=test, return_type='dataframe')\n",
    "pred_test = model.predict(X_test)\n",
    "print ('mse of test set is ' + str(mean_squared_error(y_test, pred_test)))"
   ]
  },
  {
   "cell_type": "markdown",
   "metadata": {},
   "source": [
    "<b>Challenge 3</b>\n",
    "\n",
    "For the data from two (above), try polynomial fits from 0th (just constant) to 7th order (highest term x^7). Over the x axis of model degree (8 points), plot:\n",
    "\n",
    "training error\n",
    "test error\n",
    "R squared\n",
    "AIC"
   ]
  },
  {
   "cell_type": "code",
   "execution_count": 56,
   "metadata": {
    "collapsed": false
   },
   "outputs": [],
   "source": [
    "training_error = []\n",
    "test_error = []\n",
    "r_sq = []\n",
    "aic = []\n",
    "X = np.random.randint(1, 100, 100)\n",
    "X_full = np.vstack((np.ones(100), X, X**2, X**3, X**4, X**5, X**6, X**7)).T\n",
    "\n",
    "for i in range(1,9):\n",
    "    X_partial = X_full[:,0:i]\n",
    "    X_train, X_test, y_train, y_test = train_test_split(X_partial, y, test_size=0.25)\n",
    "\n",
    "    model = sm.OLS(y_train, X_train)\n",
    "    results = model.fit()\n",
    "    training_error.append(results.mse_total)\n",
    "    r_sq.append(results.rsquared)\n",
    "    aic.append(results.aic)\n",
    "    \n",
    "    y_pred = results.predict(X_test)\n",
    "    mse_test = sum((y_test - y_pred)**2) / len(y_pred)\n",
    "    test_error.append(mse_test)"
   ]
  },
  {
   "cell_type": "code",
   "execution_count": 57,
   "metadata": {
    "collapsed": false
   },
   "outputs": [
    {
     "data": {
      "image/png": "[encoded data removed]",
      "text/plain": [
       "<matplotlib.figure.Figure at 0x10d6cb160>"
      ]
     },
     "metadata": {},
     "output_type": "display_data"
    }
   ],
   "source": [
    "xs = np.arange(1,9)\n",
    "plt.subplot(221)\n",
    "plt.plot(xs, training_error)\n",
    "plt.title('Training Error')\n",
    "plt.subplot(222)\n",
    "plt.plot(xs, test_error)\n",
    "plt.title('Testing Error')\n",
    "plt.subplot(223)\n",
    "plt.plot(xs, r_sq)\n",
    "plt.title('R-Squared')\n",
    "plt.subplot(224)\n",
    "plt.plot(xs, aic)\n",
    "plt.title('AIC')\n",
    "plt.tight_layout()"
   ]
  },
  {
   "cell_type": "markdown",
   "metadata": {},
   "source": [
    "<b>Challenge 4</b>\n",
    "\n",
    "For the data from two (above), fit a model to only the first 5 of your data points (m=5). Then to first 10 (m=10). Then to first 15 (m=15). In this manner, keep fitting until you fit your entire training set. For each step, calculate the training error and the test error. Plot both (in the same plot) over m. This is called a learning curve.\n"
   ]
  },
  {
   "cell_type": "code",
   "execution_count": 58,
   "metadata": {
    "collapsed": false
   },
   "outputs": [],
   "source": [
    "training_error4 = []\n",
    "test_error4 = []\n",
    "X = np.random.randint(1, 100, 100)\n",
    "m = np.arange(5,100,5)\n",
    "\n",
    "for i in m:\n",
    "\n",
    "    X_train, X_test, y_train, y_test = train_test_split(X[0:i], y[0:i], test_size=0.25)\n",
    "    \n",
    "\n",
    "    \n",
    "    model = sm.OLS(y_train, X_train)\n",
    "    results = model.fit()\n",
    "    training_error4.append(results.mse_total)\n",
    "    \n",
    "    y_pred = results.predict(X_test)\n",
    "    mse_test = sum((y_test - y_pred)**2) / len(y_pred)\n",
    "    test_error4.append(mse_test)"
   ]
  },
  {
   "cell_type": "code",
   "execution_count": 59,
   "metadata": {
    "collapsed": false
   },
   "outputs": [
    {
     "data": {
      "text/plain": [
       "<matplotlib.legend.Legend at 0x10db38ba8>"
      ]
     },
     "execution_count": 59,
     "metadata": {},
     "output_type": "execute_result"
    },
    {
     "data": {
      "image/png": "[encoded data removed]",
      "text/plain": [
       "<matplotlib.figure.Figure at 0x10d6cbc50>"
      ]
     },
     "metadata": {},
     "output_type": "display_data"
    }
   ],
   "source": [
    "plt.plot(m,training_error4, label='training error')\n",
    "plt.plot(m, test_error4, label='testing error')\n",
    "plt.legend(loc='upper right')"
   ]
  },
  {
   "cell_type": "code",
   "execution_count": null,
   "metadata": {
    "collapsed": true
   },
   "outputs": [],
   "source": []
  }
 ],
 "metadata": {
  "kernelspec": {
   "display_name": "Python 3",
   "language": "python",
   "name": "python3"
  },
  "language_info": {
   "codemirror_mode": {
    "name": "ipython",
    "version": 3
   },
   "file_extension": ".py",
   "mimetype": "text/x-python",
   "name": "python",
   "nbconvert_exporter": "python",
   "pygments_lexer": "ipython3",
   "version": "3.5.1"
  }
 },
 "nbformat": 4,
 "nbformat_minor": 0
}
