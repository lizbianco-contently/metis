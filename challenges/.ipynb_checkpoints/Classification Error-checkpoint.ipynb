{
 "cells": [
  {
   "cell_type": "markdown",
   "metadata": {},
   "source": [
    "<h1>Classification Error Metric Challenges</h1>\n",
    "\n",
    "**Settings: Where applicable, use test_size=0.30, random_state=4444. This will permit comparison of results across users.\n",
    "\n",
    "These reference the Classification Challenges.\n",
    "\n",
    "<h2>Challenge 1</h2>\n",
    "\n",
    "For the house representatives data set, calculate the accuracy, precision, recall and f1 scores of each classifier you built (on the test set)."
   ]
  },
  {
   "cell_type": "code",
   "execution_count": 97,
   "metadata": {
    "collapsed": false
   },
   "outputs": [],
   "source": [
    "import pandas as pd\n",
    "import numpy as np\n",
    "from collections import Counter\n",
    "from sklearn.cross_validation import train_test_split, cross_val_score\n",
    "from sklearn.neighbors import KNeighborsClassifier\n",
    "from sklearn.metrics import accuracy_score, classification_report, roc_auc_score, roc_curve, auc\n",
    "from sklearn.linear_model import LogisticRegression\n",
    "from sklearn.naive_bayes import GaussianNB\n",
    "from sklearn.svm import SVC\n",
    "from sklearn.tree import DecisionTreeClassifier\n",
    "from sklearn.ensemble import RandomForestClassifier\n",
    "import matplotlib.pyplot as plt\n",
    "%matplotlib inline\n",
    "from sklearn.preprocessing import label_binarize"
   ]
  },
  {
   "cell_type": "code",
   "execution_count": 147,
   "metadata": {
    "collapsed": true
   },
   "outputs": [],
   "source": [
    "df=pd.read_csv('house-votes-84.data', header=None)#reads file\n",
    "df=df.replace({'y':1,'n':0, '?':np.nan})#replaces y/n with 1/0\n",
    "df = df.fillna(df.mean())#fills nan values with column mean\n",
    "y = df[0]\n",
    "X = df.drop(0, axis=1)\n",
    "\n",
    "X_train, X_test, y_train, y_test = train_test_split(X, y, test_size=0.30, random_state=4444)"
   ]
  },
  {
   "cell_type": "code",
   "execution_count": 122,
   "metadata": {
    "collapsed": false
   },
   "outputs": [],
   "source": [
    "y = np.squeeze(label_binarize(y, classes=['democrat', 'republican']))"
   ]
  },
  {
   "cell_type": "code",
   "execution_count": 145,
   "metadata": {
    "collapsed": false
   },
   "outputs": [],
   "source": [
    "def modelaccuracy(alg, X_train, X_test, y_train, y_test):\n",
    "    model = alg\n",
    "    model = model.fit(X_train, y_train)\n",
    "    y_predict = model.predict(X_test)\n",
    "    accuracy = accuracy_score(y_test, y_predict)\n",
    "    print('Accuracy: ' + str(accuracy))\n",
    "    print(classification_report(y_test, y_predict))\n",
    "    \n",
    "   \n",
    "    "
   ]
  },
  {
   "cell_type": "code",
   "execution_count": 149,
   "metadata": {
    "collapsed": false
   },
   "outputs": [
    {
     "name": "stdout",
     "output_type": "stream",
     "text": [
      "Model: KNN\n",
      "Accuracy: 0.931297709924\n",
      "             precision    recall  f1-score   support\n",
      "\n",
      "   democrat       0.93      0.96      0.94        77\n",
      " republican       0.94      0.89      0.91        54\n",
      "\n",
      "avg / total       0.93      0.93      0.93       131\n",
      "\n",
      "\n",
      "\n",
      "Model: Logistic Regression\n",
      "Accuracy: 0.93893129771\n",
      "             precision    recall  f1-score   support\n",
      "\n",
      "   democrat       0.93      0.97      0.95        77\n",
      " republican       0.96      0.89      0.92        54\n",
      "\n",
      "avg / total       0.94      0.94      0.94       131\n",
      "\n",
      "\n",
      "\n",
      "Model: Gaussian NB\n",
      "Accuracy: 0.93893129771\n",
      "             precision    recall  f1-score   support\n",
      "\n",
      "   democrat       0.92      0.99      0.95        77\n",
      " republican       0.98      0.87      0.92        54\n",
      "\n",
      "avg / total       0.94      0.94      0.94       131\n",
      "\n",
      "\n",
      "\n",
      "Model: SVC\n",
      "Accuracy: 0.954198473282\n",
      "             precision    recall  f1-score   support\n",
      "\n",
      "   democrat       0.95      0.97      0.96        77\n",
      " republican       0.96      0.93      0.94        54\n",
      "\n",
      "avg / total       0.95      0.95      0.95       131\n",
      "\n",
      "\n",
      "\n",
      "Model: Decision Tree\n",
      "Accuracy: 0.931297709924\n",
      "             precision    recall  f1-score   support\n",
      "\n",
      "   democrat       0.93      0.96      0.94        77\n",
      " republican       0.94      0.89      0.91        54\n",
      "\n",
      "avg / total       0.93      0.93      0.93       131\n",
      "\n",
      "\n",
      "\n",
      "Model: Random Forest\n",
      "Accuracy: 0.961832061069\n",
      "             precision    recall  f1-score   support\n",
      "\n",
      "   democrat       0.95      0.99      0.97        77\n",
      " republican       0.98      0.93      0.95        54\n",
      "\n",
      "avg / total       0.96      0.96      0.96       131\n",
      "\n"
     ]
    }
   ],
   "source": [
    "print ('Model: KNN')\n",
    "modelaccuracy(KNeighborsClassifier(n_neighbors=6), X_train, X_test, y_train, y_test)\n",
    "print('\\n')\n",
    "print ('Model: Logistic Regression')\n",
    "modelaccuracy(LogisticRegression(), X_train, X_test, y_train, y_test)\n",
    "print('\\n')\n",
    "print ('Model: Gaussian NB')\n",
    "modelaccuracy(GaussianNB(), X_train, X_test, y_train, y_test) \n",
    "print('\\n')\n",
    "print ('Model: SVC')\n",
    "modelaccuracy(SVC(), X_train, X_test, y_train, y_test)\n",
    "print('\\n')\n",
    "print ('Model: Decision Tree')\n",
    "modelaccuracy(DecisionTreeClassifier(),X_train, X_test, y_train, y_test)\n",
    "print('\\n')\n",
    "print ('Model: Random Forest')\n",
    "modelaccuracy(RandomForestClassifier(), X_train, X_test, y_train, y_test)"
   ]
  },
  {
   "cell_type": "markdown",
   "metadata": {},
   "source": [
    "<h2>Challenge 2</h2>\n",
    "\n",
    "For each, draw the ROC curve and calculate the AUC."
   ]
  },
  {
   "cell_type": "code",
   "execution_count": 83,
   "metadata": {
    "collapsed": false
   },
   "outputs": [],
   "source": [
    "binary_test = np.squeeze(label_binarize(y_test, classes=['democrat', 'republican']))"
   ]
  },
  {
   "cell_type": "code",
   "execution_count": 92,
   "metadata": {
    "collapsed": false
   },
   "outputs": [
    {
     "data": {
      "text/plain": [
       "<matplotlib.figure.Figure at 0x10ca76358>"
      ]
     },
     "metadata": {},
     "output_type": "display_data"
    }
   ],
   "source": [
    "\n",
    "def roc_auc(alg, name):\n",
    "    model = alg.fit(X_train, y_train)\n",
    "    y_predict = model.predict(X_test)\n",
    "    binary_predict = np.squeeze(label_binarize(y_predict, classes=['democrat', 'republican']))\n",
    "    fpr, tpr, _ = roc_curve(binary_test, binary_predict)\n",
    "    roc_auc = auc(fpr, tpr)\n",
    "    plt.plot(fpr, tpr, label='%s (area = %0.2f)' % (name, roc_auc))\n",
    "\n"
   ]
  },
  {
   "cell_type": "code",
   "execution_count": 96,
   "metadata": {
    "collapsed": false
   },
   "outputs": [
    {
     "data": {
      "image/png": "[encoded data removed]",
      "text/plain": [
       "<matplotlib.figure.Figure at 0x10909ffd0>"
      ]
     },
     "metadata": {},
     "output_type": "display_data"
    }
   ],
   "source": [
    "plt.figure(figsize=(10,10))\n",
    "\n",
    "roc_auc(KNeighborsClassifier(n_neighbors=6), 'KNN')\n",
    "roc_auc(LogisticRegression(), 'Logistic Regression')\n",
    "roc_auc(GaussianNB(), 'Gaussian NB')\n",
    "roc_auc(SVC(), 'SVC')\n",
    "roc_auc(DecisionTreeClassifier(), 'Decision Tree')\n",
    "roc_auc(RandomForestClassifier(), 'Random Forest')\n",
    "\n",
    "plt.plot([0, 1], [0, 1], 'k--')\n",
    "plt.xlim([0.0, 1.0])\n",
    "plt.ylim([0.0, 1.05])\n",
    "plt.xlabel('False Positive Rate')\n",
    "plt.ylabel('True Positive Rate')\n",
    "plt.title('Receiver operating characteristic')\n",
    "plt.legend(loc=\"lower right\")\n",
    "plt.show()\n",
    "\n"
   ]
  },
  {
   "cell_type": "markdown",
   "metadata": {},
   "source": [
    "<h2>Challenge 3</h2>\n",
    "\n",
    "Calculate the same metrics you did in challenge 1, but this time in a cross validation scheme with the cross_val_score function (like in Challenge 9)."
   ]
  },
  {
   "cell_type": "code",
   "execution_count": 130,
   "metadata": {
    "collapsed": false
   },
   "outputs": [],
   "source": [
    "\n",
    "def scoring(model, X, y, name):\n",
    "    print('model: ' + name)\n",
    "    print('Accuracy: ' +str(np.mean(cross_val_score(model, X, y, scoring='accuracy'))))\n",
    "    print('Precision: ' +str(np.mean(cross_val_score(model, X, y, scoring='precision'))))\n",
    "    print('Recall: ' +str(np.mean(cross_val_score(model, X, y, scoring='recall'))))\n",
    "    print('F1: ' +str(np.mean(cross_val_score(model, X, y, scoring='f1'))))\n",
    "    print('auc: ' +str(np.mean(cross_val_score(model, X, y, scoring='roc_auc'))))\n",
    "    "
   ]
  },
  {
   "cell_type": "code",
   "execution_count": 132,
   "metadata": {
    "collapsed": false
   },
   "outputs": [
    {
     "name": "stdout",
     "output_type": "stream",
     "text": [
      "model: KNN\n",
      "Accuracy: 0.933333333333\n",
      "Precision: 0.897096188748\n",
      "Recall: 0.934523809524\n",
      "F1: 0.91532335059\n",
      "auc: 0.97040529695\n",
      "\n",
      "\n",
      "model: Logistic Regression\n",
      "Accuracy: 0.96091954023\n",
      "Precision: 0.949398719643\n",
      "Recall: 0.952380952381\n",
      "F1: 0.950059445472\n",
      "auc: 0.991706795078\n",
      "\n",
      "\n",
      "model: Gaussian NB\n",
      "Accuracy: 0.931034482759\n",
      "Precision: 0.908613247223\n",
      "Recall: 0.916666666667\n",
      "F1: 0.911184814591\n",
      "auc: 0.961944890316\n",
      "\n",
      "\n",
      "model: SVC\n",
      "Accuracy: 0.954022988506\n",
      "Precision: 0.922270955166\n",
      "Recall: 0.964285714286\n",
      "F1: 0.942183510572\n",
      "auc: 0.994448903157\n",
      "\n",
      "\n",
      "model: Decision Tree\n",
      "Accuracy: 0.954022988506\n",
      "Precision: 0.930105043172\n",
      "Recall: 0.946428571429\n",
      "F1: 0.944319191944\n",
      "auc: 0.954822097378\n",
      "\n",
      "\n",
      "model: Random Forest\n",
      "Accuracy: 0.949425287356\n",
      "Precision: 0.947021943574\n",
      "Recall: 0.952380952381\n",
      "F1: 0.94670595936\n",
      "auc: 0.986757624398\n"
     ]
    }
   ],
   "source": [
    "scoring(KNeighborsClassifier(n_neighbors=6),X, y, 'KNN')\n",
    "print('\\n')\n",
    "scoring(LogisticRegression(),X, y, 'Logistic Regression')\n",
    "print('\\n')\n",
    "scoring(GaussianNB(),X, y, 'Gaussian NB')\n",
    "print('\\n')\n",
    "scoring(SVC(),X, y, 'SVC')\n",
    "print('\\n')\n",
    "scoring(DecisionTreeClassifier(),X, y, 'Decision Tree')\n",
    "print('\\n')\n",
    "scoring(RandomForestClassifier(),X, y, 'Random Forest')"
   ]
  },
  {
   "cell_type": "markdown",
   "metadata": {},
   "source": [
    "<h2>Challenge 4</h2>\n",
    "\n",
    "For your movie classifiers, calculate the precision and recall for each class."
   ]
  },
  {
   "cell_type": "code",
   "execution_count": 133,
   "metadata": {
    "collapsed": true
   },
   "outputs": [],
   "source": [
    "moviedf=pd.read_csv('movie_data.csv')\n",
    "for i in moviedf['budget']:\n",
    "    if i is str:\n",
    "        i.replace('$','').replace(',','')\n",
    "        i = int(i)\n",
    "moviedf = moviedf[['domestic total gross', 'genre', 'rating']]\n",
    "moviedf = moviedf.fillna(df.mean())\n",
    "moviedf = pd.concat([moviedf, pd.get_dummies(moviedf['genre'])], axis=1)\n",
    "moviedf = moviedf.drop('genre', axis=1)"
   ]
  },
  {
   "cell_type": "code",
   "execution_count": 150,
   "metadata": {
    "collapsed": false
   },
   "outputs": [],
   "source": [
    "Xmovie = moviedf.drop('rating', axis=1)\n",
    "ymovie = moviedf['rating']"
   ]
  },
  {
   "cell_type": "code",
   "execution_count": 153,
   "metadata": {
    "collapsed": true
   },
   "outputs": [],
   "source": [
    "mX_train, mX_test, my_train, my_test = train_test_split(Xmovie, ymovie, test_size=0.30, random_state=4444)"
   ]
  },
  {
   "cell_type": "code",
   "execution_count": 154,
   "metadata": {
    "collapsed": false
   },
   "outputs": [
    {
     "name": "stdout",
     "output_type": "stream",
     "text": [
      "Model: KNN\n",
      "Accuracy: 0.482587064677\n",
      "             precision    recall  f1-score   support\n",
      "\n",
      "          G       0.00      0.00      0.00        16\n",
      "         PG       0.33      0.09      0.14        57\n",
      "      PG-13       0.49      0.71      0.58        55\n",
      "          R       0.50      0.74      0.60        72\n",
      "    Unknown       0.00      0.00      0.00         1\n",
      "\n",
      "avg / total       0.41      0.48      0.41       201\n",
      "\n",
      "\n",
      "\n",
      "Model: Logistic Regression\n",
      "Accuracy: 0.273631840796\n",
      "             precision    recall  f1-score   support\n",
      "\n",
      "          G       0.00      0.00      0.00        16\n",
      "         PG       0.00      0.00      0.00        57\n",
      "      PG-13       0.27      1.00      0.43        55\n",
      "          R       0.00      0.00      0.00        72\n",
      "    Unknown       0.00      0.00      0.00         1\n",
      "\n",
      "avg / total       0.07      0.27      0.12       201\n",
      "\n",
      "\n",
      "\n",
      "Model: Gaussian NB\n",
      "Accuracy: 0.502487562189\n",
      "             precision    recall  f1-score   support\n",
      "\n",
      "          G       0.00      0.00      0.00        16\n",
      "         PG       0.62      0.09      0.15        57\n",
      "      PG-13       0.53      0.64      0.58        55\n",
      "          R       0.48      0.85      0.61        72\n",
      "    Unknown       0.00      0.00      0.00         1\n",
      "\n",
      "avg / total       0.49      0.50      0.42       201\n",
      "\n",
      "\n",
      "\n",
      "Model: SVC\n",
      "Accuracy: 0.358208955224\n",
      "             precision    recall  f1-score   support\n",
      "\n",
      "          G       0.00      0.00      0.00        16\n",
      "         PG       0.00      0.00      0.00        57\n",
      "      PG-13       0.00      0.00      0.00        55\n",
      "          R       0.36      1.00      0.53        72\n",
      "    Unknown       0.00      0.00      0.00         1\n",
      "\n",
      "avg / total       0.13      0.36      0.19       201\n",
      "\n",
      "\n",
      "\n",
      "Model: Decision Tree\n",
      "Accuracy: 0.537313432836\n",
      "             precision    recall  f1-score   support\n",
      "\n",
      "          G       0.75      0.38      0.50        16\n",
      "         PG       0.47      0.47      0.47        57\n",
      "      PG-13       0.50      0.64      0.56        55\n",
      "          R       0.64      0.54      0.59        72\n",
      "    Unknown       0.25      1.00      0.40         1\n",
      "\n",
      "avg / total       0.56      0.54      0.54       201\n",
      "\n",
      "\n",
      "\n",
      "Model: Random Forest\n",
      "Accuracy: 0.567164179104\n",
      "             precision    recall  f1-score   support\n",
      "\n",
      "          G       0.56      0.31      0.40        16\n",
      "         PG       0.56      0.47      0.51        57\n",
      "      PG-13       0.53      0.64      0.58        55\n",
      "          R       0.65      0.64      0.64        72\n",
      "    Unknown       0.14      1.00      0.25         1\n",
      "\n",
      "avg / total       0.58      0.57      0.57       201\n",
      "\n"
     ]
    },
    {
     "name": "stderr",
     "output_type": "stream",
     "text": [
      "//anaconda/lib/python3.5/site-packages/sklearn/metrics/classification.py:1074: UndefinedMetricWarning: Precision and F-score are ill-defined and being set to 0.0 in labels with no predicted samples.\n",
      "  'precision', 'predicted', average, warn_for)\n"
     ]
    }
   ],
   "source": [
    "print ('Model: KNN')\n",
    "modelaccuracy(KNeighborsClassifier(n_neighbors=18), mX_train, mX_test, my_train, my_test)\n",
    "print('\\n')\n",
    "print ('Model: Logistic Regression')\n",
    "modelaccuracy(LogisticRegression(), mX_train, mX_test, my_train, my_test)\n",
    "print('\\n')\n",
    "print ('Model: Gaussian NB')\n",
    "modelaccuracy(GaussianNB(), mX_train, mX_test, my_train, my_test) \n",
    "print('\\n')\n",
    "print ('Model: SVC')\n",
    "modelaccuracy(SVC(), mX_train, mX_test, my_train, my_test)\n",
    "print('\\n')\n",
    "print ('Model: Decision Tree')\n",
    "modelaccuracy(DecisionTreeClassifier(),mX_train, mX_test, my_train, my_test)\n",
    "print('\\n')\n",
    "print ('Model: Random Forest')\n",
    "modelaccuracy(RandomForestClassifier(), mX_train, mX_test, my_train, my_test)"
   ]
  },
  {
   "cell_type": "markdown",
   "metadata": {},
   "source": [
    "<h2>Challenge 5</h2>\n",
    "\n",
    "Draw the ROC curve (and calculate AUC) for the logistic regression classifier from challenge 12."
   ]
  },
  {
   "cell_type": "code",
   "execution_count": 155,
   "metadata": {
    "collapsed": true
   },
   "outputs": [],
   "source": [
    "f = 'https://archive.ics.uci.edu/ml/machine-learning-databases/haberman/haberman.data'\n",
    "df12 =pd.read_csv(f, names = ['age','op_year','nodes','survival'])"
   ]
  },
  {
   "cell_type": "code",
   "execution_count": 156,
   "metadata": {
    "collapsed": false
   },
   "outputs": [
    {
     "data": {
      "image/png": "[encoded data removed]",
      "text/plain": [
       "<matplotlib.figure.Figure at 0x10ce1ccf8>"
      ]
     },
     "metadata": {},
     "output_type": "display_data"
    }
   ],
   "source": [
    "plt.figure(figsize=(10,10))\n",
    "\n",
    "\n",
    "roc_auc(LogisticRegression(), 'Logistic Regression')\n",
    "\n",
    "\n",
    "plt.plot([0, 1], [0, 1], 'k--')\n",
    "plt.xlim([0.0, 1.0])\n",
    "plt.ylim([0.0, 1.05])\n",
    "plt.xlabel('False Positive Rate')\n",
    "plt.ylabel('True Positive Rate')\n",
    "plt.title('Receiver operating characteristic')\n",
    "plt.legend(loc=\"lower right\")\n",
    "plt.show()\n"
   ]
  },
  {
   "cell_type": "code",
   "execution_count": null,
   "metadata": {
    "collapsed": true
   },
   "outputs": [],
   "source": []
  }
 ],
 "metadata": {
  "kernelspec": {
   "display_name": "Python 3",
   "language": "python",
   "name": "python3"
  },
  "language_info": {
   "codemirror_mode": {
    "name": "ipython",
    "version": 3
   },
   "file_extension": ".py",
   "mimetype": "text/x-python",
   "name": "python",
   "nbconvert_exporter": "python",
   "pygments_lexer": "ipython3",
   "version": "3.5.1"
  }
 },
 "nbformat": 4,
 "nbformat_minor": 0
}
