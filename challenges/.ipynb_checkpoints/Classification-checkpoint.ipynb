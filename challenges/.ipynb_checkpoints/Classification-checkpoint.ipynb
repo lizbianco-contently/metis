{
 "cells": [
  {
   "cell_type": "code",
   "execution_count": 120,
   "metadata": {
    "collapsed": false
   },
   "outputs": [],
   "source": [
    "import pandas as pd\n",
    "import numpy as np\n",
    "from collections import Counter"
   ]
  },
  {
   "cell_type": "markdown",
   "metadata": {},
   "source": [
    "<b>Challenge 1</b>\n",
    "\n",
    "Load the data into a pandas dataframe. Replace 'y's with 1s, 'n's with 0s.\n",
    "\n",
    "Now, almost every representative has a ?. This represents the absence of a vote (they were absent or some other similar reason). If we dropped all the rows that had a ?, we would throw out most of our data. Instead, we will replace ? with the best guess in the Bayesian sense: in the absence of any other information, we will say that the probability of the representative saying YES is the ratio of others that said YES over the whole votes.\n",
    "\n",
    "So, convert each ? to this probability (when yes=1 and no=0, this is the mean of the column)"
   ]
  },
  {
   "cell_type": "code",
   "execution_count": 32,
   "metadata": {
    "collapsed": false
   },
   "outputs": [],
   "source": [
    "df=pd.read_csv('house-votes-84.data', header=None)#reads file\n",
    "df=df.replace({'y':1,'n':0, '?':np.nan})#replaces y/n with 1/0\n",
    "df = df.fillna(df.mean())#fills nan values with column mean\n"
   ]
  },
  {
   "cell_type": "markdown",
   "metadata": {},
   "source": [
    "<b>Challenge 2</b>"
   ]
  },
  {
   "cell_type": "code",
   "execution_count": 33,
   "metadata": {
    "collapsed": true
   },
   "outputs": [],
   "source": [
    "from sklearn.cross_validation import train_test_split"
   ]
  },
  {
   "cell_type": "code",
   "execution_count": 35,
   "metadata": {
    "collapsed": false
   },
   "outputs": [],
   "source": [
    "y = df[0]\n",
    "X = df.drop(0, axis=1)\n",
    "\n",
    "X_train, X_test, y_train, y_test = train_test_split(X, y, test_size=0.30, random_state=4444)"
   ]
  },
  {
   "cell_type": "markdown",
   "metadata": {},
   "source": [
    "<b>Challenge 3</b>"
   ]
  },
  {
   "cell_type": "code",
   "execution_count": 36,
   "metadata": {
    "collapsed": true
   },
   "outputs": [],
   "source": [
    "from sklearn.neighbors import KNeighborsClassifier\n",
    "from sklearn.metrics import accuracy_score"
   ]
  },
  {
   "cell_type": "code",
   "execution_count": 38,
   "metadata": {
    "collapsed": false
   },
   "outputs": [
    {
     "name": "stdout",
     "output_type": "stream",
     "text": [
      "{1: 0.9007633587786259, 2: 0.89312977099236646, 3: 0.9007633587786259, 4: 0.9007633587786259, 5: 0.91603053435114501, 6: 0.93129770992366412, 7: 0.91603053435114501, 8: 0.92366412213740456, 9: 0.93129770992366412, 10: 0.93129770992366412, 11: 0.92366412213740456, 12: 0.92366412213740456, 13: 0.92366412213740456, 14: 0.92366412213740456, 15: 0.92366412213740456, 16: 0.92366412213740456, 17: 0.92366412213740456, 18: 0.91603053435114501, 19: 0.91603053435114501, 20: 0.91603053435114501}\n"
     ]
    },
    {
     "data": {
      "text/plain": [
       "6"
      ]
     },
     "execution_count": 38,
     "metadata": {},
     "output_type": "execute_result"
    }
   ],
   "source": [
    "kneighbordict = {}\n",
    "for i in range(1, 21):\n",
    "    neigh = KNeighborsClassifier(n_neighbors=i)\n",
    "    neigh.fit(X_train, y_train)\n",
    "    y_predict = neigh.predict(X_test)\n",
    "    score = accuracy_score(y_test, y_predict)\n",
    "    kneighbordict[i]=score\n",
    "\n",
    "print (kneighbordict)\n",
    "max(kneighbordict, key=kneighbordict.get)"
   ]
  },
  {
   "cell_type": "markdown",
   "metadata": {},
   "source": [
    "<b>Challenge 4</b>"
   ]
  },
  {
   "cell_type": "code",
   "execution_count": 39,
   "metadata": {
    "collapsed": true
   },
   "outputs": [],
   "source": [
    "from sklearn.linear_model import LogisticRegression"
   ]
  },
  {
   "cell_type": "code",
   "execution_count": 40,
   "metadata": {
    "collapsed": false
   },
   "outputs": [
    {
     "name": "stdout",
     "output_type": "stream",
     "text": [
      "0.93893129771\n"
     ]
    }
   ],
   "source": [
    "logisticmodel = LogisticRegression()\n",
    "logisticmodel = logisticmodel.fit(X_train, y_train)\n",
    "logisticpredict = logisticmodel.predict(X_test)\n",
    "logistic_accuracy = accuracy_score(y_test, logisticpredict)\n",
    "print(logistic_accuracy)"
   ]
  },
  {
   "cell_type": "markdown",
   "metadata": {},
   "source": [
    "<b>Challenge 5</b>"
   ]
  },
  {
   "cell_type": "code",
   "execution_count": 11,
   "metadata": {
    "collapsed": true
   },
   "outputs": [],
   "source": [
    "import matplotlib.pyplot as plt\n",
    "%matplotlib inline"
   ]
  },
  {
   "cell_type": "code",
   "execution_count": 12,
   "metadata": {
    "collapsed": false
   },
   "outputs": [
    {
     "data": {
      "text/plain": [
       "<matplotlib.axes._subplots.AxesSubplot at 0x108f899b0>"
      ]
     },
     "execution_count": 12,
     "metadata": {},
     "output_type": "execute_result"
    },
    {
     "data": {
      "image/png": "[encoded data removed]",
      "text/plain": [
       "<matplotlib.figure.Figure at 0x108f73e48>"
      ]
     },
     "metadata": {},
     "output_type": "display_data"
    }
   ],
   "source": [
    "df[0].value_counts().plot(kind='bar')"
   ]
  },
  {
   "cell_type": "code",
   "execution_count": 13,
   "metadata": {
    "collapsed": false
   },
   "outputs": [
    {
     "data": {
      "text/plain": [
       "democrat      267\n",
       "republican    168\n",
       "Name: 0, dtype: int64"
      ]
     },
     "execution_count": 13,
     "metadata": {},
     "output_type": "execute_result"
    }
   ],
   "source": [
    "df[0].value_counts()"
   ]
  },
  {
   "cell_type": "code",
   "execution_count": 14,
   "metadata": {
    "collapsed": false
   },
   "outputs": [
    {
     "name": "stdout",
     "output_type": "stream",
     "text": [
      "0.587786259542\n"
     ]
    },
    {
     "name": "stderr",
     "output_type": "stream",
     "text": [
      "//anaconda/lib/python3.5/site-packages/ipykernel/__main__.py:2: SettingWithCopyWarning: \n",
      "A value is trying to be set on a copy of a slice from a DataFrame.\n",
      "Try using .loc[row_indexer,col_indexer] = value instead\n",
      "\n",
      "See the caveats in the documentation: http://pandas.pydata.org/pandas-docs/stable/indexing.html#indexing-view-versus-copy\n",
      "  from ipykernel import kernelapp as app\n"
     ]
    }
   ],
   "source": [
    "def democratpredictor(fakeX):\n",
    "    fakeX[0]=['democrat']*len(fakeX)\n",
    "    return fakeX[0]\n",
    "fake_y_predicted_dems = democratpredictor(X_test)\n",
    "dem_accuracy=accuracy_score(y_test, fake_y_predicted_dems)\n",
    "print(dem_accuracy)"
   ]
  },
  {
   "cell_type": "code",
   "execution_count": 15,
   "metadata": {
    "collapsed": false
   },
   "outputs": [
    {
     "name": "stdout",
     "output_type": "stream",
     "text": [
      "0.412213740458\n"
     ]
    },
    {
     "name": "stderr",
     "output_type": "stream",
     "text": [
      "//anaconda/lib/python3.5/site-packages/ipykernel/__main__.py:2: SettingWithCopyWarning: \n",
      "A value is trying to be set on a copy of a slice from a DataFrame.\n",
      "Try using .loc[row_indexer,col_indexer] = value instead\n",
      "\n",
      "See the caveats in the documentation: http://pandas.pydata.org/pandas-docs/stable/indexing.html#indexing-view-versus-copy\n",
      "  from ipykernel import kernelapp as app\n"
     ]
    }
   ],
   "source": [
    "def republicanpredictor(fakeX):\n",
    "    fakeX[0]=['republican']*len(fakeX)\n",
    "    return fakeX[0]\n",
    "fake_y_predicted_reps = republicanpredictor(X_test)\n",
    "rep_accuracy=accuracy_score(y_test, fake_y_predicted_reps)\n",
    "print(rep_accuracy)"
   ]
  },
  {
   "cell_type": "markdown",
   "metadata": {},
   "source": [
    "<b>Challenge 6</b>"
   ]
  },
  {
   "cell_type": "code",
   "execution_count": 16,
   "metadata": {
    "collapsed": false
   },
   "outputs": [
    {
     "data": {
      "text/plain": [
       "<matplotlib.text.Text at 0x108fd5438>"
      ]
     },
     "execution_count": 16,
     "metadata": {},
     "output_type": "execute_result"
    },
    {
     "data": {
      "image/png": "[encoded data removed]",
      "text/plain": [
       "<matplotlib.figure.Figure at 0x108fb0d30>"
      ]
     },
     "metadata": {},
     "output_type": "display_data"
    }
   ],
   "source": [
    "kval=list(kneighbordict.keys())\n",
    "kneighborsval=list(kneighbordict.values())\n",
    "\n",
    "kneigh = plt.plot(kval, kneighborsval, color='blue')\n",
    "logisticr = plt.axhline(y=logistic_accuracy, xmin=0, xmax=20,color='red')\n",
    "dem = plt.axhline(y=dem_accuracy, xmin=0, xmax=20,color='green')\n",
    "rep = plt.axhline(y=rep_accuracy, xmin=0, xmax=20,color='purple')\n",
    "plt.ylabel('accuracy')\n",
    "plt.xlabel('k values')\n"
   ]
  },
  {
   "cell_type": "markdown",
   "metadata": {},
   "source": [
    "<b>Challenge 7</b>"
   ]
  },
  {
   "cell_type": "code",
   "execution_count": 21,
   "metadata": {
    "collapsed": false
   },
   "outputs": [],
   "source": [
    "from sklearn.learning_curve import learning_curve\n"
   ]
  },
  {
   "cell_type": "code",
   "execution_count": 20,
   "metadata": {
    "collapsed": false
   },
   "outputs": [
    {
     "data": {
      "image/png": "[encoded data removed]",
      "text/plain": [
       "<matplotlib.figure.Figure at 0x10c22bb00>"
      ]
     },
     "metadata": {},
     "output_type": "display_data"
    }
   ],
   "source": [
    "def plot_learning_curve(estimator, title, X, y, ylim=None, cv=None,\n",
    "                        n_jobs=1, train_sizes=np.linspace(.1, 1.0, 5)):\n",
    "    plt.title(title)\n",
    "    if ylim is not None:\n",
    "        plt.ylim(*ylim)\n",
    "    plt.xlabel(\"Training examples\")\n",
    "    plt.ylabel(\"Score\")\n",
    "    train_sizes, train_scores, test_scores = learning_curve(\n",
    "        estimator, X, y, cv=cv, n_jobs=n_jobs, train_sizes=train_sizes)\n",
    "    train_scores_mean = np.mean(train_scores, axis=1)\n",
    "    train_scores_std = np.std(train_scores, axis=1)\n",
    "    test_scores_mean = np.mean(test_scores, axis=1)\n",
    "    test_scores_std = np.std(test_scores, axis=1)\n",
    "    plt.grid()\n",
    "    plt.fill_between(train_sizes, train_scores_mean - train_scores_std,\n",
    "                     train_scores_mean + train_scores_std, alpha=0.1,\n",
    "                     color=\"r\")\n",
    "    plt.fill_between(train_sizes, test_scores_mean - test_scores_std,\n",
    "                     test_scores_mean + test_scores_std, alpha=0.1, color=\"g\")\n",
    "    plt.plot(train_sizes, train_scores_mean, 'o-', color=\"r\",\n",
    "             label=\"Training score\")\n",
    "    plt.plot(train_sizes, test_scores_mean, 'o-', color=\"g\",\n",
    "             label=\"Cross-validation score\")\n",
    "    plt.legend(loc=\"best\")\n",
    "    return plt\n",
    "\n",
    "neigh = KNeighborsClassifier(n_neighbors=6)\n",
    "plt.figure(figsize=(20,8))\n",
    "plt.subplot(1,2,1)\n",
    "title = \"Learning Curves: Logistic Regression\"\n",
    "p1 = plot_learning_curve(LogisticRegression(), title, X, y)\n",
    "plt.subplot(1,2,2)\n",
    "title = \"Learning Curves: KNeighbors\"\n",
    "p2 = plot_learning_curve(neigh, title, X, y)\n",
    "plt.show()"
   ]
  },
  {
   "cell_type": "markdown",
   "metadata": {},
   "source": [
    "<b>Challenge 8</b>"
   ]
  },
  {
   "cell_type": "code",
   "execution_count": 45,
   "metadata": {
    "collapsed": false
   },
   "outputs": [],
   "source": [
    "def modelaccuracy(alg):\n",
    "    model = alg\n",
    "    model = model.fit(X_train, y_train)\n",
    "    y_predict = model.predict(X_test)\n",
    "    accuracy = accuracy_score(y_test, y_predict)\n",
    "    print('model: ' + str(alg) + ' Accuracy: ' + str(accuracy))"
   ]
  },
  {
   "cell_type": "code",
   "execution_count": 53,
   "metadata": {
    "collapsed": true
   },
   "outputs": [],
   "source": [
    "from sklearn.naive_bayes import GaussianNB\n",
    "from sklearn.svm import SVC\n",
    "from sklearn.tree import DecisionTreeClassifier\n",
    "from sklearn.ensemble import RandomForestClassifier"
   ]
  },
  {
   "cell_type": "code",
   "execution_count": 47,
   "metadata": {
    "collapsed": false
   },
   "outputs": [
    {
     "name": "stdout",
     "output_type": "stream",
     "text": [
      "model: GaussianNB() Accuracy: 0.93893129771\n"
     ]
    }
   ],
   "source": [
    "modelaccuracy(GaussianNB())"
   ]
  },
  {
   "cell_type": "code",
   "execution_count": 50,
   "metadata": {
    "collapsed": false
   },
   "outputs": [
    {
     "name": "stdout",
     "output_type": "stream",
     "text": [
      "model: SVC(C=1.0, cache_size=200, class_weight=None, coef0=0.0,\n",
      "  decision_function_shape=None, degree=3, gamma='auto', kernel='rbf',\n",
      "  max_iter=-1, probability=False, random_state=None, shrinking=True,\n",
      "  tol=0.001, verbose=False) Accuracy: 0.954198473282\n"
     ]
    }
   ],
   "source": [
    "modelaccuracy(SVC())"
   ]
  },
  {
   "cell_type": "code",
   "execution_count": 52,
   "metadata": {
    "collapsed": false
   },
   "outputs": [
    {
     "name": "stdout",
     "output_type": "stream",
     "text": [
      "model: DecisionTreeClassifier(class_weight=None, criterion='gini', max_depth=None,\n",
      "            max_features=None, max_leaf_nodes=None, min_samples_leaf=1,\n",
      "            min_samples_split=2, min_weight_fraction_leaf=0.0,\n",
      "            presort=False, random_state=None, splitter='best') Accuracy: 0.946564885496\n"
     ]
    }
   ],
   "source": [
    "modelaccuracy(DecisionTreeClassifier())"
   ]
  },
  {
   "cell_type": "code",
   "execution_count": 54,
   "metadata": {
    "collapsed": false
   },
   "outputs": [
    {
     "name": "stdout",
     "output_type": "stream",
     "text": [
      "model: RandomForestClassifier(bootstrap=True, class_weight=None, criterion='gini',\n",
      "            max_depth=None, max_features='auto', max_leaf_nodes=None,\n",
      "            min_samples_leaf=1, min_samples_split=2,\n",
      "            min_weight_fraction_leaf=0.0, n_estimators=10, n_jobs=1,\n",
      "            oob_score=False, random_state=None, verbose=0,\n",
      "            warm_start=False) Accuracy: 0.954198473282\n"
     ]
    }
   ],
   "source": [
    "modelaccuracy(RandomForestClassifier())"
   ]
  },
  {
   "cell_type": "markdown",
   "metadata": {},
   "source": [
    "<b>Challenge 9</b>"
   ]
  },
  {
   "cell_type": "code",
   "execution_count": 58,
   "metadata": {
    "collapsed": true
   },
   "outputs": [],
   "source": [
    "from sklearn.cross_validation import cross_val_score\n",
    "\n",
    "def meanCVscore(estimator, X, y):\n",
    "    scores = cross_val_score(estimator, X, y)\n",
    "    mean = np.mean(scores)\n",
    "    print('model: ' + str(estimator), ' Mean Accuacy: ' + str(mean))"
   ]
  },
  {
   "cell_type": "code",
   "execution_count": 66,
   "metadata": {
    "collapsed": false
   },
   "outputs": [
    {
     "name": "stdout",
     "output_type": "stream",
     "text": [
      "model: KNeighborsClassifier(algorithm='auto', leaf_size=30, metric='minkowski',\n",
      "           metric_params=None, n_jobs=1, n_neighbors=6, p=2,\n",
      "           weights='uniform')  Mean Accuacy: 0.933333333333\n"
     ]
    }
   ],
   "source": [
    "meanCVscore(KNeighborsClassifier(n_neighbors=6), X, y)"
   ]
  },
  {
   "cell_type": "code",
   "execution_count": 65,
   "metadata": {
    "collapsed": false
   },
   "outputs": [
    {
     "name": "stdout",
     "output_type": "stream",
     "text": [
      "model: LogisticRegression(C=1.0, class_weight=None, dual=False, fit_intercept=True,\n",
      "          intercept_scaling=1, max_iter=100, multi_class='ovr', n_jobs=1,\n",
      "          penalty='l2', random_state=None, solver='liblinear', tol=0.0001,\n",
      "          verbose=0, warm_start=False)  Mean Accuacy: 0.96091954023\n"
     ]
    }
   ],
   "source": [
    "meanCVscore(LogisticRegression(), X, y)"
   ]
  },
  {
   "cell_type": "code",
   "execution_count": 64,
   "metadata": {
    "collapsed": false
   },
   "outputs": [
    {
     "name": "stdout",
     "output_type": "stream",
     "text": [
      "model: GaussianNB()  Mean Accuacy: 0.931034482759\n"
     ]
    }
   ],
   "source": [
    "meanCVscore(GaussianNB(), X, y)"
   ]
  },
  {
   "cell_type": "code",
   "execution_count": 63,
   "metadata": {
    "collapsed": false
   },
   "outputs": [
    {
     "name": "stdout",
     "output_type": "stream",
     "text": [
      "model: SVC(C=1.0, cache_size=200, class_weight=None, coef0=0.0,\n",
      "  decision_function_shape=None, degree=3, gamma='auto', kernel='rbf',\n",
      "  max_iter=-1, probability=False, random_state=None, shrinking=True,\n",
      "  tol=0.001, verbose=False)  Mean Accuacy: 0.954022988506\n"
     ]
    }
   ],
   "source": [
    "meanCVscore(SVC(), X, y)"
   ]
  },
  {
   "cell_type": "code",
   "execution_count": 62,
   "metadata": {
    "collapsed": false
   },
   "outputs": [
    {
     "name": "stdout",
     "output_type": "stream",
     "text": [
      "model: DecisionTreeClassifier(class_weight=None, criterion='gini', max_depth=None,\n",
      "            max_features=None, max_leaf_nodes=None, min_samples_leaf=1,\n",
      "            min_samples_split=2, min_weight_fraction_leaf=0.0,\n",
      "            presort=False, random_state=None, splitter='best')  Mean Accuacy: 0.95632183908\n"
     ]
    }
   ],
   "source": [
    "meanCVscore(DecisionTreeClassifier(), X, y)"
   ]
  },
  {
   "cell_type": "code",
   "execution_count": 61,
   "metadata": {
    "collapsed": false
   },
   "outputs": [
    {
     "name": "stdout",
     "output_type": "stream",
     "text": [
      "model: RandomForestClassifier(bootstrap=True, class_weight=None, criterion='gini',\n",
      "            max_depth=None, max_features='auto', max_leaf_nodes=None,\n",
      "            min_samples_leaf=1, min_samples_split=2,\n",
      "            min_weight_fraction_leaf=0.0, n_estimators=10, n_jobs=1,\n",
      "            oob_score=False, random_state=None, verbose=0,\n",
      "            warm_start=False)  Mean Accuacy: 0.954022988506\n"
     ]
    }
   ],
   "source": [
    "meanCVscore(RandomForestClassifier(), X, y)"
   ]
  },
  {
   "cell_type": "markdown",
   "metadata": {},
   "source": [
    "<B>Challenge 10</b>"
   ]
  },
  {
   "cell_type": "code",
   "execution_count": 92,
   "metadata": {
    "collapsed": true
   },
   "outputs": [],
   "source": [
    "df10=pd.read_csv('house-votes-84.data', header=None)#reads file\n",
    "df10=df10.replace({'y':1,'n':0, '?':np.nan})#replaces y/n with 1/0\n",
    "df10 = df10.fillna(df10.mode().ix[0])#fills nan values with column mode\n",
    "\n"
   ]
  },
  {
   "cell_type": "code",
   "execution_count": 96,
   "metadata": {
    "collapsed": true
   },
   "outputs": [],
   "source": [
    "y10 = df10[16]\n",
    "X10 = df10.drop(0, axis=1)\n",
    "X10 = X10.drop(16, axis=1)"
   ]
  },
  {
   "cell_type": "code",
   "execution_count": 97,
   "metadata": {
    "collapsed": false
   },
   "outputs": [
    {
     "name": "stdout",
     "output_type": "stream",
     "text": [
      "model: LogisticRegression(C=1.0, class_weight=None, dual=False, fit_intercept=True,\n",
      "          intercept_scaling=1, max_iter=100, multi_class='ovr', n_jobs=1,\n",
      "          penalty='l2', random_state=None, solver='liblinear', tol=0.0001,\n",
      "          verbose=0, warm_start=False)  Mean Accuacy: 0.848223595584\n"
     ]
    }
   ],
   "source": [
    "meanCVscore(LogisticRegression(), X10, y10)"
   ]
  },
  {
   "cell_type": "markdown",
   "metadata": {},
   "source": [
    "<b>Challenge 11</b>"
   ]
  },
  {
   "cell_type": "code",
   "execution_count": 218,
   "metadata": {
    "collapsed": true
   },
   "outputs": [],
   "source": [
    "moviedf=pd.read_csv('movie_data.csv')"
   ]
  },
  {
   "cell_type": "code",
   "execution_count": 214,
   "metadata": {
    "collapsed": false
   },
   "outputs": [],
   "source": [
    "for i in moviedf['budget']:\n",
    "    if i is str:\n",
    "        i.replace('$','').replace(',','')\n",
    "        i = int(i)"
   ]
  },
  {
   "cell_type": "code",
   "execution_count": 219,
   "metadata": {
    "collapsed": false
   },
   "outputs": [],
   "source": [
    "moviedf = moviedf[['domestic total gross', 'genre', 'rating']]\n",
    "moviedf = moviedf.fillna(df.mean())"
   ]
  },
  {
   "cell_type": "code",
   "execution_count": 220,
   "metadata": {
    "collapsed": false
   },
   "outputs": [],
   "source": [
    "moviedf = pd.concat([moviedf, pd.get_dummies(moviedf['genre'])], axis=1)\n",
    "moviedf = moviedf.drop('genre', axis=1)\n",
    "\n",
    "# genres = pd.get_dummies(moviedf['genre'])\n",
    "# moviedf.merge(genres, index)"
   ]
  },
  {
   "cell_type": "code",
   "execution_count": 221,
   "metadata": {
    "collapsed": false
   },
   "outputs": [],
   "source": [
    "y11 = moviedf['rating']\n",
    "X11 = moviedf.drop('rating', axis=1)    \n",
    "counts = Counter(y11)\n",
    "keys = counts.keys()\n"
   ]
  },
  {
   "cell_type": "code",
   "execution_count": 222,
   "metadata": {
    "collapsed": false
   },
   "outputs": [
    {
     "data": {
      "text/plain": [
       "domestic total gross    float64\n",
       "rating                   object\n",
       "Action                  float64\n",
       "Adventure               float64\n",
       "Animation               float64\n",
       "Comedy                  float64\n",
       "Crime                   float64\n",
       "Drama                   float64\n",
       "Family                  float64\n",
       "Fantasy                 float64\n",
       "Foreign                 float64\n",
       "Horror                  float64\n",
       "IMAX                    float64\n",
       "Music                   float64\n",
       "Period                  float64\n",
       "Romance                 float64\n",
       "Romantic                float64\n",
       "Sci-Fi                  float64\n",
       "Sports                  float64\n",
       "Thriller                float64\n",
       "Unknown                 float64\n",
       "Western                 float64\n",
       "dtype: object"
      ]
     },
     "execution_count": 222,
     "metadata": {},
     "output_type": "execute_result"
    }
   ],
   "source": [
    "moviedf.dtypes"
   ]
  },
  {
   "cell_type": "code",
   "execution_count": 223,
   "metadata": {
    "collapsed": false
   },
   "outputs": [],
   "source": [
    "keys = counts.keys()\n",
    "y = np.arange(len(keys))\n",
    "performance = [counts[k] for k in keys]\n"
   ]
  },
  {
   "cell_type": "code",
   "execution_count": 224,
   "metadata": {
    "collapsed": false
   },
   "outputs": [
    {
     "data": {
      "text/plain": [
       "<matplotlib.text.Text at 0x10442a748>"
      ]
     },
     "execution_count": 224,
     "metadata": {},
     "output_type": "execute_result"
    },
    {
     "data": {
      "image/png": "[encoded data removed]",
      "text/plain": [
       "<matplotlib.figure.Figure at 0x10d3d4080>"
      ]
     },
     "metadata": {},
     "output_type": "display_data"
    }
   ],
   "source": [
    "plt.barh(y, performance, align='center',alpha=0.4)\n",
    "plt.yticks(y, keys)\n",
    "plt.title('movies per rating')"
   ]
  },
  {
   "cell_type": "code",
   "execution_count": 225,
   "metadata": {
    "collapsed": true
   },
   "outputs": [],
   "source": [
    "X_train, X_test, y_train, y_test = train_test_split(X11, y11, test_size=0.30, random_state=4444)"
   ]
  },
  {
   "cell_type": "code",
   "execution_count": 226,
   "metadata": {
    "collapsed": false
   },
   "outputs": [
    {
     "name": "stdout",
     "output_type": "stream",
     "text": [
      "{1: 0.33333333333333331, 2: 0.28855721393034828, 3: 0.38308457711442784, 4: 0.38308457711442784, 5: 0.41293532338308458, 6: 0.41791044776119401, 7: 0.42786069651741293, 8: 0.43283582089552236, 9: 0.43283582089552236, 10: 0.42786069651741293, 11: 0.44278606965174128, 12: 0.46766169154228854, 13: 0.45771144278606968, 14: 0.47263681592039802, 15: 0.47761194029850745, 16: 0.46268656716417911, 17: 0.45771144278606968, 18: 0.48258706467661694, 19: 0.48258706467661694, 20: 0.45771144278606968}\n"
     ]
    },
    {
     "data": {
      "text/plain": [
       "18"
      ]
     },
     "execution_count": 226,
     "metadata": {},
     "output_type": "execute_result"
    }
   ],
   "source": [
    "kneighbordict = {}\n",
    "for i in range(1, 21):\n",
    "    neigh = KNeighborsClassifier(n_neighbors=i)\n",
    "    neigh.fit(X_train, y_train)\n",
    "    y_predict = neigh.predict(X_test)\n",
    "    score = accuracy_score(y_test, y_predict)\n",
    "    kneighbordict[i]=score\n",
    "\n",
    "print (kneighbordict)\n",
    "max(kneighbordict, key=kneighbordict.get)"
   ]
  },
  {
   "cell_type": "code",
   "execution_count": 227,
   "metadata": {
    "collapsed": false
   },
   "outputs": [
    {
     "name": "stdout",
     "output_type": "stream",
     "text": [
      "model: KNeighborsClassifier(algorithm='auto', leaf_size=30, metric='minkowski',\n",
      "           metric_params=None, n_jobs=1, n_neighbors=18, p=2,\n",
      "           weights='uniform')  Mean Accuacy: 0.422934540571\n"
     ]
    }
   ],
   "source": [
    "meanCVscore(KNeighborsClassifier(n_neighbors=18), X11, y11)"
   ]
  },
  {
   "cell_type": "code",
   "execution_count": 228,
   "metadata": {
    "collapsed": false
   },
   "outputs": [
    {
     "name": "stdout",
     "output_type": "stream",
     "text": [
      "model: LogisticRegression(C=1.0, class_weight=None, dual=False, fit_intercept=True,\n",
      "          intercept_scaling=1, max_iter=100, multi_class='ovr', n_jobs=1,\n",
      "          penalty='l2', random_state=None, solver='liblinear', tol=0.0001,\n",
      "          verbose=0, warm_start=False)  Mean Accuacy: 0.307925338239\n"
     ]
    }
   ],
   "source": [
    "meanCVscore(LogisticRegression(), X11, y11)"
   ]
  },
  {
   "cell_type": "code",
   "execution_count": 234,
   "metadata": {
    "collapsed": false
   },
   "outputs": [
    {
     "name": "stdout",
     "output_type": "stream",
     "text": [
      "accuracy: 0.273631840796 \n",
      "\n",
      "Coefficients:\n",
      "Intercept: -2.3158075349e-15\n",
      "b1: -3.4184042768e-08\n",
      "b2: -6.58099217207e-16\n",
      "b3: -2.06671693386e-18\n",
      "b4: 2.75614711338e-16\n",
      "b5: -4.03286675964e-16\n",
      "b6: -3.05338840587e-17\n",
      "b7: -3.56674562923e-17\n",
      "b8: 9.7766860724e-17\n",
      "b9: -1.91259002016e-17\n",
      "b10: -8.85436027424e-17\n",
      "b11: -8.10260090906e-16\n",
      "b12: -1.62956703547e-17\n",
      "b13: -3.58550619761e-17\n",
      "b14: -4.13664075624e-17\n",
      "b15: -1.95252569953e-17\n",
      "b16: -2.81497389704e-17\n",
      "b17: -1.75171809067e-16\n",
      "b18: -1.07987010701e-16\n",
      "b19: -6.13856439726e-17\n",
      "b20: -1.52671353589e-16\n",
      "b21: -3.19760946719e-18\n"
     ]
    }
   ],
   "source": [
    "logisticmodel = LogisticRegression()\n",
    "logisticmodel = logisticmodel.fit(X_train, y_train) \n",
    "y_pred = logisticmodel.predict(X_test)\n",
    "accuracy = accuracy_score(y_test, y_pred)\n",
    "print ('accuracy:', accuracy ,'\\n')\n",
    "print (\"Coefficients:\")\n",
    "coefs = [logisticmodel.intercept_[0]]\n",
    "for coef in logisticmodel.coef_[0]:\n",
    "    coefs.append(coef)  \n",
    "print ('Intercept:', coefs[0])\n",
    "for i in range(1,len(coefs)):\n",
    "    print ('b' + str(i) + ': ' + str(coefs[i]))"
   ]
  },
  {
   "cell_type": "markdown",
   "metadata": {},
   "source": [
    "<b>Challenge 12</b>"
   ]
  },
  {
   "cell_type": "code",
   "execution_count": 239,
   "metadata": {
    "collapsed": true
   },
   "outputs": [],
   "source": [
    "f = 'https://archive.ics.uci.edu/ml/machine-learning-databases/haberman/haberman.data'"
   ]
  },
  {
   "cell_type": "code",
   "execution_count": 242,
   "metadata": {
    "collapsed": false
   },
   "outputs": [],
   "source": [
    "df12 =pd.read_csv(f, names = ['age','op_year','nodes','survival'])"
   ]
  },
  {
   "cell_type": "code",
   "execution_count": 256,
   "metadata": {
    "collapsed": false
   },
   "outputs": [
    {
     "name": "stdout",
     "output_type": "stream",
     "text": [
      "Average age is: 52.45751633986928\n"
     ]
    }
   ],
   "source": [
    "print('Average age is: '+ str(df12.age.mean()))"
   ]
  },
  {
   "cell_type": "code",
   "execution_count": 257,
   "metadata": {
    "collapsed": false
   },
   "outputs": [
    {
     "name": "stdout",
     "output_type": "stream",
     "text": [
      "Standard Deviation of age is: 10.80345234930328\n"
     ]
    }
   ],
   "source": [
    "print('Standard Deviation of age is: '+ str(df12.age.std()))"
   ]
  },
  {
   "cell_type": "code",
   "execution_count": 260,
   "metadata": {
    "collapsed": true
   },
   "outputs": [],
   "source": [
    "survival = df12.groupby('survival')\n"
   ]
  },
  {
   "cell_type": "code",
   "execution_count": 263,
   "metadata": {
    "collapsed": false
   },
   "outputs": [],
   "source": [
    "more = survival.get_group(1)"
   ]
  },
  {
   "cell_type": "code",
   "execution_count": 268,
   "metadata": {
    "collapsed": false
   },
   "outputs": [
    {
     "name": "stdout",
     "output_type": "stream",
     "text": [
      "For patients that survive 5 or more years\n",
      "Average age is: 52.01777777777778\n",
      "Standard Deviation of age is: 11.012154179929546\n"
     ]
    }
   ],
   "source": [
    "print('For patients that survive 5 or more years')\n",
    "print('Average age is: '+ str(more.age.mean()))\n",
    "print('Standard Deviation of age is: '+ str(more.age.std()))"
   ]
  },
  {
   "cell_type": "code",
   "execution_count": 265,
   "metadata": {
    "collapsed": false
   },
   "outputs": [],
   "source": [
    "less = survival.get_group(2)"
   ]
  },
  {
   "cell_type": "code",
   "execution_count": 269,
   "metadata": {
    "collapsed": false
   },
   "outputs": [
    {
     "name": "stdout",
     "output_type": "stream",
     "text": [
      "For patients that survive fewer than 5 years\n",
      "Average age is: 53.67901234567901\n",
      "Standard Deviation of age is: 10.16713720829741\n"
     ]
    }
   ],
   "source": [
    "print('For patients that survive fewer than 5 years')\n",
    "print('Average age is: '+ str(less.age.mean()))\n",
    "print('Standard Deviation of age is: '+ str(less.age.std()))"
   ]
  },
  {
   "cell_type": "code",
   "execution_count": 279,
   "metadata": {
    "collapsed": false
   },
   "outputs": [
    {
     "data": {
      "text/plain": [
       "array([[<matplotlib.axes._subplots.AxesSubplot object at 0x1111b6780>,\n",
       "        <matplotlib.axes._subplots.AxesSubplot object at 0x11160b4a8>]], dtype=object)"
      ]
     },
     "execution_count": 279,
     "metadata": {},
     "output_type": "execute_result"
    },
    {
     "data": {
      "image/png": "[encoded data removed]",
      "text/plain": [
       "<matplotlib.figure.Figure at 0x1111baf28>"
      ]
     },
     "metadata": {},
     "output_type": "display_data"
    }
   ],
   "source": [
    "forhist = df12[['age','nodes']]\n",
    "forhist.hist()\n"
   ]
  },
  {
   "cell_type": "code",
   "execution_count": 285,
   "metadata": {
    "collapsed": false
   },
   "outputs": [
    {
     "name": "stdout",
     "output_type": "stream",
     "text": [
      "earliest year of surgery: 58\n"
     ]
    }
   ],
   "source": [
    "print('earliest year of surgery: ' + str(df12.op_year.min()))"
   ]
  },
  {
   "cell_type": "code",
   "execution_count": 289,
   "metadata": {
    "collapsed": false
   },
   "outputs": [
    {
     "name": "stdout",
     "output_type": "stream",
     "text": [
      "accuracy: 0.815217391304 \n",
      "\n",
      "Coefficients:\n",
      "Intercept: -0.247973086413\n",
      "b1: 0.0155515024819\n",
      "b2: -0.0289927905862\n",
      "b3: 0.0713619655047\n"
     ]
    }
   ],
   "source": [
    "X12 = df12.drop('survival', axis=1)\n",
    "y12 = df12['survival']\n",
    "\n",
    "X_train, X_test, y_train, y_test = train_test_split(X12, y12, test_size=0.30, random_state=4444)\n",
    "\n",
    "logisticmodel = LogisticRegression()\n",
    "logisticmodel = logisticmodel.fit(X_train, y_train) \n",
    "y_pred = logisticmodel.predict(X_test)\n",
    "accuracy = accuracy_score(y_test, y_pred)\n",
    "print ('accuracy:', accuracy ,'\\n')\n",
    "print (\"Coefficients:\")\n",
    "coefs = [logisticmodel.intercept_[0]]\n",
    "for coef in logisticmodel.coef_[0]:\n",
    "    coefs.append(coef)  \n",
    "print ('Intercept:', coefs[0])\n",
    "for i in range(1,len(coefs)):\n",
    "    print ('b' + str(i) + ': ' + str(coefs[i]))"
   ]
  },
  {
   "cell_type": "code",
   "execution_count": 292,
   "metadata": {
    "collapsed": false
   },
   "outputs": [
    {
     "data": {
      "text/plain": [
       "<module 'matplotlib.pyplot' from '//anaconda/lib/python3.5/site-packages/matplotlib/pyplot.py'>"
      ]
     },
     "execution_count": 292,
     "metadata": {},
     "output_type": "execute_result"
    },
    {
     "data": {
      "image/png": "[encoded data removed]",
      "text/plain": [
       "<matplotlib.figure.Figure at 0x11174e278>"
      ]
     },
     "metadata": {},
     "output_type": "display_data"
    }
   ],
   "source": [
    "title = \"Logistic Regression Learning Curve\"\n",
    "plot_learning_curve(LogisticRegression(), title, X12, y12)"
   ]
  },
  {
   "cell_type": "code",
   "execution_count": null,
   "metadata": {
    "collapsed": true
   },
   "outputs": [],
   "source": []
  }
 ],
 "metadata": {
  "kernelspec": {
   "display_name": "Python 3",
   "language": "python",
   "name": "python3"
  },
  "language_info": {
   "codemirror_mode": {
    "name": "ipython",
    "version": 3
   },
   "file_extension": ".py",
   "mimetype": "text/x-python",
   "name": "python",
   "nbconvert_exporter": "python",
   "pygments_lexer": "ipython3",
   "version": "3.5.1"
  }
 },
 "nbformat": 4,
 "nbformat_minor": 0
}
