{
 "cells": [
  {
   "cell_type": "markdown",
   "metadata": {},
   "source": [
    "MongoDB Challenges\n",
    "\n",
    "Setup\n"
   ]
  },
  {
   "cell_type": "code",
   "execution_count": 3,
   "metadata": {
    "collapsed": true
   },
   "outputs": [],
   "source": [
    "import pickle\n",
    "import pymongo\n",
    "import matplotlib.pyplot as plt\n",
    "import numpy as np\n",
    "%matplotlib inline\n",
    "from pymongo import MongoClient\n",
    "client = MongoClient()\n",
    "from collections import Counter"
   ]
  },
  {
   "cell_type": "code",
   "execution_count": 4,
   "metadata": {
    "collapsed": false
   },
   "outputs": [],
   "source": [
    "with open(\"heavy_metal_parsed.pkl\", 'rb') as datafile:\n",
    "    reviews = pickle.load(datafile)"
   ]
  },
  {
   "cell_type": "code",
   "execution_count": 5,
   "metadata": {
    "collapsed": false
   },
   "outputs": [
    {
     "name": "stdout",
     "output_type": "stream",
     "text": [
      "200 MOTELS (1971)\n",
      "DIRECTORS: Tony Palmer, Frank Zappa\n",
      "CAST: Frank Zappa, Ringo Starr, Mark Volman, Howard Kaylan, Keith\n",
      "Moon\n",
      "METAL CRED\n",
      "Frank Zappa\n",
      "Nun Desecration\n",
      "THE MEAT\n",
      "Beyond his metal sainthood for\n",
      "battling the censor-witches of the PMRC and getting named checked by Deep\n",
      "Purple in “Smoke on the Water”, musical visionary Frank Zappa led many rock\n",
      "fans to heavy metal.\n",
      "And, from there, he led many metal\n",
      "fans to the outer expanses of rock’s possibilities.\n",
      "Zappa also opened countless banging\n",
      "heads to the far reaches of jazz, classical, doo-wop, and any other art form\n",
      "that could involve (brilliant) noise and (brilliantly dumb) dirty jokes.\n",
      "200\n",
      "Motels is Zappa’s first crack at major motion picture madness, and it\n",
      "embodies the much forgotten cultural moment when acid rock tumbled forever into\n",
      "the black pits of rising heavy metal.\n",
      "Surrealistic sketches and\n",
      "psychedelic set pieces about the insanity of a being on tour are interspersed\n",
      "among performances in which the Mothers jam with London Philharmonic.\n",
      "Ringo Starr plays Zappa during the\n",
      "talking parts. Zappa himself, plays guitar throughout, demonstrating how very\n",
      "much of a six-string maestro he was, every lick on par with his future\n",
      "collaborators Steve Vail and Yngwie Malmsteen.\n",
      "SOLID METAL NUGGETS\n",
      "• A psychedelic cartoon interlude\n",
      "admiringly tweaks Black Sabbath and Grand Funk Railroad.\n",
      "• Keith Moon, madman drummer of the\n",
      "Who, pops up—and off—as “The Hot Nun.”\n"
     ]
    }
   ],
   "source": [
    "first_review = reviews[0]\n",
    "for line in first_review['raw']:\n",
    "    print(line)"
   ]
  },
  {
   "cell_type": "code",
   "execution_count": 6,
   "metadata": {
    "collapsed": false
   },
   "outputs": [
    {
     "name": "stdout",
     "output_type": "stream",
     "text": [
      "dict_keys(['raw', 'head', 'year', 'sections', 'cast', 'direct', 'solid_metal_nuggets', 'title', 'metal_cred', 'the_meat'])\n"
     ]
    }
   ],
   "source": [
    "print (first_review.keys())"
   ]
  },
  {
   "cell_type": "code",
   "execution_count": 7,
   "metadata": {
    "collapsed": false
   },
   "outputs": [],
   "source": [
    "client = pymongo.MongoClient()\n",
    "db = client.challenge_db\n",
    "hmm = client.challenge_db.hmm_collection\n",
    "\n",
    "hmm.drop() # Clear out any data we had in the collection.\n",
    "\n",
    "hmm.insert_many(reviews);"
   ]
  },
  {
   "cell_type": "code",
   "execution_count": 8,
   "metadata": {
    "collapsed": false
   },
   "outputs": [
    {
     "data": {
      "text/plain": [
       "dict_keys(['raw', 'head', '_id', 'sections', 'metal_cred', 'year', 'direct', 'solid_metal_nuggets', 'cast', 'title', 'the_meat'])"
      ]
     },
     "execution_count": 8,
     "metadata": {},
     "output_type": "execute_result"
    }
   ],
   "source": [
    "hmm.count(())\n",
    "hmm.find_one().keys()"
   ]
  },
  {
   "cell_type": "markdown",
   "metadata": {},
   "source": [
    "Challenge 1\n",
    "\n",
    "Make a histogram of the years in the data. How many metal movies came out over the years?"
   ]
  },
  {
   "cell_type": "code",
   "execution_count": 9,
   "metadata": {
    "collapsed": false
   },
   "outputs": [
    {
     "data": {
      "image/png": "[encoded data removed]",
      "text/plain": [
       "<matplotlib.figure.Figure at 0x105e67be0>"
      ]
     },
     "metadata": {},
     "output_type": "display_data"
    }
   ],
   "source": [
    "years = []\n",
    "for film in hmm.find({}, {'year': 1, \"_id\": 0}):\n",
    "    years.append(film['year'])\n",
    "    \n",
    "plt.hist(years, bins =100);"
   ]
  },
  {
   "cell_type": "markdown",
   "metadata": {},
   "source": [
    "Challenge 2\n",
    "\n",
    "Find the cast member that appeared in most Heavy Metal movies. Is there one that is shared by more than one of these movies? Or are they all completely different actors for every movie?"
   ]
  },
  {
   "cell_type": "code",
   "execution_count": 10,
   "metadata": {
    "collapsed": true
   },
   "outputs": [],
   "source": [
    "cursor = hmm.aggregate([\n",
    "        {\"$unwind\": \"$cast\"},\n",
    "        {\"$group\": {\n",
    "            \"_id\": \"$cast\",\n",
    "            \"number\": {\"$sum\" : 1}\n",
    "            }},\n",
    "        {\"$sort\": {\"number\": -1}},\n",
    "        {\"$limit\": 5}\n",
    "    ])"
   ]
  },
  {
   "cell_type": "code",
   "execution_count": 11,
   "metadata": {
    "collapsed": false
   },
   "outputs": [
    {
     "name": "stdout",
     "output_type": "stream",
     "text": [
      "{'number': 22, '_id': ''}\n",
      "{'number': 15, '_id': 'Alice Cooper'}\n",
      "{'number': 14, '_id': 'Christopher Lee'}\n",
      "{'number': 10, '_id': 'Arnold Schwarzenegger'}\n",
      "{'number': 9, '_id': 'Ozzy Osbourne'}\n"
     ]
    }
   ],
   "source": [
    "for i in cursor:\n",
    "    print(i)"
   ]
  },
  {
   "cell_type": "markdown",
   "metadata": {},
   "source": [
    "Challenge 3\n",
    "\n",
    "Find the most used words in Heavy Metal film titles. Is there a word that appears in a lot of them? Is it \"The\"? If it is something like \"the\", How can you get around that? Find one \"meaningful\" word that appears the most (this means non-structural word, unlike \"the\" or \"a\" or \"in\")"
   ]
  },
  {
   "cell_type": "code",
   "execution_count": 12,
   "metadata": {
    "collapsed": true
   },
   "outputs": [],
   "source": [
    "titles = []\n",
    "for film in hmm.find({}, {\"title\": 1, \"_id\":0}):\n",
    "    titles.append(film['title'])"
   ]
  },
  {
   "cell_type": "code",
   "execution_count": 13,
   "metadata": {
    "collapsed": true
   },
   "outputs": [],
   "source": [
    "def clean_str(s):\n",
    "    return s.lower().replace(\":\", \"\")"
   ]
  },
  {
   "cell_type": "code",
   "execution_count": 14,
   "metadata": {
    "collapsed": false
   },
   "outputs": [],
   "source": [
    "title_words = []\n",
    "for title in titles:\n",
    "    words = [clean_str(word) for word in title.split()]\n",
    "    title_words.extend(words)"
   ]
  },
  {
   "cell_type": "code",
   "execution_count": 15,
   "metadata": {
    "collapsed": false
   },
   "outputs": [
    {
     "data": {
      "text/plain": [
       "[('the', 325),\n",
       " ('of', 147),\n",
       " ('metal', 35),\n",
       " ('a', 33),\n",
       " ('and', 27),\n",
       " ('in', 25),\n",
       " ('dead', 24),\n",
       " ('heavy', 19),\n",
       " ('rock', 19),\n",
       " ('2', 17)]"
      ]
     },
     "execution_count": 15,
     "metadata": {},
     "output_type": "execute_result"
    }
   ],
   "source": [
    "counter = Counter(title_words)\n",
    "counter.most_common(10)"
   ]
  },
  {
   "cell_type": "code",
   "execution_count": 16,
   "metadata": {
    "collapsed": true
   },
   "outputs": [],
   "source": [
    "from stop_words import get_stop_words\n",
    "stop_words = get_stop_words('en')\n"
   ]
  },
  {
   "cell_type": "code",
   "execution_count": 19,
   "metadata": {
    "collapsed": false
   },
   "outputs": [],
   "source": [
    "stop_words.append('the')"
   ]
  },
  {
   "cell_type": "code",
   "execution_count": 20,
   "metadata": {
    "collapsed": true
   },
   "outputs": [],
   "source": [
    "for i in title_words:\n",
    "    if i in stop_words:\n",
    "        title_words.remove(i)"
   ]
  },
  {
   "cell_type": "code",
   "execution_count": 21,
   "metadata": {
    "collapsed": false
   },
   "outputs": [
    {
     "data": {
      "text/plain": [
       "[('metal', 35),\n",
       " ('dead', 24),\n",
       " ('heavy', 19),\n",
       " ('rock', 19),\n",
       " ('2', 17),\n",
       " ('black', 14),\n",
       " ('blood', 14),\n",
       " ('last', 13),\n",
       " ('ii', 12),\n",
       " ('devil', 12)]"
      ]
     },
     "execution_count": 21,
     "metadata": {},
     "output_type": "execute_result"
    }
   ],
   "source": [
    "counter = Counter(title_words)\n",
    "counter.most_common(10)"
   ]
  },
  {
   "cell_type": "markdown",
   "metadata": {},
   "source": [
    "Challenge 4\n",
    "\n",
    "METAL CRED section lists themes included in these movies that makes them more metal. What were the top 5 metal cred keywords in the 70s? In 80s? In 90s, In 2000s?"
   ]
  },
  {
   "cell_type": "code",
   "execution_count": 23,
   "metadata": {
    "collapsed": false
   },
   "outputs": [
    {
     "name": "stdout",
     "output_type": "stream",
     "text": [
      "Top metal cred keywords from the 1970s:\n",
      "[('metal', 167), ('cred', 157), ('satan', 21), ('’70s', 19), ('black', 14)]\n",
      "\n",
      "Top metal cred keywords from the 1980s:\n",
      "[('metal', 304), ('cred', 285), ('’80s', 82), ('–', 47), ('post-apocalypse', 31)]\n",
      "\n",
      "Top metal cred keywords from the 1990s:\n",
      "[('metal', 119), ('cred', 106), ('soundtrack', 41), ('black', 9), ('alice', 8)]\n",
      "\n",
      "Top metal cred keywords from the 2000s:\n",
      "[('metal', 188), ('cred', 162), ('soundtrack', 51), ('black', 14), ('porn', 12)]\n",
      "\n"
     ]
    }
   ],
   "source": [
    "def top_metal_cred_words(begin, end):\n",
    "    mc_word_list = []\n",
    "\n",
    "    query = {\"year\": {\"$gte\": begin, \"$lte\": end}}\n",
    "    projection = {\"metal_cred\": 1, \"year\": 1, \"_id\": 0}\n",
    "\n",
    "    for film in hmm.find(query, projection):\n",
    "        for phrase in film[\"metal_cred\"]:\n",
    "            mc_word_list.extend([clean_str(word) for word in phrase.split()])\n",
    "    \n",
    "    # Filter out the stopwords.\n",
    "    mc_word_list = [word for word in mc_word_list if word not in stop_words]\n",
    "    return Counter(mc_word_list).most_common(5)\n",
    "\n",
    "for year in range(1970, 2010, 10):\n",
    "    print (\"Top metal cred keywords from the %is:\" % year)\n",
    "    print (top_metal_cred_words(year, year + 9))\n",
    "    print()"
   ]
  },
  {
   "cell_type": "markdown",
   "metadata": {},
   "source": [
    "Challenge 5\n",
    "\n",
    "Let's use the length of the METAL CRED section as a proxy score for how metal a movie is. Let's call this the METAL SCORE. To each mongo document, add the metal_score as a new field."
   ]
  },
  {
   "cell_type": "code",
   "execution_count": 24,
   "metadata": {
    "collapsed": true
   },
   "outputs": [],
   "source": [
    "for doc in hmm.find({}, {\"metal_cred\": 1}):\n",
    "    metal_score = len(doc[\"metal_cred\"])\n",
    "    hmm.update_one({\"_id\": doc[\"_id\"]}, {\"$set\": {\"metal_score\": metal_score}})"
   ]
  },
  {
   "cell_type": "code",
   "execution_count": 25,
   "metadata": {
    "collapsed": false
   },
   "outputs": [
    {
     "name": "stdout",
     "output_type": "stream",
     "text": [
      "{'metal_score': 3, 'metal_cred': ['METAL CRED', 'Frank Zappa', 'Nun Desecration']}\n",
      "{'metal_score': 8, 'metal_cred': ['METAL CRED', 'Sword and Sorcery', 'Battle Elephants vs. Battle Rhinos', 'Pit of Death', 'Sparta band—UK', 'Spartan Warrior—UK', 'Leonidas band—Argentina', 'Xerxes band—Switzerland']}\n",
      "{'metal_score': 5, 'metal_cred': ['METAL CRED', 'Post-Apocalypse', 'Big Brother', '1984 album—Van Halen', '“Big Brother” songs—A.N.D.,\\nAntischism, Blackhole, Samson, Sed Lex, Soundscape, Thrashsteel, Wintercold']}\n",
      "{'metal_score': 3, 'metal_cred': ['METAL CRED', 'Post-Apocalypse', '’80s\\nItalian Exploitation']}\n"
     ]
    }
   ],
   "source": [
    "for doc in hmm.find({}, {\"metal_cred\": 1, \"metal_score\": 1, \"_id\": 0}).limit(4):\n",
    "    print (doc)"
   ]
  },
  {
   "cell_type": "markdown",
   "metadata": {},
   "source": [
    "Challenge 6\n",
    "\n",
    "Find the director that is MOST METAL per movie (director with the highest average metal score). Remember that some movies have multiple directors."
   ]
  },
  {
   "cell_type": "code",
   "execution_count": 27,
   "metadata": {
    "collapsed": false
   },
   "outputs": [
    {
     "name": "stdout",
     "output_type": "stream",
     "text": [
      "{'avg_metal_score': 75.0, '_id': 'John Milius', 'film_count': 1}\n",
      "{'avg_metal_score': 27.0, '_id': 'David Jacobson', 'film_count': 1}\n",
      "{'avg_metal_score': 18.0, '_id': 'Robert Hendrickson', 'film_count': 1}\n",
      "{'avg_metal_score': 18.0, '_id': 'Laurence Merrick', 'film_count': 1}\n",
      "{'avg_metal_score': 13.0, '_id': 'Bob Guccione', 'film_count': 1}\n"
     ]
    }
   ],
   "source": [
    "cursor = hmm.aggregate([\n",
    "    {\"$unwind\": \"$direct\"},\n",
    "    {\"$group\" : {\n",
    "        \"_id\" : \"$direct\", \n",
    "        \"film_count\": {\"$sum\": 1},\n",
    "        \"avg_metal_score\": {\"$avg\": \"$metal_score\"} \n",
    "    }},\n",
    "    {\"$sort\": {\"avg_metal_score\": -1}},\n",
    "    {\"$limit\": 5}\n",
    "])\n",
    "\n",
    "for most_metal_director in cursor:\n",
    "    print (most_metal_director)\n"
   ]
  },
  {
   "cell_type": "markdown",
   "metadata": {},
   "source": [
    "Challenge 7\n",
    "\n",
    "The majority of directors and actors will have worked on a single movie. See if there are any directors that worked with an actor more than once. If so, find the director-actor duo that have worked together the most times."
   ]
  },
  {
   "cell_type": "code",
   "execution_count": 28,
   "metadata": {
    "collapsed": false
   },
   "outputs": [
    {
     "name": "stdout",
     "output_type": "stream",
     "text": [
      "{'_id': {'actor': 'Sheri Moon Zombie', 'director': 'Rob Zombie'}, 'duo_count': 4}\n",
      "{'_id': {'actor': 'Daria Nicolodi', 'director': 'Dario Argento'}, 'duo_count': 4}\n",
      "{'_id': {'actor': 'George Eastman', 'director': 'Joe D’Amato'}, 'duo_count': 4}\n",
      "{'_id': {'actor': 'Christopher Lee', 'director': 'Peter Jackson'}, 'duo_count': 4}\n",
      "{'_id': {'actor': 'Jessie Misskelley', 'director': 'Bruce Sinofsky'}, 'duo_count': 3}\n"
     ]
    }
   ],
   "source": [
    "cursor = hmm.aggregate([\n",
    "    {\"$unwind\": \"$direct\"},\n",
    "    {\"$unwind\": \"$cast\"},\n",
    "    {\"$group\": {\n",
    "        \"_id\" : {\"director\" : \"$direct\", \"actor\": \"$cast\"},\n",
    "        \"duo_count\": {\"$sum\": 1 },\n",
    "    }},\n",
    "    {\"$sort\": {\"duo_count\": -1}},\n",
    "    {\"$limit\": 5}\n",
    "])\n",
    "\n",
    "for director_actor_pair in cursor:\n",
    "    print (director_actor_pair)\n"
   ]
  },
  {
   "cell_type": "markdown",
   "metadata": {},
   "source": [
    "Challenge 8\n",
    "\n",
    "Create an index on the 'director' field to make the queries involving it faster. What is an index?\n",
    "\n"
   ]
  },
  {
   "cell_type": "code",
   "execution_count": 29,
   "metadata": {
    "collapsed": false
   },
   "outputs": [
    {
     "data": {
      "text/plain": [
       "'direct_1'"
      ]
     },
     "execution_count": 29,
     "metadata": {},
     "output_type": "execute_result"
    }
   ],
   "source": [
    "hmm.create_index(\"direct\")\n"
   ]
  },
  {
   "cell_type": "markdown",
   "metadata": {},
   "source": [
    "Challenge 9 (Optional challenge for early finishers)\n",
    "\n",
    "For each decade, make a histogram of metal scores. Also, calculate the average metal score for each decade. Which decade was the most pure metal decade?\n",
    "\n",
    "Note (rather than a challenge)\n",
    "\n",
    "In the latest version of mongo, you can do a text query. To do this, you need to create one (only one) text-based index. Let's index the_meat field so we can make text search queries on it (in pymongo):\n",
    "\n",
    "db.reviews.create_index([(\"the_meat\", pymongo.TEXT,)])\n",
    "\n",
    "Now you can do text search. For example, let's search for the phrase \"hitting power chords\" within \"the_meat\" fields of all our documents.\n",
    "\n",
    "db.reviews.find({\"$text\": {\"$search\": \"hitting power\n",
    "chords\"}}).count()\n",
    "\n",
    "206\n",
    "It has found 206 reviews. I can print the titles of the first 10 reviews that were returned in this text search:\n",
    "\n",
    "ten_matches = r.find({\"$text\": {\"$search\": \"hitting power chords\"}}).limit(10)\n",
    "for match in ten_matches:\n",
    "    print match[\"title\"]\n",
    "\n",
    "\n",
    "DOMINATOR\n",
    "REPO: THE GENETIC OPERA\n",
    "GREMLINS 2: THE NEW BATCH\n",
    "VICE SQUAD\n",
    "THE JERKY BOYS: THE MOVIE\n",
    "THE SONG REMAINS THE SAME\n",
    "THE EXORCIST\n",
    "THE CROW\n",
    "CANNIBAL HOLOCAUST\n",
    "HOSTEL\n",
    "Enjoy your text searches : ) These can be very useful in some apps.\n",
    "\n",
    "Twitter API Extension\n",
    "\n",
    "Create a mongo collection of tweets about something (anything you choose).\n",
    "\n",
    "Each mongo document should contain the text, username, favorite count and retweet count of the tweet."
   ]
  },
  {
   "cell_type": "code",
   "execution_count": null,
   "metadata": {
    "collapsed": true
   },
   "outputs": [],
   "source": []
  }
 ],
 "metadata": {
  "kernelspec": {
   "display_name": "Python 3",
   "language": "python",
   "name": "python3"
  },
  "language_info": {
   "codemirror_mode": {
    "name": "ipython",
    "version": 3
   },
   "file_extension": ".py",
   "mimetype": "text/x-python",
   "name": "python",
   "nbconvert_exporter": "python",
   "pygments_lexer": "ipython3",
   "version": "3.5.1"
  }
 },
 "nbformat": 4,
 "nbformat_minor": 0
}
