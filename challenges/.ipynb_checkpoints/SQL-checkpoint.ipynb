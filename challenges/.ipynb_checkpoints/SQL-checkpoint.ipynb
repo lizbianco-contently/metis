{
 "cells": [
  {
   "cell_type": "markdown",
   "metadata": {},
   "source": [
    "SQL Challenges\n",
    "\n",
    "The core SQL challenges consist of the activities at the end of the SQL lab."
   ]
  },
  {
   "cell_type": "markdown",
   "metadata": {},
   "source": [
    "Challenge 1\n",
    "\n",
    "What customers are from the UK?"
   ]
  },
  {
   "cell_type": "markdown",
   "metadata": {
    "collapsed": false
   },
   "source": [
    "SELECT * FROM Customers WHERE Country='UK';"
   ]
  },
  {
   "cell_type": "markdown",
   "metadata": {},
   "source": [
    "Around the Horn\n",
    "B's Beverages\n",
    "Consolidated Holdings\n",
    "Eastern Connection\n",
    "Island Trading\n",
    "North/South\n",
    "Seven Seas Imports"
   ]
  },
  {
   "cell_type": "markdown",
   "metadata": {},
   "source": [
    "Challenge 2\n",
    "\n",
    "What is the name of the customer who has the most orders?"
   ]
  },
  {
   "cell_type": "code",
   "execution_count": null,
   "metadata": {
    "collapsed": true
   },
   "outputs": [],
   "source": [
    "SELECT\n",
    "    CustomerName,\n",
    "    COUNT(*) as OrderCount\n",
    "FROM\n",
    "    Customers as customers\n",
    "  JOIN\n",
    "    Orders as orders\n",
    "  ON customers.CustomerID = orders.CustomerID\n",
    "GROUP BY orders.CustomerID\n",
    "ORDER BY OrderCount DESC\n",
    "LIMIT 1;\n",
    "\n",
    "\n",
    "\n",
    "Ernst Handel: 10"
   ]
  },
  {
   "cell_type": "markdown",
   "metadata": {},
   "source": [
    "Challenge 3\n",
    "\n",
    "What supplier has the highest average product price?"
   ]
  },
  {
   "cell_type": "code",
   "execution_count": null,
   "metadata": {
    "collapsed": true
   },
   "outputs": [],
   "source": [
    "SELECT\n",
    "    SupplierName, AVG(p.Price) as avgprice\n",
    "FROM\n",
    "    Suppliers as suppliers\n",
    "  JOIN\n",
    "    Products as products\n",
    "  ON suppliers.SupplierID = products.SupplierID\n",
    "GROUP BY suppliers.SupplierID\n",
    "ORDER BY avgprice DESC\n",
    "LIMIT 1;\n",
    "\n",
    "\n",
    "Aux joyeux ecclésiastiques\t140.75"
   ]
  },
  {
   "cell_type": "markdown",
   "metadata": {},
   "source": [
    "Challenge 4\n",
    "\n",
    "How many different countries are their customers from? (Hint: Consider DISTINCT.)"
   ]
  },
  {
   "cell_type": "code",
   "execution_count": null,
   "metadata": {
    "collapsed": true
   },
   "outputs": [],
   "source": [
    "SELECT COUNT(DISTINCT(Country)) AS n FROM Customers;\n",
    "\n",
    "21"
   ]
  },
  {
   "cell_type": "markdown",
   "metadata": {},
   "source": [
    "Challenge 5\n",
    "\n",
    "What category appears in the most orders?"
   ]
  },
  {
   "cell_type": "code",
   "execution_count": null,
   "metadata": {
    "collapsed": true
   },
   "outputs": [],
   "source": [
    "SELECT\n",
    "    CategoryName\n",
    "FROM\n",
    "    Categories as categories\n",
    "  JOIN\n",
    "    OrderDetails as orders\n",
    "  JOIN\n",
    "    Products as products\n",
    "  ON categories.categoryID = products.categoryID\n",
    "      AND\n",
    "    orders.ProductID = products.ProductID\n",
    "GROUP BY category.categoryID\n",
    "ORDER BY COUNT(*) DESC\n",
    "LIMIT 1;\n",
    "\n",
    "Dairy Products"
   ]
  },
  {
   "cell_type": "markdown",
   "metadata": {},
   "source": [
    "Challenge 6\n",
    "\n",
    "What was the total cost for each order?"
   ]
  },
  {
   "cell_type": "code",
   "execution_count": null,
   "metadata": {
    "collapsed": true
   },
   "outputs": [],
   "source": [
    "SELECT\n",
    "    o.OrderID,\n",
    "    SUM(o.Quantity * p.Price) as Total\n",
    "FROM\n",
    "    OrderDetails as o\n",
    "  JOIN\n",
    "    Products as p\n",
    "  ON\n",
    "    o.ProductID = p.ProductID\n",
    "GROUP BY o.OrderID\n",
    "ORDER BY Total DESC;\n",
    "\n",
    "\n",
    "OrderID\tTotal\n",
    "10372\t15353.6\n",
    "10424\t14366.5\n",
    "10417\t14104\n",
    "10353\t13427\n",
    "10360\t9244.250000000002\n",
    "10324\t7698.45\n",
    "10440\t7246.01\n",
    "10430\t7245\n",
    "10351\t7103.599999999999\n",
    "10329\t6025.12\n",
    "10305\t5197.25\n",
    "10267\t5040\n"
   ]
  },
  {
   "cell_type": "markdown",
   "metadata": {},
   "source": [
    "Challenge 7\n",
    "\n",
    "What employee made the most sales (by total cost)?"
   ]
  },
  {
   "cell_type": "code",
   "execution_count": null,
   "metadata": {
    "collapsed": true
   },
   "outputs": [],
   "source": [
    "SELECT\n",
    "    e.FirstName,\n",
    "    e.LastName,\n",
    "    SUM(op.Quantity * p.Price) as Total\n",
    "FROM\n",
    "    Employees as e\n",
    "  JOIN\n",
    "    Orders as o\n",
    "  JOIN\n",
    "    OrderDetails as op\n",
    "  JOIN\n",
    "    Products as p\n",
    "  ON\n",
    "      e.EmployeeID = o.EmployeeID\n",
    "    AND\n",
    "      o.OrderID = op.OrderID\n",
    "    AND\n",
    "      op.ProductID = p.ProductID\n",
    "GROUP BY e.EmployeeID\n",
    "ORDER BY Total DESC;\n",
    "\n",
    "Margaret Peacock"
   ]
  },
  {
   "cell_type": "markdown",
   "metadata": {},
   "source": [
    "Challenge 8\n",
    "\n",
    "What employees have BS degrees? (Hint: Look at the LIKE operator.)"
   ]
  },
  {
   "cell_type": "code",
   "execution_count": null,
   "metadata": {
    "collapsed": true
   },
   "outputs": [],
   "source": [
    "SELECT * FROM Employees WHERE Notes LIKE '%BS%';\n",
    "\n",
    "Janet Leverling\n",
    "Steven Buchanan"
   ]
  },
  {
   "cell_type": "markdown",
   "metadata": {},
   "source": [
    "Challenge 9\n",
    "\n",
    "What supplier of three or more products has the highest average product price? (Hint: Look at the HAVING operator.)"
   ]
  },
  {
   "cell_type": "code",
   "execution_count": null,
   "metadata": {
    "collapsed": true
   },
   "outputs": [],
   "source": [
    "SELECT\n",
    "    SupplierName,\n",
    "    COUNT(*) as NumProducts,\n",
    "    AVG(p.Price) as MeanPrice\n",
    "FROM\n",
    "    Suppliers AS s\n",
    "  JOIN\n",
    "    Products AS p\n",
    "  ON s.SupplierID = p.SupplierID\n",
    "GROUP BY s.SupplierID\n",
    "HAVING 3 <= NumProducts\n",
    "ORDER BY MeanPrice DESC;\n",
    "\n",
    "Tokyo Traders"
   ]
  }
 ],
 "metadata": {
  "kernelspec": {
   "display_name": "Python 3",
   "language": "python",
   "name": "python3"
  },
  "language_info": {
   "codemirror_mode": {
    "name": "ipython",
    "version": 3
   },
   "file_extension": ".py",
   "mimetype": "text/x-python",
   "name": "python",
   "nbconvert_exporter": "python",
   "pygments_lexer": "ipython3",
   "version": "3.5.1"
  }
 },
 "nbformat": 4,
 "nbformat_minor": 0
}
