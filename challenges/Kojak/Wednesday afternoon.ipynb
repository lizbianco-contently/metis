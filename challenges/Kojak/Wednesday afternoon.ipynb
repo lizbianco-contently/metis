{
 "cells": [
  {
   "cell_type": "code",
   "execution_count": 1,
   "metadata": {
    "collapsed": true
   },
   "outputs": [],
   "source": [
    "import nltk\n",
    "import pandas as pd\n",
    "import json"
   ]
  },
  {
   "cell_type": "code",
   "execution_count": 3,
   "metadata": {
    "collapsed": true
   },
   "outputs": [],
   "source": [
    "data = []"
   ]
  },
  {
   "cell_type": "code",
   "execution_count": 4,
   "metadata": {
    "collapsed": false
   },
   "outputs": [],
   "source": [
    "with open('113.txt') as json_data:\n",
    "    d = json.load(json_data)\n",
    "    for i in d:\n",
    "        data.append(i)\n",
    "    json_data.close()"
   ]
  },
  {
   "cell_type": "code",
   "execution_count": 5,
   "metadata": {
    "collapsed": false
   },
   "outputs": [
    {
     "data": {
      "text/plain": [
       "16586"
      ]
     },
     "execution_count": 5,
     "metadata": {},
     "output_type": "execute_result"
    }
   ],
   "source": [
    "len(data)"
   ]
  },
  {
   "cell_type": "code",
   "execution_count": 6,
   "metadata": {
    "collapsed": true
   },
   "outputs": [],
   "source": [
    "df = pd.DataFrame(data)"
   ]
  },
  {
   "cell_type": "code",
   "execution_count": 22,
   "metadata": {
    "collapsed": false
   },
   "outputs": [
    {
     "data": {
      "text/plain": [
       "(16586, 6)"
      ]
     },
     "execution_count": 22,
     "metadata": {},
     "output_type": "execute_result"
    }
   ],
   "source": [
    "df.shape"
   ]
  },
  {
   "cell_type": "code",
   "execution_count": 24,
   "metadata": {
    "collapsed": false
   },
   "outputs": [],
   "source": [
    "df=df.drop_duplicates('speech')"
   ]
  },
  {
   "cell_type": "code",
   "execution_count": 25,
   "metadata": {
    "collapsed": false
   },
   "outputs": [
    {
     "data": {
      "text/plain": [
       "(11565, 6)"
      ]
     },
     "execution_count": 25,
     "metadata": {},
     "output_type": "execute_result"
    }
   ],
   "source": [
    "df.shape"
   ]
  },
  {
   "cell_type": "code",
   "execution_count": 7,
   "metadata": {
    "collapsed": false
   },
   "outputs": [
    {
     "data": {
      "text/html": [
       "<div>\n",
       "<table border=\"1\" class=\"dataframe\">\n",
       "  <thead>\n",
       "    <tr style=\"text-align: right;\">\n",
       "      <th></th>\n",
       "      <th>date</th>\n",
       "      <th>session</th>\n",
       "      <th>speaker</th>\n",
       "      <th>speech</th>\n",
       "      <th>title</th>\n",
       "      <th>url</th>\n",
       "    </tr>\n",
       "  </thead>\n",
       "  <tbody>\n",
       "    <tr>\n",
       "      <th>0</th>\n",
       "      <td>2013-01-03</td>\n",
       "      <td>113</td>\n",
       "      <td>VICE</td>\n",
       "      <td>PRESIDENT. The Chaplain will lead the Senate i...</td>\n",
       "      <td></td>\n",
       "      <td>http://www.congress.gov/congressional-record/2...</td>\n",
       "    </tr>\n",
       "    <tr>\n",
       "      <th>1</th>\n",
       "      <td>2013-01-03</td>\n",
       "      <td>113</td>\n",
       "      <td>VICE</td>\n",
       "      <td>PRESIDENT led the pledge of allegiance, as fol...</td>\n",
       "      <td>PLEDGE OF ALLEGIANCE</td>\n",
       "      <td>http://www.congress.gov/congressional-record/2...</td>\n",
       "    </tr>\n",
       "    <tr>\n",
       "      <th>2</th>\n",
       "      <td>2013-01-03</td>\n",
       "      <td>113</td>\n",
       "      <td>VICE</td>\n",
       "      <td>PRESIDENT. The majority leader is recognized.</td>\n",
       "      <td>RECOGNITION OF THE MAJORITY LEADER</td>\n",
       "      <td>http://www.congress.gov/congressional-record/2...</td>\n",
       "    </tr>\n",
       "    <tr>\n",
       "      <th>3</th>\n",
       "      <td>2013-01-03</td>\n",
       "      <td>113</td>\n",
       "      <td>REID</td>\n",
       "      <td>Mr. President, I have a number of housekeeping...</td>\n",
       "      <td>ORDER OF BUSINESS</td>\n",
       "      <td>http://www.congress.gov/congressional-record/2...</td>\n",
       "    </tr>\n",
       "    <tr>\n",
       "      <th>4</th>\n",
       "      <td>2013-01-03</td>\n",
       "      <td>113</td>\n",
       "      <td>VICE</td>\n",
       "      <td>PRESIDENT. The clerk will report the resolutio...</td>\n",
       "      <td>INFORMING THE PRESIDENT OF THE UNITED STATES T...</td>\n",
       "      <td>http://www.congress.gov/congressional-record/2...</td>\n",
       "    </tr>\n",
       "    <tr>\n",
       "      <th>5</th>\n",
       "      <td>2013-01-03</td>\n",
       "      <td>113</td>\n",
       "      <td>McCONNELL</td>\n",
       "      <td>Mr. President, I move to lay that motion on th...</td>\n",
       "      <td>INFORMING THE PRESIDENT OF THE UNITED STATES T...</td>\n",
       "      <td>http://www.congress.gov/congressional-record/2...</td>\n",
       "    </tr>\n",
       "    <tr>\n",
       "      <th>6</th>\n",
       "      <td>2013-01-03</td>\n",
       "      <td>113</td>\n",
       "      <td>PRESIDENT</td>\n",
       "      <td>pro tempore. Pursuant to S. Res. 1, the Chair ...</td>\n",
       "      <td>INFORMING THE PRESIDENT OF THE UNITED STATES T...</td>\n",
       "      <td>http://www.congress.gov/congressional-record/2...</td>\n",
       "    </tr>\n",
       "    <tr>\n",
       "      <th>7</th>\n",
       "      <td>2013-01-03</td>\n",
       "      <td>113</td>\n",
       "      <td>REID</td>\n",
       "      <td>Mr. President, I move to reconsider the vote b...</td>\n",
       "      <td>INFORMING THE PRESIDENT OF THE UNITED STATES T...</td>\n",
       "      <td>http://www.congress.gov/congressional-record/2...</td>\n",
       "    </tr>\n",
       "    <tr>\n",
       "      <th>8</th>\n",
       "      <td>2013-01-03</td>\n",
       "      <td>113</td>\n",
       "      <td>McCONNELL</td>\n",
       "      <td>I move to lay that motion on the table.  The m...</td>\n",
       "      <td>INFORMING THE HOUSE OF REPRESENTATIVES THAT A ...</td>\n",
       "      <td>http://www.congress.gov/congressional-record/2...</td>\n",
       "    </tr>\n",
       "    <tr>\n",
       "      <th>9</th>\n",
       "      <td>2013-01-03</td>\n",
       "      <td>113</td>\n",
       "      <td>PRESIDENT</td>\n",
       "      <td>pro tempore. Without objection, the resolution...</td>\n",
       "      <td>INFORMING THE HOUSE OF REPRESENTATIVES THAT A ...</td>\n",
       "      <td>http://www.congress.gov/congressional-record/2...</td>\n",
       "    </tr>\n",
       "    <tr>\n",
       "      <th>10</th>\n",
       "      <td>2013-01-03</td>\n",
       "      <td>113</td>\n",
       "      <td>REID</td>\n",
       "      <td>Mr. President, I move to reconsider the vote b...</td>\n",
       "      <td>INFORMING THE HOUSE OF REPRESENTATIVES THAT A ...</td>\n",
       "      <td>http://www.congress.gov/congressional-record/2...</td>\n",
       "    </tr>\n",
       "    <tr>\n",
       "      <th>11</th>\n",
       "      <td>2013-01-03</td>\n",
       "      <td>113</td>\n",
       "      <td>McCONNELL</td>\n",
       "      <td>Mr. President, I move to lay that motion on th...</td>\n",
       "      <td>EXTENDING THE LIFE OF THE JOINT CONGRESSIONAL ...</td>\n",
       "      <td>http://www.congress.gov/congressional-record/2...</td>\n",
       "    </tr>\n",
       "    <tr>\n",
       "      <th>12</th>\n",
       "      <td>2013-01-03</td>\n",
       "      <td>113</td>\n",
       "      <td>PRESIDENT</td>\n",
       "      <td>pro tempore. Without objection, the concurrent...</td>\n",
       "      <td>EXTENDING THE LIFE OF THE JOINT CONGRESSIONAL ...</td>\n",
       "      <td>http://www.congress.gov/congressional-record/2...</td>\n",
       "    </tr>\n",
       "    <tr>\n",
       "      <th>13</th>\n",
       "      <td>2013-01-03</td>\n",
       "      <td>113</td>\n",
       "      <td>REID</td>\n",
       "      <td>Mr. President, I move to reconsider the vote b...</td>\n",
       "      <td>EXTENDING THE LIFE OF THE JOINT CONGRESSIONAL ...</td>\n",
       "      <td>http://www.congress.gov/congressional-record/2...</td>\n",
       "    </tr>\n",
       "    <tr>\n",
       "      <th>14</th>\n",
       "      <td>2013-01-03</td>\n",
       "      <td>113</td>\n",
       "      <td>PRESIDING</td>\n",
       "      <td>OFFICER (Mrs. Hagan). Without objection, the r...</td>\n",
       "      <td>FIXING THE HOUR OF DAILY MEETING OF THE SENATE</td>\n",
       "      <td>http://www.congress.gov/congressional-record/2...</td>\n",
       "    </tr>\n",
       "    <tr>\n",
       "      <th>15</th>\n",
       "      <td>2013-01-03</td>\n",
       "      <td>113</td>\n",
       "      <td>PRESIDENT</td>\n",
       "      <td>pro tempore. The clerk will report the resolut...</td>\n",
       "      <td>FIXING THE HOUR OF DAILY MEETING OF THE SENATE</td>\n",
       "      <td>http://www.congress.gov/congressional-record/2...</td>\n",
       "    </tr>\n",
       "    <tr>\n",
       "      <th>16</th>\n",
       "      <td>2013-01-03</td>\n",
       "      <td>113</td>\n",
       "      <td>McCONNELL</td>\n",
       "      <td>I move to lay that motion on the table.  The m...</td>\n",
       "      <td>FIXING THE HOUR OF DAILY MEETING OF THE SENATE</td>\n",
       "      <td>http://www.congress.gov/congressional-record/2...</td>\n",
       "    </tr>\n",
       "    <tr>\n",
       "      <th>17</th>\n",
       "      <td>2013-01-03</td>\n",
       "      <td>113</td>\n",
       "      <td>REID</td>\n",
       "      <td>Madam President, I move to reconsider the vote...</td>\n",
       "      <td>FIXING THE HOUR OF DAILY MEETING OF THE SENATE</td>\n",
       "      <td>http://www.congress.gov/congressional-record/2...</td>\n",
       "    </tr>\n",
       "    <tr>\n",
       "      <th>18</th>\n",
       "      <td>2013-01-03</td>\n",
       "      <td>113</td>\n",
       "      <td>PRESIDING</td>\n",
       "      <td>OFFICER. Is there objection to agreeing to the...</td>\n",
       "      <td>UNANIMOUS CONSENT REQUESTS</td>\n",
       "      <td>http://www.congress.gov/congressional-record/2...</td>\n",
       "    </tr>\n",
       "    <tr>\n",
       "      <th>19</th>\n",
       "      <td>2013-01-03</td>\n",
       "      <td>113</td>\n",
       "      <td>REID</td>\n",
       "      <td>Madam President, I send to the desk, en bloc, ...</td>\n",
       "      <td>UNANIMOUS CONSENT REQUESTS</td>\n",
       "      <td>http://www.congress.gov/congressional-record/2...</td>\n",
       "    </tr>\n",
       "    <tr>\n",
       "      <th>20</th>\n",
       "      <td>2013-01-03</td>\n",
       "      <td>113</td>\n",
       "      <td>PRESIDING</td>\n",
       "      <td>OFFICER. Without objection, it is so ordered.</td>\n",
       "      <td>INTRODUCTION OF BILLS AND JOINT RESOLUTIONS</td>\n",
       "      <td>http://www.congress.gov/congressional-record/2...</td>\n",
       "    </tr>\n",
       "    <tr>\n",
       "      <th>21</th>\n",
       "      <td>2013-01-03</td>\n",
       "      <td>113</td>\n",
       "      <td>REID</td>\n",
       "      <td>Madam President, I ask unanimous consent that ...</td>\n",
       "      <td>INTRODUCTION OF BILLS AND JOINT RESOLUTIONS</td>\n",
       "      <td>http://www.congress.gov/congressional-record/2...</td>\n",
       "    </tr>\n",
       "    <tr>\n",
       "      <th>22</th>\n",
       "      <td>2013-01-03</td>\n",
       "      <td>113</td>\n",
       "      <td>McCONNELL</td>\n",
       "      <td>I move to lay that motion on the table.  The m...</td>\n",
       "      <td></td>\n",
       "      <td>http://www.congress.gov/congressional-record/2...</td>\n",
       "    </tr>\n",
       "    <tr>\n",
       "      <th>23</th>\n",
       "      <td>2013-01-03</td>\n",
       "      <td>113</td>\n",
       "      <td>REID</td>\n",
       "      <td>Madam President, thank you very much for your ...</td>\n",
       "      <td></td>\n",
       "      <td>http://www.congress.gov/congressional-record/2...</td>\n",
       "    </tr>\n",
       "    <tr>\n",
       "      <th>24</th>\n",
       "      <td>2013-01-03</td>\n",
       "      <td>113</td>\n",
       "      <td>PRESIDING</td>\n",
       "      <td>OFFICER. The Republican leader is recognized.</td>\n",
       "      <td>RECOGNITION OF THE MINORITY LEADER</td>\n",
       "      <td>http://www.congress.gov/congressional-record/2...</td>\n",
       "    </tr>\n",
       "    <tr>\n",
       "      <th>25</th>\n",
       "      <td>2013-01-03</td>\n",
       "      <td>113</td>\n",
       "      <td>PRESIDING</td>\n",
       "      <td>OFFICER. Under the previous order, leadership ...</td>\n",
       "      <td>RESERVATION OF LEADER TIME</td>\n",
       "      <td>http://www.congress.gov/congressional-record/2...</td>\n",
       "    </tr>\n",
       "    <tr>\n",
       "      <th>26</th>\n",
       "      <td>2013-01-03</td>\n",
       "      <td>113</td>\n",
       "      <td>MERKLEY</td>\n",
       "      <td>Madam President, I look forward to the dialogu...</td>\n",
       "      <td>I</td>\n",
       "      <td>http://www.congress.gov/congressional-record/2...</td>\n",
       "    </tr>\n",
       "    <tr>\n",
       "      <th>27</th>\n",
       "      <td>2013-01-03</td>\n",
       "      <td>113</td>\n",
       "      <td>PRESIDING</td>\n",
       "      <td>OFFICER. Objection having been heard, the reso...</td>\n",
       "      <td>I</td>\n",
       "      <td>http://www.congress.gov/congressional-record/2...</td>\n",
       "    </tr>\n",
       "    <tr>\n",
       "      <th>28</th>\n",
       "      <td>2013-01-03</td>\n",
       "      <td>113</td>\n",
       "      <td>ALEXANDER</td>\n",
       "      <td>Madam President, for the reasons I have stated...</td>\n",
       "      <td>I</td>\n",
       "      <td>http://www.congress.gov/congressional-record/2...</td>\n",
       "    </tr>\n",
       "    <tr>\n",
       "      <th>29</th>\n",
       "      <td>2013-01-03</td>\n",
       "      <td>113</td>\n",
       "      <td>SESSIONS</td>\n",
       "      <td>Mr. President, as the year ends, we face the s...</td>\n",
       "      <td>TRIBUTES TO DEPARTING SENATORS</td>\n",
       "      <td>http://www.congress.gov/congressional-record/2...</td>\n",
       "    </tr>\n",
       "    <tr>\n",
       "      <th>...</th>\n",
       "      <td>...</td>\n",
       "      <td>...</td>\n",
       "      <td>...</td>\n",
       "      <td>...</td>\n",
       "      <td>...</td>\n",
       "      <td>...</td>\n",
       "    </tr>\n",
       "    <tr>\n",
       "      <th>16556</th>\n",
       "      <td>2014-12-16</td>\n",
       "      <td>113</td>\n",
       "      <td>PRESIDING</td>\n",
       "      <td>OFFICER. The Chair announces, on behalf of the...</td>\n",
       "      <td>APPOINTMENTS</td>\n",
       "      <td>http://www.congress.gov/congressional-record/2...</td>\n",
       "    </tr>\n",
       "    <tr>\n",
       "      <th>16557</th>\n",
       "      <td>2014-12-16</td>\n",
       "      <td>113</td>\n",
       "      <td>PRESIDING</td>\n",
       "      <td>OFFICER. Without objection, it is so ordered.</td>\n",
       "      <td>APPOINTMENTS AUTHORITY</td>\n",
       "      <td>http://www.congress.gov/congressional-record/2...</td>\n",
       "    </tr>\n",
       "    <tr>\n",
       "      <th>16558</th>\n",
       "      <td>2014-12-16</td>\n",
       "      <td>113</td>\n",
       "      <td>PRYOR</td>\n",
       "      <td>Mr. President, I ask unanimous consent that no...</td>\n",
       "      <td>APPOINTMENTS AUTHORITY</td>\n",
       "      <td>http://www.congress.gov/congressional-record/2...</td>\n",
       "    </tr>\n",
       "    <tr>\n",
       "      <th>16559</th>\n",
       "      <td>2014-12-16</td>\n",
       "      <td>113</td>\n",
       "      <td>PRESIDING</td>\n",
       "      <td>OFFICER. Without objection, it is so ordered.</td>\n",
       "      <td>SIGNING AUTHORITY</td>\n",
       "      <td>http://www.congress.gov/congressional-record/2...</td>\n",
       "    </tr>\n",
       "    <tr>\n",
       "      <th>16560</th>\n",
       "      <td>2014-12-16</td>\n",
       "      <td>113</td>\n",
       "      <td>PRYOR</td>\n",
       "      <td>I ask unanimous consent that during the adjour...</td>\n",
       "      <td>SIGNING AUTHORITY</td>\n",
       "      <td>http://www.congress.gov/congressional-record/2...</td>\n",
       "    </tr>\n",
       "    <tr>\n",
       "      <th>16561</th>\n",
       "      <td>2014-12-16</td>\n",
       "      <td>113</td>\n",
       "      <td>PRESIDING</td>\n",
       "      <td>OFFICER. Without objection, it is so ordered.</td>\n",
       "      <td>ORDERS FOR TUESDAY, JANUARY</td>\n",
       "      <td>http://www.congress.gov/congressional-record/2...</td>\n",
       "    </tr>\n",
       "    <tr>\n",
       "      <th>16562</th>\n",
       "      <td>2014-12-16</td>\n",
       "      <td>113</td>\n",
       "      <td>PRYOR</td>\n",
       "      <td>Mr. President, I ask unanimous consent that wh...</td>\n",
       "      <td>ORDERS FOR TUESDAY, JANUARY</td>\n",
       "      <td>http://www.congress.gov/congressional-record/2...</td>\n",
       "    </tr>\n",
       "    <tr>\n",
       "      <th>16563</th>\n",
       "      <td>2014-12-16</td>\n",
       "      <td>113</td>\n",
       "      <td>PRESIDING</td>\n",
       "      <td>OFFICER. The Chair will exercise its prerogati...</td>\n",
       "      <td>ADJOURNMENT SINE DIE</td>\n",
       "      <td>http://www.congress.gov/congressional-record/2...</td>\n",
       "    </tr>\n",
       "    <tr>\n",
       "      <th>16564</th>\n",
       "      <td>2014-12-16</td>\n",
       "      <td>113</td>\n",
       "      <td>PRYOR</td>\n",
       "      <td>Mr. President, if there is no further business...</td>\n",
       "      <td>ADJOURNMENT SINE DIE</td>\n",
       "      <td>http://www.congress.gov/congressional-record/2...</td>\n",
       "    </tr>\n",
       "    <tr>\n",
       "      <th>16565</th>\n",
       "      <td>2015-09-24</td>\n",
       "      <td>113</td>\n",
       "      <td>HELLER</td>\n",
       "      <td>Mr. President, today I wish to congratulate CW...</td>\n",
       "      <td>CONGRATULATING CHIEF WARRANT OFFICER ROGER CAPPS</td>\n",
       "      <td>http://www.congress.gov/congressional-record/2...</td>\n",
       "    </tr>\n",
       "    <tr>\n",
       "      <th>16566</th>\n",
       "      <td>2015-09-24</td>\n",
       "      <td>113</td>\n",
       "      <td>McCAIN</td>\n",
       "      <td>Mr. President, I want to acknowledge and comme...</td>\n",
       "      <td>RECOGNIZING ARIZONA STATE UNIVERSITY ON THE ES...</td>\n",
       "      <td>http://www.congress.gov/congressional-record/2...</td>\n",
       "    </tr>\n",
       "    <tr>\n",
       "      <th>16567</th>\n",
       "      <td>2015-01-02</td>\n",
       "      <td>113</td>\n",
       "      <td>HIRONO</td>\n",
       "      <td>Mr. President, I wish to recognize the many ac...</td>\n",
       "      <td>I</td>\n",
       "      <td>http://www.congress.gov/congressional-record/2...</td>\n",
       "    </tr>\n",
       "    <tr>\n",
       "      <th>16568</th>\n",
       "      <td>2015-09-24</td>\n",
       "      <td>113</td>\n",
       "      <td>CORKER</td>\n",
       "      <td>from the Committee on Foreign Relations,      ...</td>\n",
       "      <td>REPORTS OF COMMITTEES</td>\n",
       "      <td>http://www.congress.gov/congressional-record/2...</td>\n",
       "    </tr>\n",
       "    <tr>\n",
       "      <th>16569</th>\n",
       "      <td>2015-09-24</td>\n",
       "      <td>113</td>\n",
       "      <td>PETERS</td>\n",
       "      <td>(for himself and Ms. Stabenow):       S. 2080....</td>\n",
       "      <td>INTRODUCTION OF BILLS AND JOINT RESOLUTIONS</td>\n",
       "      <td>http://www.congress.gov/congressional-record/2...</td>\n",
       "    </tr>\n",
       "    <tr>\n",
       "      <th>16570</th>\n",
       "      <td>2015-09-24</td>\n",
       "      <td>113</td>\n",
       "      <td>WHITEHOUSE</td>\n",
       "      <td>(for himself and Mr. Reed):       S. 2073. A b...</td>\n",
       "      <td>INTRODUCTION OF BILLS AND JOINT RESOLUTIONS</td>\n",
       "      <td>http://www.congress.gov/congressional-record/2...</td>\n",
       "    </tr>\n",
       "    <tr>\n",
       "      <th>16571</th>\n",
       "      <td>2015-09-24</td>\n",
       "      <td>113</td>\n",
       "      <td>MURPHY</td>\n",
       "      <td>(for himself and Ms. Collins):       S. 2076. ...</td>\n",
       "      <td>INTRODUCTION OF BILLS AND JOINT RESOLUTIONS</td>\n",
       "      <td>http://www.congress.gov/congressional-record/2...</td>\n",
       "    </tr>\n",
       "    <tr>\n",
       "      <th>16572</th>\n",
       "      <td>2015-09-24</td>\n",
       "      <td>113</td>\n",
       "      <td>TOOMEY</td>\n",
       "      <td>S. 2077. A bill to amend the Fair Credit...</td>\n",
       "      <td>INTRODUCTION OF BILLS AND JOINT RESOLUTIONS</td>\n",
       "      <td>http://www.congress.gov/congressional-record/2...</td>\n",
       "    </tr>\n",
       "    <tr>\n",
       "      <th>16573</th>\n",
       "      <td>2015-09-24</td>\n",
       "      <td>113</td>\n",
       "      <td>HEITKAMP</td>\n",
       "      <td>(for herself, Mr. Manchin, and Mrs.           ...</td>\n",
       "      <td>INTRODUCTION OF BILLS AND JOINT RESOLUTIONS</td>\n",
       "      <td>http://www.congress.gov/congressional-record/2...</td>\n",
       "    </tr>\n",
       "    <tr>\n",
       "      <th>16574</th>\n",
       "      <td>2015-09-24</td>\n",
       "      <td>113</td>\n",
       "      <td>CRAPO</td>\n",
       "      <td>(for himself, Mr. Alexander, Mr.              ...</td>\n",
       "      <td>INTRODUCTION OF BILLS AND JOINT RESOLUTIONS</td>\n",
       "      <td>http://www.congress.gov/congressional-record/2...</td>\n",
       "    </tr>\n",
       "    <tr>\n",
       "      <th>16575</th>\n",
       "      <td>2015-09-24</td>\n",
       "      <td>113</td>\n",
       "      <td>BROWN</td>\n",
       "      <td>(for himself, Mr. Leahy, Ms. Hirono, Mrs.     ...</td>\n",
       "      <td>INTRODUCTION OF BILLS AND JOINT RESOLUTIONS</td>\n",
       "      <td>http://www.congress.gov/congressional-record/2...</td>\n",
       "    </tr>\n",
       "    <tr>\n",
       "      <th>16576</th>\n",
       "      <td>2015-09-24</td>\n",
       "      <td>113</td>\n",
       "      <td>CORKER</td>\n",
       "      <td>(for himself, Mr. Cardin, Mr. Rubio, and      ...</td>\n",
       "      <td>INTRODUCTION OF BILLS AND JOINT RESOLUTIONS</td>\n",
       "      <td>http://www.congress.gov/congressional-record/2...</td>\n",
       "    </tr>\n",
       "    <tr>\n",
       "      <th>16577</th>\n",
       "      <td>2015-09-24</td>\n",
       "      <td>113</td>\n",
       "      <td>HATCH</td>\n",
       "      <td>(for himself and Mrs. McCaskill):       S. 207...</td>\n",
       "      <td>INTRODUCTION OF BILLS AND JOINT RESOLUTIONS</td>\n",
       "      <td>http://www.congress.gov/congressional-record/2...</td>\n",
       "    </tr>\n",
       "    <tr>\n",
       "      <th>16578</th>\n",
       "      <td>2015-09-24</td>\n",
       "      <td>113</td>\n",
       "      <td>BALDWIN</td>\n",
       "      <td>(for herself, Mr. Portman, Mr. Casey,         ...</td>\n",
       "      <td>SUBMISSION OF CONCURRENT AND SENATE RESOLUTIONS</td>\n",
       "      <td>http://www.congress.gov/congressional-record/2...</td>\n",
       "    </tr>\n",
       "    <tr>\n",
       "      <th>16579</th>\n",
       "      <td>2015-09-24</td>\n",
       "      <td>113</td>\n",
       "      <td>SHAHEEN</td>\n",
       "      <td>(for herself, Mrs. Feinstein, Mr.             ...</td>\n",
       "      <td>SUBMISSION OF CONCURRENT AND SENATE RESOLUTIONS</td>\n",
       "      <td>http://www.congress.gov/congressional-record/2...</td>\n",
       "    </tr>\n",
       "    <tr>\n",
       "      <th>16580</th>\n",
       "      <td>2015-09-24</td>\n",
       "      <td>113</td>\n",
       "      <td>WHITEHOUSE</td>\n",
       "      <td>(for himself, Mr. Reed, Mrs. Boxer,           ...</td>\n",
       "      <td>SUBMISSION OF CONCURRENT AND SENATE RESOLUTIONS</td>\n",
       "      <td>http://www.congress.gov/congressional-record/2...</td>\n",
       "    </tr>\n",
       "    <tr>\n",
       "      <th>16581</th>\n",
       "      <td>2015-09-24</td>\n",
       "      <td>113</td>\n",
       "      <td>COONS</td>\n",
       "      <td>(for himself, Mr. Kirk, Ms. Klobuchar, and    ...</td>\n",
       "      <td>SUBMISSION OF CONCURRENT AND SENATE RESOLUTIONS</td>\n",
       "      <td>http://www.congress.gov/congressional-record/2...</td>\n",
       "    </tr>\n",
       "    <tr>\n",
       "      <th>16582</th>\n",
       "      <td>2015-01-02</td>\n",
       "      <td>113</td>\n",
       "      <td>HELLER</td>\n",
       "      <td>Mr. President, today I wish to recognize the 2...</td>\n",
       "      <td>RECOGNIZING CARE CHEST OF SIERRA NEVADA</td>\n",
       "      <td>http://www.congress.gov/congressional-record/2...</td>\n",
       "    </tr>\n",
       "    <tr>\n",
       "      <th>16583</th>\n",
       "      <td>2015-01-02</td>\n",
       "      <td>113</td>\n",
       "      <td>HELLER</td>\n",
       "      <td>Mr. President, I wish to recognize and congrat...</td>\n",
       "      <td>RECOGNIZING THE WELLS FUTURE FARMERS OF AMERICA</td>\n",
       "      <td>http://www.congress.gov/congressional-record/2...</td>\n",
       "    </tr>\n",
       "    <tr>\n",
       "      <th>16584</th>\n",
       "      <td>2015-09-24</td>\n",
       "      <td>113</td>\n",
       "      <td>BALDWIN</td>\n",
       "      <td>(for herself, Mr. Portman, Mr. Casey, Ms. Coll...</td>\n",
       "      <td>SUBMITTED RESOLUTIONS SENATE RESOLUTION 267EXP...</td>\n",
       "      <td>http://www.congress.gov/congressional-record/2...</td>\n",
       "    </tr>\n",
       "    <tr>\n",
       "      <th>16585</th>\n",
       "      <td>2015-09-24</td>\n",
       "      <td>113</td>\n",
       "      <td>SHAHEEN</td>\n",
       "      <td>(for herself, Mrs. Feinstein, Mr. Blumenthal, ...</td>\n",
       "      <td>SENATE RESOLUTION 268EXPRESSING THE SENSE OF T...</td>\n",
       "      <td>http://www.congress.gov/congressional-record/2...</td>\n",
       "    </tr>\n",
       "  </tbody>\n",
       "</table>\n",
       "<p>16586 rows × 6 columns</p>\n",
       "</div>"
      ],
      "text/plain": [
       "             date session     speaker  \\\n",
       "0      2013-01-03     113        VICE   \n",
       "1      2013-01-03     113        VICE   \n",
       "2      2013-01-03     113        VICE   \n",
       "3      2013-01-03     113        REID   \n",
       "4      2013-01-03     113        VICE   \n",
       "5      2013-01-03     113   McCONNELL   \n",
       "6      2013-01-03     113   PRESIDENT   \n",
       "7      2013-01-03     113        REID   \n",
       "8      2013-01-03     113   McCONNELL   \n",
       "9      2013-01-03     113   PRESIDENT   \n",
       "10     2013-01-03     113        REID   \n",
       "11     2013-01-03     113   McCONNELL   \n",
       "12     2013-01-03     113   PRESIDENT   \n",
       "13     2013-01-03     113        REID   \n",
       "14     2013-01-03     113   PRESIDING   \n",
       "15     2013-01-03     113   PRESIDENT   \n",
       "16     2013-01-03     113   McCONNELL   \n",
       "17     2013-01-03     113        REID   \n",
       "18     2013-01-03     113   PRESIDING   \n",
       "19     2013-01-03     113        REID   \n",
       "20     2013-01-03     113   PRESIDING   \n",
       "21     2013-01-03     113        REID   \n",
       "22     2013-01-03     113   McCONNELL   \n",
       "23     2013-01-03     113        REID   \n",
       "24     2013-01-03     113   PRESIDING   \n",
       "25     2013-01-03     113   PRESIDING   \n",
       "26     2013-01-03     113     MERKLEY   \n",
       "27     2013-01-03     113   PRESIDING   \n",
       "28     2013-01-03     113   ALEXANDER   \n",
       "29     2013-01-03     113    SESSIONS   \n",
       "...           ...     ...         ...   \n",
       "16556  2014-12-16     113   PRESIDING   \n",
       "16557  2014-12-16     113   PRESIDING   \n",
       "16558  2014-12-16     113       PRYOR   \n",
       "16559  2014-12-16     113   PRESIDING   \n",
       "16560  2014-12-16     113       PRYOR   \n",
       "16561  2014-12-16     113   PRESIDING   \n",
       "16562  2014-12-16     113       PRYOR   \n",
       "16563  2014-12-16     113   PRESIDING   \n",
       "16564  2014-12-16     113       PRYOR   \n",
       "16565  2015-09-24     113      HELLER   \n",
       "16566  2015-09-24     113      McCAIN   \n",
       "16567  2015-01-02     113      HIRONO   \n",
       "16568  2015-09-24     113      CORKER   \n",
       "16569  2015-09-24     113      PETERS   \n",
       "16570  2015-09-24     113  WHITEHOUSE   \n",
       "16571  2015-09-24     113      MURPHY   \n",
       "16572  2015-09-24     113      TOOMEY   \n",
       "16573  2015-09-24     113    HEITKAMP   \n",
       "16574  2015-09-24     113       CRAPO   \n",
       "16575  2015-09-24     113       BROWN   \n",
       "16576  2015-09-24     113      CORKER   \n",
       "16577  2015-09-24     113       HATCH   \n",
       "16578  2015-09-24     113     BALDWIN   \n",
       "16579  2015-09-24     113     SHAHEEN   \n",
       "16580  2015-09-24     113  WHITEHOUSE   \n",
       "16581  2015-09-24     113       COONS   \n",
       "16582  2015-01-02     113      HELLER   \n",
       "16583  2015-01-02     113      HELLER   \n",
       "16584  2015-09-24     113     BALDWIN   \n",
       "16585  2015-09-24     113     SHAHEEN   \n",
       "\n",
       "                                                  speech  \\\n",
       "0      PRESIDENT. The Chaplain will lead the Senate i...   \n",
       "1      PRESIDENT led the pledge of allegiance, as fol...   \n",
       "2          PRESIDENT. The majority leader is recognized.   \n",
       "3      Mr. President, I have a number of housekeeping...   \n",
       "4      PRESIDENT. The clerk will report the resolutio...   \n",
       "5      Mr. President, I move to lay that motion on th...   \n",
       "6      pro tempore. Pursuant to S. Res. 1, the Chair ...   \n",
       "7      Mr. President, I move to reconsider the vote b...   \n",
       "8      I move to lay that motion on the table.  The m...   \n",
       "9      pro tempore. Without objection, the resolution...   \n",
       "10     Mr. President, I move to reconsider the vote b...   \n",
       "11     Mr. President, I move to lay that motion on th...   \n",
       "12     pro tempore. Without objection, the concurrent...   \n",
       "13     Mr. President, I move to reconsider the vote b...   \n",
       "14     OFFICER (Mrs. Hagan). Without objection, the r...   \n",
       "15     pro tempore. The clerk will report the resolut...   \n",
       "16     I move to lay that motion on the table.  The m...   \n",
       "17     Madam President, I move to reconsider the vote...   \n",
       "18     OFFICER. Is there objection to agreeing to the...   \n",
       "19     Madam President, I send to the desk, en bloc, ...   \n",
       "20         OFFICER. Without objection, it is so ordered.   \n",
       "21     Madam President, I ask unanimous consent that ...   \n",
       "22     I move to lay that motion on the table.  The m...   \n",
       "23     Madam President, thank you very much for your ...   \n",
       "24         OFFICER. The Republican leader is recognized.   \n",
       "25     OFFICER. Under the previous order, leadership ...   \n",
       "26     Madam President, I look forward to the dialogu...   \n",
       "27     OFFICER. Objection having been heard, the reso...   \n",
       "28     Madam President, for the reasons I have stated...   \n",
       "29     Mr. President, as the year ends, we face the s...   \n",
       "...                                                  ...   \n",
       "16556  OFFICER. The Chair announces, on behalf of the...   \n",
       "16557      OFFICER. Without objection, it is so ordered.   \n",
       "16558  Mr. President, I ask unanimous consent that no...   \n",
       "16559      OFFICER. Without objection, it is so ordered.   \n",
       "16560  I ask unanimous consent that during the adjour...   \n",
       "16561      OFFICER. Without objection, it is so ordered.   \n",
       "16562  Mr. President, I ask unanimous consent that wh...   \n",
       "16563  OFFICER. The Chair will exercise its prerogati...   \n",
       "16564  Mr. President, if there is no further business...   \n",
       "16565  Mr. President, today I wish to congratulate CW...   \n",
       "16566  Mr. President, I want to acknowledge and comme...   \n",
       "16567  Mr. President, I wish to recognize the many ac...   \n",
       "16568  from the Committee on Foreign Relations,      ...   \n",
       "16569  (for himself and Ms. Stabenow):       S. 2080....   \n",
       "16570  (for himself and Mr. Reed):       S. 2073. A b...   \n",
       "16571  (for himself and Ms. Collins):       S. 2076. ...   \n",
       "16572        S. 2077. A bill to amend the Fair Credit...   \n",
       "16573  (for herself, Mr. Manchin, and Mrs.           ...   \n",
       "16574  (for himself, Mr. Alexander, Mr.              ...   \n",
       "16575  (for himself, Mr. Leahy, Ms. Hirono, Mrs.     ...   \n",
       "16576  (for himself, Mr. Cardin, Mr. Rubio, and      ...   \n",
       "16577  (for himself and Mrs. McCaskill):       S. 207...   \n",
       "16578  (for herself, Mr. Portman, Mr. Casey,         ...   \n",
       "16579  (for herself, Mrs. Feinstein, Mr.             ...   \n",
       "16580  (for himself, Mr. Reed, Mrs. Boxer,           ...   \n",
       "16581  (for himself, Mr. Kirk, Ms. Klobuchar, and    ...   \n",
       "16582  Mr. President, today I wish to recognize the 2...   \n",
       "16583  Mr. President, I wish to recognize and congrat...   \n",
       "16584  (for herself, Mr. Portman, Mr. Casey, Ms. Coll...   \n",
       "16585  (for herself, Mrs. Feinstein, Mr. Blumenthal, ...   \n",
       "\n",
       "                                                   title  \\\n",
       "0                                                          \n",
       "1                                   PLEDGE OF ALLEGIANCE   \n",
       "2                     RECOGNITION OF THE MAJORITY LEADER   \n",
       "3                                      ORDER OF BUSINESS   \n",
       "4      INFORMING THE PRESIDENT OF THE UNITED STATES T...   \n",
       "5      INFORMING THE PRESIDENT OF THE UNITED STATES T...   \n",
       "6      INFORMING THE PRESIDENT OF THE UNITED STATES T...   \n",
       "7      INFORMING THE PRESIDENT OF THE UNITED STATES T...   \n",
       "8      INFORMING THE HOUSE OF REPRESENTATIVES THAT A ...   \n",
       "9      INFORMING THE HOUSE OF REPRESENTATIVES THAT A ...   \n",
       "10     INFORMING THE HOUSE OF REPRESENTATIVES THAT A ...   \n",
       "11     EXTENDING THE LIFE OF THE JOINT CONGRESSIONAL ...   \n",
       "12     EXTENDING THE LIFE OF THE JOINT CONGRESSIONAL ...   \n",
       "13     EXTENDING THE LIFE OF THE JOINT CONGRESSIONAL ...   \n",
       "14        FIXING THE HOUR OF DAILY MEETING OF THE SENATE   \n",
       "15        FIXING THE HOUR OF DAILY MEETING OF THE SENATE   \n",
       "16        FIXING THE HOUR OF DAILY MEETING OF THE SENATE   \n",
       "17        FIXING THE HOUR OF DAILY MEETING OF THE SENATE   \n",
       "18                            UNANIMOUS CONSENT REQUESTS   \n",
       "19                            UNANIMOUS CONSENT REQUESTS   \n",
       "20           INTRODUCTION OF BILLS AND JOINT RESOLUTIONS   \n",
       "21           INTRODUCTION OF BILLS AND JOINT RESOLUTIONS   \n",
       "22                                                         \n",
       "23                                                         \n",
       "24                    RECOGNITION OF THE MINORITY LEADER   \n",
       "25                            RESERVATION OF LEADER TIME   \n",
       "26                                                     I   \n",
       "27                                                     I   \n",
       "28                                                     I   \n",
       "29                        TRIBUTES TO DEPARTING SENATORS   \n",
       "...                                                  ...   \n",
       "16556                                       APPOINTMENTS   \n",
       "16557                             APPOINTMENTS AUTHORITY   \n",
       "16558                             APPOINTMENTS AUTHORITY   \n",
       "16559                                  SIGNING AUTHORITY   \n",
       "16560                                  SIGNING AUTHORITY   \n",
       "16561                        ORDERS FOR TUESDAY, JANUARY   \n",
       "16562                        ORDERS FOR TUESDAY, JANUARY   \n",
       "16563                               ADJOURNMENT SINE DIE   \n",
       "16564                               ADJOURNMENT SINE DIE   \n",
       "16565   CONGRATULATING CHIEF WARRANT OFFICER ROGER CAPPS   \n",
       "16566  RECOGNIZING ARIZONA STATE UNIVERSITY ON THE ES...   \n",
       "16567                                                  I   \n",
       "16568                              REPORTS OF COMMITTEES   \n",
       "16569        INTRODUCTION OF BILLS AND JOINT RESOLUTIONS   \n",
       "16570        INTRODUCTION OF BILLS AND JOINT RESOLUTIONS   \n",
       "16571        INTRODUCTION OF BILLS AND JOINT RESOLUTIONS   \n",
       "16572        INTRODUCTION OF BILLS AND JOINT RESOLUTIONS   \n",
       "16573        INTRODUCTION OF BILLS AND JOINT RESOLUTIONS   \n",
       "16574        INTRODUCTION OF BILLS AND JOINT RESOLUTIONS   \n",
       "16575        INTRODUCTION OF BILLS AND JOINT RESOLUTIONS   \n",
       "16576        INTRODUCTION OF BILLS AND JOINT RESOLUTIONS   \n",
       "16577        INTRODUCTION OF BILLS AND JOINT RESOLUTIONS   \n",
       "16578    SUBMISSION OF CONCURRENT AND SENATE RESOLUTIONS   \n",
       "16579    SUBMISSION OF CONCURRENT AND SENATE RESOLUTIONS   \n",
       "16580    SUBMISSION OF CONCURRENT AND SENATE RESOLUTIONS   \n",
       "16581    SUBMISSION OF CONCURRENT AND SENATE RESOLUTIONS   \n",
       "16582            RECOGNIZING CARE CHEST OF SIERRA NEVADA   \n",
       "16583    RECOGNIZING THE WELLS FUTURE FARMERS OF AMERICA   \n",
       "16584  SUBMITTED RESOLUTIONS SENATE RESOLUTION 267EXP...   \n",
       "16585  SENATE RESOLUTION 268EXPRESSING THE SENSE OF T...   \n",
       "\n",
       "                                                     url  \n",
       "0      http://www.congress.gov/congressional-record/2...  \n",
       "1      http://www.congress.gov/congressional-record/2...  \n",
       "2      http://www.congress.gov/congressional-record/2...  \n",
       "3      http://www.congress.gov/congressional-record/2...  \n",
       "4      http://www.congress.gov/congressional-record/2...  \n",
       "5      http://www.congress.gov/congressional-record/2...  \n",
       "6      http://www.congress.gov/congressional-record/2...  \n",
       "7      http://www.congress.gov/congressional-record/2...  \n",
       "8      http://www.congress.gov/congressional-record/2...  \n",
       "9      http://www.congress.gov/congressional-record/2...  \n",
       "10     http://www.congress.gov/congressional-record/2...  \n",
       "11     http://www.congress.gov/congressional-record/2...  \n",
       "12     http://www.congress.gov/congressional-record/2...  \n",
       "13     http://www.congress.gov/congressional-record/2...  \n",
       "14     http://www.congress.gov/congressional-record/2...  \n",
       "15     http://www.congress.gov/congressional-record/2...  \n",
       "16     http://www.congress.gov/congressional-record/2...  \n",
       "17     http://www.congress.gov/congressional-record/2...  \n",
       "18     http://www.congress.gov/congressional-record/2...  \n",
       "19     http://www.congress.gov/congressional-record/2...  \n",
       "20     http://www.congress.gov/congressional-record/2...  \n",
       "21     http://www.congress.gov/congressional-record/2...  \n",
       "22     http://www.congress.gov/congressional-record/2...  \n",
       "23     http://www.congress.gov/congressional-record/2...  \n",
       "24     http://www.congress.gov/congressional-record/2...  \n",
       "25     http://www.congress.gov/congressional-record/2...  \n",
       "26     http://www.congress.gov/congressional-record/2...  \n",
       "27     http://www.congress.gov/congressional-record/2...  \n",
       "28     http://www.congress.gov/congressional-record/2...  \n",
       "29     http://www.congress.gov/congressional-record/2...  \n",
       "...                                                  ...  \n",
       "16556  http://www.congress.gov/congressional-record/2...  \n",
       "16557  http://www.congress.gov/congressional-record/2...  \n",
       "16558  http://www.congress.gov/congressional-record/2...  \n",
       "16559  http://www.congress.gov/congressional-record/2...  \n",
       "16560  http://www.congress.gov/congressional-record/2...  \n",
       "16561  http://www.congress.gov/congressional-record/2...  \n",
       "16562  http://www.congress.gov/congressional-record/2...  \n",
       "16563  http://www.congress.gov/congressional-record/2...  \n",
       "16564  http://www.congress.gov/congressional-record/2...  \n",
       "16565  http://www.congress.gov/congressional-record/2...  \n",
       "16566  http://www.congress.gov/congressional-record/2...  \n",
       "16567  http://www.congress.gov/congressional-record/2...  \n",
       "16568  http://www.congress.gov/congressional-record/2...  \n",
       "16569  http://www.congress.gov/congressional-record/2...  \n",
       "16570  http://www.congress.gov/congressional-record/2...  \n",
       "16571  http://www.congress.gov/congressional-record/2...  \n",
       "16572  http://www.congress.gov/congressional-record/2...  \n",
       "16573  http://www.congress.gov/congressional-record/2...  \n",
       "16574  http://www.congress.gov/congressional-record/2...  \n",
       "16575  http://www.congress.gov/congressional-record/2...  \n",
       "16576  http://www.congress.gov/congressional-record/2...  \n",
       "16577  http://www.congress.gov/congressional-record/2...  \n",
       "16578  http://www.congress.gov/congressional-record/2...  \n",
       "16579  http://www.congress.gov/congressional-record/2...  \n",
       "16580  http://www.congress.gov/congressional-record/2...  \n",
       "16581  http://www.congress.gov/congressional-record/2...  \n",
       "16582  http://www.congress.gov/congressional-record/2...  \n",
       "16583  http://www.congress.gov/congressional-record/2...  \n",
       "16584  http://www.congress.gov/congressional-record/2...  \n",
       "16585  http://www.congress.gov/congressional-record/2...  \n",
       "\n",
       "[16586 rows x 6 columns]"
      ]
     },
     "execution_count": 7,
     "metadata": {},
     "output_type": "execute_result"
    }
   ],
   "source": [
    "df"
   ]
  },
  {
   "cell_type": "code",
   "execution_count": 46,
   "metadata": {
    "collapsed": true
   },
   "outputs": [],
   "source": [
    "unique_titles= df.title.unique()"
   ]
  },
  {
   "cell_type": "code",
   "execution_count": 47,
   "metadata": {
    "collapsed": false
   },
   "outputs": [
    {
     "data": {
      "text/plain": [
       "3539"
      ]
     },
     "execution_count": 47,
     "metadata": {},
     "output_type": "execute_result"
    }
   ],
   "source": [
    "len(unique_titles)"
   ]
  },
  {
   "cell_type": "markdown",
   "metadata": {},
   "source": [
    "http://brandonrose.org/clustering"
   ]
  },
  {
   "cell_type": "code",
   "execution_count": 26,
   "metadata": {
    "collapsed": true
   },
   "outputs": [],
   "source": [
    "import numpy as np\n",
    "import pandas as pd\n",
    "import nltk\n",
    "import re\n",
    "import os\n",
    "import codecs\n",
    "from sklearn import feature_extraction\n",
    "import mpld3"
   ]
  },
  {
   "cell_type": "code",
   "execution_count": 27,
   "metadata": {
    "collapsed": false
   },
   "outputs": [],
   "source": [
    "titles = df.title\n",
    "speeches = df.speech\n",
    "speakers = df.speaker"
   ]
  },
  {
   "cell_type": "code",
   "execution_count": 55,
   "metadata": {
    "collapsed": true
   },
   "outputs": [],
   "source": [
    "stopwords = nltk.corpus.stopwords.words('english')"
   ]
  },
  {
   "cell_type": "code",
   "execution_count": 57,
   "metadata": {
    "collapsed": false
   },
   "outputs": [],
   "source": [
    "morewords = ['president', 'senate', 'mr', 'mrs', 'miss', 'congress']\n",
    "stopwords = stopwords+morewords"
   ]
  },
  {
   "cell_type": "code",
   "execution_count": 29,
   "metadata": {
    "collapsed": true
   },
   "outputs": [],
   "source": [
    "from nltk.stem.snowball import SnowballStemmer\n",
    "stemmer = SnowballStemmer(\"english\")"
   ]
  },
  {
   "cell_type": "code",
   "execution_count": 30,
   "metadata": {
    "collapsed": true
   },
   "outputs": [],
   "source": [
    "# here I define a tokenizer and stemmer which returns the set of stems in the text that it is passed\n",
    "\n",
    "def tokenize_and_stem(text):\n",
    "    # first tokenize by sentence, then by word to ensure that punctuation is caught as it's own token\n",
    "    tokens = [word for sent in nltk.sent_tokenize(text) for word in nltk.word_tokenize(sent)]\n",
    "    filtered_tokens = []\n",
    "    # filter out any tokens not containing letters (e.g., numeric tokens, raw punctuation)\n",
    "    for token in tokens:\n",
    "        if re.search('[a-zA-Z]', token):\n",
    "            filtered_tokens.append(token)\n",
    "    stems = [stemmer.stem(t) for t in filtered_tokens]\n",
    "    return stems\n",
    "\n",
    "\n",
    "def tokenize_only(text):\n",
    "    # first tokenize by sentence, then by word to ensure that punctuation is caught as it's own token\n",
    "    tokens = [word.lower() for sent in nltk.sent_tokenize(text) for word in nltk.word_tokenize(sent)]\n",
    "    filtered_tokens = []\n",
    "    # filter out any tokens not containing letters (e.g., numeric tokens, raw punctuation)\n",
    "    for token in tokens:\n",
    "        if re.search('[a-zA-Z]', token):\n",
    "            filtered_tokens.append(token)\n",
    "    return filtered_tokens"
   ]
  },
  {
   "cell_type": "code",
   "execution_count": 31,
   "metadata": {
    "collapsed": false
   },
   "outputs": [],
   "source": [
    "\n",
    "#not super pythonic, no, not at all.\n",
    "#use extend so it's a big flat list of vocab\n",
    "totalvocab_stemmed = []\n",
    "totalvocab_tokenized = []\n",
    "for i in speeches:\n",
    "    allwords_stemmed = tokenize_and_stem(i) #for each item in 'synopses', tokenize/stem\n",
    "    totalvocab_stemmed.extend(allwords_stemmed) #extend the 'totalvocab_stemmed' list\n",
    "    \n",
    "    allwords_tokenized = tokenize_only(i)\n",
    "    totalvocab_tokenized.extend(allwords_tokenized)"
   ]
  },
  {
   "cell_type": "code",
   "execution_count": 32,
   "metadata": {
    "collapsed": false
   },
   "outputs": [
    {
     "name": "stdout",
     "output_type": "stream",
     "text": [
      "there are 1460159 items in vocab_frame\n"
     ]
    }
   ],
   "source": [
    "vocab_frame = pd.DataFrame({'words': totalvocab_tokenized}, index = totalvocab_stemmed)\n",
    "print ('there are ' + str(vocab_frame.shape[0]) + ' items in vocab_frame')"
   ]
  },
  {
   "cell_type": "code",
   "execution_count": 78,
   "metadata": {
    "collapsed": false
   },
   "outputs": [
    {
     "name": "stdout",
     "output_type": "stream",
     "text": [
      "              words\n",
      "presid    president\n",
      "the             the\n",
      "chaplain   chaplain\n",
      "will           will\n",
      "lead           lead\n"
     ]
    }
   ],
   "source": [
    "print(vocab_frame.head())"
   ]
  },
  {
   "cell_type": "code",
   "execution_count": 69,
   "metadata": {
    "collapsed": false
   },
   "outputs": [
    {
     "name": "stdout",
     "output_type": "stream",
     "text": [
      "CPU times: user 54.6 s, sys: 694 ms, total: 55.3 s\n",
      "Wall time: 56.9 s\n",
      "(11565, 13)\n"
     ]
    }
   ],
   "source": [
    "from sklearn.feature_extraction.text import TfidfVectorizer\n",
    "\n",
    "#define vectorizer parameters\n",
    "tfidf_vectorizer = TfidfVectorizer(max_df=0.8, max_features=200000,\n",
    "                                 min_df=0.2, stop_words=stopwords,\n",
    "                                 use_idf=True, tokenizer=tokenize_and_stem, ngram_range=(1,3))\n",
    "\n",
    "%time tfidf_matrix = tfidf_vectorizer.fit_transform(speeches) #fit the vectorizer to synopses\n",
    "\n",
    "print(tfidf_matrix.shape)"
   ]
  },
  {
   "cell_type": "code",
   "execution_count": 70,
   "metadata": {
    "collapsed": true
   },
   "outputs": [],
   "source": [
    "terms = tfidf_vectorizer.get_feature_names()"
   ]
  },
  {
   "cell_type": "code",
   "execution_count": 71,
   "metadata": {
    "collapsed": true
   },
   "outputs": [],
   "source": [
    "from sklearn.metrics.pairwise import cosine_similarity\n",
    "dist = 1 - cosine_similarity(tfidf_matrix)"
   ]
  },
  {
   "cell_type": "code",
   "execution_count": 72,
   "metadata": {
    "collapsed": false
   },
   "outputs": [
    {
     "name": "stdout",
     "output_type": "stream",
     "text": [
      "CPU times: user 3.82 s, sys: 37.7 ms, total: 3.86 s\n",
      "Wall time: 3.98 s\n"
     ]
    }
   ],
   "source": [
    "from sklearn.cluster import KMeans\n",
    "\n",
    "num_clusters = 5\n",
    "\n",
    "km = KMeans(n_clusters=num_clusters)\n",
    "\n",
    "%time km.fit(tfidf_matrix)\n",
    "\n",
    "clusters = km.labels_.tolist()"
   ]
  },
  {
   "cell_type": "code",
   "execution_count": 73,
   "metadata": {
    "collapsed": true
   },
   "outputs": [],
   "source": [
    "from sklearn.externals import joblib\n",
    "\n",
    "#uncomment the below to save your model \n",
    "#since I've already run my model I am loading from the pickle\n",
    "\n",
    "joblib.dump(km,  'doc_cluster.pkl')\n",
    "\n",
    "km = joblib.load('doc_cluster.pkl')\n",
    "clusters = km.labels_.tolist()"
   ]
  },
  {
   "cell_type": "code",
   "execution_count": 74,
   "metadata": {
    "collapsed": false
   },
   "outputs": [
    {
     "data": {
      "text/plain": [
       "11565"
      ]
     },
     "execution_count": 74,
     "metadata": {},
     "output_type": "execute_result"
    }
   ],
   "source": [
    "len(clusters)"
   ]
  },
  {
   "cell_type": "code",
   "execution_count": 75,
   "metadata": {
    "collapsed": false
   },
   "outputs": [
    {
     "name": "stderr",
     "output_type": "stream",
     "text": [
      "//anaconda/lib/python3.5/site-packages/ipykernel/__main__.py:1: SettingWithCopyWarning: \n",
      "A value is trying to be set on a copy of a slice from a DataFrame.\n",
      "Try using .loc[row_indexer,col_indexer] = value instead\n",
      "\n",
      "See the caveats in the documentation: http://pandas.pydata.org/pandas-docs/stable/indexing.html#indexing-view-versus-copy\n",
      "  if __name__ == '__main__':\n"
     ]
    }
   ],
   "source": [
    "df['clusters']=clusters"
   ]
  },
  {
   "cell_type": "code",
   "execution_count": 76,
   "metadata": {
    "collapsed": false
   },
   "outputs": [
    {
     "data": {
      "text/plain": [
       "1    3854\n",
       "0    2644\n",
       "3    1950\n",
       "4    1560\n",
       "2    1557\n",
       "Name: clusters, dtype: int64"
      ]
     },
     "execution_count": 76,
     "metadata": {},
     "output_type": "execute_result"
    }
   ],
   "source": [
    "df['clusters'].value_counts()"
   ]
  },
  {
   "cell_type": "code",
   "execution_count": 77,
   "metadata": {
    "collapsed": false
   },
   "outputs": [
    {
     "name": "stdout",
     "output_type": "stream",
     "text": [
      "Top terms per cluster:\n",
      "\n",
      "Cluster 0 words: b'amendments', b'bills', b's.', b'committee', b'ordered', b'mr.',\n",
      "\n",
      "Cluster 1 words: b'senate', b'president', b'ask', b'mr.', b'mr.', b'committee',\n",
      "\n",
      "Cluster 2 words: b'officer', b'ordered', b'senate', b\"'s\", b's.', b'states',\n",
      "\n",
      "Cluster 3 words: b\"'s\", b'states', b'president', b'mr.', b'mr.', b'senate',\n",
      "\n",
      "Cluster 4 words: b'mr.', b's.', b'committee', b'bills', b'states', b'amendments',\n",
      "\n",
      "\n",
      "\n"
     ]
    }
   ],
   "source": [
    "from __future__ import print_function\n",
    "\n",
    "print(\"Top terms per cluster:\")\n",
    "print()\n",
    "#sort cluster centers by proximity to centroid\n",
    "order_centroids = km.cluster_centers_.argsort()[:, ::-1] \n",
    "\n",
    "for i in range(num_clusters):\n",
    "    print(\"Cluster %d words:\" % i, end='')\n",
    "    \n",
    "    for ind in order_centroids[i, :6]: #replace 6 with n words per cluster\n",
    "        print(' %s' % vocab_frame.ix[terms[ind].split(' ')].values.tolist()[0][0].encode('utf-8', 'ignore'), end=',')\n",
    "    print() #add whitespace\n",
    "    print() #add whitespace\n",
    "    \n",
    "#     print(\"Cluster %d titles:\" % i, end='')\n",
    "#     for title in df.ix[i]['title'].values.tolist():\n",
    "#         print(' %s,' % title, end='')\n",
    "#     print() #add whitespace\n",
    "#     print() #add whitespace\n",
    "    \n",
    "print()\n",
    "print()"
   ]
  },
  {
   "cell_type": "code",
   "execution_count": 63,
   "metadata": {
    "collapsed": true
   },
   "outputs": [],
   "source": [
    "from sklearn.cluster import DBSCAN\n",
    "dbscan = DBSCAN(random_state=111)\n"
   ]
  },
  {
   "cell_type": "code",
   "execution_count": 64,
   "metadata": {
    "collapsed": false
   },
   "outputs": [
    {
     "data": {
      "text/plain": [
       "DBSCAN(algorithm='auto', eps=0.5, leaf_size=30, metric='euclidean',\n",
       "    min_samples=5, p=None, random_state=111)"
      ]
     },
     "execution_count": 64,
     "metadata": {},
     "output_type": "execute_result"
    }
   ],
   "source": [
    "dbscan"
   ]
  },
  {
   "cell_type": "code",
   "execution_count": null,
   "metadata": {
    "collapsed": true
   },
   "outputs": [],
   "source": [
    "dbscan.fit()"
   ]
  },
  {
   "cell_type": "code",
   "execution_count": 65,
   "metadata": {
    "collapsed": true
   },
   "outputs": [],
   "source": [
    "byspeaker=df.groupby('speaker')"
   ]
  },
  {
   "cell_type": "code",
   "execution_count": 66,
   "metadata": {
    "collapsed": false
   },
   "outputs": [
    {
     "data": {
      "text/plain": [
       "<pandas.core.groupby.DataFrameGroupBy object at 0x1113b59b0>"
      ]
     },
     "execution_count": 66,
     "metadata": {},
     "output_type": "execute_result"
    }
   ],
   "source": [
    "byspeaker"
   ]
  },
  {
   "cell_type": "code",
   "execution_count": null,
   "metadata": {
    "collapsed": true
   },
   "outputs": [],
   "source": []
  }
 ],
 "metadata": {
  "kernelspec": {
   "display_name": "Python 3",
   "language": "python",
   "name": "python3"
  },
  "language_info": {
   "codemirror_mode": {
    "name": "ipython",
    "version": 3
   },
   "file_extension": ".py",
   "mimetype": "text/x-python",
   "name": "python",
   "nbconvert_exporter": "python",
   "pygments_lexer": "ipython3",
   "version": "3.5.1"
  }
 },
 "nbformat": 4,
 "nbformat_minor": 0
}
