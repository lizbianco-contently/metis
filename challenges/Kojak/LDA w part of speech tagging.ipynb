{
 "cells": [
  {
   "cell_type": "code",
   "execution_count": 33,
   "metadata": {
    "collapsed": true
   },
   "outputs": [],
   "source": [
    "import nltk\n",
    "import pandas as pd\n",
    "import json"
   ]
  },
  {
   "cell_type": "code",
   "execution_count": 34,
   "metadata": {
    "collapsed": true
   },
   "outputs": [],
   "source": [
    "def reading_in(file, listname):\n",
    "    with open(file) as json_data:\n",
    "            d = json.load(json_data)\n",
    "            for i in d:\n",
    "                listname.append(i)\n",
    "            json_data.close()"
   ]
  },
  {
   "cell_type": "code",
   "execution_count": 35,
   "metadata": {
    "collapsed": false
   },
   "outputs": [],
   "source": [
    "s114 = []\n",
    "s113 = []\n",
    "s112 =[]\n",
    "s111=[]\n",
    "s110=[]\n",
    "s109=[]\n",
    "speakerlists = [s114, s113, s112, s111, s110, s109]\n",
    "files = ['114.txt', '113.txt', '112.txt', '111.txt', '110.txt', '109.txt']\n"
   ]
  },
  {
   "cell_type": "code",
   "execution_count": 36,
   "metadata": {
    "collapsed": false
   },
   "outputs": [],
   "source": [
    "for i in zip(files, speakerlists):\n",
    "    reading_in(i[0], i[1])"
   ]
  },
  {
   "cell_type": "code",
   "execution_count": 37,
   "metadata": {
    "collapsed": false
   },
   "outputs": [],
   "source": [
    "data = []\n",
    "for i in s113:\n",
    "    data.append(i)"
   ]
  },
  {
   "cell_type": "code",
   "execution_count": 38,
   "metadata": {
    "collapsed": false
   },
   "outputs": [
    {
     "data": {
      "text/plain": [
       "4690"
      ]
     },
     "execution_count": 38,
     "metadata": {},
     "output_type": "execute_result"
    }
   ],
   "source": [
    "len(data)"
   ]
  },
  {
   "cell_type": "code",
   "execution_count": 39,
   "metadata": {
    "collapsed": true
   },
   "outputs": [],
   "source": [
    "df = pd.DataFrame(data)"
   ]
  },
  {
   "cell_type": "code",
   "execution_count": 40,
   "metadata": {
    "collapsed": false
   },
   "outputs": [],
   "source": [
    "speeches =[]\n",
    "for i in data:\n",
    "    speeches.append(i['text'])"
   ]
  },
  {
   "cell_type": "code",
   "execution_count": 41,
   "metadata": {
    "collapsed": false
   },
   "outputs": [
    {
     "data": {
      "text/plain": [
       "4690"
      ]
     },
     "execution_count": 41,
     "metadata": {},
     "output_type": "execute_result"
    }
   ],
   "source": [
    "len(speeches)"
   ]
  },
  {
   "cell_type": "code",
   "execution_count": 46,
   "metadata": {
    "collapsed": false
   },
   "outputs": [
    {
     "data": {
      "text/plain": [
       "\"WALSH (for himself and Mr. Tester) submitted an amendment intended to be proposed by him to the bill S. 2363, to protect and enhance opportunities for recreational hunting, fishing, and shooting, and for other purposes; which was ordered to lie on the table; as follows:       At the end of title II, add the following:     SEC. 2__. NORTH FORK WATERSHED PROTECTION.       (a) Definitions.--In this section:       (1) Eligible federal land.--The term ``eligible Federal      land'' means--       (A) any federally owned land or interest in land depicted      on the Map as within the North Fork Federal Lands Withdrawal      Area; or       (B) any land or interest in land located within the North      Fork Federal Lands Withdrawal Area that is acquired by the      Federal Government after the date of enactment of this Act.       (2) Map.--The term ``Map'' means the Bureau of Land      Management map entitled ``North Fork Federal Lands Withdrawal      Area'' and dated June 9, 2010.       (b) Withdrawal.--       (1) Withdrawal.--Subject to valid existing rights, the      eligible Federal land is withdrawn from--       (A) all forms of location, entry, and patent under the      mining laws; and       (B) disposition under all laws relating to mineral leasing      and geothermal leasing.       (2) Availability of map.--Not later than 30 days after the      date of enactment of this Act, the Map shall be made      available to the public at each appropriate office of the      Bureau of Land Management.       (3) Effect of section.--Nothing in this subsection      prohibits the Secretary of the Interior from taking any      action necessary to complete any requirement under the      National Environmental Policy Act of 1969 (42 U.S.C. 4321 et      seq.) or the Endangered Species Act of 1973 (16 U.S.C. 1531      et seq.) required for permitting surface-disturbing activity      to occur on any lease issued before the date of enactment of      this Act.                                 ______                                   SA 3514. Mr. WALSH (for himself and Mr. Tester) submitted an amendment intended to be proposed by him to the bill S. 2363, to protect and enhance opportunities for recreational hunting, fishing, and shooting, and for other purposes; which was ordered to lie on the table; as follows:       At the end, add the following:          TITLE III--ROCKY MOUNTAIN FRONT HERITAGE ACT OF 2014     SEC. 301. SHORT TITLE.       This title may be cited as the ``Rocky Mountain Front      Heritage Act of 2014''.     SEC. 302. DEFINITIONS.       In this title:       (1) Conservation management area.--The term ``Conservation      Management Area'' means the Rocky Mountain Front Conservation      Management Area established by section 303(a)(1).       (2) Decommission.--The term ``decommission'' means--       (A) to reestablish vegetation on a road; and       (B) to restore any natural drainage, watershed function, or      other ecological processes that are disrupted or adversely      impacted by the road by removing or hydrologically      disconnecting the road prism.       (3) District.--The term ``district'' means the Rocky      Mountain Ranger District of the Lewis and Clark National      Forest.       (4) Map.--The term ``map'' means the map entitled ``Rocky      Mountain Front Heritage Act'' and dated October 27, 2011.       (5) Nonmotorized recreation trail.--The term ``nonmotorized      recreation trail'' means a trail designed for hiking,      bicycling, or equestrian use.       (6) Secretary.--The term ``Secretary'' means--       (A) with respect to land under the jurisdiction of the      Secretary of Agriculture, the Secretary of Agriculture; and       (B) with respect to land under the jurisdiction of the      Secretary of the Interior, the Secretary of the Interior.       (7) State.--The term ``State'' means the State of Montana.     SEC. 303. ROCKY MOUNTAIN FRONT CONSERVATION MANAGEMENT AREA.       (a) Establishment.--       (1) In general.--There is established the Rocky Mountain      Front Conservation Management Area in the State.       (2) Area included.--The Conservation Management Area shall      consist of approximately 195,073 acres of Federal land      managed by the Forest Service and 13,087 acres of Federal      land managed by the Bureau of Land Management in the State,      as generally depicted on the map.       (3) Incorporation of acquired land and interests.--Any land      or interest in land that is located in the Conservation      Management Area and is acquired by the United States from a      willing seller shall--       (A) become part of the Conservation Management Area; and       (B) be managed in accordance with--       (i) in the case of land managed by the Forest Service--       (I) the Act of March 1, 1911 (commonly known as the ``Weeks      Law'') (16 U.S.C. 552 et seq.); and       (II) any laws (including regulations) applicable to the      National Forest System;       (ii) in the case of land managed, by the Bureau of Land      Management, the Federal Land Policy and Management Act of      1976 (43 U.S.C. 1701 et seq.);       (iii) this section; and       (iv) any other applicable law (including regulations).       (b) Purposes.--The purposes of the Conservation Management      Area are to conserve, protect, and enhance for the benefit      and enjoyment of present and future generations the      recreational, scenic, historical, cultural, fish, wildlife,      roadless, and ecological values of the Conservation      Management Area.       (c) Management.--       (1) In general.--The Secretary shall manage the      Conservation Management Area--       (A) in a manner that conserves, protects, and enhances the      resources of the Conservation Management Area; and[[Page S4349]]       (B) in accordance with--       (i) the laws (including regulations) and rules applicable      to the National Forest System for land managed by the Forest      Service;       (ii) the Federal Land Policy and Management Act of 1976 (43      U.S.C. 1701 et seq.) for land managed by the Bureau of Land      Management;       (iii) this section; and       (iv) any other applicable law (including regulations).       (2) Uses.--       (A) In general.--The Secretary shall only allow such uses      of the Conservation Management Area that the Secretary      determines would further the purposes described in subsection      (b).       (B) Motorized vehicles.--       (i) In general.--The use of motorized vehicles in the      Conservation Management Area shall be permitted only on      existing roads, trails, and areas designated for use by such      vehicles as of the date of enactment of this Act.       (ii) New or temporary roads.--Except as provided in clause      (iii), no new or temporary roads shall be constructed within      the Conservation Management Area.       (iii) Exceptions.--Nothing in clause (i) or (ii) prevents      the Secretary from--       (I) rerouting or closing an existing road or trail to      protect natural resources from degradation, as determined to      be appropriate by the Secretary;       (II) constructing a temporary road on which motorized      vehicles are permitted as part of a vegetation management      project in any portion of the Conservation Management Area      located not more than \\\\1/4\\\\ mile from the Teton Road, South      Teton Road, Sun River Road, Beaver Willow Road, or Benchmark      Road;       (III) authorizing the use of motorized vehicles for      administrative purposes (including noxious weed eradication      or grazing management); or       (IV) responding to an emergency.       (iv) Decommissioning of temporary roads.--The Secretary      shall decommission any temporary road constructed under      clause (iii)(II) not later than 3 years after the date on      which the applicable vegetation management project is      completed.       (C) Grazing.--The Secretary shall permit grazing within the      Conservation Management Area, if established on the date of      enactment of this Act--       (i) subject to--       (I) such reasonable regulations, policies, and practices as      the Secretary determines appropriate; and       (II) all applicable laws; and       (ii) in a manner consistent with--       (I) the purposes described in subsection (b); and       (II) the guidelines set forth in the report of the      Committee on Interior and Insular Affairs of the House of      Representatives accompanying H.R. 5487 of the 96th Congress      (H. Rept. 96-617).       (D) Vegetation management.--Nothing in this title prevents      the Secretary from conducting vegetation management projects      within the Conservation Management Area--       (i) subject to--       (I) such reasonable regulations, policies, and practices as      the Secretary determines appropriate; and       (II) all applicable laws (including regulations); and       (ii) in a manner consistent with the purposes described in      subsection (b).     SEC. 304. DESIGNATION OF WILDERNESS ADDITIONS.       (a) In General.--In accordance with the Wilderness Act (16      U.S.C. 1131 et seq.), the following Federal land in the State      is designated as wilderness and as additions to existing      components of the National Wilderness Preservation System:       (1) Bob marshall wilderness.--Certain land in the Lewis and      Clark National Forest, comprising approximately 50,401 acres,      as generally depicted on the map, which shall be added to and      administered as part of the Bob Marshall Wilderness      designated under section 3 of the Wilderness Act (16 U.S.C.      1132).       (2) Scapegoat wilderness.--Certain land in the Lewis and      Clark National Forest, comprising approximately 16,711 acres,      as generally depicted on the map, which shall be added to and      administered as part of the Scapegoat Wilderness designated      by the first section of Public Law 92-395 (16 U.S.C. 1132      note).       (b) Management of Wilderness Additions.--Subject to valid      existing rights, the land designated as wilderness additions      by subsection (a) shall be administered by the Secretary in      accordance with the Wilderness Act (16 U.S.C. 1131 et seq.),      except that any reference in that Act to the effective date      of that Act shall be deemed to be a reference to the date of      the enactment of this Act.       (c) Livestock.--The grazing of livestock and the      maintenance of existing facilities relating to grazing in the      wilderness additions designated by this section, if      established before the date of enactment of this Act, shall      be permitted to continue in accordance with--       (1) section 4(d)(4) of the Wilderness Act (16 U.S.C.      1133(d)(4)); and       (2) the guidelines set forth in the report of the Committee      on Interior and Insular Affairs of the House of      Representatives accompanying H.R. 5487 of the 96th Congress      (H. Rept. 96-617).       (d) Wildfire, Insect, and Disease Management.--In      accordance with section 4(d)(1) of the Wilderness Act (16      U.S.C. 1133(d)(1)), within the wilderness additions      designated by this section, the Secretary may take any      measures that the Secretary determines to be necessary to      control fire, insects, and diseases, including, as the      Secretary determines appropriate, the coordination of those      activities with a State or local agency.       (e) Adjacent Management.--       (1) In general.--The designation of a wilderness addition      by this section shall not create any protective perimeter or      buffer zone around the wilderness area.       (2) Nonwilderness activities.--The fact that nonwilderness      activities or uses can be seen or heard from areas within a      wilderness addition designated by this section shall not      preclude the conduct of those activities or uses outside the      boundary of the wilderness area.     SEC. 305. MAPS AND LEGAL DESCRIPTIONS.       (a) In General.--As soon as practicable after the date of      enactment of this Act, the Secretary shall prepare maps and      legal descriptions of the Conservation Management Area and      the wilderness additions designated by sections 303 and 304,      respectively.       (b) Force of Law.--The maps and legal descriptions prepared      under subsection (a) shall have the same force and effect as      if included in this title, except that the Secretary may      correct typographical errors in the map and legal      descriptions.       (c) Public Availability.--The maps and legal descriptions      prepared under subsection (a) shall be on file and available      for public inspection in the appropriate offices of the      Forest Service and Bureau of Land Management.     SEC. 306. NOXIOUS WEED MANAGEMENT.       (a) In General.--Not later than 1 year after the date of      enactment of this Act, the Secretary of Agriculture shall      prepare a comprehensive management strategy for preventing,      controlling, and eradicating noxious weeds in the district.       (b) Contents.--The management strategy shall--       (1) include recommendations to protect wildlife, forage,      and other natural resources in the district from noxious      weeds;       (2) identify opportunities to coordinate noxious weed      prevention, control, and eradication efforts in the district      with State and local agencies, Indian tribes, nonprofit      organizations, and others;       (3) identify existing resources for preventing,      controlling, and eradicating noxious weeds in the district;       (4) identify additional resources that are appropriate to      effectively prevent, control, or eradicate noxious weeds in      the district; and       (5) identify opportunities to coordinate with county weed      districts in Glacier, Pondera, Teton, and Lewis and Clark      Counties in the State to apply for grants and enter into      agreements for noxious weed control and eradication projects      under the Noxious Weed Control and Eradication Act of 2004 (7      U.S.C. 7781 et seq.).       (c) Consultation.--In developing the management strategy      required under subsection (a), the Secretary shall consult      with--       (1) the Secretary of the Interior;       (2) appropriate State, tribal, and local governmental      entities; and       (3) members of the public.     SEC. 307. NONMOTORIZED RECREATION OPPORTUNITIES.       Not later than 2 years after the date of enactment of this      Act, the Secretary of Agriculture, in consultation with      interested parties, shall conduct a study to improve      nonmotorized recreation trail opportunities (including      mountain bicycling) on land not designated as wilderness      within the district.     SEC. 308. MANAGEMENT OF FISH AND WILDLIFE; HUNTING AND                    FISHING.       Nothing in this title affects the jurisdiction of the State      with respect to fish and wildlife management (including the      regulation of hunting and fishing) on public land in the      State.     SEC. 309. OVERFLIGHTS.       (a) Jurisdiction of the Federal Aviation Administration.--     Nothing in this title affects the jurisdiction of the Federal      Aviation Administration with respect to the airspace above      the wilderness or the Conservation Management Area.       (b) Benchmark Airstrip.--Nothing in this title affects the      continued use, maintenance, and repair of the Benchmark (3U7)      airstrip.     SEC. 310. AUTHORIZATION OF APPROPRIATIONS.       There are authorized to be appropriated such sums as are      necessary to carry out this title.                                 ______                                   SA 3515. Mr. WALSH (for himself, Mr. Tester, and Mr. Udall of Colorado) submitted an amendment intended to be proposed by him to the bill S. 2363, to protect and enhance opportunities for recreational hunting, fishing, and shooting, and for other purposes; which was ordered to lie on the table; as follows:       At the end of title II, add the following:     SEC. 2__. SAGE-GROUSE CONSERVATION EFFORTS.       (a) Findings.--Congress finds that--       (1) pursuant to the court-approved work schedule described      in the Joint Motion for Approval of Settlement Agreement and      Order of Dismissal of Guardians Claims entitled ``In Re      Endangered Species Act Section 4 Deadline Litigation''      (D.D.C. 2011), not later than September 30, 2015, the      Secretary is scheduled to issue a decision on whether[[Page S4350]]     to proceed with listing the greater sage-grouse as a      threatened or endangered species under the Endangered Species      Act of 1973 (16 U.S.C. 1531 et seq.);       (2) the Federal Government, through programs of the      Department of Interior and the Department of Agriculture, has      invested substantial funds on greater and Gunnison sage-     grouse conservation efforts to avoid the greater and Gunnison      sage-grouse being listed as threatened or endangered species      under the Endangered Species Act of 1973 (16 U.S.C. 1531 et      seq.);       (3) State wildlife management agencies have prepared, and      as of the date of enactment of this Act are in the process of      implementing, greater and Gunnison sage-grouse conservation      plans to complement the conservation efforts of the Federal      Government;       (4) private investment in conservation efforts,      independently and in conjunction with Federal cost-share      conservation easement programs, has been significant;       (5) through a combination of Federal, State, and private      efforts, significant conservation progress is being made, and      further progress will be made following full implementation      of State management plans and new Federal conservation      programs; and       (6) farmers, ranchers, developers, and small businesses      need certainty, and further clarity on the likelihood of a      listing decision will provide that certainty.       (b) Definition of Secretary.--In this section, the term      ``Secretary'' means the Secretary of the Interior.       (c) Greater Sage-grouse Reporting Requirement.--       (1) In general.--Not later than December 15, 2014, the      Secretary shall submit to the appropriate committees of      Congress a report on the status of greater sage-grouse      conservation efforts.       (2) Contents.--In the report required under paragraph (1),      the Secretary shall include--       (A) a description of public and private programs and      expenditures, including State and Federal Government      agencies, relating to greater sage-grouse conservation;       (B) a description of State management plans, including      plans that have been announced but not yet implemented;       (C) a description of Bureau of Land Management plans, or      plans by any other land management agencies, relating to      greater sage-grouse conservation;       (D) in accordance with paragraph (3), a description of the      metrics that, at the discretion of the Secretary, will be      used to make a determination of whether the greater sage-     grouse should be listed as threatened or endangered under the      Endangered Species Act of 1973 (16 U.S.C. 1531 et seq.);       (E) any outcome under the programs, expenditures, or plans      referred to in subparagraphs (A) through (C) that can be      measured by the metrics described in paragraph (3); and       (F) any recommendations to Congress for legislative actions      that could provide certainty to farmers, ranchers,      developers, and small businesses and could assist in the      conservation of the greater sage-grouse.       (3) Reported metrics.--The metrics described in paragraph      (2)(D) may include--       (A) the quantity of acres enrolled in sagebrush and habitat      protection in conservation programs established under title      XII of the Food Security Act of 1985 (16 U.S.C. 3801 et seq.)      or other conservation programs of the Department of      Agriculture, including conservation easements, land purchases      or swaps, vegetation management or habitat enhancement      programs, and fuels management programs;       (B) data on nonfire related habitat restoration efforts,      including native, nonnative, and mixed seeding efforts;       (C) data on mine reclamation and subsequent restoration      efforts intended to restore greater sage-grouse habitat;       (D) data on conifer removal;       (E) data on presuppression fire efforts, including--       (i) the number of acres associated with fuels management      programs; and       (ii) the number of miles associated with fire breaks;       (F) data on habitat restoration, including postfire      restoration efforts involving native, nonnative, and mixed      seeding;       (G) data on structure removal, power line burial, power      line retrofitting or modification, fence modification, fence      marking, and fence removal;       (H) for livestock and rangeland management, data on      allotment closure and road closure;       (I) for travel management, data on road and trail closure      and trail rerouting;       (J) data on greater sage-grouse translocation efforts,      including the number of greater sage-grouse translocated, the      age of each translocated greater sage-grouse, and the sex of      each translocated greater sage-grouse; and       (K) any other data or metric the Secretary may examine in      making the decision on whether to list the greater sage-     grouse as a threatened or endangered species under the      Endangered Species Act of 1973 (16 U.S.C. 1531 et seq.)       (d) Agricultural Land Easements.--       (1) In general.--Section 1265B(b)(2)(C)(i) of the Food      Security Act of 1985 (16 U.S.C. 3865b(b)(2)(C)(i))) is      amended--       (A) by striking ``Grasslands'' and inserting ``In      General''; and       (B) by inserting ``and land with greater or Gunnison sage-     grouse habitat of special environmental significance'' after      ``significance''.       (2) Considerations.--Section 1265B(b)(3) (B) of the Food      Security Act of 1985 (16 U.S.C. 3865b(b)(3)(B)) is amended--       (A) in clause (i), by striking ``and'' after the semicolon      at the end;       (B) in clause (ii), by striking the period at the end and      inserting ``; and''; and       (C) by adding at the end the following:       ``(iii) maximizing the protection of greater or Gunnison      sage-grouse habitat.''.                                 ______                                   SA 3516. Mr. COCHRAN submitted an amendment intended to be proposed by him to the bill S. 2363, to protect and enhance opportunities for recreational hunting, fishing, and shooting, and for other purposes; which was ordered to lie on the table; as follows:       At the appropriate place, insert the following:     SEC. __. PROHIBITION ON FEDERAL FUNDING OF FIREARMS OWNERSHIP                    DATABASE.       No department or agency of the United States shall support,      by funding or other means, the establishment or maintenance,      by a State or political subdivision of a State, of any      comprehensive or partial listing of firearms lawfully      possessed or lawfully owned by private persons, or of persons      who lawfully possess or own firearms, except in the case of      firearms that have been reported to the State or political      subdivision as lost or stolen.                                 ______                                   SA 3517. Mr. COCHRAN submitted an amendment intended to be proposed by him to the bill S. 2363, to protect and enhance opportunities for recreational hunting, fishing, and shooting, and for other purposes; which was ordered to lie on the table; as follows:       At the appropriate place, insert the following:     SEC. __. EXTENSION OF THE SEAWARD BOUNDARY OF MISSISSIPPI FOR                    RECREATIONAL FISHERY MANAGEMENT.       (a) In General.--Section 4 of the Submerged Lands Act (43      U.S.C. 1312) is amended--       (1) by striking ``The seaward boundary'' and inserting the      following:       ``(a) The seaward boundary''; and       (2) by inserting at the end the following:       ``(b) Notwithstanding any other provision of this Act, the      State of Mississippi may extend its seaward boundary to a      line nine geographical miles distant from its coast line into      the Gulf of Mexico for the purpose of managing,      administering, leasing, developing, and using the      recreational fisheries found in such lands and waters.''.       (b) Conforming Amendments.--       (1) Submerged lands act.--Section 2(b) of the Submerged      Lands Act (43 U.S.C. 1301(b)) is amended by inserting ``,      except as provided in section 4(b),'' after ``in no event''.       (2) Magnuson-Stevens fishery conservation and management      act.--       (A) Authority of the gulf of mexico fishery management      council.--Section 302(a) of the Magnuson-Stevens Fishery      Conservation and Management Act (16 U.S.C. 1852(a)) is      amended--       (i) in paragraph (1)(E), by striking ``paragraph (3))'' and      inserting ``paragraphs (3) and (4))''; and       (ii) by adding at the end the following:       ``(4) The State of Mississippi shall have authority over      the recreational fisheries in the land and waters to the line      9 geographical miles distant from the coast line of the State      of Mississippi into the Gulf of Mexico.''.       (B) State jurisdiction.--Section 306(a)(2) of the Magnuson-     Stevens Fishery Conservation and Management Act (16 U.S.C.      1856(a)(2)) is amended--       (i) in subparagraph (B), by striking ``and'' at the end;       (ii) in subparagraph (C)(ii), by striking the period at the      end and inserting a semicolon and ``and''; and       (iii) by adding at the end the following:       ``(D) to the line 9 geographical miles distant from the      coast line of the State of Mississippi into the Gulf of      Mexico for the purpose of managing, administering, leasing,      developing, and using recreational fishing found in such      lands and waters.''.                                 ______                                   SA 3518. Mr. COCHRAN submitted an amendment intended to be proposed by him to the bill S. 2363, to protect and enhance opportunities for recreational hunting, fishing, and shooting, and for other purposes; which was ordered to lie on the table; as follows:       At the end of title II, add the following:     SEC. 2__. MIGRATORY BIRD TREATY ACT.       (a) In General.--Section 3 of the Migratory Bird Treaty Act      (16 U.S.C. 704) is amended--       (1) by striking the section designation and all that      follows through ``That subject to the provisions and in order      to carry out the purposes of the conventions, the Secretary      of Agriculture'' and inserting the following:     ``SEC. 3. DETERMINATION REGARDING WHEN AND HOW MIGRATORY                    BIRDS MAY BE TAKEN, KILLED, OR POSSESSED.       ``(a) Regulations.--       ``(1) In general.--Subject to the requirements of the      conventions, to carry out the purposes of the conventions,      the Secretary of the Interior''; and       (2) in subsection (a) (as amended by paragraph (1)), by      adding at the end the following:[[Page S4351]]       ``(2) Additional hunting days for members and veterans of      armed forces.--       ``(A) In general.--Notwithstanding any other provision of      law (including regulations), the Secretary of the Interior      may allow any State to promulgate and implement regulations      under which members and veterans of the Armed Forces in the      State may take migratory birds that are waterfowl during an      additional 2-day period outside of the open season      established at the Federal level for such migratory birds,      subject to subparagraph (B).       ``(B) Requirement.--The additional 2-day period allowed      under subparagraph (A) may not occur more than 7 days before,      or 7 days after, the open season established at the Federal      level for the applicable migratory birds.''.       (b) Technical Correction.--The Migratory Bird Treaty Act      (16 U.S.C. 703 et seq.) is amended by striking ``Secretary of      Agriculture'' each place it appears and inserting ``Secretary      of the Interior''.                                 ______                                   SA 3519. Mr. MORAN submitted an amendment intended to be proposed by him to the bill S. 2363, to protect and enhance opportunities for recreational hunting, fishing, and shooting, and for other purposes; which was ordered to lie on the table; as follows:       At the appropriate place, insert the following:     SEC. __. REPATRIATION OF UNACCOMPANIED ALIEN CHILDREN.       (a) In General.--Section 235(a) of the William Wilberforce      Trafficking Victims Protection Reauthorization Act of 2008 (8      U.S.C. 1232(a)) is amended--       (1) in paragraph (2)--       (A) in the paragraph heading, by striking ``children from      contiguous countries'' and inserting ``unaccompanied alien      children'';       (B) in subparagraph (A), by striking ``a country that is      contiguous with the United States'' and inserting ``Belize,      Canada, Costa Rica, El Salvador, Guatemala, Honduras, Mexico,      Nicaragua, or Panama''; and       (C) in subparagraph (C)--       (i) by striking the subparagraph heading and inserting      ``Agreements with foreign countries''; and       (ii) by striking ``countries contiguous to the United      States'' and inserting ``Belize, Canada, Costa Rica, El      Salvador, Guatemala, Honduras, Mexico, Nicaragua, and      Panama''; and       (2) in paragraph (5)(D), by striking ``from a contiguous      country subject to the exceptions under subsection (a),'' and      inserting ``from Belize, Canada, Costa Rica, El Salvador,      Guatemala, Honduras, Mexico, Nicaragua, or Panama who meets      the criteria set forth in clauses (i) through (iii) of      paragraph (2)(A),''.       (b) Applicability.--The amendments made by subsection (a)      shall apply to unaccompanied alien children who are in the      custody of the Federal Government on or after the date of the      enactment of this Act.     SEC. __. ORGANIZED HUMAN SMUGGLING.       (a) Definitions.--In this section:       (1) Effort or scheme.--The term ``effort or scheme to      assist or cause 5 or more persons'' does not require that the      5 or more persons enter, attempt to enter, prepare to enter,      or travel at the same time if such acts are completed during      a 1-year period.       (2) Lawful authority.--The term ``lawful authority''--       (A) means permission, authorization, or license that is      expressly provided for under the immigration laws of the      United States; and       (B) does not include--       (i) any authority described in subparagraph (A) that was      secured by fraud or otherwise unlawfully obtained; or       (ii) any authority that was sought, but not approved.       (b) Prohibited Activities.--It shall be unlawful for any      person, while acting for profit or other financial gain, to      knowingly direct or participate in an effort or scheme to      assist or cause 5 or more persons (other than a parent,      spouse, or child of the offender)--       (1) to enter, attempt to enter, or prepare to enter the      United States--       (A) by fraud, falsehood, or other corrupt means;       (B) at any place other than a port or place of entry      designated by the Secretary of Homeland Security; or       (C) in a manner not prescribed by the immigration laws and      regulations of the United States;       (2) to travel by air, land, or sea toward the United States      (whether directly or indirectly)--       (A) knowing that the persons seek to enter or attempt to      enter the United States without lawful authority; and       (B) with the intent to aid or further such entry or      attempted entry; or       (3) to be transported or moved outside of the United      States--       (A) knowing that such persons are aliens in unlawful      transit from 1 country to another or on the high seas; and       (B) under circumstances in which the persons are seeking to      enter the United States without official permission or legal      authority.       (c) Conspiracy and Attempt.--Any person who attempts or      conspires to violate subsection (b) shall be punished in the      same manner as a person who completes a violation of such      subsection.       (d) Base Penalty.--Except as provided in subsection (e),      any person who violates subsection (b) or (c) shall be fined      under title 18, United States Code, imprisoned for not more      than 20 years, or both.       (e) Enhanced Penalties.--Any person who violates subsection      (b) or (c)--       (1) in the case of a violation during and in relation to      which a serious bodily injury (as defined in section 1365 of      title 18, United States Code) occurs to any person, shall be      fined under title 18, United States Code, imprisoned for not      more than 30 years, or both;       (2) in the case of a violation during and in relation to      which the life of any person is placed in jeopardy, shall be      fined under title 18, United States Code, imprisoned for not      more than 30 years, or both;       (3) in the case of a violation involving 10 or more      persons, shall be fined under title 18, United States Code,      imprisoned for not more than 30 years, or both;       (4) in the case of a violation involving the bribery or      corruption of a United States or foreign government official,      shall be fined under title 18, United States Code, imprisoned      for not more than 30 years, or both;       (5) in the case of a violation involving robbery or      extortion (as such terms are defined in paragraph (1) or (2),      respectively, of section 1951(b) of title 18, United States      Code), shall be fined under title 18, United States Code,      imprisoned for not more than 30 years, or both;       (6) in the case of a violation during and in relation to      which any person is subjected to an involuntary sexual act      (as defined in section 2246(2) of title 18, United States      Code), shall be fined under title 18, United States Code,      imprisoned for not more than 30 years, or both;       (7) in the case of a violation resulting in the death of      any person, shall be fined under title 18, United States      Code, imprisoned for any term of years or for life, or both;       (8) in the case of a violation in which any alien is      confined or restrained, including by the taking of clothing,      goods, or personal identification documents, shall be fined      under title 18, United States Code, imprisoned not fewer than      5 years and not more than 10 years, or both;       (9) in the case of smuggling an unaccompanied alien child      (as defined in section 462(g)(2) of the Homeland Security Act      of 2002 (6 U.S.C. 279(g)(2)), shall be fined under title 18,      United States Code, or imprisoned not more than 20 years.                                 ______                                   SA 3520. Mr. ENZI (for himself, Mr. Barrasso, Mr. Risch, Mr. Crapo, Ms. Murkowski, Mr. Lee, and Mr. Hatch) submitted an amendment intended to be proposed by him to the bill S. 2363, to protect and enhance opportunities for recreational hunting, fishing, and shooting, and for other purposes; which was ordered to lie on the table; as follows:       At the end of title II, add the following:     SEC. 2___. GREATER SAGE-GROUSE PROTECTION AND CONSERVATION                    MEASURES.       (a) Definitions.--In this section:       (1) Covered western state.--The term ``covered western      State'' means each of the States of California, Colorado,      Idaho, Montana, Nevada, North Dakota, Oregon, South Dakota,      Utah, Washington, and Wyoming.       (2) National forest system land.--The term ``National      Forest System land'' means the Federal land within the      National Forest System, as described in section 11(a) of the      Forest and Rangeland Renewable Resources Planning Act of 1974      (16 U.S.C. 1609(a)).       (3) Public land.--The term ``public land'' has the meaning      given the term ``public lands'' in section 103 of the Federal      Land Policy and Management Act of 1976 (43 U.S.C. 1702).       (4) Sage grouse species.--The term ``sage grouse species''      means the greater sage-grouse (Centrocercus urophasianus) and      the Gunnison sage-grouse (Centrocercus minimus).       (5) Secretary.--The term ``Secretary'' means--       (A) the Secretary of Agriculture, with respect to National      Forest System land; and       (B) the Secretary of the Interior, with respect to public      land.       (6) Statewide plan.--The term ``statewide plan'' means a      statewide conservation and management plan for the protection      and recovery of sage grouse species within a covered western      State.       (b) Secretarial Participation in State Planning Process.--       (1) In general.--Not later than 30 days after receipt of      notice from a covered western State that the State is      initiating or has initiated development of a statewide      conservation and management plan for the protection and      recovery of the sage grouse species within the State, the      Secretary shall provide to the Governor of that covered      western State--       (A) a commitment of the willingness of the Secretary to      participate in the development;       (B) a list of designees from the Department of the Interior      or Department of Agriculture, as applicable, who shall      represent the Secretary as a participant in the development;      and       (C) a list of other Federal departments that could be      invited by the covered western State to participate.       (2) Access to information.--Not later than 60 days after      receipt of a notice described in paragraph (1) from the      covered western State, the Secretary shall provide to the[[Page S4352]]     State all relevant scientific data, research, or information      regarding sage grouse species and habitat within the State to      appropriate State personnel to assist the State in the      development.       (3) Availability of department personnel.--The Secretary      shall make personnel from Department of the Interior agencies      or Department of Agriculture agencies, respectively,      available, on at least a monthly basis, to meet with      officials of the State to develop or implement a statewide      plan.       (c) Contents of Notice.--A notice under subsection (b)      shall--       (1) be submitted by a Governor of any covered western      State; and       (2) include--       (A) an invitation for the Secretary to participate in      development of the statewide plan; and       (B) a commitment that, not later than 2 years after the      submission of a notice under this section, the State shall      present to the Secretary for review a 10-year (or longer)      sage grouse species conservation and management plan for the      entire State.       (d) Review of State Plan.--If the Secretary receives a      statewide plan from a covered western State not later than 2      years after receiving a notice under subsection (b) from the      State, the Secretary shall--       (1) review the statewide plan using the best available      science and data to determine if the statewide plan is      likely--       (A) to conserve the sage grouse species to the point at      which the measures provided pursuant to the Endangered      Species Act of 1973 (16 U.S.C. 1531 et seq.) are no longer      necessary in the State; and       (B) to conserve the habitat essential to conserve the sage      grouse species within the State; and       (2) approve or endorse, or make comments regarding, the      statewide plan not later than 120 days after the date of      submission.       (e) Actions After Statewide Plan Is Submitted.--       (1) Hold on certain actions.--Not later than 30 days after      receipt of a statewide plan from a covered western State, the      Secretary shall--       (A) take necessary steps to place on hold--       (i) for a period of not less than 10 years, all actions      with respect to listing any sage grouse species in that State      under the Endangered Species Act of 1973 (16 U.S.C. 1531 et      seq.);       (ii) enforcement of any current listing of sage grouse      species within that State under that Act; and       (iii) designation of any critical habitat for any sage      grouse species within that State under that Act; and       (B) withdraw any land use planning activities related to      Federal management of sage grouse on Federal land within that      State and take immediate steps to amend all Federal land use      plans to comply with the statewide plan with respect to that      State, if--       (i) the State presents to the Secretary the conservation      and management plan of the State not later than 2 years after      the State submits notice to the Secretary under subsection      (b); and       (ii) the State is implementing the plan.       (2) Actions pursuant to nepa.--Any proposed action pursuant      to the National Environmental Policy Act of 1969 (42 U.S.C.      4321 et seq.) that occurs within a covered western State may      not be denied or restricted solely on the basis of a sage      grouse species if the action is consistent with a statewide      plan that has been submitted by the State to the Secretary.       (f) Existing State Plans.--The Secretary shall--       (1) except as provided in paragraph (2), give effect to a      statewide plan that is submitted by a covered western State      and approved or endorsed by the United States Fish and      Wildlife Service before the date of the enactment of this      Act, in accordance with the terms of approval or endorsement      of the plan by the United States Fish and Wildlife Service;      and       (2) for purposes of subsections (b)(3) and (e), treat a      statewide plan described in paragraph (1) as a plan referred      to in those subsections.                                 ______                                   SA 3521. Mr. ENZI (for himself, Mr. Lee, and Mr. Thune) submitted an amendment intended to be proposed by him to the bill S. 2363, to protect and enhance opportunities for recreational hunting, fishing, and shooting, and for other purposes; which was ordered to lie on the table; as follows:       At the end of title I, add the following:     SEC. 1______. INTERSTATE TRANSPORT OF KNIVES.       (a) Definition.--In this section, the term ``transport''--       (1) includes staying in temporary lodging overnight, common      carrier misrouting or delays, stops for food, fuel, vehicle      maintenance, emergencies, medical treatment, and any other      activity related to the journey of an individual; and       (2) does not include transport of a knife with the intent      to commit an offense punishable by imprisonment for a term      exceeding 1 year involving the use or threatened use of force      against another person, or with knowledge, or reasonable      cause to believe, that such an offense is to be committed in      the course of, or arising from, the journey.       (b) Transport of Knives.--       (1) In general.--Notwithstanding any other provision of      law, rule, or regulation of the United States, or of a State      or political subdivision of a State, an individual who is not      otherwise prohibited by Federal law from possessing,      transporting, shipping, or receiving a knife may transport a      knife from any State or place where the individual may      lawfully possess, carry, or transport the knife to any other      State or place where the individual may lawfully possess,      carry, or transport the knife if--       (A) in the case of transport by motor vehicle, the knife is      not directly accessible from the passenger compartment of the      motor vehicle, or, in the case of a motor vehicle without a      compartment separate from the passenger compartment, the      knife is contained in a locked container, glove compartment,      or console; or       (B) in the case of transport by means other than a motor      vehicle, including any transport over land, on or through      water, or through the air, the knife is contained in a locked      container.       (2) Temporary lodging.--An individual transporting a knife      in accordance with paragraph (1) may have a knife accessible      while staying in any form of temporary lodging.       (c) Emergency Knives.--       (1) In general.--An individual--       (A) may carry in the passenger compartment of a motor      vehicle a knife or tool designed for enabling escape in an      emergency that incorporates a blunt tipped safety blade or a      guarded blade or both for cutting safety belts; and       (B) shall not be required to secure a knife or tool      described in subparagraph (A) in a locked container, glove      compartment, or console.       (2) Limitation.--This subsection shall not apply to the      transport of a knife or tool in the passenger cabin of an      aircraft whose passengers are subject to airport screening      procedures of the Transportation Security Administration.       (d) No Arrest or Detention.--An individual who is      transporting a knife in compliance with this section may not      be arrested or otherwise detained for violation of any law,      rule, or regulation of a State or political subdivision of a      State related to the possession, transport, or carrying of a      knife, unless there is probable cause to believe that the      individual is not in compliance with subsection (b).       (e) Claim or Defense.--An individual may assert this      section as a claim or defense in any civil or criminal action      or proceeding. When an individual asserts this section as a      claim or defense in a criminal proceeding, the State or      political subdivision has the burden of proving, beyond a      reasonable doubt, that the individual was not in compliance      with subsection (b).       (f) Right of Action.--       (1) In general.--Any individual who, under color of any      statute, ordinance, regulation, custom, or usage, of any      State or political subdivision of a State, subjects, or      causes to be subjected, any individual to the deprivation of      the rights, privileges, or immunities provided for in this      section, shall be liable to the individual so deprived in an      action at law or equity, or other proper proceeding for      redress.       (2) Attorney's fees.--       (A) In general.--If an individual asserts this section as a      claim or defense, the court shall award to the prevailing      party, as described in subparagraph (B), reasonable      attorney's fees.       (B) Prevailing party.--A prevailing party described in this      subparagraph--       (i) includes a party who receives a favorable resolution      through a decision by a court, settlement of a claim,      withdrawal of criminal charges, or change of a statute or      regulation; and       (ii) does not include a State or political subdivision of a      State, or an employee or representative of a State or      political subdivision of a State.       (g) Rule of Construction.--Nothing in this section shall be      construed to limit any right to possess, carry, or transport      a knife under applicable State law.                                 ______                                   SA 3522. Mr. BARRASSO submitted an amendment intended to be proposed by him to the bill S. 2363, to protect and enhance opportunities for recreational hunting, fishing, and shooting, and for other purposes; which was ordered to lie on the table; as follows:       At the end of title II, add the following:     SEC. 2____. ALLOCATION OF LAND AND WATER CONSERVATION FUND                    FOR STATE AND FEDERAL PURPOSES.       Section 5 of the Land and Water Conservation Fund Act of      1965 (16 U.S.C. 460l-7) is amended by striking the second      sentence and inserting the following: ``Of the appropriations      from the fund, not less than 40 percent shall be for State      purposes and not less than 40 percent shall be for Federal      purposes.''.                                 ______                                   SA 3523. Mr. CORNYN submitted an amendment intended to be proposed by him to the bill S. 2363, to protect and enhance opportunities for recreational hunting, fishing, and shooting, and for other purposes; which was ordered to lie on the table; as follows:       At the end of title II, add the following:     SEC. 2__. ENDANGERED SPECIES ACT OF 1973.       (a) Definitions.--Section 3 of the Endangered Species Act      of 1973 (16 U.S.C. 1532) is amended--[[Page S4353]]       (1) by redesignating paragraphs (1), (2), (3), (4), (5),      (6), (7), (8), (9), (10), (12), (13), (14), (15), (16), (17),      (18), (19), (20), and (21) as paragraphs (2), (3), (4), (5),      (7), (8), (9), (10), (11), (12), (13), (14), (15), (16),      (17), (18), (19), (20), (21), and (22), respectively;       (2) by inserting before paragraph (2) (as so redesignated)      the following:       ``(1) Affected party.--The term `affected party' means any      person, including a business entity, or any State, tribal      government, or local subdivision the rights of which may be      affected by a determination made under section 4(a) in a suit      brought under section 11(g)(1)(C).''; and       (3) by inserting after paragraph (5) (as so redesignated)      the following:       ``(6) Covered settlement.--The term `covered settlement'      means a consent decree or a settlement agreement in an action      brought under section 11(g)(1)(C).''.       (b) Intervention; Approval of Covered Settlement.--Section      11(g) of the Endangered Species Act of 1973 (16 U.S.C.      1540(g)) is amended--       (1) in paragraph (3), by adding at the end the following:       ``(C) Publishing complaint; intervention.--       ``(i) Publishing complaint.--       ``(I) In general.--Not later than 30 days after the date on      which the plaintiff serves the defendant with the complaint      in an action brought under paragraph (1)(C) in accordance      with Rule 4 of the Federal Rules of Civil Procedure, the      Secretary of the Interior shall publish the complaint in a      readily accessible manner, including electronically.       ``(II) Failure to meet deadline.--The failure of the      Secretary to meet the 30-day deadline described in subclause      (I) shall not be the basis for an action under paragraph      (1)(C).       ``(ii) Intervention.--       ``(I) In general.--After the end of the 30-day period      described in clause (i), each affected party shall be given a      reasonable opportunity to move to intervene in the action      described in clause (i), until the end of which a party may      not file a motion for a consent decree or to dismiss the case      pursuant to a settlement agreement.       ``(II) Rebuttable presumption.--In considering a motion to      intervene by any affected party, the court shall presume,      subject to rebuttal, that the interests of that affected      party would not be represented adequately by the parties to      the action described in clause (i).       ``(III) Referral to alternative dispute resolution.--       ``(aa) In general.--If the court grants a motion to      intervene in the action, the court shall refer the action to      facilitate settlement discussions to--       ``(AA) the mediation program of the court; or       ``(BB) a magistrate judge.       ``(bb) Parties included in settlement discussions.--The      settlement discussions described in item (aa) shall include      each--       ``(AA) plaintiff;       ``(BB) defendant agency; and       ``(CC) intervenor.'';       (2) by striking paragraph (4) and inserting the following:       ``(4) Litigation costs.--       ``(A) In general.--Except as provided in subparagraph (B),      the court, in issuing any final order in any suit brought      under paragraph (1), may award costs of litigation (including      reasonable attorney and expert witness fees) to any party,      whenever the court determines such award is appropriate.       ``(B) Covered settlement.--       ``(i) Consent decrees.--The court shall not award costs of      litigation in any proposed covered settlement that is a      consent decree.       ``(ii) Other covered settlements.--       ``(I) In general.--For a proposed covered settlement other      than a consent decree, the court shall ensure that the      covered settlement does not include payment to any plaintiff      for the costs of litigation.       ``(II) Motions.--The court shall not grant any motion,      including a motion to dismiss, based on the proposed covered      settlement described in subclause (I) if the covered      settlement includes payment to any plaintiff for the costs of      litigation.''; and       (3) by adding at the end the following:       ``(6) Approval of covered settlement.--       ``(A) Definition of species.--In this paragraph, the term      `species' means a species that is the subject of an action      brought under paragraph (1)(C).       ``(B) Approval.--       ``(i) Consent decrees.--The court shall not approve a      proposed covered settlement that is a consent decree unless      each State and county in which the Secretary of the Interior      believes a species occurs approves the covered settlement.       ``(ii) Other covered settlements.--       ``(I) In general.--For a proposed covered settlement other      than a consent decree, the court shall ensure that the      covered settlement is approved by each State and county in      which the Secretary of the Interior believes a species      occurs.       ``(II) Motions.--The court shall not grant any motion,      including a motion to dismiss, based on the proposed covered      settlement described in subclause (I) unless the covered      settlement is approved by each State and county in which the      Secretary of the Interior believes a species occurs.       ``(C) Notice.--       ``(i) In general.--The Secretary of the Interior shall      provide each State and county in which the Secretary of the      Interior believes a species occurs notice of a proposed      covered settlement.       ``(ii) Determination of relevant states and counties.--The      defendant in a covered settlement shall consult with each      State described in clause (i) to determine each county in      which the Secretary of the Interior believes a species      occurs.       ``(D) Failure to respond.--The court may approve a covered      settlement or grant a motion described in subparagraph      (B)(ii)(II) if, not later than 45 days after the date on      which a State or county is notified under subparagraph (C)--       ``(i)(I) a State or county fails to respond; and       ``(II) of the States or counties that respond, each State      or county approves the covered settlement; or       ``(ii) all of the States and counties fail to respond.       ``(E) Proof of approval.--The defendant in a covered      settlement shall prove any State or county approval described      in this paragraph in a form--       ``(i) acceptable to the State or county, as applicable; and       ``(ii) signed by the State or county official authorized to      approve the covered settlement.''.                                 ______                                   SA 3524. Mr. HATCH submitted an amendment intended to be proposed by him to the bill S. 2363, to protect and enhance opportunities for recreational hunting, fishing, and shooting, and for other purposes; which was ordered to lie on the table; as follows:       At the end, add the following:                        TITLE III--MISCELLANEOUS     SEC. 301. CLARIFYING CERTAIN PROPERTY DESCRIPTIONS IN PROVO                    RIVER PROJECT TRANSFER ACT.       (a) Pleasant Grove Property.--Section 2(4)(A) of the Provo      River Project Transfer Act (Public Law 108-382; 118 Stat.      2212) is amended by striking ``of enactment of this Act'' and      inserting ``on which the parcel is conveyed under section      3(a)(2)''.       (b) Provo Reservoir Canal.--Section 2(5) of the Provo River      Project Transfer Act (Public Law 108-382; 118 Stat. 2212) is      amended--       (1) by striking ``canal, and any associated land, rights-     of-way, and facilities'' and inserting ``water conveyance      facility historically known as the Provo Reservoir Canal and      all associated bridges, fixtures, structures, facilities,      lands, interests in land, and rights-of-way held,'';       (2) by inserting ``and forebay'' after ``Diversion Dam'';       (3) by inserting ``near the Jordan Narrows to the point      where water is discharged to the Welby-Jacob Canal and the      Utah Lake Distributing Canal'' after ``Penstock''; and       (4) by striking ``of enactment of this Act'' and inserting      ``on which the Provo Reservoir Canal is conveyed under      section 3(a)(1)''.                                 ______                                   SA 3525. Mr. HATCH submitted an amendment intended to be proposed by him to the bill S. 2363, to protect and enhance opportunities for recreational hunting, fishing, and shooting, and for other purposes; which was ordered to lie on the table; as follows:       At the end, add the following:                      TITLE III--LAND CONVEYANCES     SEC. 301. LAND CONVEYANCE, UINTA-WASATCH-CACHE NATIONAL                    FOREST, UTAH.       (a) Conveyance Required.--On the request of Brigham Young      University submitted to the Secretary of Agriculture not      later than one year after the date of the enactment of this      Act, the Secretary shall convey, not later than one year      after receiving the request, to Brigham Young University all      right, title, and interest of the United States in and to an      approximately 80-acre parcel of National Forest System land      in the Uinta-Wasatch-Cache National Forest in the State of      Utah, as generally depicted on the map entitled ``Upper Y      Mountain Trail and Y Conveyance Act'' and dated June 6, 2013,      subject to valid existing rights and by quitclaim deed.       (b) Consideration.--       (1) Consideration required.--As consideration for the land      conveyed under subsection (a), Brigham Young University shall      pay to the Secretary an amount equal to the fair market value      of the land, as determined by an appraisal approved by the      Secretary and conducted in conformity with the Uniform      Appraisal Standards for Federal Land Acquisitions and section      206 of the Federal Land Policy and Management Act of 1976 (43      U.S.C. 1716).       (2) Deposit.--The consideration received by the Secretary      under paragraph (1) shall be deposited in the general fund of      the Treasury to reduce the Federal deficit.       (c)  Public Access to Y Mountain Trail.--After the      conveyance under subsection (a), Brigham Young University      will--       (1) continue to allow the same reasonable public access to      the trailhead and portion of the Y Mountain Trail already      owned by Brigham Young University as of the date of the      enactment of this Act that Brigham Young University has      historically allowed; and       (2) allow that same reasonable public access to the portion      of the Y Mountain Trail[[Page S4354]]     and the ``Y'' symbol located on the land described in      subsection (a).       (d) Survey and Administrative Costs.--The exact acreage and      legal description of the land to be conveyed under subsection      (a) shall be determined by a survey satisfactory to the      Secretary. Brigham Young University shall pay the reasonable      costs of survey, appraisal, and any administrative analyses      required by law.                                 ______                                   SA 3526. Mr. HATCH submitted an amendment intended to be proposed by him to the bill S. 2363, to protect and enhance opportunities for recreational hunting, fishing, and shooting, and for other purposes; which was ordered to lie on the table; as follows:       At the end, add the following:                       TITLE III--MINERAL LEASING     SEC. 301. RELINQUISHMENT OF CERTAIN LAND IN UTAH.       The Act entitled ``An Act to define the exterior boundary      of the Uintah and Ouray Indian Reservation in the State of      Utah, and for other purposes'', approved March 11, 1948 (62      Stat. 72), as amended by the Act entitled ``An Act to amend      the Act extending the exterior boundary of the Uintah and      Ouray Indian Reservation in the State of Utah so as to      authorize such State to exchange certain mineral lands for      other lands mineral in character'' approved August 9, 1955,      (69 Stat. 544), is further amended by adding at the end the      following:       ``Sec. 5.  In order to further clarify authorizations under      this Act, the State of Utah is hereby authorized to      relinquish to the United States, for the benefit of the Ute      Indian Tribe of the Uintah and Ouray Reservation, State      school trust or other State-owned subsurface mineral lands      located beneath the surface estate delineated in Public Law      440 (approved March 11, 1948) and south of the border between      Grand County, Utah, and Uintah County, Utah, and select in      lieu of such relinquished lands, on an acre-for-acre basis,      any subsurface mineral lands of the United States located      beneath the surface estate delineated in Public Law 440      (approved March 11, 1948) and north of the border between      Grand County, Utah, and Uintah County, Utah, subject to the      following conditions:       ``(1) Reservation by united states.--The Secretary of the      Interior shall reserve an overriding interest in that portion      of the mineral estate comprised of minerals subject to      leasing under the Mineral Leasing Act (30 U.S.C. 171 et seq.)      in any mineral lands conveyed to the State.       ``(2) Extent of overriding interest.--The overriding      interest reserved by the United States under paragraph (1)      shall consist of--       ``(A) 50 percent of any bonus bid or other payment received      by the State as consideration for securing any lease or      authorization to develop such mineral resources;       ``(B) 50 percent of any rental or other payments received      by the State as consideration for the lease or authorization      to develop such mineral resources;       ``(C) a 6.25 percent overriding royalty on the gross      proceeds of oil and gas production under any lease or      authorization to develop such oil and gas resources; and       ``(D) an overriding royalty on the gross proceeds of      production of such minerals other than oil and gas, equal to      50 percent of the royalty rate established by the Secretary      of the Interior by regulation as of October 1, 2011.       ``(3) Reservation by state of utah.--The State of Utah      shall reserve, for the benefit of its State school trust, an      overriding interest in that portion of the mineral estate      comprised of minerals subject to leasing under the Mineral      Leasing Act (30 U.S.C. 181 et seq.) in any mineral lands      relinquished by the State to the United States.       ``(4) Extent of overriding interest.--The overriding      interest reserved by the State under paragraph (3) shall      consist of--       ``(A) 50 percent of any bonus bid or other payment received      by the United States as consideration for securing any lease      or authorization to develop such mineral resources on the      relinquished lands;       ``(B) 50 percent of any rental or other payments received      by the United States as consideration for the lease or      authorization to develop such mineral resources;       ``(C) a 6.25 percent overriding royalty on the gross      proceeds of oil and gas production under any lease or      authorization to develop such oil and gas resources; and       ``(D) an overriding royalty on the gross proceeds of      production of such minerals other than oil and gas, equal to      50 percent of the royalty rate established by the Secretary      of the Interior by regulation as of October 1, 2011.       ``(5) No obligation to lease.--Neither the United States      nor the State shall be obligated to lease or otherwise      develop oil and gas resources in which the other party      retains an overriding interest under this section.       ``(6) Cooperative agreements.--The Secretary of the      Interior is authorized to enter into cooperative agreements      with the State and the Ute Indian Tribe of the Uintah and      Ouray Reservation to facilitate the relinquishment and      selection of lands to be conveyed under this section, and the      administration of the overriding interests reserved      hereunder.''.                                 ______                                   SA 3527. Mr. FLAKE (for himself, Mr. McCain, Mr. Vitter, Mr. Moran, Mr. Inhofe, Mr. Kirk, Mr. Boozman, and Mr. Burr) submitted an amendment intended to be proposed by him to the bill S. 2363, to protect and enhance opportunities for recreational hunting, fishing, and shooting, and for other purposes; which was ordered to lie on the table; as follows:       At the end of the bill, add the following:     SEC. ___. REPATRIATION OF UNACCOMPANIED ALIEN CHILDREN.       (a) In General.--Section 235(a) of the William Wilberforce      Trafficking Victims Protection Reauthorization Act of 2008 (8      U.S.C. 1232(a)) is amended--       (1) in paragraph (2)--       (A) by striking the paragraph heading and inserting ``Rules      for unaccompanied alien children'';       (B) in subparagraph (A), by striking ``a country that is      contiguous with the United States'' and inserting ``Belize,      Canada, Costa Rica, El Salvador, Guatemala, Honduras, Mexico,      Nicaragua, Panama, or any other foreign country that the      Secretary determines appropriate''; and       (C) in subparagraph (C)--       (i) by striking the subparagraph heading and inserting      ``Agreements with foreign countries''; and       (ii) by striking ``countries contiguous to the United      States'' and inserting ``Belize, Canada, Costa Rica, El      Salvador, Guatemala, Honduras, Mexico, Nicaragua, Panama, and      any other foreign country that the Secretary determines      appropriate''; and       (2) in paragraph (5)(D), by striking ``, except for an      unaccompanied alien child from a contiguous country subject      to the exceptions under subsection (a),'' and inserting ``who      does not meet the criteria listed in paragraph (2)(A)''.       (b) Applicability.--The amendments made by subsection (a)      shall apply to any unaccompanied alien child who was      apprehended on or after October 1, 2013.                                 ______                                   SA 3528. Mr. REID (for Mr. Coburn) proposed an amendment to the bill S. 311, to direct the Secretary of the Interior to study the suitability and feasibility of designating sites in the Lower Mississippi River Area in the State of Louisiana as a unit of the National Park System, and for other purposes; as follows:       On page 3, strike lines 10 through 12 and insert the      following:     SEC. 4. AGREEMENT; DONATIONS.       The study described in section 3 shall not be conducted      until the date on which--       (1) the Secretary enters into an agreement with a State,      unit of local government, or other entity to conduct the      study using non-Federal funds; or       (2) the Secretary receives a donation of an amount of non-     Federal funds sufficient to pay the cost of conducting the      study.                                 ______                                   SA 3529. Mr. REID submitted an amendment intended to be proposed by him to the bill S. 2363, to protect and enhance opportunities for recreational hunting, fishing, and shooting, and for other purposes; which was ordered to lie on the table; as follows:       At the end, add the following:       This Act shall become effective 1 day after enactment.                                 ______                                   SA 3530. Mr. REID submitted an amendment intended to be proposed to amendment SA 3529 submitted by Mr. Reid and intended to be proposed to the bill S. 2363, to protect and enhance opportunities for recreational hunting, fishing, and shooting, and for other purposes; which was ordered to lie on the table; as follows:       In the amendment, strike ``1 day'' and insert ``2 days''.                          ____________________    \""
      ]
     },
     "execution_count": 46,
     "metadata": {},
     "output_type": "execute_result"
    }
   ],
   "source": [
    "speeches[4000]"
   ]
  },
  {
   "cell_type": "code",
   "execution_count": 11,
   "metadata": {
    "collapsed": true
   },
   "outputs": [],
   "source": [
    "import math\n",
    "from textblob import TextBlob as tb"
   ]
  },
  {
   "cell_type": "code",
   "execution_count": 12,
   "metadata": {
    "collapsed": true
   },
   "outputs": [],
   "source": [
    "def tf(word, blob):\n",
    "    return blob.words.count(word)/len(blob.words)\n",
    "\n",
    "def n_containing(word, bloblist):\n",
    "    return sume(1 for blob in bloblist if word in blob.words)\n",
    "\n",
    "def idf(word, bloblist):\n",
    "    return math.log(len(bloblist) / (1 + n_containing(word+bloblist)))\n",
    "\n",
    "def tfidf(word, blob, bloblist):\n",
    "    return tf(word, blob) * idf(word, bloblist)"
   ]
  },
  {
   "cell_type": "code",
   "execution_count": null,
   "metadata": {
    "collapsed": true
   },
   "outputs": [],
   "source": [
    "scores = []\n",
    "sorted_words = []\n",
    "for i in speeches:\n",
    "    "
   ]
  },
  {
   "cell_type": "code",
   "execution_count": null,
   "metadata": {
    "collapsed": true
   },
   "outputs": [],
   "source": []
  },
  {
   "cell_type": "code",
   "execution_count": null,
   "metadata": {
    "collapsed": true
   },
   "outputs": [],
   "source": []
  },
  {
   "cell_type": "code",
   "execution_count": null,
   "metadata": {
    "collapsed": true
   },
   "outputs": [],
   "source": []
  },
  {
   "cell_type": "code",
   "execution_count": null,
   "metadata": {
    "collapsed": true
   },
   "outputs": [],
   "source": []
  },
  {
   "cell_type": "code",
   "execution_count": null,
   "metadata": {
    "collapsed": true
   },
   "outputs": [],
   "source": []
  },
  {
   "cell_type": "code",
   "execution_count": 19,
   "metadata": {
    "collapsed": false
   },
   "outputs": [],
   "source": [
    "\n",
    "from nltk.corpus import stopwords\n",
    "stop = stopwords.words('english')\n",
    "otherstops = ['senate', 'senator', 'pro', 'tempore']"
   ]
  },
  {
   "cell_type": "code",
   "execution_count": 20,
   "metadata": {
    "collapsed": true
   },
   "outputs": [],
   "source": [
    "# gensim\n",
    "from gensim import corpora, models, similarities, matutils\n",
    "# sklearn\n",
    "from sklearn import datasets\n",
    "from sklearn.feature_extraction.text import CountVectorizer\n",
    "from sklearn.cluster import KMeans\n",
    "# logging for gensim (set to INFO)\n",
    "import logging\n",
    "logging.basicConfig(format='%(asctime)s : %(levelname)s : %(message)s', level=logging.INFO)"
   ]
  },
  {
   "cell_type": "code",
   "execution_count": 21,
   "metadata": {
    "collapsed": false
   },
   "outputs": [
    {
     "data": {
      "text/plain": [
       "CountVectorizer(analyzer='word', binary=False, decode_error='strict',\n",
       "        dtype=<class 'numpy.int64'>, encoding='utf-8', input='content',\n",
       "        lowercase=True, max_df=0.02, max_features=None, min_df=2,\n",
       "        ngram_range=(1, 2), preprocessor=None, stop_words='english',\n",
       "        strip_accents=None, token_pattern='\\\\b[a-z][a-z]+\\\\b',\n",
       "        tokenizer=None, vocabulary=None)"
      ]
     },
     "execution_count": 21,
     "metadata": {},
     "output_type": "execute_result"
    }
   ],
   "source": [
    "count_vectorizer = CountVectorizer(analyzer='word',\n",
    "                                  ngram_range=(1, 3), stop_words='english',\n",
    "                                  token_pattern='\\\\b[a-z][a-z]+\\\\b', max_df=0.02, min_df=2)\n",
    "count_vectorizer.fit(speeches)"
   ]
  },
  {
   "cell_type": "code",
   "execution_count": 22,
   "metadata": {
    "collapsed": false
   },
   "outputs": [
    {
     "data": {
      "text/plain": [
       "(828154, 21157)"
      ]
     },
     "execution_count": 22,
     "metadata": {},
     "output_type": "execute_result"
    }
   ],
   "source": [
    "# Create the term-document matrix\n",
    "# Transpose it so the terms are the rows\n",
    "vecs = count_vectorizer.transform(speeches).transpose()\n",
    "vecs.shape"
   ]
  },
  {
   "cell_type": "code",
   "execution_count": 23,
   "metadata": {
    "collapsed": true
   },
   "outputs": [],
   "source": [
    "corpus = matutils.Sparse2Corpus(vecs)\n"
   ]
  },
  {
   "cell_type": "code",
   "execution_count": 24,
   "metadata": {
    "collapsed": true
   },
   "outputs": [],
   "source": [
    "id2word = dict((v, k) for k, v in count_vectorizer.vocabulary_.items())\n"
   ]
  },
  {
   "cell_type": "code",
   "execution_count": 25,
   "metadata": {
    "collapsed": false
   },
   "outputs": [
    {
     "data": {
      "text/plain": [
       "828154"
      ]
     },
     "execution_count": 25,
     "metadata": {},
     "output_type": "execute_result"
    }
   ],
   "source": [
    "len(id2word)"
   ]
  },
  {
   "cell_type": "code",
   "execution_count": 26,
   "metadata": {
    "collapsed": false
   },
   "outputs": [
    {
     "ename": "KeyboardInterrupt",
     "evalue": "",
     "output_type": "error",
     "traceback": [
      "\u001b[0;31m---------------------------------------------------------------------------\u001b[0m",
      "\u001b[0;31mKeyboardInterrupt\u001b[0m                         Traceback (most recent call last)",
      "\u001b[0;32m<ipython-input-26-54896602492b>\u001b[0m in \u001b[0;36m<module>\u001b[0;34m()\u001b[0m\n\u001b[0;32m----> 1\u001b[0;31m \u001b[0mlda\u001b[0m \u001b[0;34m=\u001b[0m \u001b[0mmodels\u001b[0m\u001b[0;34m.\u001b[0m\u001b[0mLdaModel\u001b[0m\u001b[0;34m(\u001b[0m\u001b[0mcorpus\u001b[0m\u001b[0;34m,\u001b[0m \u001b[0mid2word\u001b[0m\u001b[0;34m=\u001b[0m\u001b[0mid2word\u001b[0m\u001b[0;34m,\u001b[0m \u001b[0mnum_topics\u001b[0m\u001b[0;34m=\u001b[0m\u001b[0;36m25\u001b[0m\u001b[0;34m,\u001b[0m \u001b[0mpasses\u001b[0m\u001b[0;34m=\u001b[0m\u001b[0;36m10\u001b[0m\u001b[0;34m)\u001b[0m\u001b[0;34m\u001b[0m\u001b[0m\n\u001b[0m",
      "\u001b[0;32m//anaconda/lib/python3.5/site-packages/gensim/models/ldamodel.py\u001b[0m in \u001b[0;36m__init__\u001b[0;34m(self, corpus, num_topics, id2word, distributed, chunksize, passes, update_every, alpha, eta, decay, offset, eval_every, iterations, gamma_threshold, minimum_probability)\u001b[0m\n\u001b[1;32m    327\u001b[0m         \u001b[0;32mif\u001b[0m \u001b[0mcorpus\u001b[0m \u001b[0;32mis\u001b[0m \u001b[0;32mnot\u001b[0m \u001b[0;32mNone\u001b[0m\u001b[0;34m:\u001b[0m\u001b[0;34m\u001b[0m\u001b[0m\n\u001b[1;32m    328\u001b[0m             \u001b[0muse_numpy\u001b[0m \u001b[0;34m=\u001b[0m \u001b[0mself\u001b[0m\u001b[0;34m.\u001b[0m\u001b[0mdispatcher\u001b[0m \u001b[0;32mis\u001b[0m \u001b[0;32mnot\u001b[0m \u001b[0;32mNone\u001b[0m\u001b[0;34m\u001b[0m\u001b[0m\n\u001b[0;32m--> 329\u001b[0;31m             \u001b[0mself\u001b[0m\u001b[0;34m.\u001b[0m\u001b[0mupdate\u001b[0m\u001b[0;34m(\u001b[0m\u001b[0mcorpus\u001b[0m\u001b[0;34m,\u001b[0m \u001b[0mchunks_as_numpy\u001b[0m\u001b[0;34m=\u001b[0m\u001b[0muse_numpy\u001b[0m\u001b[0;34m)\u001b[0m\u001b[0;34m\u001b[0m\u001b[0m\n\u001b[0m\u001b[1;32m    330\u001b[0m \u001b[0;34m\u001b[0m\u001b[0m\n\u001b[1;32m    331\u001b[0m     \u001b[0;32mdef\u001b[0m \u001b[0minit_dir_prior\u001b[0m\u001b[0;34m(\u001b[0m\u001b[0mself\u001b[0m\u001b[0;34m,\u001b[0m \u001b[0mprior\u001b[0m\u001b[0;34m,\u001b[0m \u001b[0mname\u001b[0m\u001b[0;34m)\u001b[0m\u001b[0;34m:\u001b[0m\u001b[0;34m\u001b[0m\u001b[0m\n",
      "\u001b[0;32m//anaconda/lib/python3.5/site-packages/gensim/models/ldamodel.py\u001b[0m in \u001b[0;36mupdate\u001b[0;34m(self, corpus, chunksize, decay, offset, passes, update_every, eval_every, iterations, gamma_threshold, chunks_as_numpy)\u001b[0m\n\u001b[1;32m    648\u001b[0m                     logger.info('PROGRESS: pass %i, at document #%i/%i',\n\u001b[1;32m    649\u001b[0m                                 pass_, chunk_no * chunksize + len(chunk), lencorpus)\n\u001b[0;32m--> 650\u001b[0;31m                     \u001b[0mgammat\u001b[0m \u001b[0;34m=\u001b[0m \u001b[0mself\u001b[0m\u001b[0;34m.\u001b[0m\u001b[0mdo_estep\u001b[0m\u001b[0;34m(\u001b[0m\u001b[0mchunk\u001b[0m\u001b[0;34m,\u001b[0m \u001b[0mother\u001b[0m\u001b[0;34m)\u001b[0m\u001b[0;34m\u001b[0m\u001b[0m\n\u001b[0m\u001b[1;32m    651\u001b[0m \u001b[0;34m\u001b[0m\u001b[0m\n\u001b[1;32m    652\u001b[0m                     \u001b[0;32mif\u001b[0m \u001b[0mself\u001b[0m\u001b[0;34m.\u001b[0m\u001b[0moptimize_alpha\u001b[0m\u001b[0;34m:\u001b[0m\u001b[0;34m\u001b[0m\u001b[0m\n",
      "\u001b[0;32m//anaconda/lib/python3.5/site-packages/gensim/models/ldamodel.py\u001b[0m in \u001b[0;36mdo_estep\u001b[0;34m(self, chunk, state)\u001b[0m\n\u001b[1;32m    478\u001b[0m         \u001b[0;32mif\u001b[0m \u001b[0mstate\u001b[0m \u001b[0;32mis\u001b[0m \u001b[0;32mNone\u001b[0m\u001b[0;34m:\u001b[0m\u001b[0;34m\u001b[0m\u001b[0m\n\u001b[1;32m    479\u001b[0m             \u001b[0mstate\u001b[0m \u001b[0;34m=\u001b[0m \u001b[0mself\u001b[0m\u001b[0;34m.\u001b[0m\u001b[0mstate\u001b[0m\u001b[0;34m\u001b[0m\u001b[0m\n\u001b[0;32m--> 480\u001b[0;31m         \u001b[0mgamma\u001b[0m\u001b[0;34m,\u001b[0m \u001b[0msstats\u001b[0m \u001b[0;34m=\u001b[0m \u001b[0mself\u001b[0m\u001b[0;34m.\u001b[0m\u001b[0minference\u001b[0m\u001b[0;34m(\u001b[0m\u001b[0mchunk\u001b[0m\u001b[0;34m,\u001b[0m \u001b[0mcollect_sstats\u001b[0m\u001b[0;34m=\u001b[0m\u001b[0;32mTrue\u001b[0m\u001b[0;34m)\u001b[0m\u001b[0;34m\u001b[0m\u001b[0m\n\u001b[0m\u001b[1;32m    481\u001b[0m         \u001b[0mstate\u001b[0m\u001b[0;34m.\u001b[0m\u001b[0msstats\u001b[0m \u001b[0;34m+=\u001b[0m \u001b[0msstats\u001b[0m\u001b[0;34m\u001b[0m\u001b[0m\n\u001b[1;32m    482\u001b[0m         \u001b[0mstate\u001b[0m\u001b[0;34m.\u001b[0m\u001b[0mnumdocs\u001b[0m \u001b[0;34m+=\u001b[0m \u001b[0mgamma\u001b[0m\u001b[0;34m.\u001b[0m\u001b[0mshape\u001b[0m\u001b[0;34m[\u001b[0m\u001b[0;36m0\u001b[0m\u001b[0;34m]\u001b[0m  \u001b[0;31m# avoids calling len(chunk) on a generator\u001b[0m\u001b[0;34m\u001b[0m\u001b[0m\n",
      "\u001b[0;32m//anaconda/lib/python3.5/site-packages/gensim/models/ldamodel.py\u001b[0m in \u001b[0;36minference\u001b[0;34m(self, chunk, collect_sstats)\u001b[0m\n\u001b[1;32m    456\u001b[0m                 \u001b[0;31m# Contribution of document d to the expected sufficient\u001b[0m\u001b[0;34m\u001b[0m\u001b[0;34m\u001b[0m\u001b[0m\n\u001b[1;32m    457\u001b[0m                 \u001b[0;31m# statistics for the M step.\u001b[0m\u001b[0;34m\u001b[0m\u001b[0;34m\u001b[0m\u001b[0m\n\u001b[0;32m--> 458\u001b[0;31m                 \u001b[0msstats\u001b[0m\u001b[0;34m[\u001b[0m\u001b[0;34m:\u001b[0m\u001b[0;34m,\u001b[0m \u001b[0mids\u001b[0m\u001b[0;34m]\u001b[0m \u001b[0;34m+=\u001b[0m \u001b[0mnumpy\u001b[0m\u001b[0;34m.\u001b[0m\u001b[0mouter\u001b[0m\u001b[0;34m(\u001b[0m\u001b[0mexpElogthetad\u001b[0m\u001b[0;34m.\u001b[0m\u001b[0mT\u001b[0m\u001b[0;34m,\u001b[0m \u001b[0mcts\u001b[0m \u001b[0;34m/\u001b[0m \u001b[0mphinorm\u001b[0m\u001b[0;34m)\u001b[0m\u001b[0;34m\u001b[0m\u001b[0m\n\u001b[0m\u001b[1;32m    459\u001b[0m \u001b[0;34m\u001b[0m\u001b[0m\n\u001b[1;32m    460\u001b[0m         \u001b[0;32mif\u001b[0m \u001b[0mlen\u001b[0m\u001b[0;34m(\u001b[0m\u001b[0mchunk\u001b[0m\u001b[0;34m)\u001b[0m \u001b[0;34m>\u001b[0m \u001b[0;36m1\u001b[0m\u001b[0;34m:\u001b[0m\u001b[0;34m\u001b[0m\u001b[0m\n",
      "\u001b[0;31mKeyboardInterrupt\u001b[0m: "
     ]
    }
   ],
   "source": [
    "lda = models.LdaModel(corpus, id2word=id2word, num_topics=25, passes=10)\n"
   ]
  },
  {
   "cell_type": "code",
   "execution_count": null,
   "metadata": {
    "collapsed": false
   },
   "outputs": [],
   "source": [
    "lda.print_topics(num_words=15, num_topics=25)\n"
   ]
  },
  {
   "cell_type": "code",
   "execution_count": null,
   "metadata": {
    "collapsed": true
   },
   "outputs": [],
   "source": [
    "lda_corpus = lda[corpus]"
   ]
  },
  {
   "cell_type": "code",
   "execution_count": null,
   "metadata": {
    "collapsed": true
   },
   "outputs": [],
   "source": [
    "lda_docs = [doc for doc in lda_corpus]"
   ]
  },
  {
   "cell_type": "code",
   "execution_count": null,
   "metadata": {
    "collapsed": false
   },
   "outputs": [],
   "source": [
    "lda_docs[0:5]"
   ]
  },
  {
   "cell_type": "code",
   "execution_count": null,
   "metadata": {
    "collapsed": false
   },
   "outputs": [],
   "source": [
    "len(lda_docs)"
   ]
  },
  {
   "cell_type": "code",
   "execution_count": null,
   "metadata": {
    "collapsed": true
   },
   "outputs": [],
   "source": [
    "df['lda']=lda_docs"
   ]
  },
  {
   "cell_type": "code",
   "execution_count": null,
   "metadata": {
    "collapsed": false
   },
   "outputs": [],
   "source": [
    "maj_topics= []\n",
    "topic_percentage =[]\n",
    "for i in lda_docs:\n",
    "    m =(max(i, key=lambda x: x[1]))\n",
    "\n",
    "    maj_topics.append(m[0])\n",
    "    topic_percentage.append(m[1])\n"
   ]
  },
  {
   "cell_type": "code",
   "execution_count": null,
   "metadata": {
    "collapsed": false
   },
   "outputs": [],
   "source": [
    "len(maj_topics)"
   ]
  },
  {
   "cell_type": "code",
   "execution_count": null,
   "metadata": {
    "collapsed": false
   },
   "outputs": [],
   "source": [
    "df['topics'] = maj_topics\n",
    "df['topic_percentage']=topic_percentage"
   ]
  },
  {
   "cell_type": "code",
   "execution_count": null,
   "metadata": {
    "collapsed": false
   },
   "outputs": [],
   "source": [
    "import matplotlib.pyplot as plt\n",
    "% matplotlib inline"
   ]
  },
  {
   "cell_type": "code",
   "execution_count": null,
   "metadata": {
    "collapsed": true
   },
   "outputs": [],
   "source": [
    "topics = df113.topics"
   ]
  },
  {
   "cell_type": "code",
   "execution_count": null,
   "metadata": {
    "collapsed": false
   },
   "outputs": [],
   "source": [
    "len(topics)"
   ]
  },
  {
   "cell_type": "code",
   "execution_count": 27,
   "metadata": {
    "collapsed": false
   },
   "outputs": [],
   "source": [
    "from textblob import TextBlob"
   ]
  },
  {
   "cell_type": "code",
   "execution_count": 28,
   "metadata": {
    "collapsed": true
   },
   "outputs": [],
   "source": [
    "sentiments = []\n",
    "for i in speeches:\n",
    "    speech = TextBlob(i)\n",
    "    sentiment = speech.sentiment\n",
    "    sentiments.append(sentiment)"
   ]
  },
  {
   "cell_type": "code",
   "execution_count": null,
   "metadata": {
    "collapsed": true
   },
   "outputs": [],
   "source": [
    "df['sentiment']=sentiments"
   ]
  },
  {
   "cell_type": "code",
   "execution_count": null,
   "metadata": {
    "collapsed": true
   },
   "outputs": [],
   "source": []
  }
 ],
 "metadata": {
  "kernelspec": {
   "display_name": "Python 3",
   "language": "python",
   "name": "python3"
  },
  "language_info": {
   "codemirror_mode": {
    "name": "ipython",
    "version": 3
   },
   "file_extension": ".py",
   "mimetype": "text/x-python",
   "name": "python",
   "nbconvert_exporter": "python",
   "pygments_lexer": "ipython3",
   "version": "3.5.1"
  }
 },
 "nbformat": 4,
 "nbformat_minor": 0
}
