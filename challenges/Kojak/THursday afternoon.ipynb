{
 "cells": [
  {
   "cell_type": "code",
   "execution_count": 1,
   "metadata": {
    "collapsed": true
   },
   "outputs": [],
   "source": [
    "import nltk\n",
    "import pandas as pd\n",
    "import json"
   ]
  },
  {
   "cell_type": "code",
   "execution_count": 2,
   "metadata": {
    "collapsed": true
   },
   "outputs": [],
   "source": [
    "def reading_in(file, listname):\n",
    "    with open(file) as json_data:\n",
    "            d = json.load(json_data)\n",
    "            for i in d:\n",
    "                listname.append(i)\n",
    "            json_data.close()"
   ]
  },
  {
   "cell_type": "code",
   "execution_count": 3,
   "metadata": {
    "collapsed": true
   },
   "outputs": [],
   "source": [
    "s113 = []\n",
    "reading_in('113.txt', s113)"
   ]
  },
  {
   "cell_type": "code",
   "execution_count": 4,
   "metadata": {
    "collapsed": true
   },
   "outputs": [],
   "source": [
    "df113 = pd.DataFrame(s113)"
   ]
  },
  {
   "cell_type": "code",
   "execution_count": 52,
   "metadata": {
    "collapsed": false
   },
   "outputs": [
    {
     "name": "stdout",
     "output_type": "stream",
     "text": [
      "PRESIDENT. The Chaplain will lead the Senate in prayer.\n",
      "PRESIDENT led the pledge of allegiance, as follows:       I pledge allegiance to the Flag of the United States of      America, and to the Republic for which it stands, one nation      under God, indivisible, with liberty and justice for all.\n",
      "PRESIDENT. The majority leader is recognized.\n",
      "Mr. President, I have a number of housekeeping matters I need to take care of with Senator McConnell. Senators are welcome to stay, but I know there are a lot of things going on todayreceptions and things of that nature. We are not going to have speeches today. We will have plenty of time to do that at a subsequent time. I doubt we will have any votes. There may be a need for one rollcall vote later on. We will see what happens after the House takes action today, but I hope that is not the case. So having said that, people are welcome to stay or to leave.\n",
      "PRESIDENT. The clerk will report the resolution by title.  The legislative clerk read as follows:       A resolution (S. Res. 1) informing the President of the      United States that a quorum of each House is assembled. \n",
      "Mr. President, I move to lay that motion on the table.  The motion to lay on the table was agreed to. \n",
      "pro tempore. Pursuant to S. Res. 1, the Chair appoints the Senator from Nevada, Mr. Reid, and the Senator from Kentucky, Mr. McConnell, as a committee to join the committee on the part of the House of Representatives to wait upon the President of the United States and inform him that a quorum is assembled and that the Congress is ready to receive any communication he may be pleased to make.\n",
      "Mr. President, I move to reconsider the vote by which the resolution was agreed to. \n",
      "I move to lay that motion on the table.  The motion to lay on the table was agreed to.\n",
      "pro tempore. Without objection, the resolution is considered and agreed to.  The resolution (S. Res. 2) reads as follows:                               S. Res. 2       Resolved, That the Secretary inform the House of      Representatives that a quorum of the Senate is assembled and      that the Senate is ready to proceed to business. \n",
      "Mr. President, I move to reconsider the vote by which the resolution was agreed to. \n",
      "Mr. President, I move to lay that motion on the table.  The motion to lay on the table was agreed to.\n",
      "pro tempore. Without objection, the concurrent resolution is considered and agreed to.  The concurrent resolution (S. Con. Res. 2) reads as follows:                             S. Con. Res. 2       Resolved by the Senate (the House of Representatives      concurring),     SECTION 1. REAUTHORIZATION OF JOINT COMMITTEE.       Effective from January 3, 2013, the joint committee created      by Senate Concurrent Resolution 35 (112th Congress), to make      the necessary arrangements for the inauguration of the      Presidentelect and the Vice Presidentelect of the United      States, is continued with the same power and authority      provided for in that resolution.     SEC. 2. USE OF CAPITOL.       Effective from January 3, 2013, the provisions of Senate      Concurrent Resolution 36 (112th Congress), to authorize the      use of the rotunda and Emancipation Hall of the Capitol by      the Joint Congressional Committee on Inaugural Ceremonies in      connection with the proceedings and ceremonies conducted for      the inauguration of the Presidentelect and the Vice      Presidentelect of the United States are continued with the      same power and authority provided for in that resolution. \n",
      "Mr. President, I move to reconsider the vote by which the concurrent resolution was agreed to. \n",
      "OFFICER (Mrs. Hagan). Without objection, the resolution is considered and agreed to.  The resolution (S. Res. 3) reads as follows:                               S. Res. 3       Resolved, That the daily meeting of the Senate be 12      o'clock meridian unless otherwise ordered. \n",
      "pro tempore. The clerk will report the resolution by title.  The legislative clerk read as follows:       A resolution (S. Res. 3) fixing the hour of daily meeting      of the Senate. \n",
      "I move to lay that motion on the table.  The motion to lay on the table was agreed to.\n",
      "Madam President, I move to reconsider the vote by which the resolution was agreed to. \n",
      "OFFICER. Is there objection to agreeing to these unanimous consent requests en bloc?  Without objection, it is so ordered.  The unanimous consent requests agreed to en bloc are as follows:       1. That for the duration of the 113th Congress, the Ethics      Committee be authorized to meet during the session of the      Senate;       2. That for the duration of the 113th Congress, there be a      limitation of 15 minutes each upon any rollcall vote, with      the warning signal to be sounded at the midway point,      beginning at the last 7 1/2 minutes, and when rollcall votes      are of 10minute duration, the warning signal be sounded at      the beginning of the last 7 1/2 minutes;       3. That during the 113th Congress, it be in order for the      Secretary of the Senate to receive reports at the desk when      presented by a Senator at any time during the day of the      session of the Senate;       4. That the majority and minority leaders may daily have up      to 10 minutes each on each calendar day following the prayer      and disposition of the reading of, or the approval of, the      Journal;       5. That the Parliamentarian of the House of Representatives      and his five assistants be given the privileges of the floor      during the 113th Congress;       6. That, notwithstanding the provisions of rule XXVIII,      conference reports and statements accompanying them not be      printed as Senate reports when such conference reports and      statements have been printed as a House report unless      specific request is made in the Senate in each instance to      have such a report printed;       7. That the Committee on Appropriations be authorized      during the 113th Congress to file reports during adjournments      or recesses of the Senate on appropriations bills, including      joint resolutions, together with any accompanying notices of      motions to suspend rule XVI, pursuant to rule V, for the      purpose of offering certain amendments to such bills or joint      resolutions, which proposed amendments shall be printed;       8. That, for the duration of the 113th Congress, the      Secretary of the Senate be authorized to make technical and      clerical corrections in the engrossments of all Senatepassed      bills and joint resolutions, Senate amendments to House bills      and resolutions, Senate amendments to House amendments to      Senate bills and resolutions, and Senate amendments to House      amendments to Senate amendments to House bills or      resolutions;       9. That for the duration of the 113th Congress, when the      Senate is in recess or adjournment, the Secretary of the      Senate is authorized to receive messages from the President      of the United States, andwith the exception of House bills,      joint resolutions, and concurrent resolutionsmessages from      the House of Representatives; and that they be appropriately      referred; and that the President of the Senate, the President      pro tempore, and the Acting President pro tempore be      authorized to sign duly enrolled bills and joint resolutions;       10. That for the duration of the 113th Congress, Senators      be allowed to leave at the desk with the Journal clerk the      names of two staff members who will be granted the privilege      of the floor during the consideration of the specific matter      noted, and that the Sergeant at Arms be instructed to rotate      staff members as space allows;       11. That for the duration of the 113th Congress, it be in      order to refer treaties and nominations on the day when they      are received from the President, even when the Senate has no      executive session that day; and       12. That for the duration of the 113th Congress, Senators      may be allowed to bring to the desk, bills, joint      resolutions, concurrent resolutions, and simple resolutions,      for referral to appropriate committees.\n",
      "Madam President, I send to the desk, en bloc, 12 unanimous consent requests, and I ask for their immediate consideration en bloc; that the requests be agreed to en bloc, and that they appear separately in the Record.  Before the Chair rules, however, I would like to point out that these requests are routine and done at the beginning of each new Congress. They entail issues such as authorizing the Ethics Committee to meet, authorizing the Secretary to receive reports at the desk, establishing leader time each day, and privileges of the floor for the House Parliamentarians. \n",
      "OFFICER. Without objection, it is so ordered.\n",
      "Madam President, I ask unanimous consent that the first day for the introduction of bills and joint resolutions in the 113th Congress be Tuesday, January 22, 2013. \n",
      "I move to lay that motion on the table.  The motion to lay on the table was agreed to. \n",
      "Madam President, thank you very much for your patience.\n",
      "OFFICER. The Republican leader is recognized.\n",
      "OFFICER. Under the previous order, leadership time is reserved.\n",
      "Madam President, I look forward to the dialogue among all the Members on how the Senate can reclaim its important role as a deliberative and decisionmaking body.  I want to thank Senator Udall for having been so involved in this conversation and helping to drive it forward.\n",
      "OFFICER. Objection having been heard, the resolution will go over under the rule.  The Senator from Oregon. \n",
      "Madam President, for the reasons I have stated with the other requests for unanimous consent, I do object. \n",
      "Mr. President, as the year ends, we face the sadness that surrounds the departure of good colleagues. I want to take a minute to express my pleasure in having the opportunity to know and work with Herb Kohl. We have served 16 years together on the Judiciary Committee and in the Senate. He is one of the most accomplished and courteous members of the Senate. His powerful intellect along with his vast private sector experience have given him valuable insight into the issues of our time. We shared a strong belief in the importance of the Littoral Combat Ship and in the end were both pleased to see that program move forward. As a senior member of the Judiciary Committee, Senator Kohl was a faithful member who had a remarkable ability to win the affection and respect of members. He always sought common ground rather than confrontation. It's been a real pleasure for me to get to know and to work with this remarkable, talented and good man. He has given much to the Senate. My best wishes are extended for this next chapter in his life.\n",
      "Mr. President, next week in Casper, a member of America's greatest generation will be recognized by the Casper Area Chamber of Commerce for a lifetime of service and leadership. I am honored to tell my colleagues about my friend, R. Stanley Lowe.  In 1943, Stan was in college and had been deferred from the draft because of his studies. But, at age 19, he wanted to do his part to protect our great Nation. He enlisted in the U.S. Merchant Marine. He served on five ships in the Pacific and Atlantic, each voyage lasting several months. Stan became a staff officer, in charge of personnel and payroll. He was also a chaplain and medical officer, called a pharmacist's mate and purser.  Stan served from 1943 to 1946, seeing things that would have a life long impact on him. The Merchant Marine had the highest rate of casualties of any service, dying at a rate of 1 in 26, and Stan was there to help the injured and comfort the dying.  Following his service, he returned to Wyoming to complete his law degree and then practice law in Rawlins. It was there he met the love of his life, Anne ``Pat'' Kirtland Selden Lowe, while they were skiing. She was remarkable, too. Pat was among the first female geologistsand a scholarship in her name continues to support students pursuing degrees in geology at the University of Wyoming.  Wyoming has benefited immensely from Stan's career. He served in the State House of Representatives and was elected to be the county and prosecuting attorney for Carbon County. He spent the majority of his distinguished career as general counsel for True Oil. In 1985, Stan led a delegation of American lawyers on a goodwill tour to China. The legal profession benefited from his wisdom through his service as counsel for the American Judicature Society.  While practicing law, he never forgot about his service and his fellow veterans. Stan was appointed to the Wyoming Veterans' Affairs Commission by Governor Mike Sullivan in 1991 and upon his retirement he was named chair emeritus. In 2003, Stan was awarded the Civilian Meritorious Service Medal. Stan has led the efforts to expand Wyoming's only Veterans Cemetery. His passion for history paved the ground for the Wyoming Veterans Memorial Museum.  Stan served in supportive and leadership roles in multiple veterans' organizations. Stan is a 3 year district commander of the American Legion. He was recently honored with the title of Honorary Past Department Commander, a title only given four other times in the history of the Wyoming American Legion. Stan continues to highlight veterans events and issues through his weekly article in the Casper Journal and attends almost every troop homecoming and veterans event.  Wyoming's veterans have benefitted immensely from Stan Lowe's wisdom and leadership. Stan will turn 90 this year. Wyoming continues to look to Stan as the voice for veterans. My wife, Bobbi, and I are happy to have Stan as our friend, and veterans all over Wyoming are fortunate because Stan chose to serve.\n",
      "of New Mexico (for Mr. Harkin (for himself              and Ms. Mikulski)):       S. Res. 5. A resolution amending the Standing Rules of the      Senate to provide for cloture to be invoked with less than a      threefifths majority after additional debate; submitted and      read.           By\n",
      "(for Mr. Lautenberg):       S. Res. 7. A resolution to permit the Senate to avoid      unnecessary delay and vote on matters for which floor debate      has ceased; submitted and read.           By\n",
      "(for himself and Mr. McConnell):       S. Con. Res. 3. A concurrent resolution providing for a      conditional adjournment or recess of the Senate and an      adjournment of the House of Representatives; considered and      agreed to.\n",
      "of Nevada (for himself and Mr. McConnell) submitted the following resolution; which was considered and agreed to:                               S. Res. 2       Resolved, That the Secretary inform the House of      Representatives that a quorum of the Senate is assembled and      that the Senate is ready to proceed to business.\n",
      "of Nevada (for himself and Mr. McConnell) submitted the following resolution; which was considered and agreed to:                               S. Res. 3       Resolved, That the daily meeting of the Senate be 12      o'clock meridian unless otherwise ordered.\n",
      "of New Mexico (for himself, Mr. Merkley, and Mr. Harkin) submitted the following resolution; which was submitted and read:                               S. Res. 4       Resolved,     SECTION 1. MOTIONS TO PROCEED.       Paragraph 1 of rule XXII of the Standing Rules of the      Senate is amended by inserting at the end the following new      paragraph:       ``Other than a motion made during the first 2 hours of a      new legislative day as described in paragraph 2 of rule VIII,      consideration of a motion to proceed to the consideration of      any debatable matter, including debate on any debatable      motion or appeal in connection therewith, shall be limited to      not more than 2 hours, to be equally divided between, and      controlled by, the Majority Leader and the Minority Leader or      their designees. This paragraph shall not apply to motions      considered nondebatable by the Senate pursuant to rule or      precedent.''.     SEC. 2. EXTENDED DEBATE.       Paragraph 2 of rule XXII of the Standing Rules of the      Senate is amended by striking the second undesignated      paragraph and inserting the following:       ``Is it the sense of the Senate that the debate shall be      brought to a close? And if that question shall be decided in      the affirmative by threefifths of the Senators duly chosen      and sworn, except on a measure or motion to amend the Senate      rules, in which case the necessary affirmative vote shall be      twothirds of the Senators voting, a quorum being present,      then cloture has been invoked.       ``If that question is on disposition of a bill or joint      resolution, a resolution or concurrent resolution, a      substitute amendment for a bill or resolution, a motion with      respect to amendments between the Houses, a conference      report, or advice and consent to a nomination or treaty, and      if such question shall be decided in the affirmative by a      majority of Senators voting, a quorum being present, but less      than threefifths of the Senators duly chosen and sworn (or      less than twothirds of the Senators voting, a quorum being      present, in the case of a measure or motion to amend the      Senate rules), then it shall be in order for the Majority      Leader (or his or her designee) to initiate a period of      extended debate upon the measure, motion, or other matter      pending before the Senate, or the unfinished business, in      relation to which the motion to close debate was offered, in      which case the period of extended debate shall begin one hour      later.       ``During a period of extended debate, such measure, motion,      or other matter pending before the Senate, or the unfinished      business, shall be the unfinished business to the exclusion      of all other business, except on action or motion by the      Majority Leader (or his or her designee).       ``During a period of extended debate it shall not be in      order for a Senator other than the Majority Leader (or his or      her designee) to raise a question as to the presence of a      quorum, except immediately prior to a vote or when it has      been more than fortyeight hours since a quorum was      demonstrated. If upon a roll call it shall be ascertained      that a quorum is not present, then the Senate shall adjourn      to a time previously decided by order of the Senate or, if no      such time has been established, then to a time certain      determined by the Majority Leader, after consultation with      the Minority Leader.       ``During a period of extended debate a motion to adjourn or      recess shall not be in order, unless made by the Majority      Leader (or his or her designee) or if the absence of a quorum      has been demonstrated. Notwithstanding paragraph 1 of rule      XIX, there shall be no limit to the number of times a Senator      may speak upon any question during a period of extended      debate.       ``If, during the course of extended debate, the Presiding      Officer puts any question to a vote, the Majority Leader (or      his or her designee) may postpone any such vote, which shall      occur at a time determined by the Majority Leader, after      consultation with the Minority leader, but not later than the      time at which a quorum is next demonstrated.       ``If at any time during a period of extended debate no      Senator seeks recognition, then the Presiding Officer shall      inquire as to whether any Senator seeks recognition. If no      Senator seeks recognition, then the Presiding Officer shall      again put the question as to bringing debate to a close (and      the Majority Leader or his or her designee may postpone such      vote in accordance with the preceding paragraph), which shall      be decided without further debate or intervening motion. If      that question shall be decided in the affirmative by a      majority of Senators voting, a quorum being present, then      cloture has been invoked and the period of extended debate      has ended. If that question shall be decided in the negative      by a majority of Senators voting, a quorum being present,      then the period of extended debate has ended.       ``If cloture is invoked, then the measure, motion, other      matter pending before the Senate, or the unfinished business,      in relation to which the motion to close debate was offered,      shall remain the unfinished business to the exclusion of all      other business until disposed of.''.     SEC. 3. POSTCLOTURE DEBATE ON NOMINATIONS.       Paragraph 2 of rule XXII of the Standing Rules of the      Senate is amended by striking ``After no more than thirty      hours of consideration of the measure, motion, or other      matter on which cloture has been invoked, the Senate shall      proceed, without any further debate on any question, to vote      on'' in the fourth undesignated paragraph and inserting      ``After no more than 30 hours of consideration of the      measure, motion, or other matter on which cloture has been      invoked, except on the question of advice and consent to a      nomination other than a nomination to a position as Justice      of the Supreme Court in which case consideration shall be      limited to 2 hours, the Senate shall proceed, without any      further debate on any question, to vote on''.     SEC. 4. CONFERENCE MOTIONS.       Rule XXVIII of the Standing Rules of the Senate is amended      by       (1) redesignating paragraphs 1 through 9 as paragraphs 2      through 10, respectively;       (2) redesignating any reference to paragraphs 1through 9 as      paragraph 2 through 10, respectively; and       (3) inserting before paragraph 2, as redesignated, the      following:       ``1. A nondivisible motion to disagree to a House amendment      or insist upon a Senate amendment, to request a committee of      conference with the House or to agree to a request by the      House for a committee of conference, and to authorize the      Presiding Officer to appoint conferees (or to appoint      conferees), is in order and consideration of such a motion,      including consideration of any debatable motion or appeal in      connection therewith, shall be limited to not more than 2      hours.''.\n",
      "submitted the following resolution; which was submitted and read:                               S. Res. 6       Resolved,     SECTION 1. EXTENDED DEBATE.       Paragraph 2 of rule XXII of the Standing Rules of the      Senate is amended by striking the second undesignated      paragraph and inserting the following:       ``Is it the sense of the Senate that the debate shall be      brought to a close? And if that question shall be decided in      the affirmative by threefifths of the Senators duly chosen      and sworn, except on a measure or motion to amend the Senate      rules, in which case the necessary affirmative vote shall be      twothirds of the Senators voting, a quorum being present,      then cloture has been invoked.       ``If that question is on disposition of a bill or joint      resolution, a resolution or concurrent resolution, a      substitute amendment for a bill or resolution, a motion with      respect to amendments between the Houses, a conference      report, or advice and consent to a nomination or treaty, and      if such question shall be decided in the affirmative by a      majority of Senators voting, a quorum being present, but less      than threefifths of the Senators duly chosen and sworn (or      less than twothirds of the Senators voting, a quorum being      present, in the case of a measure or motion to amend the      Senate rules), then it shall be in order for the Majority      Leader (or his or her designee) to initiate a period of      extended debate upon the measure, motion, or other matter      pending before the Senate, or the unfinished business, in      relation to which the motion to close debate was offered, in      which case the period of extended debate shall begin one hour      later.       ``During a period of extended debate, such measure, motion,      or other matter pending before the Senate, or the unfinished      business, shall be the unfinished business to the exclusion      of all other business, except on action or motion by the      Majority Leader (or his or her designee).       ``During a period of extended debate it shall not be in      order for a Senator other than the Majority Leader (or his or      her designee) to raise a question as to the presence of a      quorum, except immediately prior to a vote or when it has      been more than fortyeight hours since a quorum was      demonstrated. If upon a roll call it shall be ascertained      that a quorum is not present, then the Senate shall adjourn      to a time previously decided by order of the Senate or, if no      such time has been established, then to a time certain      determined by the Majority Leader, after consultation with      the Minority Leader.       ``During a period of extended debate a motion to adjourn or      recess shall not be in order, unless made by the Majority      Leader (or his or her designee) or if the absence of a quorum      has been demonstrated. Notwithstanding paragraph 1 of rule      XIX, there shall be no limit to the number of times a Senator      may speak upon any question during a period of extended      debate.       ``If, during the course of extended debate, the Presiding      Officer puts any question to a vote, the Majority Leader (or      his or her designee) may postpone any such vote, which shall      occur at a time determined by the Majority Leader, after      consultation with the Minority leader, but not later than the      time at which a quorum is next demonstrated.       ``If at any time during a period of extended debate no      Senator seeks recognition, then the Presiding Officer shall      inquire as to whether any Senator seeks recognition. If no      Senator seeks recognition, then the Presiding Officer shall      again put the question as to bringing debate to a close (and      the Majority Leader or his or her designee may postpone such      vote in accordance with the preceding paragraph), which shall      be decided without further debate or intervening motion. If      that question shall be decided in the affirmative by a      majority of Senators voting, a quorum being present, then      cloture has been invoked and the period of extended debate      has ended. If that question shall be decided in the negative      by a majority of Senators voting, a quorum being present,      then the period of extended debate has ended.       ``If cloture is invoked, then the measure, motion, other      matter pending before the Senate, or the unfinished business,      in relation to which the motion to close debate was offered,      shall remain the unfinished business to the exclusion of all      other business until disposed of.''.\n",
      "of Nevada (for himself and Mr. McConnell) submitted the following concurrent resolution; which was considered and agreed to:                             S. Con. Res. 1       Resolved by the Senate (the House of Representatives      concurring), That the two Houses of Congress shall meet in      the Hall of the House of Representatives on Thursday, the 4th      day of January 2013, at 1 o'clock post meridian, pursuant to      the requirements of the Constitution and laws relating to the      election of President and Vice President of the United      States, and the President of the Senate shall be their      Presiding Officer; that two tellers shall be previously      appointed by the President of the Senate on the part of the      Senate and two by the Speaker on the part of the House of      Representatives, to whom shall be handed, as they are opened      by the President of the Senate, all the certificates and      papers purporting to be certificates of the electoral votes,      which certificates and papers shall be opened, presented, and      acted upon in the alphabetical order of the States, beginning      with the letter ``A''; and said tellers, having then read the      same in the presence and hearing of the two Houses, shall      make a list of the votes as they shall appear from said      certificates; and the votes having been ascertained and      counted in the manner and according to the rules by law      provided, the result of the same shall be delivered to the      President of the Senate, who shall thereupon announce the      state of the vote, which announcement shall be deemed a      sufficient declaration of the persons, if any, elected      President and Vice President of the United States, and,      together with a list of the votes, be entered on the Journals      of the two Houses.\n",
      "of Nevada (for himself and Mr. McConnell) submitted the following concurrent resolution; which was considered and agreed to:                             S. Con. Res. 2       Resolved by the Senate (the House of Representatives      concurring),     SECTION 1. REAUTHORIZATION OF JOINT COMMITTEE.       Effective from January 3, 2013, the joint committee created      by Senate Concurrent Resolution 35 (112th Congress), to make      the necessary arrangements for the inauguration of the      Presidentelect and the Vice Presidentelect of the United      States, is continued with the same power and authority      provided for in that resolution.     SEC. 2. USE OF CAPITOL.       Effective from January 3, 2013, the provisions of Senate      Concurrent Resolution 36 (112th Congress), to authorize the      use of the rotunda and Emancipation Hall of the Capitol by      the Joint Congressional Committee on Inaugural Ceremonies in      connection with the proceedings and ceremonies conducted for      the inauguration of the Presidentelect and the Vice      Presidentelect of the United States are continued with the      same power and authority provided for in that resolution.\n",
      "Madam President, I ask unanimous consent that the order for the quorum call be rescinded. \n",
      "OFFICER. Without objection, it is so ordered.\n",
      "of Nevada (for himself and Mr. McConnell) submitted the following concurrent resolution; which was considered and agreed to:                             S. Con. Res. 3       Resolved by the Senate (the House of Representatives      concurring), That when the Senate recesses or adjourns on any      day from Friday, January 4, 2013 through Monday, January 21,      2013, on a motion offered pursuant to this concurrent      resolution by its Majority Leader or his designee, it stand      recessed or adjourned until 12:00 noon on Monday, January 21,      2013, or such other time on that day as may be specified by      its Majority Leader or his designee in the motion to recess      or adjourn, or until the time of any reassembly pursuant to      section 2 of this concurrent resolution, whichever occurs      first; and that when the House adjourns on any legislative      day from Friday, January 4, 2013, through Saturday, January      5, 2013, on a motion offered pursuant to this concurrent      resolution by its Majority Leader or his designee, it stand      adjourned until 2:00 p.m. on Monday, January 14, 2013, or      until the time of any reassembly pursuant to section 2 of      this concurrent resolution, whichever occurs first.       Sec. 2. The Majority Leader of the Senate and the Speaker      of the House, or their respective designees, acting jointly      after consultation with the Minority Leader of the Senate and      the Minority Leader of the House, shall notify the Members of      the Senate and House, respectively, to reassemble at such      place and time as they may designate if, in their opinion,      the public interest shall warrant it.  I suggest the absence of a quorum. \n",
      "Madam President, I ask unanimous consent that the Senate stand in recess subject to the call of the Chair. \n",
      "OFFICER. Without objection, it is so ordered.  There being no objection, the Senate, at 1:08 p.m., recessed subject to the call of the Chair and reassembled at 4:08, when called to order by the Presiding Officer (Mr. Sanders).\n",
      "OFFICER. The Chair lays before the Senate communications from the Director of the National Archives, transmitting, pursuant to the law, certified copies of the final ascertainment of the electors for President and Vice President, which are ordered to lie on the table.  The majority leader.\n",
      "OFFICER. Without objection, it is so ordered.\n",
      "Mr. President, I ask unanimous consent that when the Senate completes its business today, it recess until 12:30 p.m. tomorrow, Friday, January 4, 2013; that following the prayer and pledge, the Journal of proceedings be approved to date, and the time for the two leaders be reserved for their use later in the day; that following any leader remarks, the Senate recess for the joint session for the counting of electoral votes to elect Barack Obama President. \n",
      "Mr. President, Senators will gather at 12:45 p.m. tomorrow to proceed together to the joint session.\n",
      "Mr. President, if there is no further business to come before the Senate, I ask unanimous consent that the Senate recess under the previous order.  There being no objection, the Senate, at 4:09 p.m., recessed until Friday, January 4, 2013, at 12:30 p.m.\n",
      "thereupon assumed the chair as Acting President pro tempore.\n",
      "OFFICER. The clerk will please read a communication to the Senate from the President pro tempore (Mr. Leahy).  The legislative clerk read the following letter.                                                      U.S. Senate,                                        President pro tempore,                                  Washington, DC, January 4, 2013.     To the Senate:       Under the provisions of rule I, paragraph 3, of the      Standing Rules of the Senate, I hereby appoint the Honorable      Tom Udall, a Senator from the State of New Mexico, to perform      the duties of the Chair.                                                 Patrick J. Leahy,                                            President pro tempore. \n",
      "PRESIDENT pro tempore. The majority leader is recognized.\n",
      "Mr. President, the Senate will recess for the joint session for the counting of electoral votes.  Following the joint session, we are hoping to complete action on part of the flood insurance of the Sandy supplemental, which the House just passed.\n",
      "PRESIDENT pro tempore. The Senator from New York is recognized.\n",
      "Mr. President, in the years I have served in legislative bodies, which is quite a long time now, it is interesting to see how different people approach the legislative process. I have learned over the years there is nothing more important than people working hard. You have to be tenacious to get legislation passed.  The leader of passing Sandy over hereand I am confident when we get back in a couple of weeks after the House works on theirs, the same dynamic will be herethe senior Senator from New York has worked tirelessly to get legislation passed. He has led a team effort of Senators from New Jersey and his partner, Senator Gillibrand, but the leader, the quarterback, has been the Senator from New York.  The work he has done not only in the Senate, but having the many years of experience he had in the House of Representatives, the Presiding Officer, the senior Senator from New York, worked day and night making phone calls, personal contacts with people in New York and New Jersey who could call House Members and have them pass this legislation.  On the way back from the joint session dealing with the electoral vote count, he walked up and grabbed medid not grab me, but we talked for several minutes walking back to the Senatethe majority leader from the House of Representatives. He worked extremely hard on this. He worked hard on it. I indicated to him that I had received calls from people in New York who appreciated very much his efforts to try to get this thing passed.  I really do believe it is important that I have the record reflect the reason we have gotten as far as we have on Sandy is because of the senior Senator from New York. It is too bad that it has taken so long. When we had that devastation from Katrina, we were there within days taking care of Mississippi, Alabama, and especially Louisianawithin days. We are now past 2 months with the people of New York and New Jersey.  The people of New Orleans and that area, they were hurt but nothing in comparison to what happened to the people in New York and New Jersey. Almost 1 million people have lost their homes; 1 million people lost their homes. That is homes, that is not people in those homes. So I think it is just unfortunate that we do not have the relief for New York and New Jersey and the rest already. It has to be done. We have to meet the needs of the American people when an act of God occurs.  So I, on behalf of the entire Senate, and certainly my Democratic caucus, express my appreciation to the legislative initiative and the legislative expertise of my friend from New York, an experienced legislator in the State of New York, the House of Representatives, and the Senate. He has done a masterful job.\n",
      "alone has taken out a $5 billion loan, but it will be in real financial jeopardy unless it is assured that it will be reimbursed for all the damage that Sandy caused to our railroads and our tunnels and our mass transit systemour amazing mass transit system that brings 3\\1/2\\ million people off and on Manhattan Island every single day.  What is not in this bill is help to bring the electricity system back up to snuff so there will not be major blackouts, so people can be assured of their electricity.  What is not in this bill is help for all of the communities that laid out hundreds of millions and billions of dollars for the cleanup. Their taxpayers will foot the bill unless Congress does what it has always done: step to the plate when a major disaster occurs and have the Federal Government help the locality. There has been a wisdom for 100 years that when an area is afflicted by a disaster, we unite as a nation and come together and help that part of the country whether it is New Mexico or California or Louisiana or Florida or Missouri or North Dakota or New York or New Jersey.  This bill is a first step to deal with flood insurance. It is the easiest part. The hard stuff is still ahead of us. We await the House returning in a week and a half, and we hope and expect, in fact, that they will vote the full $51 billion remainder. We hope and expect, in fact, that they will not put in legislative language that prevents money from getting to homeowners and communities that need it desperately right away.  The draft we have seen contains some major changes from the Senate bill that would make it very difficult for NIH, the Army Corps, and other parts of the government to spend the dollars that are needed efficiently and quickly and to place them where they go. We beseech the House to finish its business, to finish the major part of its business, and approve the $51 billion that will make up the rest of the $60.  We beseech them not to hamstring the local homeowners and businesses and governments with language that would prevent recovery. We beseech them to move quickly. Of course, the ideal would be for them to pass the same bill that the Senate passed in the waning hours of the last session. If they cannot, we will have to get legislation through the body again. But through the generosity of the majority leader, he has assured us it will be the first order of business when we return. So we have to move forward.  As we have seen, this is not going to be easy. There are many bumps in the road and obstacles that we cannot yet see. For sure they will arise and for sure we will have to grapple with them.  This vote needs to be the beginning of the process. It cannot certainly be the end, and it certainly cannot be the middle. We cannot just pass the $9 billion bill and then say that is it. We cannot let the House pass this and rest on its laurels. We in New York and New Jersey cannot let our guard down. Not until the full $60 billion arrives in New York and New Jersey can we stop working. So I urge my colleagues to support this legislation and then alert them to keep the victims of Sandy in New York, New Jersey, and elsewhere in their thoughts so that we can continue to support the region when we return.  I yield the floor, and I suggest the absence of a quorum. \n",
      "OFFICER (Mr. Schumer). Without objection, it is so ordered. \n",
      "PRESIDENT pro tempore. The clerk will call the roll.  The legislative clerk proceeded to call the roll. \n",
      "OFFICER. Without objection, it is so ordered.\n",
      "Mr. President, I ask unanimous consent the Senate proceed to a period of morning business with Senators permitted to speak for up to 10 minutes each. \n",
      "of New Mexico. Mr. President, just a few weeks ago Americans gathered all across the Nation to commemorate Veterans Day. It is a day that we set aside to remember, and express our gratitude to, the men and women who have served in our Armed Forces. It is a day to honor the heroes among us, and those who, sadly, have left us.  Today I wish to pay tribute to an American hero, Army SGT Clinton K. Ruiz. Sergeant Ruiz died on October 25 while on patrol in Uruzgan Province, Afghanistan, from injuries sustained from small arms fire. He was just 22 years old. He leaves behind a wife, Kira, and a baby son, Caleb.  As we face the tragedy of this brave young soldier's death, it is important too that we remember his life. Sergeant Ruiz's journey on this Earth ended far too soon, but his memory among those whose lives he touched, and in a nation's gratitude, will endure.  Clinton Ruiz was born on March 14, 1990. He graduated from Murrieta Valley High School in Murrieta, CA, and enlisted with the Army in 2009. He was assigned to A Company, 9th Military Information Support Battalion, 8th Military Information Support Group. Sergeant Ruiz was deployed to Afghanistan in September.  In the decade that our military has been fighting in Afghanistan, thousands of our fellow citizens have volunteered to serve. These courageous men and women risk their own safety to protect the safety of others. They leave their homes and their loved ones to defend the freedoms that we hold dear. Over 2,000 of these heroes have paid the ultimate price, for our freedoms, in Afghanistan.  Words cannot lessen the sorrow of the loved ones who grieve for Sergeant Ruiz now. Words cannot fully express the gratitude our Nation owes this valiant soldier. We can only remember, indeed we must never forget, the sacrifice that SGT Clinton Ruiz made in service to our country.  President Kennedy said that ``stories of past courage . . . can teach, they can offer hope, they can provide inspiration. But, they cannot supply courage itself. For this, each man must look into his own soul.'' Sergeant Clinton Ruiz had such courage. In the face of great danger, at great risk to himself, he went where his country sent him. He was awarded the Bronze Star and the Purple Heart. He kept the promise he had made to serve. Our Nation is forever in his debt.  Sergeant Ruiz loved his family. He loved his country. He made the ultimate sacrifice defending it. To Sergeant Ruiz's family, I offer my deepest sympathies. We honor Sergeant Ruiz's courage. We remember his sacrifice. And we mourn your loss.\n",
      "of New Mexico. Mr. President, just a few weeks ago our Nation commemorated Veterans Day. It is above all a day of remembrance and gratitude. A time to remember the courage and sacrifice of the brave men and women who have served our Nation in the Armed Forces. It is a day when we pay tribute to the heroes among us. And to those who are no longer with us.  Today I wish to honor one of those heroes. On Tuesday, October 30, our Nation lost a great American, Navajo Code Talker George Smith. Mr. Smith was born on June 15, 1922, in Mariano Lake, NM, and was Salt People Clan, born for Black Streak Wood People Clan. In 1943, he enlisted with the Marines. He was trained as a Navajo Code Talker and achieved the rank of corporal while serving in the Pacific. Corporal Smith fought in battles in Saipan, Tinian, Ryukyu Islands. He also served in Okinawa, Hawaii, and Japan. His brother, Albert Smith, also trained as a Code Talker, and served with him.  The Marines who constituted the Navajo Code Talkers were small in number, but monumental in significance. Their skills were crucial to American victory in the Pacific during World War II. They turned their language into an unbreakable code. In battle after battle, in the thick of ferocious combat, they used that code as a powerful weapon in securing Allied victory. Our Nation will never forget what George Smith, and his brother, Albert Smith, and all of their fellow Code Talkers accomplished.  Their service is all the more poignant in that they fought for freedom in a world that did not always accord freedom to them. When America entered World War II, the U.S. government had only recognized Native Americans as citizens for 17 years. In some places, tribal members still did not have the right to vote. 45,000 of the 350,000 Native Americans in the U.S. at that time served in the war. This tradition of military service by Native Americans continues to this day. Native Americans have the highest rate of service of any ethnic group.  Mr. Smith was awarded the Congressional Silver Medal. After the war, Code Talker Smith returned home and dedicated himself to his family and community. He worked at Fort Wingate in disposing of old ammunition, and then as a mechanic at Fort Wingate Trading Post. Eventually, he went to Fort Defiance, where he served as a shop foreman. He later worked as a heavy equipment mechanic in Shiprock.  Code Talker George Smith was blessed with a long life. When he passed away last month, he was 90 years old. He will be missed by his family, his friends, and his community, and he will always be remembered by a grateful nation. I extend my deepest sympathies to his family. We are forever in his debt. I hope that those who mourn him now will find comfort in all that he accomplished. His life made a difference. His invaluable service during World War II saved lives. Our Nation is free because of heroes like Code Talker George Smith.\n",
      "of New Mexico. Mr. President, in the annals of our Nation's military history, the story of the defenders of Bataan will long live in our collective memory. One of those great defenders, Mr. Virgil Wallace, recently passed away at the age of 99. Mr. Wallace survived the 4 month battle, the infamous Bataan Death March, and 3 years of horrendous captivity. He was the State of New Mexico's oldest Bataan veteran.  Our Nation is forever in debt to the extraordinary courage and sacrifice that Mr. Wallace and the ``Battling Bastards of Bataan'' demonstrated in the early days of World War II. Their heroic resistance helped slow the Japanese advance, allowing crucial time for the Allied forces to reorganize and eventually reverse Japan's progress. They played a crucial role in our Nation's history. I am proud to have sponsored legislation to award these valiant soldiers the Congressional Gold Medal.  The Japanese attack on the Philippines in December, 1941, just hours after the attack on Pearl Harbor, led to 4 months of intense combat. Outnumbered, outgunned, Mr. Wallace and his fellow soldiers put up a desperate fight. For 4 months, they struggled, they valiantly fought, against impossible odds, and without hope of resupply, until they finally surrendered.  Their suffering was only just beginning. The brutal Bataan Death March was followed by terrible conditions in Japanese prisons and work camps. Starvation. Torture. Forced work. And, for so many of these brave men, death. By the time they were rescued, toward the end of the war, half of New Mexico's 1,800 soldiers serving in Bataan had died. Another 300 would die from complications related to their captivity within a year of returning to the U.S. Mr. Wallace was held captive for more than 3 horrific years.  Virgil Wallace was awarded the Bronze Star and numerous other commendations for his heroic service. After the war, he returned to New Mexico, where he worked for the Department of Transportation and later Carrie Tingley Hospital in Truth or Consequences.  Our Nation will long remember this courageous soldier, a man who gave so much in service to his country. Mr. Wallace is one of the last of a legendary band of brothers, who represented the very best of who we are. In the dark days of the beginning of World War II, they showed America's fighting spirit and inspired a nation.  I extend my deepest sympathies to Mr. Wallace's family and friends. I hope that you will find comfort in your memories of his long, and distinguished, life. We honor his valor and his example, and we mourn your loss.\n",
      "OFFICER. Without objection, it is so ordered.\n",
      "Mr. President, I ask unanimous consent that the motion to reconsider be laid upon the table with no intervening action or debate. \n",
      "OFFICER. Without objection, it is so ordered.\n",
      "Mr. President, I ask unanimous consent that from Friday, January 4, through Monday, January 21, the majority leader be authorized to sign duly enrolled bills or joint resolutions. \n",
      "OFFICER. Without objection, it is so ordered.\n",
      "Mr. President, I ask unanimous consent that when the Senate completes its business today, it recess under the provisions of S. Con. Res. 3 until 11:30 a.m. on Monday, January 21, 2013, for the Joint Session of the Inaugural Ceremonies, and that upon conclusion of the joint session, the Senate recess until 10 a.m. on Tuesday, January 22, 2013; that following the prayer and pledge, the Journal of proceedings be approved to date and the time for the two leaders be reserved for their use later in the day; that following any leader remarks, the Senate be in a period of morning business for debate only until 12:30 p.m., with Senators permitted to speak therein for up to 10 minutes each; and that the Senate recess from 12:30 p.m. to 2:15 p.m. to allow for the weekly caucus meetings. \n",
      "Mr. President, if there is no further business to come before the Senate, I ask unanimous consent that the Senate recess under the previous order.  There being no objection, the Senate, at 2:11 p.m., adjourned until Monday, January 21, 2013, at 11:30 a.m.\n",
      "pro tempore. Under the previous order, the leadership time is reserved.\n",
      "pro tempore. The majority leader is recognized.\n",
      "Mr. President, following leader remarks, if any, the Senate will be in a period of morning business until 12:30 today. During that period of time, Senators will be permitted to speak for up to 10 minutes each. We will be in recess from 12:30 until 2:15 to allow for our weekly caucus meetings.\n",
      "OFFICER (Mr. Schatz). The Republican leader is recognized.\n",
      "Mr. President, I wish to start by congratulating President Obama on his inauguration. Presidential inaugurations are always a time for the country to come together. We all feel a certain pride in the event, and we are reminded of how fortunate we are to live in a Nation where we have the ability to choose our leaders freely and resolve our differences in peace. Inauguration Day is also a time for new beginnings, a chance to learn from the mistakes and missed opportunities of the past as we reengage in some vitally important debates about our future.  Too often over the past 4 years, political considerations have trumped the need to put our country on a sound financial footing and a path to prosperity. Today we should recommit ourselves to the task of facing up to our problems headon. I understand that the passions of an election can sometimes overshadow the business of governing, but the Presidential campaign is now behind us, and so it is my hope that the President will finally be willing to do what Republicans have been asking him to do since his first inauguration 4 years ago, and that is to work with us on identifying durable solutions to the problems we can only solve together, to put aside those things we know we can't agree on and focus on what we can.  We should start with spending and debt because if we don't get a handle on that, nothing else matters. If we don't work together to strengthen our entitlement programs, they will go bankrupt. Automatic cuts will be forced on seniors already receiving benefits, rendering worthless the promises they have built their retirements around. It is nice to say, as the President did yesterday, that these programs free us to take the risks that make our country great, but if we don't act to strengthen and protect them now, in a few years they simply won't be there in their current form. And if we don't work together to control the debt, then the cost of our interest payments alone will eventually crowd out funding for things we all agree onfrom defense, to infrastructure, and assistance for those who need it most. In short, the debate we are now engaged in over the growing Federal debt is about much more than numbers on a page; it is about the cost of inaction in terms of promises broken, jobs lost, and dreams deferred. That is why there is simply no more time to waste.  Over the past 4 years, while the President focused on reelection and too many Senate Democrats focused on avoiding tough decisions, the debt grew by more than $6 trillion. We saw the President blast House Republicans for doing their job and passing a budget while Senate Democrats didn't even propose one. Rather than work with us to save existing entitlements, we saw the President team up with Democrats in Congress to force through a brandnew entitlement that will make it even harder to cover the cost of programs we already have. In short, Democrats have put off the hard stuff until now, and our problems have only gotten worse.  But that was the first term. A second term presents the opportunity to do things differently, and in the Senate that means a return to regular order. Later this week the House plans to send the Senate a bill to address the debt limit in a timely manner. Once we get it, the Senate should quickly respond. If the Senate version is different from the one the House sends over, send it to conference. That is how things are supposed to work around here. We used to call it legislating.  I know a lot of Democrats are afraid of a process that exposes their priorities, particularly on spending and debt. After nearly 4 years of refusing to pass a budget, they have only now reluctantly agreed to develop a spending plan for the coming fiscal year. All I would say to that is since the revenue question has been settled, I am sure the American people are eager to see what other ideas Democrats might have to bring down our ruinous deficits.  Let me just say that one thing Americans will no longer tolerate is an attitude that says we can put off our work until the very last minute. They are tired of eleventhhour deals. They are tired of careening from crisis to crisis, and so am I.  The good news is that a return to regular order is the surest way to solve the problems we face. And I hope some of my friends on the other side will agree that there is value in this body actually functioning the way it was intended to. Let's face it. The status quo isn't working. The Senate isn't functioning as it should. It has nothing to do with the process that has served us well for a very long time. But if we work together and strive to avoid some of the bad habits that have developed around here, I truly believe we will be able to achieve the kinds of solutions that have eluded us for the past 4 years and deliver some positive results for the people who sent us here, with time to spare.  We can do better. I know my constituents expect better than what they have been getting from Congress in recent years, and so should we.  Mr. President, I yield the floor.\n",
      "OFFICER. Under the previous order, the Senate will be in a period of morning business for debate only until 12:30 p.m., with Senators permitted to speak therein for up to 10 minutes each.  The Senator from Indiana.\n",
      "of New Mexico. Mr. President, I ask unanimous consent that the order for the quorum call be rescinded. \n",
      "OFFICER. Without objection, it is so ordered.\n",
      "of Colorado. In looking at this, I do not see anything in the proposals, and I think we, in working on this together, tried to bring a discipline to it that said we want to preserve the best traditions of the Senate, we want the minority to be heard, we want the minority to have amendments, and we want them included in the process. What we don't want is the tyranny of the minority. And the Founders talked about the tyranny of the minority. They talked about the fact that if you allowed a small minority to govern and block the governing of the majority, that was the tyranny of the minority, and they feared that.  So I think that when we consider this and we talk about the filibuster and our institution today, our Senate, where many times the Republican leader has come to the floor and said that it is going to take 60 votes, everything takes 60 votes, that isn't the way the Founders designed it. The Founders actually had very strong language for what they thought of supermajorities.  Everybody remembers their history. The Founders came off the Articles of Confederation. It was a supermajority. It didn't work. It was broken. So they only put into the Constitution in five places supermajoritiesthings such as expelling a Member and ratifying a treatybut otherwise it was simple majorities. And when the history is going to be written, it is hard to tell how this happened. But to have a leader of the Senate stand and say that everything takes 60 votesthe Founders never contemplated that. When they adopted rule XXII in 1917, that wasn't what they were trying to do, and the rule has actually been turned on its head.  Madam President, I yield the floor. \n",
      "OFFICER. The Senator from Oregon. \n",
      "Madam President, I would like to follow up on the last point Senator Udall of New Mexico made about our Founders.  I have in my hand three of the Federalist Papers, Federalist Papers 22, 75, and 58. These are by Madison and Hamilton, and they explore this issue of the supermajority. It was a very conscious decision that a supermajority was not put into the Constitution for decisions of these Chambers. And the reason whyand they explained it more eloquentlyis essentially that if you take the path that the minority thinks is the right path rather than the path the majority thinks is the right path, then over time you make a series of worse decisions. The minority might be right on occasion, but most of the time the viewpoint brought by those representing the greatest number of States in this case or the greatest number of citizens on the House side is the path that makes sense. And they warned about the supermajority as an instrument that would bring paralysis. It is almost as if they could look forward 200 years to this moment and say: Don't do that because you will end up with paralysis.  This is from Federalist Paper No. 22 by Alexander Hamilton. He wrote this in 1787, and he notes in commenting about the issue of a simple majority that ``there is commonly a necessity for action. The public business must, in some way or other, go forward. If a pertinacious minority can control the opinion of a majority, respecting the best mode of conducting it, the majority, in order that something may be done, must conform to the views of the minority; and thus the sense of the smaller number will overrule that of the greater, and give a tone to the national proceedings. Hence, tedious delays; continual negotiation and intrigue; contemptible compromises of the public good.''  Let me read that last set of words about what Hamilton said would happen if you had a supermajority requirement in the Senate: ``tedious delays; continual negotiation and intrigue; contemptible compromises of the public good.'' I think anyone watching the proceedings of the Senate for the last 2 years would say that Hamilton was right on the mark in that regard. And, of course, he was not alone. There was not a single Federalist Paper written arguing that there should be a supermajority in the Senate or the House because of the experience that had been had previous to forming the strategy embodied in the Constitution.  Let's turn to James Madison. In Federalist 58, James Madison said:       It has been said that more than a majority ought to have      been required for a quorum . . .  He goes on to discuss it in various views, and he said:       Lastly, it would facilitate and foster the baneful practice      of secessions; a practice which has shown itself even in      States where a majority only is required; a practice      subversive  And here is the key language       a practice subversive of all the principles of order and      regular government; a practice which leads more directly to      public convulsions, and the ruin of popular governments, than      any other which has yet been displayed among us.  He also made the point that we would end up with equitable sacrifices to the general wealor general good.  So as we turn to our conversations in our respective caucuses and to the dialog here on the floor of the Senate, I ask my colleagues to search your hearts about our responsibility to the citizens of the United States of America to address the big issues facing America, which means that we don't paralyze this body in secret. If my colleagues have points to make, then make them as was done during the periods of great debate on the floor of the Senate: Make them on the floor of the Senate, engage in that debate, and when no more is to be said, when all 100 Senators say: We have had our full input, then let's make a decision.  Madam President, I yield the floor.\n",
      "OFFICER. The Senator from Illinois is recognized.\n",
      "I suggest the absence of a quorum. \n",
      "OFFICER. Without objection, it is so ordered.\n",
      "Madam President, I ask unanimous consent the order for the quorum call be rescinded. \n",
      "OFFICER. Without objection, it is so ordered.\n",
      "Mr. President, I ask unanimous consent that the order for the quorum call be rescinded. \n",
      "OFFICER. Without objection, it is so ordered.\n",
      "Mr. President, I ask unanimous consent that the period for morning business be extended until 5 p.m. today, and that all provisions of the previous order remain in effect. \n",
      "Madam President, I ask unanimous consent that the order for the quorum call be rescinded. \n",
      "OFFICER (Ms. Warren). Without objection, it is so ordered.\n",
      "Madam President, I suggest the absence of a quorum. \n",
      "OFFICER (Mr. Donnelly). Without objection, it is so ordered.\n",
      "Mr. President, I ask unanimous consent that the order for the quorum call be rescinded. \n",
      "Mr. President, I ask unanimous consent that the Senate proceed to a period of morning business, with Senators permitted to speak therein for up to 10 minutes each. \n",
      "OFFICER. Without objection, it is so ordered.\n",
      "Mr. President, I am proud to join my colleagues in remembering our friend and colleague Senator Daniel Inouye. Dan Inouye dedicated his life to Hawaii and represented Hawaii from when it achieved statehood until his death.  Senator Inouye was respected and loved by members of both parties and both chambers. He was the last Senator to serve with both Everett Dirksen and Richard Russell. Senator Inouye learned early the importance of doing something for the good of the Nation and the good of the Senate, as well as the importance of personal relationships and trust among colleagues. For Dan Inouye, his word was his bond and that applied to Democrats and Republicans alike. He became the chairman of the Appropriations Committee, the Senate President ProTempore, was the second longest serving Senator in history and served on special committees investigating the Watergate and Iran Contra scandals. At the time of his death, he had long become a Senate giant in his own right.  Long before reaching the Senate, Dan Inouye was an American hero. Enlisting in the Army after the bombing of Pearl Harbor, he served in Europe earning a Bronze Star, Purple Heart and Distinguished Service Cross for helping his fellow soldiers while suffering terrible injuries. Later in life, President Clinton would confer upon him the Medal of Honor.  His moral character and life experiences made Senator Inouye a leader on many of the pressing issues of the day from civil rights to veterans benefits and from health care to helping people with disabilities. Through his position on the Appropriations Committee, Senator Inouye was able to direct funding to important projects and research that helped bring about important advancements as well as simply help people.  Dan Inouye was also a strong supporter of Israel and the Jewish community. From his advocacy on behalf of Holocaust survivors, to his efforts to help free Jews from the former Soviet Union to his influential role in securing funding for Israel, Senator Inouye was a tireless friend and advocate. He was given the nickname ``Trumpeldor'' after a Zionist hero, Joseph Trumpeldor.  In closing, I am reminded of a quote used to eulogize Daniel Webster that President Nixon used when eulogizing Everett Dirksen, ``Our great men are the common property of the country.'' Senator Inouye was indeed a great man and our country is better off today for his commitment, his conscience and his years of dedicated service.\n",
      "      S.J. Res. 1. A joint resolution proposing an amendment to      the Constitution of the United States requiring that the      Federal budget be balanced; to the Committee on the      Judiciary.\n",
      "(for himself, Mr. Vitter, Mr. Lee, Mr.              Rubio, Mr. Enzi, Mr. Barrasso, Mr. Chambliss, Mr.              Inhofe, Mr. Blunt, Mr. Johnson of Wisconsin, Mr.              Heller, Mr. Flake, Mr. Risch, Ms. Ayotte, Mr.              Isakson, Mr. Grassley, and Mr. Cruz):       S. 46. A bill to protect Social Security benefits and      military pay and require that the United States Government      prioritize all obligations on the debt held by the public in      the event that the debt limit is reached; to the Committee on      Finance.           By\n"
     ]
    }
   ],
   "source": [
    "for i in df113.speech[:100]:\n",
    "    print(i)\n",
    "    print"
   ]
  },
  {
   "cell_type": "code",
   "execution_count": 6,
   "metadata": {
    "collapsed": true
   },
   "outputs": [],
   "source": [
    "import numpy as np\n",
    "import pandas as pd\n",
    "import nltk\n",
    "from bs4 import BeautifulSoup\n",
    "import re\n",
    "import os\n",
    "import codecs\n",
    "from sklearn import feature_extraction\n",
    "import mpld3"
   ]
  },
  {
   "cell_type": "code",
   "execution_count": 8,
   "metadata": {
    "collapsed": true
   },
   "outputs": [],
   "source": [
    "#import three lists: titles, links and wikipedia synopses\n",
    "titles = df113.title\n",
    "\n",
    "links = df113.url\n",
    "\n",
    "speech = df113.speech\n",
    "\n",
    "speaker = df113.speaker\n",
    "date = df113.date\n",
    "\n"
   ]
  },
  {
   "cell_type": "code",
   "execution_count": 9,
   "metadata": {
    "collapsed": true
   },
   "outputs": [],
   "source": [
    "\n",
    "# load nltk's English stopwords as variable called 'stopwords'\n",
    "stopwords = nltk.corpus.stopwords.words('english')"
   ]
  },
  {
   "cell_type": "code",
   "execution_count": 10,
   "metadata": {
    "collapsed": true
   },
   "outputs": [],
   "source": [
    "# load nltk's SnowballStemmer as variabled 'stemmer'\n",
    "from nltk.stem.snowball import SnowballStemmer\n",
    "stemmer = SnowballStemmer(\"english\")"
   ]
  },
  {
   "cell_type": "code",
   "execution_count": 11,
   "metadata": {
    "collapsed": true
   },
   "outputs": [],
   "source": [
    "# here I define a tokenizer and stemmer which returns the set of stems in the text that it is passed\n",
    "\n",
    "def tokenize_and_stem(text):\n",
    "    # first tokenize by sentence, then by word to ensure that punctuation is caught as it's own token\n",
    "    tokens = [word for sent in nltk.sent_tokenize(text) for word in nltk.word_tokenize(sent)]\n",
    "    filtered_tokens = []\n",
    "    # filter out any tokens not containing letters (e.g., numeric tokens, raw punctuation)\n",
    "    for token in tokens:\n",
    "        if re.search('[a-zA-Z]', token):\n",
    "            filtered_tokens.append(token)\n",
    "    stems = [stemmer.stem(t) for t in filtered_tokens]\n",
    "    return stems\n",
    "\n",
    "\n",
    "def tokenize_only(text):\n",
    "    # first tokenize by sentence, then by word to ensure that punctuation is caught as it's own token\n",
    "    tokens = [word.lower() for sent in nltk.sent_tokenize(text) for word in nltk.word_tokenize(sent)]\n",
    "    filtered_tokens = []\n",
    "    # filter out any tokens not containing letters (e.g., numeric tokens, raw punctuation)\n",
    "    for token in tokens:\n",
    "        if re.search('[a-zA-Z]', token):\n",
    "            filtered_tokens.append(token)\n",
    "    return filtered_tokens"
   ]
  },
  {
   "cell_type": "code",
   "execution_count": 13,
   "metadata": {
    "collapsed": false
   },
   "outputs": [],
   "source": [
    "\n",
    "totalvocab_stemmed = []\n",
    "totalvocab_tokenized = []\n",
    "for i in speech:\n",
    "    allwords_stemmed = tokenize_and_stem(i)\n",
    "    totalvocab_stemmed.extend(allwords_stemmed)\n",
    "    \n",
    "    allwords_tokenized = tokenize_only(i)\n",
    "    totalvocab_tokenized.extend(allwords_tokenized)"
   ]
  },
  {
   "cell_type": "code",
   "execution_count": 14,
   "metadata": {
    "collapsed": true
   },
   "outputs": [],
   "source": [
    "vocab_frame = pd.DataFrame({'words': totalvocab_tokenized}, index = totalvocab_stemmed)\n"
   ]
  },
  {
   "cell_type": "code",
   "execution_count": 43,
   "metadata": {
    "collapsed": false
   },
   "outputs": [
    {
     "name": "stdout",
     "output_type": "stream",
     "text": [
      "CPU times: user 1min 1s, sys: 876 ms, total: 1min 2s\n",
      "Wall time: 1min 6s\n",
      "(16586, 134154)\n"
     ]
    }
   ],
   "source": [
    "from sklearn.feature_extraction.text import TfidfVectorizer\n",
    "\n",
    "tfidf_vectorizer = TfidfVectorizer(max_df=0.02, max_features=200000,\n",
    "                                 min_df=2, stop_words='english',\n",
    "                                 use_idf=True, tokenizer=tokenize_and_stem, ngram_range=(1,3))\n",
    "\n",
    "%time tfidf_matrix = tfidf_vectorizer.fit_transform(speech)\n",
    "\n",
    "print(tfidf_matrix.shape)"
   ]
  },
  {
   "cell_type": "code",
   "execution_count": 44,
   "metadata": {
    "collapsed": true
   },
   "outputs": [],
   "source": [
    "\n",
    "terms = tfidf_vectorizer.get_feature_names()"
   ]
  },
  {
   "cell_type": "code",
   "execution_count": 45,
   "metadata": {
    "collapsed": true
   },
   "outputs": [],
   "source": [
    "from sklearn.metrics.pairwise import cosine_similarity\n",
    "dist = 1 - cosine_similarity(tfidf_matrix)\n"
   ]
  },
  {
   "cell_type": "code",
   "execution_count": 46,
   "metadata": {
    "collapsed": false
   },
   "outputs": [
    {
     "name": "stdout",
     "output_type": "stream",
     "text": [
      "CPU times: user 48.5 s, sys: 3.82 s, total: 52.3 s\n",
      "Wall time: 53.7 s\n"
     ]
    }
   ],
   "source": [
    "from sklearn.cluster import KMeans\n",
    "\n",
    "num_clusters = 25\n",
    "\n",
    "km = KMeans(n_clusters=num_clusters)\n",
    "\n",
    "%time km.fit(tfidf_matrix)\n",
    "\n",
    "clusters = km.labels_.tolist()"
   ]
  },
  {
   "cell_type": "code",
   "execution_count": 47,
   "metadata": {
    "collapsed": true
   },
   "outputs": [],
   "source": [
    "from sklearn.externals import joblib\n",
    "\n",
    "joblib.dump(km,  'doc_cluster.pkl')\n",
    "km = joblib.load('doc_cluster.pkl')\n",
    "clusters = km.labels_.tolist()"
   ]
  },
  {
   "cell_type": "code",
   "execution_count": 48,
   "metadata": {
    "collapsed": false
   },
   "outputs": [
    {
     "data": {
      "text/plain": [
       "16586"
      ]
     },
     "execution_count": 48,
     "metadata": {},
     "output_type": "execute_result"
    }
   ],
   "source": [
    "len(clusters)"
   ]
  },
  {
   "cell_type": "code",
   "execution_count": 49,
   "metadata": {
    "collapsed": false
   },
   "outputs": [],
   "source": [
    "import pandas as pd\n",
    "\n",
    "df113['cluster']=clusters"
   ]
  },
  {
   "cell_type": "code",
   "execution_count": 50,
   "metadata": {
    "collapsed": false
   },
   "outputs": [
    {
     "data": {
      "text/plain": [
       "7     14020\n",
       "3       240\n",
       "5       239\n",
       "19      216\n",
       "14      210\n",
       "15      188\n",
       "9       183\n",
       "11      182\n",
       "6       136\n",
       "24      133\n",
       "13      118\n",
       "10      111\n",
       "4       109\n",
       "1       107\n",
       "16       96\n",
       "22       90\n",
       "8        69\n",
       "23       68\n",
       "17       33\n",
       "12       29\n",
       "18        3\n",
       "21        2\n",
       "20        2\n",
       "2         1\n",
       "0         1\n",
       "Name: cluster, dtype: int64"
      ]
     },
     "execution_count": 50,
     "metadata": {},
     "output_type": "execute_result"
    }
   ],
   "source": [
    "df113['cluster'].value_counts()"
   ]
  },
  {
   "cell_type": "code",
   "execution_count": 51,
   "metadata": {
    "collapsed": false
   },
   "outputs": [
    {
     "name": "stdout",
     "output_type": "stream",
     "text": [
      "Top terms per cluster:\n",
      "\n",
      "Cluster 0 words: b'clarified', b'agent', b'states', b'code', b'credential', b'agent',\n",
      "\n",
      "\n",
      "\n",
      "Cluster 1 words: b'consent', b'unanimous', b'consent', b'passed', b'passed', b'time',\n",
      "\n",
      "\n",
      "\n",
      "Cluster 2 words: b'senate', b'white', b'judges', b'white', b'select', b'florida',\n",
      "\n",
      "\n",
      "\n",
      "Cluster 3 words: b'objection', b'ordered', b'submitted', b'preamble', b'agreed', b'resolution',\n",
      "\n",
      "\n",
      "\n",
      "Cluster 4 words: b'proceed', b'proceed', b'senate', b'consent', b'officer', b'february',\n",
      "\n",
      "\n",
      "\n",
      "Cluster 5 words: b'tempore', b'pro', b'tempore', b'majority', b'zulkosky', b'february',\n",
      "\n",
      "\n",
      "\n",
      "Cluster 6 words: b'xxii', b'rule', b'mandatory', b'consent', b'consent', b'waived',\n",
      "\n",
      "\n",
      "\n",
      "Cluster 7 words: b'motion', b'ordered', b'resume', b'resume', b'senate', b'question',\n",
      "\n",
      "\n",
      "\n",
      "Cluster 8 words: b'objection', b'objection', b'officer', b'tempore', b'pro', b'tempore',\n",
      "\n",
      "\n",
      "\n",
      "Cluster 9 words: b'tempore', b'tempore', b'pro', b'february', b'february', b'february',\n",
      "\n",
      "\n",
      "\n",
      "Cluster 10 words: b'senate', b'senate', b'senate', b'clerk', b'clerk', b'pleased',\n",
      "\n",
      "\n",
      "\n",
      "Cluster 11 words: b'assumed', b'chair', b'chair', b'assumed', b'acting', b'acting',\n",
      "\n",
      "\n",
      "\n",
      "Cluster 12 words: b'officer', b'officer', b'republican', b'republican', b'leader', b'ncaa',\n",
      "\n",
      "\n",
      "\n",
      "Cluster 13 words: b'table', b'laid', b'table', b'ordered', b'previous', b'ordered',\n",
      "\n",
      "\n",
      "\n",
      "Cluster 14 words: b'leadership', b'previous', b'ordered', b'ordered', b'time', b'leadership',\n",
      "\n",
      "\n",
      "\n",
      "Cluster 15 words: b'proceed', b'proceed', b'senate', b'morning', b'business', b'consent',\n",
      "\n",
      "\n",
      "\n",
      "Cluster 16 words: b'h.r', b'h.r', b'objection', b'ordered', b'ordered', b'ordered',\n",
      "\n",
      "\n",
      "\n",
      "Cluster 17 words: b'president', b'president', b'proceed', b'proceed', b'mr.', b'madam',\n",
      "\n",
      "\n",
      "\n",
      "Cluster 18 words: b'naturopathic', b'naturopathic', b'medicine', b'october', b'provided', b'safe',\n",
      "\n",
      "\n",
      "\n",
      "Cluster 19 words: b'consent', b'consent', b'unanimous', b'agreed', b'resolution', b'preamble',\n",
      "\n",
      "\n",
      "\n",
      "Cluster 20 words: b'warsaw', b'polish', b'uprising', b'warsaw', b'polish', b'resistance',\n",
      "\n",
      "\n",
      "\n",
      "Cluster 21 words: b'resolution', b'recognized', b'survived', b'states', b'essentially', b'essentially',\n",
      "\n",
      "\n",
      "\n",
      "Cluster 22 words: b'officer', b'officer', b'morning', b'business', b'minutes', b'minutes',\n",
      "\n",
      "\n",
      "\n",
      "Cluster 23 words: b'senate', b'senate', b'j.', b'senate', b'commonwealth', b'senate',\n",
      "\n",
      "\n",
      "\n",
      "Cluster 24 words: b'suggest', b'suggest', b'absence', b'absence', b'suggest', b'president',\n",
      "\n",
      "\n",
      "\n"
     ]
    }
   ],
   "source": [
    "from __future__ import print_function\n",
    "\n",
    "print(\"Top terms per cluster:\")\n",
    "print()\n",
    "order_centroids = km.cluster_centers_.argsort()[:, ::-1]\n",
    "for i in range(num_clusters):\n",
    "    print(\"Cluster %d words:\" % i, end='')\n",
    "    for ind in order_centroids[i, :6]:\n",
    "        print(' %s' % list((vocab_frame.ix[terms[ind].split(' ')]).values)[0][0].encode('utf-8', 'ignore'), end=',')\n",
    "    print()\n",
    "    print()\n",
    "    \n",
    "    print()\n",
    "    print()"
   ]
  },
  {
   "cell_type": "code",
   "execution_count": null,
   "metadata": {
    "collapsed": true
   },
   "outputs": [],
   "source": []
  }
 ],
 "metadata": {
  "kernelspec": {
   "display_name": "Python 3",
   "language": "python",
   "name": "python3"
  },
  "language_info": {
   "codemirror_mode": {
    "name": "ipython",
    "version": 3
   },
   "file_extension": ".py",
   "mimetype": "text/x-python",
   "name": "python",
   "nbconvert_exporter": "python",
   "pygments_lexer": "ipython3",
   "version": "3.5.1"
  }
 },
 "nbformat": 4,
 "nbformat_minor": 0
}
