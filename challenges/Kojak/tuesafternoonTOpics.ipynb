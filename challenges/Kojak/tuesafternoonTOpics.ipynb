{
 "cells": [
  {
   "cell_type": "code",
   "execution_count": 4,
   "metadata": {
    "collapsed": true
   },
   "outputs": [],
   "source": [
    "topics_50 = [(0, '0.002*addiction + 0.001*sexual + 0.001*assault + 0.001*sexual assault + 0.001*prescription + 0.001*gun + 0.001*air force + 0.001*trafficking + 0.001*opioid + 0.001*epidemic + 0.001*heroin + 0.001*drugs + 0.001*flint + 0.001*mental + 0.001*recovery + 0.001*korea + 0.001*pipeline + 0.001*north korea + 0.001*campus + 0.001*wage + 0.001*lynch + 0.000*overdose + 0.000*pain + 0.000*cte + 0.000*keystone + 0.000*isis + 0.000*mental health + 0.000*want thank + 0.000*cara + 0.000*amp'), (1, '0.001*atlantic + 0.001*chemical + 0.001*substance + 0.001*coal + 0.001*member state + 0.001*sale + 0.001*shelf + 0.001*continental + 0.001*outer + 0.001*continental shelf + 0.001*outer continental + 0.001*notice + 0.001*substances + 0.001*scalia + 0.001*regulation + 0.001*revenues + 0.001*mid + 0.001*epa + 0.001*mid atlantic + 0.001*south atlantic + 0.001*obamacare + 0.001*subcommittee + 0.001*drinking water + 0.001*drinking + 0.001*export + 0.001*producing + 0.001*advisory + 0.001*leasing + 0.001*treasury + 0.001*flint'), (2, '0.002*dr + 0.001*new hampshire + 0.001*hampshire + 0.001*african + 0.001*enforcement officers + 0.001*black + 0.001*bank + 0.001*grade + 0.001*indicated + 0.001*following named + 0.001*appointment + 0.001*kentucky + 0.001*whites + 0.001*sarah + 0.001*line duty + 0.001*grade indicated + 0.001*police officers + 0.001*jr + 0.001*church + 0.001*michael + 0.001*immigration + 0.001*criminal justice + 0.001*african americans + 0.001*james + 0.001*mary + 0.001*st + 0.001*chuck + 0.001*jim + 0.001*kansas + 0.001*deputy'), (3, '0.008*striking + 0.008*inserting + 0.005*small business + 0.004*sbir + 0.003*sttr + 0.003*act amended + 0.002*il + 0.002*ca + 0.002*jo + 0.002*au + 0.002*ma + 0.002*mx + 0.002*bh + 0.002*bh ca + 0.002*om + 0.002*pe + 0.002*kr + 0.002*cl + 0.002*sg + 0.002*pilot + 0.002*pe sg + 0.002*federal agency + 0.002*pa + 0.002*pilot program + 0.002*ma mx + 0.002*il jo + 0.002*pa pe + 0.002*sbir program + 0.002*amended striking + 0.002*ca cl'), (4, '0.004*zika + 0.003*obamacare + 0.003*space + 0.002*rocket + 0.002*virus + 0.002*zika virus + 0.002*competition + 0.001*atlas + 0.001*engine + 0.001*launch + 0.001*ebola + 0.001*proposal + 0.001*medicaid + 0.001*nasa + 0.001*equipment + 0.001*control senate + 0.001*disease + 0.001*republicans control + 0.001*ndaa + 0.001*air force + 0.001*public health + 0.001*nelson + 0.001*care act + 0.001*health insurance + 0.001*infected + 0.001*vietnam + 0.001*affordable care + 0.001*missions + 0.001*dakota + 0.001*spread'), (5, '0.003*judge + 0.002*social security + 0.002*trump + 0.002*gdp + 0.002*nominee + 0.002*percent gdp + 0.002*republican leader + 0.002*gdp growth + 0.002*judicial + 0.001*nominees + 0.001*judiciary committee + 0.001*disability + 0.001*evidence + 0.001*judges + 0.001*garland + 0.001*clinton + 0.001*donald + 0.001*donald trump + 0.001*confirmed + 0.001*paycheck + 0.001*justices + 0.001*quarter + 0.001*essentially + 0.001*vacancy + 0.001*circuit + 0.001*minority leader + 0.001*commissioner + 0.001*senate republicans + 0.001*telling + 0.001*frustration'), (6, '0.003*vietnam + 0.002*linda + 0.002*david + 0.002*air force + 0.002*puerto + 0.001*rico + 0.001*puerto rico + 0.001*unit + 0.001*national guard + 0.001*soldiers + 0.001*flight + 0.001*memorial + 0.001*sacrifice + 0.001*coast guard + 0.001*doug + 0.001*sergeant + 0.001*infantry + 0.001*medal + 0.001*arkansas + 0.001*soldier + 0.001*aircraft + 0.001*fort + 0.001*park + 0.001*isis + 0.001*commander + 0.001*marine + 0.001*football + 0.001*servicemembers + 0.001*naval + 0.001*alaska'), (7, '0.002*sanctions + 0.001*alaska + 0.001*iranian + 0.001*regime + 0.001*syria + 0.001*cyber + 0.001*banks + 0.001*veto + 0.001*illegal + 0.001*nuclear weapons + 0.001*korea + 0.001*weapon + 0.001*israel + 0.001*iran deal + 0.001*human rights + 0.001*ballistic + 0.001*bridge + 0.001*north korea + 0.001*nuclear deal + 0.001*security council + 0.001*deal iran + 0.001*foreign policy + 0.001*immigration + 0.001*president united + 0.001*bank + 0.001*negotiations + 0.000*missile + 0.000*elections + 0.000*delay + 0.000*cyber security'), (8, '0.005*nominations + 0.004*appeared + 0.004*congressional record + 0.004*received senate + 0.004*senate appeared + 0.004*appeared congressional + 0.002*nominations received + 0.002*nominations beginning + 0.002*enrollment + 0.002*concurrent + 0.001*colorado + 0.001*dual + 0.001*loan + 0.001*perkins + 0.001*courses + 0.001*dual enrollment + 0.001*army nomination + 0.001*secondary education + 0.001*child left + 0.001*perkins loan + 0.001*succeed + 0.001*record april + 0.001*concurrent dual + 0.001*loan program + 0.001*record january + 0.001*concurrent enrollment + 0.001*army nominations + 0.001*care act + 0.001*higher education + 0.001*affordable care'), (9, '0.004*indian + 0.002*pipeline + 0.001*iowa + 0.001*indian country + 0.001*championship + 0.001*small businesses + 0.001*indian tribe + 0.001*elementary secondary + 0.001*tribes + 0.001*secondary education + 0.001*keystone + 0.001*small business + 0.001*indian tribes + 0.001*detention + 0.001*coach + 0.001*foster + 0.001*season + 0.001*justice programs + 0.001*office justice + 0.001*dakota + 0.001*game + 0.001*tribal + 0.001*tribe + 0.001*poverty areas + 0.001*areas indian + 0.001*rural poverty + 0.001*foster care + 0.001*hockey + 0.001*identifies + 0.001*basketball'), (10, '0.003*outlays + 0.003*budget authority + 0.002*authority outlays + 0.002*related agencies + 0.001*congressional budget + 0.001*revenues + 0.001*pay raise + 0.001*deficit + 0.001*pursuant section + 0.001*budget act + 0.001*health human + 0.001*human services + 0.001*fiscal years + 0.001*discretionary + 0.001*development related + 0.001*current level + 0.001*enacted + 0.001*cbo + 0.001*budget resolution + 0.001*allocation + 0.001*congressional committees + 0.001*appropriate congressional + 0.001*pursuant subsection + 0.001*mike + 0.001*reprogrammed + 0.001*transferred reprogrammed + 0.001*spending plan + 0.001*committee appropriations + 0.001*transferred + 0.001*arms export'), (11, '0.002*climate + 0.001*climate change + 0.001*west virginia + 0.001*disease + 0.001*vermont + 0.001*china + 0.001*coal + 0.001*carbon + 0.001*people united + 0.001*maine + 0.001*cancer + 0.001*mental + 0.001*pools + 0.001*dr + 0.001*kentucky + 0.001*seniors + 0.001*youth + 0.001*emissions + 0.000*young people + 0.000*fuel + 0.000*mental health + 0.000*human rights + 0.000*leahy + 0.000*centers + 0.000*military operations + 0.000*patients + 0.000*considered agreed + 0.000*adults + 0.000*ernst mr + 0.000*conditional offer'), (12, '0.005*program management + 0.004*military selective + 0.003*service act + 0.003*arsenal + 0.003*office management + 0.003*management budget + 0.003*activities department + 0.003*improvement + 0.003*program project + 0.003*project management + 0.003*manufacturing + 0.003*manufacturing arsenal + 0.003*military manufacturing + 0.003*management improvement + 0.002*chairperson + 0.002*later days + 0.002*chemical substance + 0.002*contracts + 0.002*business concerns + 0.002*deputy + 0.002*managers + 0.002*deputy director + 0.002*director management + 0.002*sunset + 0.002*days date + 0.002*strengths + 0.002*program managers + 0.002*prescribe + 0.002*year military + 0.002*authorize appropriations'), (13, '0.004*dollar + 0.003*currency + 0.002*currency currency + 0.002*highway + 0.002*va + 0.002*command + 0.001*equivalent + 0.001*foreign equivalent + 0.001*town + 0.001*agreements + 0.001*dollar dollar + 0.001*rail + 0.001*equivalent foreign + 0.001*colorado + 0.001*cyber + 0.001*trade agreements + 0.001*loans + 0.001*short term + 0.001*loan + 0.001*pacific + 0.001*promotion + 0.001*germany + 0.001*trade promotion + 0.001*tpp + 0.001*trade agreement + 0.001*veteran + 0.001*business loans + 0.001*promotion authority + 0.001*alaska + 0.001*farmers'), (14, '0.005*selective + 0.005*selective service + 0.002*et + 0.002*seq + 0.002*et seq + 0.002*act et + 0.002*contractor + 0.002*exceed + 0.002*criminal history + 0.002*applicants + 0.002*expenses + 0.002*employee + 0.002*compact + 0.002*applicant + 0.002*inserting + 0.002*strike + 0.001*pool + 0.001*expended + 0.001*prohibition + 0.001*section act + 0.001*contract + 0.001*issued + 0.001*violation + 0.001*conditional + 0.001*tribal + 0.001*covered + 0.001*striking + 0.001*making appropriations + 0.001*page line + 0.001*ending september')]\n"
   ]
  },
  {
   "cell_type": "code",
   "execution_count": 5,
   "metadata": {
    "collapsed": false
   },
   "outputs": [
    {
     "data": {
      "text/plain": [
       "15"
      ]
     },
     "execution_count": 5,
     "metadata": {},
     "output_type": "execute_result"
    }
   ],
   "source": [
    "len(topics_50)"
   ]
  },
  {
   "cell_type": "code",
   "execution_count": 7,
   "metadata": {
    "collapsed": false
   },
   "outputs": [
    {
     "name": "stdout",
     "output_type": "stream",
     "text": [
      "(0, '0.002*addiction + 0.001*sexual + 0.001*assault + 0.001*sexual assault + 0.001*prescription + 0.001*gun + 0.001*air force + 0.001*trafficking + 0.001*opioid + 0.001*epidemic + 0.001*heroin + 0.001*drugs + 0.001*flint + 0.001*mental + 0.001*recovery + 0.001*korea + 0.001*pipeline + 0.001*north korea + 0.001*campus + 0.001*wage + 0.001*lynch + 0.000*overdose + 0.000*pain + 0.000*cte + 0.000*keystone + 0.000*isis + 0.000*mental health + 0.000*want thank + 0.000*cara + 0.000*amp')\n",
      "(1, '0.001*atlantic + 0.001*chemical + 0.001*substance + 0.001*coal + 0.001*member state + 0.001*sale + 0.001*shelf + 0.001*continental + 0.001*outer + 0.001*continental shelf + 0.001*outer continental + 0.001*notice + 0.001*substances + 0.001*scalia + 0.001*regulation + 0.001*revenues + 0.001*mid + 0.001*epa + 0.001*mid atlantic + 0.001*south atlantic + 0.001*obamacare + 0.001*subcommittee + 0.001*drinking water + 0.001*drinking + 0.001*export + 0.001*producing + 0.001*advisory + 0.001*leasing + 0.001*treasury + 0.001*flint')\n",
      "(2, '0.002*dr + 0.001*new hampshire + 0.001*hampshire + 0.001*african + 0.001*enforcement officers + 0.001*black + 0.001*bank + 0.001*grade + 0.001*indicated + 0.001*following named + 0.001*appointment + 0.001*kentucky + 0.001*whites + 0.001*sarah + 0.001*line duty + 0.001*grade indicated + 0.001*police officers + 0.001*jr + 0.001*church + 0.001*michael + 0.001*immigration + 0.001*criminal justice + 0.001*african americans + 0.001*james + 0.001*mary + 0.001*st + 0.001*chuck + 0.001*jim + 0.001*kansas + 0.001*deputy')\n",
      "(3, '0.008*striking + 0.008*inserting + 0.005*small business + 0.004*sbir + 0.003*sttr + 0.003*act amended + 0.002*il + 0.002*ca + 0.002*jo + 0.002*au + 0.002*ma + 0.002*mx + 0.002*bh + 0.002*bh ca + 0.002*om + 0.002*pe + 0.002*kr + 0.002*cl + 0.002*sg + 0.002*pilot + 0.002*pe sg + 0.002*federal agency + 0.002*pa + 0.002*pilot program + 0.002*ma mx + 0.002*il jo + 0.002*pa pe + 0.002*sbir program + 0.002*amended striking + 0.002*ca cl')\n",
      "(4, '0.004*zika + 0.003*obamacare + 0.003*space + 0.002*rocket + 0.002*virus + 0.002*zika virus + 0.002*competition + 0.001*atlas + 0.001*engine + 0.001*launch + 0.001*ebola + 0.001*proposal + 0.001*medicaid + 0.001*nasa + 0.001*equipment + 0.001*control senate + 0.001*disease + 0.001*republicans control + 0.001*ndaa + 0.001*air force + 0.001*public health + 0.001*nelson + 0.001*care act + 0.001*health insurance + 0.001*infected + 0.001*vietnam + 0.001*affordable care + 0.001*missions + 0.001*dakota + 0.001*spread')\n",
      "(5, '0.003*judge + 0.002*social security + 0.002*trump + 0.002*gdp + 0.002*nominee + 0.002*percent gdp + 0.002*republican leader + 0.002*gdp growth + 0.002*judicial + 0.001*nominees + 0.001*judiciary committee + 0.001*disability + 0.001*evidence + 0.001*judges + 0.001*garland + 0.001*clinton + 0.001*donald + 0.001*donald trump + 0.001*confirmed + 0.001*paycheck + 0.001*justices + 0.001*quarter + 0.001*essentially + 0.001*vacancy + 0.001*circuit + 0.001*minority leader + 0.001*commissioner + 0.001*senate republicans + 0.001*telling + 0.001*frustration')\n",
      "(6, '0.003*vietnam + 0.002*linda + 0.002*david + 0.002*air force + 0.002*puerto + 0.001*rico + 0.001*puerto rico + 0.001*unit + 0.001*national guard + 0.001*soldiers + 0.001*flight + 0.001*memorial + 0.001*sacrifice + 0.001*coast guard + 0.001*doug + 0.001*sergeant + 0.001*infantry + 0.001*medal + 0.001*arkansas + 0.001*soldier + 0.001*aircraft + 0.001*fort + 0.001*park + 0.001*isis + 0.001*commander + 0.001*marine + 0.001*football + 0.001*servicemembers + 0.001*naval + 0.001*alaska')\n",
      "(7, '0.002*sanctions + 0.001*alaska + 0.001*iranian + 0.001*regime + 0.001*syria + 0.001*cyber + 0.001*banks + 0.001*veto + 0.001*illegal + 0.001*nuclear weapons + 0.001*korea + 0.001*weapon + 0.001*israel + 0.001*iran deal + 0.001*human rights + 0.001*ballistic + 0.001*bridge + 0.001*north korea + 0.001*nuclear deal + 0.001*security council + 0.001*deal iran + 0.001*foreign policy + 0.001*immigration + 0.001*president united + 0.001*bank + 0.001*negotiations + 0.000*missile + 0.000*elections + 0.000*delay + 0.000*cyber security')\n",
      "(8, '0.005*nominations + 0.004*appeared + 0.004*congressional record + 0.004*received senate + 0.004*senate appeared + 0.004*appeared congressional + 0.002*nominations received + 0.002*nominations beginning + 0.002*enrollment + 0.002*concurrent + 0.001*colorado + 0.001*dual + 0.001*loan + 0.001*perkins + 0.001*courses + 0.001*dual enrollment + 0.001*army nomination + 0.001*secondary education + 0.001*child left + 0.001*perkins loan + 0.001*succeed + 0.001*record april + 0.001*concurrent dual + 0.001*loan program + 0.001*record january + 0.001*concurrent enrollment + 0.001*army nominations + 0.001*care act + 0.001*higher education + 0.001*affordable care')\n",
      "(9, '0.004*indian + 0.002*pipeline + 0.001*iowa + 0.001*indian country + 0.001*championship + 0.001*small businesses + 0.001*indian tribe + 0.001*elementary secondary + 0.001*tribes + 0.001*secondary education + 0.001*keystone + 0.001*small business + 0.001*indian tribes + 0.001*detention + 0.001*coach + 0.001*foster + 0.001*season + 0.001*justice programs + 0.001*office justice + 0.001*dakota + 0.001*game + 0.001*tribal + 0.001*tribe + 0.001*poverty areas + 0.001*areas indian + 0.001*rural poverty + 0.001*foster care + 0.001*hockey + 0.001*identifies + 0.001*basketball')\n",
      "(10, '0.003*outlays + 0.003*budget authority + 0.002*authority outlays + 0.002*related agencies + 0.001*congressional budget + 0.001*revenues + 0.001*pay raise + 0.001*deficit + 0.001*pursuant section + 0.001*budget act + 0.001*health human + 0.001*human services + 0.001*fiscal years + 0.001*discretionary + 0.001*development related + 0.001*current level + 0.001*enacted + 0.001*cbo + 0.001*budget resolution + 0.001*allocation + 0.001*congressional committees + 0.001*appropriate congressional + 0.001*pursuant subsection + 0.001*mike + 0.001*reprogrammed + 0.001*transferred reprogrammed + 0.001*spending plan + 0.001*committee appropriations + 0.001*transferred + 0.001*arms export')\n",
      "(11, '0.002*climate + 0.001*climate change + 0.001*west virginia + 0.001*disease + 0.001*vermont + 0.001*china + 0.001*coal + 0.001*carbon + 0.001*people united + 0.001*maine + 0.001*cancer + 0.001*mental + 0.001*pools + 0.001*dr + 0.001*kentucky + 0.001*seniors + 0.001*youth + 0.001*emissions + 0.000*young people + 0.000*fuel + 0.000*mental health + 0.000*human rights + 0.000*leahy + 0.000*centers + 0.000*military operations + 0.000*patients + 0.000*considered agreed + 0.000*adults + 0.000*ernst mr + 0.000*conditional offer')\n",
      "(12, '0.005*program management + 0.004*military selective + 0.003*service act + 0.003*arsenal + 0.003*office management + 0.003*management budget + 0.003*activities department + 0.003*improvement + 0.003*program project + 0.003*project management + 0.003*manufacturing + 0.003*manufacturing arsenal + 0.003*military manufacturing + 0.003*management improvement + 0.002*chairperson + 0.002*later days + 0.002*chemical substance + 0.002*contracts + 0.002*business concerns + 0.002*deputy + 0.002*managers + 0.002*deputy director + 0.002*director management + 0.002*sunset + 0.002*days date + 0.002*strengths + 0.002*program managers + 0.002*prescribe + 0.002*year military + 0.002*authorize appropriations')\n",
      "(13, '0.004*dollar + 0.003*currency + 0.002*currency currency + 0.002*highway + 0.002*va + 0.002*command + 0.001*equivalent + 0.001*foreign equivalent + 0.001*town + 0.001*agreements + 0.001*dollar dollar + 0.001*rail + 0.001*equivalent foreign + 0.001*colorado + 0.001*cyber + 0.001*trade agreements + 0.001*loans + 0.001*short term + 0.001*loan + 0.001*pacific + 0.001*promotion + 0.001*germany + 0.001*trade promotion + 0.001*tpp + 0.001*trade agreement + 0.001*veteran + 0.001*business loans + 0.001*promotion authority + 0.001*alaska + 0.001*farmers')\n",
      "(14, '0.005*selective + 0.005*selective service + 0.002*et + 0.002*seq + 0.002*et seq + 0.002*act et + 0.002*contractor + 0.002*exceed + 0.002*criminal history + 0.002*applicants + 0.002*expenses + 0.002*employee + 0.002*compact + 0.002*applicant + 0.002*inserting + 0.002*strike + 0.001*pool + 0.001*expended + 0.001*prohibition + 0.001*section act + 0.001*contract + 0.001*issued + 0.001*violation + 0.001*conditional + 0.001*tribal + 0.001*covered + 0.001*striking + 0.001*making appropriations + 0.001*page line + 0.001*ending september')\n"
     ]
    }
   ],
   "source": [
    "for i in topics_50:\n",
    "    print (i)\n",
    "    print\n",
    "    print"
   ]
  },
  {
   "cell_type": "code",
   "execution_count": null,
   "metadata": {
    "collapsed": true
   },
   "outputs": [],
   "source": []
  }
 ],
 "metadata": {
  "kernelspec": {
   "display_name": "Python 3",
   "language": "python",
   "name": "python3"
  },
  "language_info": {
   "codemirror_mode": {
    "name": "ipython",
    "version": 3
   },
   "file_extension": ".py",
   "mimetype": "text/x-python",
   "name": "python",
   "nbconvert_exporter": "python",
   "pygments_lexer": "ipython3",
   "version": "3.5.1"
  }
 },
 "nbformat": 4,
 "nbformat_minor": 0
}
