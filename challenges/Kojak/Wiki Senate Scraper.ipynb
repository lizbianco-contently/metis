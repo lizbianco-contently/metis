{
 "cells": [
  {
   "cell_type": "code",
   "execution_count": 152,
   "metadata": {
    "collapsed": true
   },
   "outputs": [],
   "source": [
    "import requests\n",
    "from bs4 import BeautifulSoup\n",
    "from pprint import pprint\n",
    "import re\n",
    "import pandas as pd\n",
    "import dateutil.parser\n",
    "from selenium import webdriver\n",
    "from selenium.webdriver.common.keys import Keys\n",
    "import time\n",
    "from selenium.common.exceptions import NoSuchElementException\n",
    "import csv\n",
    "import os\n",
    "from collections import OrderedDict\n",
    "import json\n",
    "import csv"
   ]
  },
  {
   "cell_type": "code",
   "execution_count": 153,
   "metadata": {
    "collapsed": true
   },
   "outputs": [],
   "source": [
    "sessions = ['104', '105', '106', '107', '108', '109', '110', '111', '112', '113', '114']\n"
   ]
  },
  {
   "cell_type": "code",
   "execution_count": 156,
   "metadata": {
    "collapsed": false
   },
   "outputs": [],
   "source": [
    "def get_roster(session):\n",
    "    url = 'https://en.wikipedia.org/wiki/List_of_United_States_Senators_in_the_'+session+'th_Congress_by_seniority'\n",
    "    response = requests.get(url)\n",
    "    page = response.text\n",
    "    soup = BeautifulSoup(page, \"html.parser\")\n",
    "\n",
    "\n",
    "    elements = []\n",
    "    table =  soup.find(\"table\")\n",
    "    for i in table.find_all('td'):\n",
    "        i =str(i)\n",
    "        if i[0:10] == '<td style=':\n",
    "            elements.append(i)\n",
    "    \n",
    "    titles = []\n",
    "    parties = []\n",
    "    states = []\n",
    "    for i in elements:\n",
    "        title = (i.split(\">\")[2]).split(\"<\")[0]\n",
    "        affiliation = (i.split(\")\")[-2])[-4:]\n",
    "        state = (affiliation.split(\"-\"))[1]\n",
    "        party= (affiliation.split(\"-\"))[0]\n",
    "        titles.append(title)\n",
    "        states.append(state)\n",
    "        parties.append(party)\n",
    "\n",
    "\n",
    "\n",
    "    data=zip(titles, parties, states)\n",
    "    filename = 'roster'+session+'.csv'\n",
    "\n",
    "    with open(filename,'w') as out:\n",
    "        csv_out=csv.writer(out)\n",
    "        csv_out.writerow(['title','party','state'])\n",
    "        for row in data:\n",
    "            csv_out.writerow(row)"
   ]
  },
  {
   "cell_type": "code",
   "execution_count": 157,
   "metadata": {
    "collapsed": false
   },
   "outputs": [],
   "source": [
    "for i in sessions:\n",
    "    get_roster(i)"
   ]
  },
  {
   "cell_type": "code",
   "execution_count": 149,
   "metadata": {
    "collapsed": true
   },
   "outputs": [],
   "source": [
    "# keepers = []\n",
    "# for i in elements:\n",
    "#     i = str(i)\n",
    "#     if i[0:10] == '<td style=':\n",
    "#         keepers.append(i)"
   ]
  },
  {
   "cell_type": "code",
   "execution_count": 150,
   "metadata": {
    "collapsed": false
   },
   "outputs": [],
   "source": [
    "titles = []\n",
    "parties = []\n",
    "states = []\n",
    "for i in keepers:\n",
    "    title = (i.split(\">\")[2]).split(\"<\")[0]\n",
    "    affiliation = (i.split(\")\")[-2])[-4:]\n",
    "    state = (affiliation.split(\"-\"))[1]\n",
    "    party= (affiliation.split(\"-\"))[0]\n",
    "    titles.append(title)\n",
    "    states.append(state)\n",
    "    parties.append(party)\n",
    "\n",
    " "
   ]
  },
  {
   "cell_type": "code",
   "execution_count": null,
   "metadata": {
    "collapsed": true
   },
   "outputs": [],
   "source": []
  },
  {
   "cell_type": "code",
   "execution_count": 151,
   "metadata": {
    "collapsed": false
   },
   "outputs": [
    {
     "name": "stdout",
     "output_type": "stream",
     "text": [
      "('Robert Byrd', 'WV', 'D')\n",
      "('Ted Kennedy', 'MA', 'D')\n",
      "('Daniel Inouye', 'HI', 'D')\n",
      "('Ted Stevens', 'AK', 'R')\n",
      "('Pete Domenici', 'NM', 'R')\n",
      "('Joe Biden', 'DE', 'D')\n",
      "('Patrick Leahy', 'VT', 'D')\n",
      "('Richard Lugar', 'IN', 'R')\n",
      "('Orrin Hatch', 'UT', 'R')\n",
      "('Max Baucus', 'MT', 'D')\n",
      "('Thad Cochran', 'MS', 'R')\n",
      "('John Warner', 'VA', 'R')\n",
      "('Carl Levin', 'MI', 'D')\n",
      "('Chris Dodd', 'CT', 'D')\n",
      "('Chuck Grassley', 'IA', 'R')\n",
      "('Arlen Specter', 'PA', 'R')\n",
      "('Jeff Bingaman', 'NM', 'D')\n",
      "('John Kerry', 'MA', 'D')\n",
      "('Tom Harkin', 'IA', 'D')\n",
      "('Mitch McConnell', 'KY', 'R')\n",
      "('Jay Rockefeller', 'WV', 'D')\n",
      "('Barbara Mikulski', 'MD', 'D')\n",
      "('Richard Shelby', 'AL', 'R')\n",
      "('John McCain', 'AZ', 'R')\n",
      "('Harry Reid', 'NV', 'D')\n",
      "('Kit Bond', 'MO', 'R')\n",
      "('Kent Conrad', 'ND', 'D')\n",
      "('Trent Lott', 'MS', 'R')\n",
      "('Herb Kohl', 'WI', 'D')\n",
      "('Joe Lieberman', 'CT', 'D')\n",
      "('Daniel Akaka', 'HI', 'D')\n",
      "('Larry Craig', 'ID', 'R')\n",
      "('Dianne Feinstein', 'CA', 'D')\n",
      "('Byron Dorgan', 'ND', 'D')\n",
      "('Barbara Boxer', 'CA', 'D')\n",
      "('Judd Gregg', 'NH', 'R')\n",
      "('Russ Feingold', 'WI', 'D')\n",
      "('Patty Murray', 'WA', 'D')\n",
      "('Bob Bennett', 'UT', 'R')\n",
      "('Kay Bailey Hutchison', 'TX', 'R')\n",
      "('Jim Inhofe', 'OK', 'R')\n",
      "('Olympia Snowe', 'ME', 'R')\n",
      "('Jon Kyl', 'AZ', 'R')\n",
      "('Craig Thomas', 'WY', 'R')\n",
      "('Ron Wyden', 'OR', 'D')\n",
      "('Sam Brownback', 'KS', 'R')\n",
      "('Pat Roberts', 'KS', 'R')\n",
      "('Richard Durbin', 'IL', 'D')\n",
      "('Tim Johnson', 'SD', 'D')\n",
      "('Wayne Allard', 'CO', 'R')\n",
      "('Jack Reed', 'RI', 'D')\n",
      "('Mary Landrieu', 'LA', 'D')\n",
      "('Jeff Sessions', 'AL', 'R')\n",
      "('Gordon Smith', 'OR', 'R')\n",
      "('Chuck Hagel', 'NE', 'R')\n",
      "('Susan Collins', 'ME', 'R')\n",
      "('Mike Enzi', 'WY', 'R')\n",
      "('Chuck Schumer', 'NY', 'D')\n",
      "('Jim Bunning', 'KY', 'R')\n",
      "('Mike Crapo', 'ID', 'R')\n",
      "('Blanche Lincoln', 'AR', 'D')\n",
      "('George Voinovich', 'OH', 'R')\n",
      "('Evan Bayh', 'IN', 'D')\n",
      "('Bill Nelson', 'FL', 'D')\n",
      "('Tom Carper', 'DE', 'D')\n",
      "('Debbie Stabenow', 'MI', 'D')\n",
      "('John Ensign', 'NV', 'R')\n",
      "('Maria Cantwell', 'WA', 'D')\n",
      "('Ben Nelson', 'NE', 'D')\n",
      "('Hillary Clinton', 'NY', 'D')\n",
      "('John Cornyn', 'TX', 'R')\n",
      "('Lisa Murkowski', 'AK', 'R')\n",
      "('Frank Lautenberg', 'NJ', 'D')\n",
      "('Saxby Chambliss', 'GA', 'R')\n",
      "('Lindsey Graham', 'SC', 'R')\n",
      "('John Sununu', 'NH', 'R')\n",
      "('Lamar Alexander', 'TN', 'R')\n",
      "('Elizabeth Dole', 'NC', 'R')\n",
      "('Norm Coleman', 'MN', 'R')\n",
      "('Mark Pryor', 'AR', 'D')\n",
      "('Richard Burr', 'NC', 'R')\n",
      "('Jim DeMint', 'SC', 'R')\n",
      "('Tom Coburn', 'OK', 'R')\n",
      "('John Thune', 'SD', 'R')\n",
      "('Johnny Isakson', 'GA', 'R')\n",
      "('David Vitter', 'LA', 'R')\n",
      "('Mel Martinez', 'FL', 'R')\n",
      "('Barack Obama', 'IL', 'D')\n",
      "('Ken Salazar', 'CO', 'D')\n",
      "('Bob Menendez', 'NJ', 'D')\n",
      "('Ben Cardin', 'MD', 'D')\n",
      "('Bernie Sanders', 'VT', 'I')\n",
      "('Sherrod Brown', 'OH', 'D')\n",
      "('Bob Casey, Jr.', 'PA', 'D')\n",
      "('Jim Webb', 'VA', 'D')\n",
      "('Bob Corker', 'TN', 'R')\n",
      "('Claire McCaskill', 'MO', 'D')\n",
      "('Amy Klobuchar', 'MN', 'D')\n",
      "('Sheldon Whitehouse', 'RI', 'D')\n",
      "('Jon Tester', 'MT', 'D')\n",
      "('John Barrasso', 'WY', 'R')\n",
      "('Roger Wicker', 'MS', 'R')\n"
     ]
    }
   ],
   "source": [
    "\n",
    "for i in zip(titles, states, parties):\n",
    "    print(i)"
   ]
  },
  {
   "cell_type": "code",
   "execution_count": null,
   "metadata": {
    "collapsed": true
   },
   "outputs": [],
   "source": []
  }
 ],
 "metadata": {
  "kernelspec": {
   "display_name": "Python 3",
   "language": "python",
   "name": "python3"
  },
  "language_info": {
   "codemirror_mode": {
    "name": "ipython",
    "version": 3
   },
   "file_extension": ".py",
   "mimetype": "text/x-python",
   "name": "python",
   "nbconvert_exporter": "python",
   "pygments_lexer": "ipython3",
   "version": "3.5.1"
  }
 },
 "nbformat": 4,
 "nbformat_minor": 0
}
