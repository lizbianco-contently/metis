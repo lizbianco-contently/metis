{
 "cells": [
  {
   "cell_type": "code",
   "execution_count": 1,
   "metadata": {
    "collapsed": true
   },
   "outputs": [],
   "source": [
    "import requests\n",
    "from bs4 import BeautifulSoup\n",
    "from pprint import pprint\n",
    "import re\n",
    "import pandas as pd\n",
    "import dateutil.parser\n",
    "from selenium import webdriver\n",
    "from selenium.webdriver.common.keys import Keys\n",
    "import time\n",
    "from selenium.common.exceptions import NoSuchElementException\n",
    "import csv\n",
    "import os\n",
    "from collections import OrderedDict\n",
    "import json"
   ]
  },
  {
   "cell_type": "code",
   "execution_count": 83,
   "metadata": {
    "collapsed": false
   },
   "outputs": [
    {
     "name": "stdout",
     "output_type": "stream",
     "text": [
      "11\n",
      "[('104', 'https://www.congress.gov/congressional-record/104th-congress/browse-by-date'), ('105', 'https://www.congress.gov/congressional-record/105th-congress/browse-by-date'), ('106', 'https://www.congress.gov/congressional-record/106th-congress/browse-by-date'), ('107', 'https://www.congress.gov/congressional-record/107th-congress/browse-by-date'), ('108', 'https://www.congress.gov/congressional-record/108th-congress/browse-by-date'), ('109', 'https://www.congress.gov/congressional-record/109th-congress/browse-by-date'), ('110', 'https://www.congress.gov/congressional-record/110th-congress/browse-by-date'), ('111', 'https://www.congress.gov/congressional-record/111th-congress/browse-by-date'), ('112', 'https://www.congress.gov/congressional-record/112th-congress/browse-by-date'), ('113', 'https://www.congress.gov/congressional-record/113th-congress/browse-by-date'), ('114', 'https://www.congress.gov/congressional-record/114th-congress/browse-by-date')]\n"
     ]
    }
   ],
   "source": [
    "# #Creates links to available \"Browse by Date\" listings, by Congress\n",
    "# sessions = []\n",
    "# for i in (range(104,115)):\n",
    "#     link = 'https://www.congress.gov/congressional-record/'+str(i)+'th-congress/browse-by-date'\n",
    "#     session_tuple = (str(i), link)\n",
    "#     sessions.append(session_tuple)\n",
    "# print (len(sessions))\n",
    "# print (sessions)"
   ]
  },
  {
   "cell_type": "code",
   "execution_count": 86,
   "metadata": {
    "collapsed": false
   },
   "outputs": [
    {
     "data": {
      "text/plain": [
       "'105'"
      ]
     },
     "execution_count": 86,
     "metadata": {},
     "output_type": "execute_result"
    }
   ],
   "source": [
    "# sessions[1][0]"
   ]
  },
  {
   "cell_type": "code",
   "execution_count": 98,
   "metadata": {
    "collapsed": true
   },
   "outputs": [],
   "source": [
    "def make_soup(url):\n",
    "    url = url\n",
    "    response = requests.get(url)\n",
    "    page = response.text\n",
    "    soup = BeautifulSoup(page, \"html.parser\")"
   ]
  },
  {
   "cell_type": "code",
   "execution_count": 95,
   "metadata": {
    "collapsed": false
   },
   "outputs": [
    {
     "ename": "NameError",
     "evalue": "name 'all_links_104' is not defined",
     "output_type": "error",
     "traceback": [
      "\u001b[0;31m---------------------------------------------------------------------------\u001b[0m",
      "\u001b[0;31mNameError\u001b[0m                                 Traceback (most recent call last)",
      "\u001b[0;32m<ipython-input-95-8ccf10471a0a>\u001b[0m in \u001b[0;36m<module>\u001b[0;34m()\u001b[0m\n\u001b[1;32m      3\u001b[0m     \u001b[0mname\u001b[0m \u001b[0;34m=\u001b[0m \u001b[0;34m'all_links_'\u001b[0m\u001b[0;34m+\u001b[0m\u001b[0mstr\u001b[0m\u001b[0;34m(\u001b[0m\u001b[0mi\u001b[0m\u001b[0;34m)\u001b[0m\u001b[0;34m\u001b[0m\u001b[0m\n\u001b[1;32m      4\u001b[0m     \u001b[0mname\u001b[0m \u001b[0;34m=\u001b[0m \u001b[0;34m[\u001b[0m\u001b[0;34m]\u001b[0m\u001b[0;34m\u001b[0m\u001b[0m\n\u001b[0;32m----> 5\u001b[0;31m \u001b[0mprint\u001b[0m \u001b[0;34m(\u001b[0m\u001b[0mall_links_104\u001b[0m\u001b[0;34m)\u001b[0m\u001b[0;34m\u001b[0m\u001b[0m\n\u001b[0m\u001b[1;32m      6\u001b[0m \u001b[0;34m\u001b[0m\u001b[0m\n\u001b[1;32m      7\u001b[0m \u001b[0;34m\u001b[0m\u001b[0m\n",
      "\u001b[0;31mNameError\u001b[0m: name 'all_links_104' is not defined"
     ]
    }
   ],
   "source": [
    "\n",
    "\n",
    "\n",
    "# #Gets list of links for each Session of Congress\n",
    "# for i in sessions:\n",
    "#     congress = i[0]\n",
    "#     list_name = 'all_links_'+congress\n",
    "#     list_name = []\n",
    "#     make_soup(i[1])\n",
    "#     for link in soup.find_all('a'):\n",
    "#         list_name.append(link.get('href'))\n",
    "# # #Gets Senate and House link lists for each session\n",
    "# #     senate_list_name = 'senate_'+congress\n",
    "# #     house_list_name = 'house_'+congress\n",
    "# #     senate_list_name = []\n",
    "# #     house_list_name = []\n",
    "# #     for j in list_name:\n",
    "# #     if \"senate-section\" in j:\n",
    "# #         senate_list_name.append(j)\n",
    "# #     if \"house-section\" in j:\n",
    "# #         house_list_name.append(j)\n",
    "        "
   ]
  },
  {
   "cell_type": "code",
   "execution_count": 87,
   "metadata": {
    "collapsed": false
   },
   "outputs": [
    {
     "ename": "NameError",
     "evalue": "name 'all_links_105' is not defined",
     "output_type": "error",
     "traceback": [
      "\u001b[0;31m---------------------------------------------------------------------------\u001b[0m",
      "\u001b[0;31mNameError\u001b[0m                                 Traceback (most recent call last)",
      "\u001b[0;32m<ipython-input-87-b29467bb622e>\u001b[0m in \u001b[0;36m<module>\u001b[0;34m()\u001b[0m\n\u001b[0;32m----> 1\u001b[0;31m \u001b[0mlen\u001b[0m\u001b[0;34m(\u001b[0m\u001b[0mall_links_105\u001b[0m\u001b[0;34m)\u001b[0m\u001b[0;34m\u001b[0m\u001b[0m\n\u001b[0m",
      "\u001b[0;31mNameError\u001b[0m: name 'all_links_105' is not defined"
     ]
    }
   ],
   "source": [
    "len(all_links_105)"
   ]
  },
  {
   "cell_type": "code",
   "execution_count": 8,
   "metadata": {
    "collapsed": false
   },
   "outputs": [
    {
     "data": {
      "text/plain": [
       "243"
      ]
     },
     "execution_count": 8,
     "metadata": {},
     "output_type": "execute_result"
    }
   ],
   "source": [
    "len(senate_links_114)"
   ]
  },
  {
   "cell_type": "code",
   "execution_count": 9,
   "metadata": {
    "collapsed": false
   },
   "outputs": [
    {
     "data": {
      "text/plain": [
       "228"
      ]
     },
     "execution_count": 9,
     "metadata": {},
     "output_type": "execute_result"
    }
   ],
   "source": [
    "len(house_links_114)"
   ]
  },
  {
   "cell_type": "code",
   "execution_count": 10,
   "metadata": {
    "collapsed": false
   },
   "outputs": [
    {
     "data": {
      "text/plain": [
       "'/congressional-record/2015/senate-section/page/S1675-1737'"
      ]
     },
     "execution_count": 10,
     "metadata": {},
     "output_type": "execute_result"
    }
   ],
   "source": [
    "senate_links_114[200]"
   ]
  },
  {
   "cell_type": "code",
   "execution_count": 11,
   "metadata": {
    "collapsed": false
   },
   "outputs": [
    {
     "ename": "NameError",
     "evalue": "name 'all_links' is not defined",
     "output_type": "error",
     "traceback": [
      "\u001b[0;31m---------------------------------------------------------------------------\u001b[0m",
      "\u001b[0;31mNameError\u001b[0m                                 Traceback (most recent call last)",
      "\u001b[0;32m<ipython-input-11-50dce9b5ac9b>\u001b[0m in \u001b[0;36m<module>\u001b[0;34m()\u001b[0m\n\u001b[1;32m      1\u001b[0m \u001b[0msenate_days\u001b[0m \u001b[0;34m=\u001b[0m \u001b[0;34m[\u001b[0m\u001b[0;34m]\u001b[0m\u001b[0;34m\u001b[0m\u001b[0m\n\u001b[0;32m----> 2\u001b[0;31m \u001b[0;32mfor\u001b[0m \u001b[0mi\u001b[0m \u001b[0;32min\u001b[0m \u001b[0mall_links\u001b[0m\u001b[0;34m:\u001b[0m\u001b[0;34m\u001b[0m\u001b[0m\n\u001b[0m\u001b[1;32m      3\u001b[0m     \u001b[0;32mif\u001b[0m \u001b[0;34m\"senate-section/article/\"\u001b[0m \u001b[0;32min\u001b[0m \u001b[0mi\u001b[0m\u001b[0;34m:\u001b[0m\u001b[0;34m\u001b[0m\u001b[0m\n\u001b[1;32m      4\u001b[0m         \u001b[0msenate_days\u001b[0m\u001b[0;34m.\u001b[0m\u001b[0mappend\u001b[0m\u001b[0;34m(\u001b[0m\u001b[0mi\u001b[0m\u001b[0;34m)\u001b[0m\u001b[0;34m\u001b[0m\u001b[0m\n",
      "\u001b[0;31mNameError\u001b[0m: name 'all_links' is not defined"
     ]
    }
   ],
   "source": [
    "# senate_days = []\n",
    "# for i in all_links:\n",
    "#     if \"senate-section/article/\" in i:\n",
    "#         senate_days.append(i)"
   ]
  },
  {
   "cell_type": "code",
   "execution_count": 107,
   "metadata": {
    "collapsed": false
   },
   "outputs": [
    {
     "data": {
      "text/plain": [
       "242"
      ]
     },
     "execution_count": 107,
     "metadata": {},
     "output_type": "execute_result"
    }
   ],
   "source": [
    "len(senate_days)"
   ]
  },
  {
   "cell_type": "code",
   "execution_count": 12,
   "metadata": {
    "collapsed": false
   },
   "outputs": [
    {
     "ename": "IndexError",
     "evalue": "list index out of range",
     "output_type": "error",
     "traceback": [
      "\u001b[0;31m---------------------------------------------------------------------------\u001b[0m",
      "\u001b[0;31mIndexError\u001b[0m                                Traceback (most recent call last)",
      "\u001b[0;32m<ipython-input-12-7ecfdc1e9e25>\u001b[0m in \u001b[0;36m<module>\u001b[0;34m()\u001b[0m\n\u001b[0;32m----> 1\u001b[0;31m \u001b[0mprint\u001b[0m\u001b[0;34m(\u001b[0m\u001b[0;34m'http://www.congress.gov'\u001b[0m\u001b[0;34m+\u001b[0m\u001b[0msenate_days\u001b[0m\u001b[0;34m[\u001b[0m\u001b[0;36m2\u001b[0m\u001b[0;34m]\u001b[0m\u001b[0;34m)\u001b[0m\u001b[0;34m\u001b[0m\u001b[0m\n\u001b[0m",
      "\u001b[0;31mIndexError\u001b[0m: list index out of range"
     ]
    }
   ],
   "source": [
    "print('http://www.congress.gov'+senate_days[2])"
   ]
  },
  {
   "cell_type": "code",
   "execution_count": 19,
   "metadata": {
    "collapsed": false
   },
   "outputs": [
    {
     "data": {
      "text/plain": [
       "'http://www.congress.gov/congressional-record/2015/senate-section/page/S1127-1185'"
      ]
     },
     "execution_count": 19,
     "metadata": {},
     "output_type": "execute_result"
    }
   ],
   "source": [
    "'http://www.congress.gov' +senate_links_114[214]"
   ]
  },
  {
   "cell_type": "code",
   "execution_count": 21,
   "metadata": {
    "collapsed": false
   },
   "outputs": [
    {
     "ename": "AttributeError",
     "evalue": "'NoneType' object has no attribute 'text'",
     "output_type": "error",
     "traceback": [
      "\u001b[0;31m---------------------------------------------------------------------------\u001b[0m",
      "\u001b[0;31mAttributeError\u001b[0m                            Traceback (most recent call last)",
      "\u001b[0;32m<ipython-input-21-83e745e932bc>\u001b[0m in \u001b[0;36m<module>\u001b[0;34m()\u001b[0m\n\u001b[1;32m     17\u001b[0m         \u001b[0mpage\u001b[0m \u001b[0;34m=\u001b[0m \u001b[0mresponse\u001b[0m\u001b[0;34m.\u001b[0m\u001b[0mtext\u001b[0m\u001b[0;34m\u001b[0m\u001b[0m\n\u001b[1;32m     18\u001b[0m         \u001b[0msoup\u001b[0m \u001b[0;34m=\u001b[0m \u001b[0mBeautifulSoup\u001b[0m\u001b[0;34m(\u001b[0m\u001b[0mpage\u001b[0m\u001b[0;34m,\u001b[0m \u001b[0;34m\"html.parser\"\u001b[0m\u001b[0;34m)\u001b[0m\u001b[0;34m\u001b[0m\u001b[0m\n\u001b[0;32m---> 19\u001b[0;31m         \u001b[0moriginaltext\u001b[0m \u001b[0;34m=\u001b[0m  \u001b[0msoup\u001b[0m\u001b[0;34m.\u001b[0m\u001b[0mfind\u001b[0m\u001b[0;34m(\u001b[0m\u001b[0mclass_\u001b[0m\u001b[0;34m=\u001b[0m\u001b[0;34m'styled'\u001b[0m\u001b[0;34m)\u001b[0m\u001b[0;34m.\u001b[0m\u001b[0mtext\u001b[0m\u001b[0;34m\u001b[0m\u001b[0m\n\u001b[0m\u001b[1;32m     20\u001b[0m         \u001b[0mday\u001b[0m \u001b[0;34m=\u001b[0m \u001b[0mj\u001b[0m\u001b[0;34m.\u001b[0m\u001b[0msplit\u001b[0m\u001b[0;34m(\u001b[0m\u001b[0;34m'/'\u001b[0m\u001b[0;34m)\u001b[0m\u001b[0;34m[\u001b[0m\u001b[0;36m4\u001b[0m\u001b[0;34m]\u001b[0m\u001b[0;34m\u001b[0m\u001b[0m\n\u001b[1;32m     21\u001b[0m         \u001b[0mmonth\u001b[0m \u001b[0;34m=\u001b[0m \u001b[0mj\u001b[0m\u001b[0;34m.\u001b[0m\u001b[0msplit\u001b[0m\u001b[0;34m(\u001b[0m\u001b[0;34m'/'\u001b[0m\u001b[0;34m)\u001b[0m\u001b[0;34m[\u001b[0m\u001b[0;36m3\u001b[0m\u001b[0;34m]\u001b[0m\u001b[0;34m\u001b[0m\u001b[0m\n",
      "\u001b[0;31mAttributeError\u001b[0m: 'NoneType' object has no attribute 'text'"
     ]
    }
   ],
   "source": [
    "for i in house_links_114:\n",
    "    url = 'http://www.congress.gov'+i\n",
    "    response = requests.get(url)\n",
    "    page = response.text\n",
    "    soup = BeautifulSoup(page, \"html.parser\")\n",
    "    temp_all_links = []\n",
    "    for link in soup.find_all('a'):\n",
    "        temp_all_links.append(link.get('href'))\n",
    "    temp_article_links = []\n",
    "    for i in temp_all_links:\n",
    "        if \"/article/\" in i:\n",
    "            temp_article_links.append(i)\n",
    "    article_texts = []\n",
    "    for j in temp_article_links:\n",
    "        url ='http://www.congress.gov'+j\n",
    "        response = requests.get(url)\n",
    "        page = response.text\n",
    "        soup = BeautifulSoup(page, \"html.parser\")\n",
    "        originaltext =  soup.find(class_='styled').text\n",
    "        day = j.split('/')[4]\n",
    "        month = j.split('/')[3]\n",
    "        year = j.split('/')[2]\n",
    "        tempdict = {\"url\": url, \"originaltext\": originaltext, \"day\":day, \"month\":month, \"year\":year}\n",
    "        article_texts.append(tempdict)\n",
    "    filename = 'Data/104congress/104house/'+year+'_'+month+'_'+day\n",
    "    with open(filename, 'w') as outfile:\n",
    "        json.dump(article_texts, outfile)\n",
    "    \n",
    "    \n"
   ]
  },
  {
   "cell_type": "code",
   "execution_count": 121,
   "metadata": {
    "collapsed": false
   },
   "outputs": [
    {
     "data": {
      "text/plain": [
       "'/congressional-record/2016/06/07/senate-section/article/S3597-1'"
      ]
     },
     "execution_count": 121,
     "metadata": {},
     "output_type": "execute_result"
    }
   ],
   "source": [
    "temp_article_links[30]\n",
    "    "
   ]
  },
  {
   "cell_type": "code",
   "execution_count": 96,
   "metadata": {
    "collapsed": true
   },
   "outputs": [],
   "source": [
    "url = 'https://www.congress.gov/'+senate_articles[100]\n",
    "response = requests.get(url)\n",
    "page = response.text\n",
    "soup = BeautifulSoup(page, \"html.parser\")\n",
    "\n",
    "\n",
    "originaltext =  soup.find(class_='styled').text\n"
   ]
  },
  {
   "cell_type": "code",
   "execution_count": 109,
   "metadata": {
    "collapsed": false
   },
   "outputs": [
    {
     "name": "stdout",
     "output_type": "stream",
     "text": [
      "<pre class=\"styled\">\n",
      "        \n",
      "\n",
      "[<a href=\"/congressional-record/1996/senate-section/page/S12297-12300\">Pages S12297-S12300</a>]\n",
      "From the Congressional Record Online through the Government Publishing Office [www.gpo.gov]\n",
      "\n",
      "\n",
      "\n",
      "\n",
      "                         A TRIBUTE TO SAM NUNN\n",
      "\n",
      "  Mr. WARNER. Mr. President, I was privileged to shake the hand of Sam \n",
      "Nunn just now, the distinguished, esteemed Senator from Georgia, as he \n",
      "departed the Chamber. He said to me, ``This will be our last handshake \n",
      "on the floor of the U.S. Senate.''\n",
      "\n",
      "  That was, indeed, a very moving split second for me, because we have, \n",
      "through the 18 years that I have been a member of the Armed Services \n",
      "Committee, shaken hands many times on this floor--and on occasion \n",
      "shaken a few fists at one another. But the period that I remember the \n",
      "best is when he was chairman of the committee, having succeeded a long \n",
      "line of very distinguished individuals: John Stennis, ``Scoop'' \n",
      "Jackson, John Tower, Barry Goldwater--all Senators. But my most \n",
      "memorable period is when I was privileged to serve as the ranking \n",
      "member\n",
      "\n",
      "[[<a href=\"/congressional-record/1996/senate-section/page/S12299\">Page S12299</a>]]\n",
      "\n",
      "of the Armed Services Committee some 6 years. I served with the \n",
      "chairman, who was Senator Nunn, and we took, in each of those years, to \n",
      "this floor legislation of our committee, the authorization bills, and \n",
      "debated them with our colleagues, sometimes long into the night.\n",
      "  We don't seem to have the night sessions as we did in the old days, \n",
      "but I can remember leaving the Chamber with some of those bills and the \n",
      "Sun was coming up--12, 14, 16 hours of continuous debate as 1 day's \n",
      "activities on usually a 3- or 4-day consideration of our bill.\n",
      "  So I will miss him a great deal. He is a very dear friend.\n",
      "  I think back on how he was elected to the Senate in 1972 and served \n",
      "on the Armed Services Committee for 24 years. He served as chairman of \n",
      "the Manpower and Personnel Subcommittee in the seventies. I remember \n",
      "serving briefly with him on that subcommittee. He was chairman of the \n",
      "committee, of course, after becoming ranking minority member. It is a \n",
      "distinguished career.\n",
      "  He was chairman of the full committee from 1986 to 1993 and now, in \n",
      "the last years of his career, again is the ranking member. I point that \n",
      "out because he was always, to the maximum extent possible by any Member \n",
      "of the U.S. Senate, bipartisan in his approach to the responsibilities \n",
      "of our committee and those issues that related to national security and \n",
      "foreign affairs.\n",
      "  He followed in the tradition of two great Georgia Members of the U.S. \n",
      "Congress, his uncle, Congressman Carl Vinson, chairman of the House \n",
      "Armed Services Committee. I have a picture, which I treasure greatly, \n",
      "from when I was Secretary of the Navy. I recommended to the President \n",
      "of the United States, at that time Richard Nixon, that the tradition in \n",
      "the U.S. Navy that existed from the first day of a sailing ship should \n",
      "be broken and that the Navy should name a ship for a living individual.\n",
      "  The Secretary of Defense, Mel Laird, at that time, consulted with me. \n",
      "I took the decision to Mr. Laird. He said, ``Let's give it a try.''\n",
      "  Mr. Laird had been in the U.S. Navy in World War II. We went to see \n",
      "the President. The President had been in the Navy. He was an officer \n",
      "during World War II. Three sailors sat down and decided we would name a \n",
      "supercarrier the ``Carl Vinson,'' on the occasion of his 50th year in \n",
      "the Congress of the United States and concluding many of those years as \n",
      "chairman of the House Armed Services Committee.\n",
      "  I mention that because we had a model of the ship built and the \n",
      "President of the United States, myself and Secretary Laird presented \n",
      "that model to Carl Vinson. Sam Nunn is in the picture. It is a \n",
      "remarkable picture, because Senator Nunn's sideburns were down almost \n",
      "below his jaw. I will never forget that. It hangs in his office.\n",
      "  Another distinguished Member of Congress, of course, was Richard \n",
      "Russell, who was chairman of the Senate Armed Services Committee for 16 \n",
      "years. I will have further to say about that Senator as I close my \n",
      "remarks.\n",
      "  Senator Nunn quickly established himself as one of the leading \n",
      "experts in the Congress and, indeed, all of the United States on \n",
      "national security and foreign policy. He gained a reputation in our \n",
      "country and, indeed, worldwide as a global thinker, and that is where I \n",
      "think he will make his greatest contribution in the years to come, \n",
      "wherever he may be, in terms of being a global thinker.\n",
      "  His approach to national security issues has been guided by one \n",
      "fundamental criteria: What Sam Nunn believes is in the best interest of \n",
      "the United States of America.\n",
      "  As a junior Senator in 1978, he ultimately voted in favor of the \n",
      "Panama Canal Treaty because he thought--Mr. President, he thought--it \n",
      "was in the long-term national security interest of our Nation, even \n",
      "though he knew it was not a popular position, particularly in the South \n",
      "and most particularly in Georgia. He supported the policies of \n",
      "Presidents of both parties when he thought they were right, and he \n",
      "raised questions about the policies of the Presidents of both parties \n",
      "when he thought questions needed to be raised.\n",
      "\n",
      "  But, again, as we look back in the history of Congress and its \n",
      "constitutional role in foreign policy--and how many debates have I been \n",
      "in and Senator Nunn and others, for example, on the War Powers Act, on \n",
      "consultation? Just today in the Senate Armed Services Committee, and I \n",
      "think quite properly, questions were raised about the level of \n",
      "consultation between the President, President Clinton, and the \n",
      "Congress. But Sam Nunn, to me, applied what is known as the \n",
      "``Vandenberg rule,'' a very distinguished former Member of the U.S. \n",
      "Senate, recognized for his strength in foreign policy, who, to \n",
      "paraphrase his saying, always believed that partisanship politics \n",
      "should be checked at the water's edge, and that has been a guiding \n",
      "light for Senator Nunn.\n",
      "  Sam Nunn always worked, as I say, in a bipartisan fashion, almost \n",
      "invariably. His numerous initiatives and legislative accomplishments \n",
      "invariably have Republican and Democratic cosponsors. Senator Nunn is \n",
      "fond of saying that he has yet to see a problem or a challenge facing \n",
      "this country that can be solved by only one political party. How true \n",
      "that is in national security and foreign policy.\n",
      "  I started to go over his accomplishments and just selected a few, \n",
      "because I was involved. He was a tremendous supporter of the welfare of \n",
      "our men and women in uniform and their families. He helped restore \n",
      "quality of force, the total arms force, following the serious problems \n",
      "that we had in the aftermath of Vietnam; indeed, during Vietnam. He \n",
      "coauthored the Nunn-Warner benefits package of 1980, perhaps the first \n",
      "single piece of legislation for which I have received, I think \n",
      "unjustifiably, but nevertheless some modest recognition.\n",
      "  He was a leader in establishing a program of transition benefits in \n",
      "the nineties to military and civilian employees of DOD who lost their \n",
      "jobs as a result of the downsizing of the defense infrastructure of the \n",
      "military services.\n",
      "  NATO was a very, very favorite subject. I traveled with him on many \n",
      "occasions to NATO, as I did through the capitals of the world, and sat \n",
      "with him when he, on a one-on-one equal basis shared views with heads \n",
      "of state, heads of government, world leaders in Europe, in Asia, and \n",
      "the Middle East.\n",
      "  He was a strong supporter of maintaining NATO as an active and \n",
      "energetic alliance. He wrote three reports to the Senate on the health \n",
      "of the NATO alliance. He is very highly regarded by political and \n",
      "military leaders throughout the NATO community.\n",
      "  If there were one subject to concern him the most--and, indeed, it \n",
      "does me and, I am sure, almost every Member of this body--it is the \n",
      "proliferation of the knowledge of how to construct weapons of mass \n",
      "destruction, proliferation of that knowledge and, indeed, the \n",
      "proliferation of the arming of the weapons themselves.\n",
      "  Senator Nunn, together with Senator Lugar of Indiana, created the \n",
      "Cooperative Threat Reduction Program to help countries of the former \n",
      "Soviet Union dismantle their weapons of mass destruction and the \n",
      "facilities to produce such weapons.\n",
      "  He also offered legislation to improve our domestic capability in \n",
      "counter- terrorist use of weapons of mass destruction. I joined him. I \n",
      "happened to be the manager of the defense bill at the time that \n",
      "amendment was raised by Senators Nunn, Lugar, and Domenici.\n",
      "  And I joined as a cosponsor in authorizing the Department of Defense \n",
      "and other Government agencies of the Federal Government to share with \n",
      "local law enforcement some of the basic knowledge of how to deal with \n",
      "the situation, should they be confronted with the threat of the use of, \n",
      "say, a crude weapon, chemical or biological weapon of mass destruction \n",
      "in any of our 50 States. I urge the communities to avail themselves of \n",
      "that authorization in our most recent 1997 bill.\n",
      "  We had our differences. We have fought toe to toe on this floor when \n",
      "I, together with Senator Dole and others, passed the gulf resolution, \n",
      "that resolution to authorize President Bush to utilize the men and \n",
      "women of the United States, a half a million of whom were in positions \n",
      "ready, together with perhaps the most magnificent allied coalition ever \n",
      "formed in the history of the world, to repel the invasion of Saddam \n",
      "Hussein.\n",
      "  But it was necessary in the President's mind to have the support of \n",
      "the Congress of the United States. And that is a chapter in history \n",
      "that should be studied carefully by all Presidents,\n",
      "\n",
      "[[<a href=\"/congressional-record/1996/senate-section/page/S12300\">Page S12300</a>]]\n",
      "\n",
      "because when the men and women of the Armed Forces go forward beyond \n",
      "our shores, in harm's way, we want the total support of both the \n",
      "Presidency and the Congress and, to the extent possible, the people of \n",
      "the United States behind those troops, particularly when the risk of \n",
      "personal injury is very high.\n",
      "  We had our differences. We fought that battle. It was about a 5-vote \n",
      "difference in the outcome. But from the very moment of the decision of \n",
      "the United States to support the resolution, which I was privileged to \n",
      "draft under the direction of the then-leader, Senate Dole, from the \n",
      "very first minute of the vote by the Senate of the United States, \n",
      "Senator Nunn backed President Bush in his decision to use force and to \n",
      "turn around the situation that was tragic in the eyes of the world.\n",
      "  We had our differences on the interpretation of the ABM, the SALT, \n",
      "the START treaties, but always, once again, bipartisanship was \n",
      "foremost.\n",
      "  A moment ago Senator Nunn spoke about the staff of the Senate. One of \n",
      "his hallmarks was his ability to attract the finest people for \n",
      "professional staff, in the years particularly when he was chairman and \n",
      "ranking member of the Senate Armed Services Committee, and in the \n",
      "Governmental Operations Committee. And I think that is the hallmark of \n",
      "a great Senator, the ability to attract quality staff, to spend long \n",
      "hours of dedicated service to their Nation and to their Senate.\n",
      "  Mr. President, Senator Nunn always had a profound preference, as he \n",
      "should, for Senator Russell. He used to say from time to time that he \n",
      "only temporarily was the holder of the Senate seat from Georgia which \n",
      "was once held by Richard Russell. And I thought I would conclude my \n",
      "remarks by reading the remarks of our distinguished colleague, the \n",
      "Senator from West Virginia, Senator Byrd, at the unveiling of the \n",
      "statue in the Russell rotunda of Senator Richard Russell of Georgia. I \n",
      "ask unanimous consent to have the entire remarks printed in the Record.\n",
      "  There being no objection, the material was ordered to be printed in \n",
      "the Record, as follows:\n",
      "\n",
      "               Richard B. Russell, Jr. (D-GA, 1933-1971)\n",
      "\n",
      "       At the unveiling of the statue of Russell in the rotunda of \n",
      "     the Russell Senate Office Building on January 24, 1996, \n",
      "     Senator Byrd said of Russell:\n",
      "       ``He was the senator, the uncrowned king of the southern \n",
      "     block, and he was as truly a Senate man as was Henry Clay or \n",
      "     Daniel Webster or John C. Calhoun or Thomas Benton or any of \n",
      "     the other giants who had preceded him.\n",
      "       ``Senator Russell's philosophy of government was rooted in \n",
      "     constitutionalism. . . . He was always regarded as one of the \n",
      "     most fair and conscientious members of this body.\n",
      "       ``Through it all he served his nation well. Richard Russell \n",
      "     followed his own star. He did not pander. His confidant was \n",
      "     his conscience. He was always the good and faithful servant \n",
      "     of the people. He was good for the Senate, and he loved it \n",
      "     dearly. I can say without any hesitation that he was a \n",
      "     remarkable senator, a remarkable American, a remarkable man \n",
      "     who enjoyed the respect and the affecting of all who served \n",
      "     with him.''\n",
      "\n",
      "  Mr. WARNER. But I shall read this one paragraph.\n",
      "\n",
      "       Through it all he served his nation well. Richard Russell \n",
      "     followed his own star. He did not pander. His confidant was \n",
      "     his conscience. He was always the good and faithful servant \n",
      "     of the people. He was good for the Senate, and he loved it \n",
      "     dearly. I can say without any hesitation that he was a \n",
      "     remarkable Senator, a remarkable American, a remarkable man \n",
      "     who enjoyed the respect and the affection of all who served \n",
      "     with him.\n",
      "\n",
      "  I think, Mr. President, certainly this Senator, and I feel most, can \n",
      "say that Senator Byrd's remarks capturing the magnificence of Richard \n",
      "Russell--Sam Nunn can return to Georgia with a clear conscience that he \n",
      "did his best to fulfill the reputation of Richard Russell of Georgia. I \n",
      "yield the floor.\n",
      "  Mr. LAUTENBERG addressed the Chair.\n",
      "  The PRESIDING OFFICER. The Senator from New Jersey.\n",
      "\n",
      "                          ____________________\n",
      "\n",
      "\n",
      "\n",
      "    </pre>\n"
     ]
    }
   ],
   "source": [
    "print (originaltext)"
   ]
  },
  {
   "cell_type": "code",
   "execution_count": 2,
   "metadata": {
    "collapsed": false
   },
   "outputs": [
    {
     "name": "stdout",
     "output_type": "stream",
     "text": [
      "249\n",
      "233\n"
     ]
    }
   ],
   "source": [
    "#sets starting point\n",
    "url = 'https://www.congress.gov/congressional-record/114th-congress/browse-by-date'\n",
    "response = requests.get(url)\n",
    "page = response.text\n",
    "soup = BeautifulSoup(page, \"html.parser\")\n",
    "\n",
    "all_links=[]\n",
    "for link in soup.find_all('a'):\n",
    "    all_links.append(link.get('href'))\n",
    "\n",
    "senate_links = []\n",
    "house_links = []\n",
    "for i in all_links:\n",
    "    if \"senate-section\" in i:\n",
    "        senate_links.append(i)\n",
    "    if \"house-section\" in i:\n",
    "        house_links.append(i)\n",
    "print (len(senate_links))\n",
    "print (len(house_links))"
   ]
  },
  {
   "cell_type": "code",
   "execution_count": 3,
   "metadata": {
    "collapsed": false
   },
   "outputs": [
    {
     "name": "stdout",
     "output_type": "stream",
     "text": [
      "249\n"
     ]
    }
   ],
   "source": [
    "print (len(senate_links))"
   ]
  },
  {
   "cell_type": "code",
   "execution_count": 4,
   "metadata": {
    "collapsed": false
   },
   "outputs": [
    {
     "name": "stdout",
     "output_type": "stream",
     "text": [
      "http://beta.congress.gov/congressional-record/2016/06/17/senate-section\n",
      "http://beta.congress.gov/congressional-record/2016/06/16/senate-section\n",
      "http://beta.congress.gov/congressional-record/2016/06/15/senate-section\n",
      "http://beta.congress.gov/congressional-record/2016/06/14/senate-section\n",
      "http://beta.congress.gov/congressional-record/2016/06/13/senate-section\n",
      "http://beta.congress.gov/congressional-record/2016/06/10/senate-section\n",
      "http://beta.congress.gov/congressional-record/2016/06/09/senate-section\n",
      "http://beta.congress.gov/congressional-record/2016/06/08/senate-section\n",
      "http://beta.congress.gov/congressional-record/2016/06/07/senate-section\n",
      "http://beta.congress.gov/congressional-record/2016/06/06/senate-section\n",
      "http://beta.congress.gov/congressional-record/2016/06/03/senate-section\n",
      "http://beta.congress.gov/congressional-record/2016/05/31/senate-section\n",
      "http://beta.congress.gov/congressional-record/2016/05/27/senate-section\n",
      "http://beta.congress.gov/congressional-record/2016/05/26/senate-section\n",
      "http://beta.congress.gov/congressional-record/2016/05/25/senate-section\n",
      "http://beta.congress.gov/congressional-record/2016/05/24/senate-section\n",
      "http://beta.congress.gov/congressional-record/2016/05/23/senate-section\n",
      "http://beta.congress.gov/congressional-record/2016/05/19/senate-section\n",
      "http://beta.congress.gov/congressional-record/2016/05/18/senate-section\n",
      "http://beta.congress.gov/congressional-record/2016/05/17/senate-section\n"
     ]
    }
   ],
   "source": [
    "for i in senate_links[0:20]:\n",
    "    print(i)"
   ]
  },
  {
   "cell_type": "code",
   "execution_count": 11,
   "metadata": {
    "collapsed": false
   },
   "outputs": [],
   "source": [
    "for i in senate_links[0:20]:\n",
    "    url = i\n",
    "    response = requests.get(url)\n",
    "    page = response.text\n",
    "    soup = BeautifulSoup(page, \"html.parser\")\n",
    "    temp_all_links = []\n",
    "    for link in soup.find_all('a'):\n",
    "        temp_all_links.append(link.get('href'))\n",
    "    temp_article_links = []\n",
    "    for i in temp_all_links:\n",
    "        if \"/article/\" in i:\n",
    "            temp_article_links.append(i)\n",
    "    article_texts = []\n",
    "    for j in temp_article_links:\n",
    "        url ='http://www.congress.gov'+j\n",
    "        response = requests.get(url)\n",
    "        page = response.text\n",
    "        soup = BeautifulSoup(page, \"html.parser\")\n",
    "        originaltext =  soup.find(class_='styled').text\n",
    "        day = j.split('/')[4]\n",
    "        month = j.split('/')[3]\n",
    "        year = j.split('/')[2]\n",
    "        tempdict = {\"url\": url, \"originaltext\": originaltext, \"day\":day, \"month\":month, \"year\":year}\n",
    "        article_texts.append(tempdict)\n",
    "    filename = 'Data/114congress/114senate/'+year+'_'+month+'_'+day\n",
    "    with open(filename, 'w') as outfile:\n",
    "        json.dump(article_texts, outfile)"
   ]
  },
  {
   "cell_type": "code",
   "execution_count": null,
   "metadata": {
    "collapsed": true
   },
   "outputs": [],
   "source": []
  },
  {
   "cell_type": "code",
   "execution_count": 7,
   "metadata": {
    "collapsed": false
   },
   "outputs": [
    {
     "name": "stdout",
     "output_type": "stream",
     "text": [
      "249\n",
      "233\n"
     ]
    }
   ],
   "source": [
    "#sets starting point\n",
    "url = 'https://www.congress.gov/congressional-record/114th-congress/browse-by-date'\n",
    "response = requests.get(url)\n",
    "page = response.text\n",
    "soup = BeautifulSoup(page, \"html.parser\")\n",
    "\n",
    "all_links=[]\n",
    "for link in soup.find_all('a'):\n",
    "    all_links.append(link.get('href'))\n",
    "\n",
    "senate_links = []\n",
    "house_links = []\n",
    "for i in all_links:\n",
    "    if \"senate-section\" in i:\n",
    "        senate_links.append(i)\n",
    "    if \"house-section\" in i:\n",
    "        house_links.append(i)\n",
    "print (len(senate_links))\n",
    "print (len(house_links))"
   ]
  },
  {
   "cell_type": "code",
   "execution_count": 8,
   "metadata": {
    "collapsed": false
   },
   "outputs": [
    {
     "ename": "NameError",
     "evalue": "name 'year' is not defined",
     "output_type": "error",
     "traceback": [
      "\u001b[0;31m---------------------------------------------------------------------------\u001b[0m",
      "\u001b[0;31mNameError\u001b[0m                                 Traceback (most recent call last)",
      "\u001b[0;32m<ipython-input-8-31e20a3ffeb9>\u001b[0m in \u001b[0;36m<module>\u001b[0;34m()\u001b[0m\n\u001b[1;32m     23\u001b[0m         \u001b[0mtempdict\u001b[0m \u001b[0;34m=\u001b[0m \u001b[0;34m{\u001b[0m\u001b[0;34m\"url\"\u001b[0m\u001b[0;34m:\u001b[0m \u001b[0murl\u001b[0m\u001b[0;34m,\u001b[0m \u001b[0;34m\"originaltext\"\u001b[0m\u001b[0;34m:\u001b[0m \u001b[0moriginaltext\u001b[0m\u001b[0;34m,\u001b[0m \u001b[0;34m\"day\"\u001b[0m\u001b[0;34m:\u001b[0m\u001b[0mday\u001b[0m\u001b[0;34m,\u001b[0m \u001b[0;34m\"month\"\u001b[0m\u001b[0;34m:\u001b[0m\u001b[0mmonth\u001b[0m\u001b[0;34m,\u001b[0m \u001b[0;34m\"year\"\u001b[0m\u001b[0;34m:\u001b[0m\u001b[0myear\u001b[0m\u001b[0;34m}\u001b[0m\u001b[0;34m\u001b[0m\u001b[0m\n\u001b[1;32m     24\u001b[0m         \u001b[0marticle_texts\u001b[0m\u001b[0;34m.\u001b[0m\u001b[0mappend\u001b[0m\u001b[0;34m(\u001b[0m\u001b[0mtempdict\u001b[0m\u001b[0;34m)\u001b[0m\u001b[0;34m\u001b[0m\u001b[0m\n\u001b[0;32m---> 25\u001b[0;31m     \u001b[0mfilename\u001b[0m \u001b[0;34m=\u001b[0m \u001b[0;34m'Data/105congress/105senate/'\u001b[0m\u001b[0;34m+\u001b[0m\u001b[0myear\u001b[0m\u001b[0;34m+\u001b[0m\u001b[0;34m'_'\u001b[0m\u001b[0;34m+\u001b[0m\u001b[0mmonth\u001b[0m\u001b[0;34m+\u001b[0m\u001b[0;34m'_'\u001b[0m\u001b[0;34m+\u001b[0m\u001b[0mday\u001b[0m\u001b[0;34m\u001b[0m\u001b[0m\n\u001b[0m\u001b[1;32m     26\u001b[0m     \u001b[0;32mwith\u001b[0m \u001b[0mopen\u001b[0m\u001b[0;34m(\u001b[0m\u001b[0mfilename\u001b[0m\u001b[0;34m,\u001b[0m \u001b[0;34m'w'\u001b[0m\u001b[0;34m)\u001b[0m \u001b[0;32mas\u001b[0m \u001b[0moutfile\u001b[0m\u001b[0;34m:\u001b[0m\u001b[0;34m\u001b[0m\u001b[0m\n\u001b[1;32m     27\u001b[0m         \u001b[0mjson\u001b[0m\u001b[0;34m.\u001b[0m\u001b[0mdump\u001b[0m\u001b[0;34m(\u001b[0m\u001b[0marticle_texts\u001b[0m\u001b[0;34m,\u001b[0m \u001b[0moutfile\u001b[0m\u001b[0;34m)\u001b[0m\u001b[0;34m\u001b[0m\u001b[0m\n",
      "\u001b[0;31mNameError\u001b[0m: name 'year' is not defined"
     ]
    }
   ],
   "source": [
    "for i in senate_links[0:20]:\n",
    "    url = 'http://www.congress.gov'+i\n",
    "    response = requests.get(url)\n",
    "    page = response.text\n",
    "    soup = BeautifulSoup(page, \"html.parser\")\n",
    "    temp_all_links = []\n",
    "    for link in soup.find_all('a'):\n",
    "        temp_all_links.append(link.get('href'))\n",
    "    temp_article_links = []\n",
    "    for i in temp_all_links:\n",
    "        if \"/article/\" in i:\n",
    "            temp_article_links.append(i)\n",
    "    article_texts = []\n",
    "    for j in temp_article_links:\n",
    "        url ='http://www.congress.gov'+j\n",
    "        response = requests.get(url)\n",
    "        page = response.text\n",
    "        soup = BeautifulSoup(page, \"html.parser\")\n",
    "        originaltext =  soup.find(class_='styled').text\n",
    "        day = j.split('/')[4]\n",
    "        month = j.split('/')[3]\n",
    "        year = j.split('/')[2]\n",
    "        tempdict = {\"url\": url, \"originaltext\": originaltext, \"day\":day, \"month\":month, \"year\":year}\n",
    "        article_texts.append(tempdict)\n",
    "    filename = 'Data/105congress/105senate/'+year+'_'+month+'_'+day\n",
    "    with open(filename, 'w') as outfile:\n",
    "        json.dump(article_texts, outfile)"
   ]
  },
  {
   "cell_type": "code",
   "execution_count": 25,
   "metadata": {
    "collapsed": false
   },
   "outputs": [
    {
     "name": "stdout",
     "output_type": "stream",
     "text": [
      "298\n",
      "253\n"
     ]
    }
   ],
   "source": [
    "#sets starting point\n",
    "url = 'https://www.congress.gov/congressional-record/105th-congress/browse-by-date'\n",
    "response = requests.get(url)\n",
    "page = response.text\n",
    "soup = BeautifulSoup(page, \"html.parser\")\n",
    "\n",
    "all_links=[]\n",
    "for link in soup.find_all('a'):\n",
    "    all_links.append(link.get('href'))\n",
    "\n",
    "senate_links = []\n",
    "house_links = []\n",
    "for i in all_links:\n",
    "    if \"senate-section\" in i:\n",
    "        senate_links.append(i)\n",
    "    if \"house-section\" in i:\n",
    "        house_links.append(i)\n",
    "print (len(senate_links))\n",
    "print (len(house_links))"
   ]
  },
  {
   "cell_type": "code",
   "execution_count": 26,
   "metadata": {
    "collapsed": false
   },
   "outputs": [],
   "source": [
    "for i in senate_links[290:]:\n",
    "    url = 'http://www.congress.gov'+i\n",
    "    response = requests.get(url)\n",
    "    page = response.text\n",
    "    soup = BeautifulSoup(page, \"html.parser\")\n",
    "    temp_all_links = []\n",
    "    for link in soup.find_all('a'):\n",
    "        temp_all_links.append(link.get('href'))\n",
    "    temp_article_links = []\n",
    "    for i in temp_all_links:\n",
    "        if \"/article/\" in i:\n",
    "            temp_article_links.append(i)\n",
    "    article_texts = []\n",
    "    for j in temp_article_links:\n",
    "        url ='http://www.congress.gov'+j\n",
    "        response = requests.get(url)\n",
    "        page = response.text\n",
    "        soup = BeautifulSoup(page, \"html.parser\")\n",
    "        originaltext =  soup.find(class_='styled').text\n",
    "        day = j.split('/')[4]\n",
    "        month = j.split('/')[3]\n",
    "        year = j.split('/')[2]\n",
    "        tempdict = {\"url\": url, \"originaltext\": originaltext, \"day\":day, \"month\":month, \"year\":year}\n",
    "        article_texts.append(tempdict)\n",
    "    filename = 'Data/104congress/104senate/'+year+'_'+month+'_'+day\n",
    "    with open(filename, 'w') as outfile:\n",
    "        json.dump(article_texts, outfile)"
   ]
  },
  {
   "cell_type": "code",
   "execution_count": null,
   "metadata": {
    "collapsed": true
   },
   "outputs": [],
   "source": []
  }
 ],
 "metadata": {
  "kernelspec": {
   "display_name": "Python 3",
   "language": "python",
   "name": "python3"
  },
  "language_info": {
   "codemirror_mode": {
    "name": "ipython",
    "version": 3
   },
   "file_extension": ".py",
   "mimetype": "text/x-python",
   "name": "python",
   "nbconvert_exporter": "python",
   "pygments_lexer": "ipython3",
   "version": "3.5.1"
  }
 },
 "nbformat": 4,
 "nbformat_minor": 0
}
