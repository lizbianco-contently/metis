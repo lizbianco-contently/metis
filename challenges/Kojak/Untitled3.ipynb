{
 "cells": [
  {
   "cell_type": "code",
   "execution_count": 79,
   "metadata": {
    "collapsed": true
   },
   "outputs": [],
   "source": [
    "topics = [(0, '0.003*chemical + 0.002*budget authority + 0.002*member state + 0.002*contractor + 0.002*business concerns + 0.002*administrator shall + 0.002*authority outlays + 0.002*substances + 0.002*criminal history + 0.002*exceed + 0.001*expenses + 0.001*applicants + 0.001*drinking + 0.001*drinking water + 0.001*disclosure + 0.001*notification + 0.001*select + 0.001*expended + 0.001*pool + 0.001*select committee + 0.001*conditional + 0.001*budget act + 0.001*committee shall + 0.001*member states + 0.001*proposed sale + 0.001*development related + 0.001*allocation + 0.001*transmittal + 0.001*current level + 0.001*discretionary'), (1, '0.007*currency + 0.005*currency currency + 0.003*foreign equivalent + 0.002*indian country + 0.002*dollar dollar + 0.002*equivalent foreign + 0.002*chuck + 0.002*cyber command + 0.002*identifies + 0.001*poverty areas + 0.001*pope + 0.001*euro + 0.001*total dollar + 0.001*areas indian + 0.001*rural poverty + 0.001*amp + 0.001*abn + 0.001*interior shall + 0.001*airborne + 0.001*indian tribe + 0.001*energy conservation + 0.001*special operations + 0.001*meaning given + 0.001*indian tribes + 0.001*given term + 0.001*term section + 0.001*planes + 0.001*germany euro + 0.001*school graduation + 0.001*states dollar'), (2, '0.006*selective + 0.006*selective service + 0.004*sttr + 0.004*military selective + 0.004*arsenal + 0.004*service act + 0.003*military manufacturing + 0.003*manufacturing arsenal + 0.003*federal agency + 0.003*il + 0.003*pilot program + 0.003*ca + 0.003*jo + 0.003*au + 0.003*ma + 0.003*mx + 0.003*bh ca + 0.003*kr + 0.003*pe + 0.003*om + 0.003*cl + 0.003*bh + 0.003*sg + 0.003*pe sg + 0.003*sbir program + 0.003*pa + 0.003*ma mx + 0.003*il jo + 0.002*pa pe + 0.002*ca cl'), (3, '0.002*flint + 0.001*championship + 0.001*circuit + 0.001*lynch + 0.001*immigrants + 0.001*coach + 0.001*senate republicans + 0.001*witness + 0.001*section arms + 0.001*arms export + 0.001*justices + 0.001*violent + 0.001*restrepo + 0.001*witnesses + 0.001*vacancies + 0.001*sanctuary + 0.001*offenders + 0.001*hockey + 0.001*judges + 0.001*aliens + 0.001*obstruction + 0.001*appropriations process + 0.001*basketball + 0.001*latino + 0.001*daca + 0.001*ms lynch + 0.001*prosecutor + 0.001*scranton + 0.001*health economy + 0.001*republicans democrats'), (4, '0.002*scalia + 0.001*addiction + 0.001*justice scalia + 0.001*fda + 0.001*west virginia + 0.001*heroin + 0.001*tax credit + 0.001*opioid + 0.001*puerto + 0.001*puerto rico + 0.001*rico + 0.001*pills + 0.000*arbitration + 0.000*opioids + 0.000*shelf + 0.000*oig + 0.000*continental + 0.000*opinions + 0.000*religion + 0.000*clean power + 0.000*subpoena + 0.000*outer + 0.000*boyd + 0.000*continental shelf + 0.000*vacancy + 0.000*clean water + 0.000*outer continental + 0.000*electricity + 0.000*secrets + 0.000*trade secrets'), (5, '0.002*section small + 0.002*india + 0.002*exchanges + 0.001*following named + 0.001*indicated + 0.001*grade indicated + 0.001*asian + 0.001*military operations + 0.001*joint military + 0.001*named officer + 0.001*asia pacific + 0.001*title section + 0.001*appointment grade + 0.001*officer appointment + 0.001*rail + 0.001*taiwan + 0.001*business loans + 0.001*republic + 0.001*maritime + 0.001*tactics + 0.001*pacific region + 0.001*flag + 0.001*domain + 0.001*transportation program + 0.001*united nations + 0.001*logistical + 0.001*new jersey + 0.001*techniques + 0.001*tribal transportation + 0.001*climate change'), (6, '0.003*zika + 0.002*rocket + 0.002*gdp + 0.002*percent gdp + 0.002*gdp growth + 0.001*virus + 0.001*engine + 0.001*launch + 0.001*zika virus + 0.001*control senate + 0.001*pay raise + 0.001*paycheck + 0.001*republicans control + 0.001*essentially + 0.001*nasa + 0.001*whites + 0.001*normal + 0.001*ebola + 0.001*new normal + 0.001*injustice + 0.001*frustration + 0.001*ice + 0.001*sands + 0.001*minority leader + 0.001*senate let + 0.001*let act + 0.001*tar + 0.001*tar sands + 0.001*color + 0.001*criminal justice'), (7, '0.005*congressional record + 0.005*appeared + 0.005*senate appeared + 0.005*received senate + 0.005*appeared congressional + 0.004*outlays + 0.003*nominations received + 0.003*nominations beginning + 0.002*enrollment + 0.001*dual + 0.001*courses + 0.001*army nomination + 0.001*dual enrollment + 0.001*record april + 0.001*concurrent dual + 0.001*record january + 0.001*roger + 0.001*army nominations + 0.001*concurrent enrollment + 0.001*senator grassley + 0.001*iran deal + 0.001*bob + 0.001*navy nomination + 0.001*record november + 0.001*navy nominations + 0.001*enrollment programs + 0.001*filibustered + 0.001*randy + 0.001*holder + 0.001*percent jobs'), (8, '0.003*sbir + 0.002*linda + 0.001*hampshire + 0.001*new hampshire + 0.001*gun + 0.001*national guard + 0.001*enforcement officers + 0.001*pools + 0.001*maine + 0.001*jim + 0.001*coast guard + 0.001*fort + 0.001*kansas + 0.001*doug + 0.001*tom + 0.001*st + 0.001*line duty + 0.001*wyoming + 0.001*chicago + 0.001*mary + 0.001*oregon + 0.001*fred + 0.001*flight + 0.001*smith + 0.001*police officers + 0.001*volunteers + 0.001*naval + 0.001*lieutenant + 0.001*lincoln + 0.001*indiana'), (9, '0.003*north korea + 0.002*addiction + 0.002*fired + 0.002*defense appropriations + 0.002*coal fired + 0.002*overdose + 0.002*plants + 0.002*heroin + 0.001*opioid + 0.001*traumatic + 0.001*charlie + 0.001*fired plants + 0.001*journalists + 0.001*deal iran + 0.001*discharge + 0.001*tobacco + 0.001*answers + 0.001*veterans treatment + 0.001*care veterans + 0.001*cigarettes + 0.001*overdoses + 0.001*addicted + 0.001*prescription drug + 0.001*com + 0.001*passed appropriations + 0.001*drug addiction + 0.001*suicide + 0.001*applications + 0.001*backpage com + 0.001*energy infrastructure'), (10, '0.007*program management + 0.005*office management + 0.005*management budget + 0.005*program project + 0.004*project management + 0.004*management improvement + 0.004*chemical substance + 0.003*chairperson + 0.003*deputy director + 0.003*director management + 0.003*program managers + 0.002*sanctuary + 0.002*management policy + 0.002*policy council + 0.002*council shall + 0.002*budget shall + 0.002*standards policies + 0.002*management office + 0.002*improvement officer + 0.002*state political + 0.002*head agency + 0.002*director office + 0.002*sanctuary city + 0.002*described section + 0.001*agency described + 0.001*policies guidelines + 0.001*improvement officers + 0.001*shall issue + 0.001*added paragraph + 0.001*subdivision'), (11, '0.003*continental + 0.003*shelf + 0.003*outer + 0.003*continental shelf + 0.003*outer continental + 0.002*mid atlantic + 0.002*south atlantic + 0.002*atlantic planning + 0.002*producing + 0.002*atlantic producing + 0.002*planning area + 0.002*leasing + 0.001*qualified outer + 0.001*shelf revenues + 0.001*producing state + 0.001*seniors + 0.001*foster + 0.001*ayatollahs + 0.001*gao + 0.001*foster care + 0.001*enrichment + 0.001*nuclear deal + 0.001*iran nuclear + 0.001*inspection + 0.001*catfish + 0.001*iaea + 0.001*assad + 0.001*banks + 0.001*republican budget + 0.001*patriot'), (12, '0.003*atlas + 0.002*disability + 0.001*conditional offer + 0.001*commissioner + 0.001*perkins + 0.001*asked republicans + 0.001*perkins loan + 0.001*west virginia + 0.001*security act + 0.001*loan program + 0.001*security administration + 0.001*ndaa + 0.001*zika virus + 0.001*commissioner social + 0.001*oklahoma + 0.001*administrative law + 0.001*describes + 0.001*bureaucracy + 0.001*disability insurance + 0.001*federal perkins + 0.001*medical evidence + 0.001*trust fund + 0.001*applicant + 0.001*assure + 0.001*airport + 0.001*waters united + 0.001*inspector general + 0.001*section social + 0.001*delayed + 0.001*security shall'), (13, '0.003*sexual assault + 0.002*zika + 0.002*puerto + 0.002*applicant + 0.002*rico + 0.002*species + 0.001*puerto rico + 0.001*infected + 0.001*diseases + 0.001*virus + 0.001*habitat + 0.001*child left + 0.001*mosquito + 0.001*malaria + 0.001*rural hospitals + 0.001*birth + 0.001*endangered + 0.001*school districts + 0.001*cte + 0.001*career technical + 0.001*tests + 0.001*collins mr + 0.001*ms collins + 0.001*healthy economy + 0.001*treatments + 0.001*survivors + 0.001*cleveland + 0.001*endangered species + 0.001*disabilities + 0.001*disease control'), (14, '0.003*trump + 0.003*climate change + 0.002*compact + 0.002*garland + 0.002*donald trump + 0.001*donald + 0.001*deductibles + 0.001*dodd + 0.001*hospitals + 0.001*carbon + 0.001*dodd frank + 0.001*banks + 0.001*care costs + 0.001*premium + 0.001*intellectual property + 0.001*premiums + 0.001*emissions + 0.001*mike + 0.001*installations + 0.001*paris + 0.001*shortage + 0.001*judge garland + 0.001*fossil + 0.001*foreign country + 0.001*chief judge + 0.001*merrick + 0.001*senator grassley + 0.001*merrick garland + 0.001*refugees + 0.001*unitedhealth')]"
   ]
  },
  {
   "cell_type": "code",
   "execution_count": 80,
   "metadata": {
    "collapsed": false
   },
   "outputs": [
    {
     "data": {
      "text/plain": [
       "15"
      ]
     },
     "execution_count": 80,
     "metadata": {},
     "output_type": "execute_result"
    }
   ],
   "source": [
    "len(topics)"
   ]
  },
  {
   "cell_type": "code",
   "execution_count": 81,
   "metadata": {
    "collapsed": false
   },
   "outputs": [
    {
     "name": "stdout",
     "output_type": "stream",
     "text": [
      "(0, '0.003*chemical + 0.002*budget authority + 0.002*member state + 0.002*contractor + 0.002*business concerns + 0.002*administrator shall + 0.002*authority outlays + 0.002*substances + 0.002*criminal history + 0.002*exceed + 0.001*expenses + 0.001*applicants + 0.001*drinking + 0.001*drinking water + 0.001*disclosure + 0.001*notification + 0.001*select + 0.001*expended + 0.001*pool + 0.001*select committee + 0.001*conditional + 0.001*budget act + 0.001*committee shall + 0.001*member states + 0.001*proposed sale + 0.001*development related + 0.001*allocation + 0.001*transmittal + 0.001*current level + 0.001*discretionary')\n",
      "(1, '0.007*currency + 0.005*currency currency + 0.003*foreign equivalent + 0.002*indian country + 0.002*dollar dollar + 0.002*equivalent foreign + 0.002*chuck + 0.002*cyber command + 0.002*identifies + 0.001*poverty areas + 0.001*pope + 0.001*euro + 0.001*total dollar + 0.001*areas indian + 0.001*rural poverty + 0.001*amp + 0.001*abn + 0.001*interior shall + 0.001*airborne + 0.001*indian tribe + 0.001*energy conservation + 0.001*special operations + 0.001*meaning given + 0.001*indian tribes + 0.001*given term + 0.001*term section + 0.001*planes + 0.001*germany euro + 0.001*school graduation + 0.001*states dollar')\n",
      "(2, '0.006*selective + 0.006*selective service + 0.004*sttr + 0.004*military selective + 0.004*arsenal + 0.004*service act + 0.003*military manufacturing + 0.003*manufacturing arsenal + 0.003*federal agency + 0.003*il + 0.003*pilot program + 0.003*ca + 0.003*jo + 0.003*au + 0.003*ma + 0.003*mx + 0.003*bh ca + 0.003*kr + 0.003*pe + 0.003*om + 0.003*cl + 0.003*bh + 0.003*sg + 0.003*pe sg + 0.003*sbir program + 0.003*pa + 0.003*ma mx + 0.003*il jo + 0.002*pa pe + 0.002*ca cl')\n",
      "(3, '0.002*flint + 0.001*championship + 0.001*circuit + 0.001*lynch + 0.001*immigrants + 0.001*coach + 0.001*senate republicans + 0.001*witness + 0.001*section arms + 0.001*arms export + 0.001*justices + 0.001*violent + 0.001*restrepo + 0.001*witnesses + 0.001*vacancies + 0.001*sanctuary + 0.001*offenders + 0.001*hockey + 0.001*judges + 0.001*aliens + 0.001*obstruction + 0.001*appropriations process + 0.001*basketball + 0.001*latino + 0.001*daca + 0.001*ms lynch + 0.001*prosecutor + 0.001*scranton + 0.001*health economy + 0.001*republicans democrats')\n",
      "(4, '0.002*scalia + 0.001*addiction + 0.001*justice scalia + 0.001*fda + 0.001*west virginia + 0.001*heroin + 0.001*tax credit + 0.001*opioid + 0.001*puerto + 0.001*puerto rico + 0.001*rico + 0.001*pills + 0.000*arbitration + 0.000*opioids + 0.000*shelf + 0.000*oig + 0.000*continental + 0.000*opinions + 0.000*religion + 0.000*clean power + 0.000*subpoena + 0.000*outer + 0.000*boyd + 0.000*continental shelf + 0.000*vacancy + 0.000*clean water + 0.000*outer continental + 0.000*electricity + 0.000*secrets + 0.000*trade secrets')\n",
      "(5, '0.002*section small + 0.002*india + 0.002*exchanges + 0.001*following named + 0.001*indicated + 0.001*grade indicated + 0.001*asian + 0.001*military operations + 0.001*joint military + 0.001*named officer + 0.001*asia pacific + 0.001*title section + 0.001*appointment grade + 0.001*officer appointment + 0.001*rail + 0.001*taiwan + 0.001*business loans + 0.001*republic + 0.001*maritime + 0.001*tactics + 0.001*pacific region + 0.001*flag + 0.001*domain + 0.001*transportation program + 0.001*united nations + 0.001*logistical + 0.001*new jersey + 0.001*techniques + 0.001*tribal transportation + 0.001*climate change')\n",
      "(6, '0.003*zika + 0.002*rocket + 0.002*gdp + 0.002*percent gdp + 0.002*gdp growth + 0.001*virus + 0.001*engine + 0.001*launch + 0.001*zika virus + 0.001*control senate + 0.001*pay raise + 0.001*paycheck + 0.001*republicans control + 0.001*essentially + 0.001*nasa + 0.001*whites + 0.001*normal + 0.001*ebola + 0.001*new normal + 0.001*injustice + 0.001*frustration + 0.001*ice + 0.001*sands + 0.001*minority leader + 0.001*senate let + 0.001*let act + 0.001*tar + 0.001*tar sands + 0.001*color + 0.001*criminal justice')\n",
      "(7, '0.005*congressional record + 0.005*appeared + 0.005*senate appeared + 0.005*received senate + 0.005*appeared congressional + 0.004*outlays + 0.003*nominations received + 0.003*nominations beginning + 0.002*enrollment + 0.001*dual + 0.001*courses + 0.001*army nomination + 0.001*dual enrollment + 0.001*record april + 0.001*concurrent dual + 0.001*record january + 0.001*roger + 0.001*army nominations + 0.001*concurrent enrollment + 0.001*senator grassley + 0.001*iran deal + 0.001*bob + 0.001*navy nomination + 0.001*record november + 0.001*navy nominations + 0.001*enrollment programs + 0.001*filibustered + 0.001*randy + 0.001*holder + 0.001*percent jobs')\n",
      "(8, '0.003*sbir + 0.002*linda + 0.001*hampshire + 0.001*new hampshire + 0.001*gun + 0.001*national guard + 0.001*enforcement officers + 0.001*pools + 0.001*maine + 0.001*jim + 0.001*coast guard + 0.001*fort + 0.001*kansas + 0.001*doug + 0.001*tom + 0.001*st + 0.001*line duty + 0.001*wyoming + 0.001*chicago + 0.001*mary + 0.001*oregon + 0.001*fred + 0.001*flight + 0.001*smith + 0.001*police officers + 0.001*volunteers + 0.001*naval + 0.001*lieutenant + 0.001*lincoln + 0.001*indiana')\n",
      "(9, '0.003*north korea + 0.002*addiction + 0.002*fired + 0.002*defense appropriations + 0.002*coal fired + 0.002*overdose + 0.002*plants + 0.002*heroin + 0.001*opioid + 0.001*traumatic + 0.001*charlie + 0.001*fired plants + 0.001*journalists + 0.001*deal iran + 0.001*discharge + 0.001*tobacco + 0.001*answers + 0.001*veterans treatment + 0.001*care veterans + 0.001*cigarettes + 0.001*overdoses + 0.001*addicted + 0.001*prescription drug + 0.001*com + 0.001*passed appropriations + 0.001*drug addiction + 0.001*suicide + 0.001*applications + 0.001*backpage com + 0.001*energy infrastructure')\n",
      "(10, '0.007*program management + 0.005*office management + 0.005*management budget + 0.005*program project + 0.004*project management + 0.004*management improvement + 0.004*chemical substance + 0.003*chairperson + 0.003*deputy director + 0.003*director management + 0.003*program managers + 0.002*sanctuary + 0.002*management policy + 0.002*policy council + 0.002*council shall + 0.002*budget shall + 0.002*standards policies + 0.002*management office + 0.002*improvement officer + 0.002*state political + 0.002*head agency + 0.002*director office + 0.002*sanctuary city + 0.002*described section + 0.001*agency described + 0.001*policies guidelines + 0.001*improvement officers + 0.001*shall issue + 0.001*added paragraph + 0.001*subdivision')\n",
      "(11, '0.003*continental + 0.003*shelf + 0.003*outer + 0.003*continental shelf + 0.003*outer continental + 0.002*mid atlantic + 0.002*south atlantic + 0.002*atlantic planning + 0.002*producing + 0.002*atlantic producing + 0.002*planning area + 0.002*leasing + 0.001*qualified outer + 0.001*shelf revenues + 0.001*producing state + 0.001*seniors + 0.001*foster + 0.001*ayatollahs + 0.001*gao + 0.001*foster care + 0.001*enrichment + 0.001*nuclear deal + 0.001*iran nuclear + 0.001*inspection + 0.001*catfish + 0.001*iaea + 0.001*assad + 0.001*banks + 0.001*republican budget + 0.001*patriot')\n",
      "(12, '0.003*atlas + 0.002*disability + 0.001*conditional offer + 0.001*commissioner + 0.001*perkins + 0.001*asked republicans + 0.001*perkins loan + 0.001*west virginia + 0.001*security act + 0.001*loan program + 0.001*security administration + 0.001*ndaa + 0.001*zika virus + 0.001*commissioner social + 0.001*oklahoma + 0.001*administrative law + 0.001*describes + 0.001*bureaucracy + 0.001*disability insurance + 0.001*federal perkins + 0.001*medical evidence + 0.001*trust fund + 0.001*applicant + 0.001*assure + 0.001*airport + 0.001*waters united + 0.001*inspector general + 0.001*section social + 0.001*delayed + 0.001*security shall')\n",
      "(13, '0.003*sexual assault + 0.002*zika + 0.002*puerto + 0.002*applicant + 0.002*rico + 0.002*species + 0.001*puerto rico + 0.001*infected + 0.001*diseases + 0.001*virus + 0.001*habitat + 0.001*child left + 0.001*mosquito + 0.001*malaria + 0.001*rural hospitals + 0.001*birth + 0.001*endangered + 0.001*school districts + 0.001*cte + 0.001*career technical + 0.001*tests + 0.001*collins mr + 0.001*ms collins + 0.001*healthy economy + 0.001*treatments + 0.001*survivors + 0.001*cleveland + 0.001*endangered species + 0.001*disabilities + 0.001*disease control')\n",
      "(14, '0.003*trump + 0.003*climate change + 0.002*compact + 0.002*garland + 0.002*donald trump + 0.001*donald + 0.001*deductibles + 0.001*dodd + 0.001*hospitals + 0.001*carbon + 0.001*dodd frank + 0.001*banks + 0.001*care costs + 0.001*premium + 0.001*intellectual property + 0.001*premiums + 0.001*emissions + 0.001*mike + 0.001*installations + 0.001*paris + 0.001*shortage + 0.001*judge garland + 0.001*fossil + 0.001*foreign country + 0.001*chief judge + 0.001*merrick + 0.001*senator grassley + 0.001*merrick garland + 0.001*refugees + 0.001*unitedhealth')\n"
     ]
    }
   ],
   "source": [
    "for i in topics:\n",
    "    print(i)\n",
    "    \n",
    "    "
   ]
  },
  {
   "cell_type": "code",
   "execution_count": null,
   "metadata": {
    "collapsed": true
   },
   "outputs": [],
   "source": [
    "titles = ['Military', '?', '?','Budget','Court Vacancies','Water','Military','?','?',  ,"
   ]
  },
  {
   "cell_type": "code",
   "execution_count": null,
   "metadata": {
    "collapsed": true
   },
   "outputs": [],
   "source": []
  }
 ],
 "metadata": {
  "kernelspec": {
   "display_name": "Python 3",
   "language": "python",
   "name": "python3"
  },
  "language_info": {
   "codemirror_mode": {
    "name": "ipython",
    "version": 3
   },
   "file_extension": ".py",
   "mimetype": "text/x-python",
   "name": "python",
   "nbconvert_exporter": "python",
   "pygments_lexer": "ipython3",
   "version": "3.5.1"
  }
 },
 "nbformat": 4,
 "nbformat_minor": 0
}
