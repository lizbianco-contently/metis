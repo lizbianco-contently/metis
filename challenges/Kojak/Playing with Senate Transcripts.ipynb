{
 "cells": [
  {
   "cell_type": "code",
   "execution_count": 219,
   "metadata": {
    "collapsed": true
   },
   "outputs": [],
   "source": [
    "import json\n",
    "import pandas as pd\n",
    "import re"
   ]
  },
  {
   "cell_type": "code",
   "execution_count": 222,
   "metadata": {
    "collapsed": false
   },
   "outputs": [],
   "source": [
    "file = 'Data/114congress/114senate/2016_06_09'\n",
    "df = pd.read_json(file)"
   ]
  },
  {
   "cell_type": "code",
   "execution_count": 223,
   "metadata": {
    "collapsed": false
   },
   "outputs": [
    {
     "data": {
      "text/html": [
       "<div>\n",
       "<table border=\"1\" class=\"dataframe\">\n",
       "  <thead>\n",
       "    <tr style=\"text-align: right;\">\n",
       "      <th></th>\n",
       "      <th>day</th>\n",
       "      <th>month</th>\n",
       "      <th>originaltext</th>\n",
       "      <th>url</th>\n",
       "      <th>year</th>\n",
       "    </tr>\n",
       "  </thead>\n",
       "  <tbody>\n",
       "    <tr>\n",
       "      <th>0</th>\n",
       "      <td>9</td>\n",
       "      <td>6</td>\n",
       "      <td>\\n        \\n\\n[Page S3667]\\nFrom the Congressi...</td>\n",
       "      <td>http://www.congress.gov/congressional-record/2...</td>\n",
       "      <td>2016</td>\n",
       "    </tr>\n",
       "    <tr>\n",
       "      <th>1</th>\n",
       "      <td>9</td>\n",
       "      <td>6</td>\n",
       "      <td>\\n        \\n\\n[Page S3667]\\nFrom the Congressi...</td>\n",
       "      <td>http://www.congress.gov/congressional-record/2...</td>\n",
       "      <td>2016</td>\n",
       "    </tr>\n",
       "    <tr>\n",
       "      <th>2</th>\n",
       "      <td>9</td>\n",
       "      <td>6</td>\n",
       "      <td>\\n        \\n\\n[Page S3667]\\nFrom the Congressi...</td>\n",
       "      <td>http://www.congress.gov/congressional-record/2...</td>\n",
       "      <td>2016</td>\n",
       "    </tr>\n",
       "    <tr>\n",
       "      <th>3</th>\n",
       "      <td>9</td>\n",
       "      <td>6</td>\n",
       "      <td>\\n        \\n\\n[Page S3667]\\nFrom the Congressi...</td>\n",
       "      <td>http://www.congress.gov/congressional-record/2...</td>\n",
       "      <td>2016</td>\n",
       "    </tr>\n",
       "    <tr>\n",
       "      <th>4</th>\n",
       "      <td>9</td>\n",
       "      <td>6</td>\n",
       "      <td>\\n        \\n\\n[Page S3667]\\nFrom the Congressi...</td>\n",
       "      <td>http://www.congress.gov/congressional-record/2...</td>\n",
       "      <td>2016</td>\n",
       "    </tr>\n",
       "    <tr>\n",
       "      <th>5</th>\n",
       "      <td>9</td>\n",
       "      <td>6</td>\n",
       "      <td>\\n        \\n\\n[Pages S3667-S3668]\\nFrom the Co...</td>\n",
       "      <td>http://www.congress.gov/congressional-record/2...</td>\n",
       "      <td>2016</td>\n",
       "    </tr>\n",
       "    <tr>\n",
       "      <th>6</th>\n",
       "      <td>9</td>\n",
       "      <td>6</td>\n",
       "      <td>\\n        \\n\\n[Page S3668]\\nFrom the Congressi...</td>\n",
       "      <td>http://www.congress.gov/congressional-record/2...</td>\n",
       "      <td>2016</td>\n",
       "    </tr>\n",
       "    <tr>\n",
       "      <th>7</th>\n",
       "      <td>9</td>\n",
       "      <td>6</td>\n",
       "      <td>\\n        \\n\\n[Page S3668]\\nFrom the Congressi...</td>\n",
       "      <td>http://www.congress.gov/congressional-record/2...</td>\n",
       "      <td>2016</td>\n",
       "    </tr>\n",
       "    <tr>\n",
       "      <th>8</th>\n",
       "      <td>9</td>\n",
       "      <td>6</td>\n",
       "      <td>\\n        \\n\\n[Page S3668]\\nFrom the Congressi...</td>\n",
       "      <td>http://www.congress.gov/congressional-record/2...</td>\n",
       "      <td>2016</td>\n",
       "    </tr>\n",
       "    <tr>\n",
       "      <th>9</th>\n",
       "      <td>9</td>\n",
       "      <td>6</td>\n",
       "      <td>\\n        \\n\\n[Pages S3668-S3677]\\nFrom the Co...</td>\n",
       "      <td>http://www.congress.gov/congressional-record/2...</td>\n",
       "      <td>2016</td>\n",
       "    </tr>\n",
       "    <tr>\n",
       "      <th>10</th>\n",
       "      <td>9</td>\n",
       "      <td>6</td>\n",
       "      <td>\\n        \\n\\n[Page S3677]\\nFrom the Congressi...</td>\n",
       "      <td>http://www.congress.gov/congressional-record/2...</td>\n",
       "      <td>2016</td>\n",
       "    </tr>\n",
       "    <tr>\n",
       "      <th>11</th>\n",
       "      <td>9</td>\n",
       "      <td>6</td>\n",
       "      <td>\\n        \\n\\n[Pages S3677-S3715]\\nFrom the Co...</td>\n",
       "      <td>http://www.congress.gov/congressional-record/2...</td>\n",
       "      <td>2016</td>\n",
       "    </tr>\n",
       "    <tr>\n",
       "      <th>12</th>\n",
       "      <td>9</td>\n",
       "      <td>6</td>\n",
       "      <td>\\n        \\n\\n[Page S3715]\\nFrom the Congressi...</td>\n",
       "      <td>http://www.congress.gov/congressional-record/2...</td>\n",
       "      <td>2016</td>\n",
       "    </tr>\n",
       "    <tr>\n",
       "      <th>13</th>\n",
       "      <td>9</td>\n",
       "      <td>6</td>\n",
       "      <td>\\n        \\n\\n[Pages S3715-S3716]\\nFrom the Co...</td>\n",
       "      <td>http://www.congress.gov/congressional-record/2...</td>\n",
       "      <td>2016</td>\n",
       "    </tr>\n",
       "    <tr>\n",
       "      <th>14</th>\n",
       "      <td>9</td>\n",
       "      <td>6</td>\n",
       "      <td>\\n        \\n\\n[Page S3716]\\nFrom the Congressi...</td>\n",
       "      <td>http://www.congress.gov/congressional-record/2...</td>\n",
       "      <td>2016</td>\n",
       "    </tr>\n",
       "    <tr>\n",
       "      <th>15</th>\n",
       "      <td>9</td>\n",
       "      <td>6</td>\n",
       "      <td>\\n        \\n\\n[Page S3716]\\nFrom the Congressi...</td>\n",
       "      <td>http://www.congress.gov/congressional-record/2...</td>\n",
       "      <td>2016</td>\n",
       "    </tr>\n",
       "    <tr>\n",
       "      <th>16</th>\n",
       "      <td>9</td>\n",
       "      <td>6</td>\n",
       "      <td>\\n        \\n\\n[Pages S3716-S3717]\\nFrom the Co...</td>\n",
       "      <td>http://www.congress.gov/congressional-record/2...</td>\n",
       "      <td>2016</td>\n",
       "    </tr>\n",
       "    <tr>\n",
       "      <th>17</th>\n",
       "      <td>9</td>\n",
       "      <td>6</td>\n",
       "      <td>\\n        \\n\\n[Page S3717]\\nFrom the Congressi...</td>\n",
       "      <td>http://www.congress.gov/congressional-record/2...</td>\n",
       "      <td>2016</td>\n",
       "    </tr>\n",
       "    <tr>\n",
       "      <th>18</th>\n",
       "      <td>9</td>\n",
       "      <td>6</td>\n",
       "      <td>\\n        \\n\\n[Pages S3717-S3718]\\nFrom the Co...</td>\n",
       "      <td>http://www.congress.gov/congressional-record/2...</td>\n",
       "      <td>2016</td>\n",
       "    </tr>\n",
       "    <tr>\n",
       "      <th>19</th>\n",
       "      <td>9</td>\n",
       "      <td>6</td>\n",
       "      <td>\\n        \\n\\n[Page S3718]\\nFrom the Congressi...</td>\n",
       "      <td>http://www.congress.gov/congressional-record/2...</td>\n",
       "      <td>2016</td>\n",
       "    </tr>\n",
       "    <tr>\n",
       "      <th>20</th>\n",
       "      <td>9</td>\n",
       "      <td>6</td>\n",
       "      <td>\\n        \\n\\n[Page S3718]\\nFrom the Congressi...</td>\n",
       "      <td>http://www.congress.gov/congressional-record/2...</td>\n",
       "      <td>2016</td>\n",
       "    </tr>\n",
       "    <tr>\n",
       "      <th>21</th>\n",
       "      <td>9</td>\n",
       "      <td>6</td>\n",
       "      <td>\\n        \\n\\n[Page S3718]\\nFrom the Congressi...</td>\n",
       "      <td>http://www.congress.gov/congressional-record/2...</td>\n",
       "      <td>2016</td>\n",
       "    </tr>\n",
       "    <tr>\n",
       "      <th>22</th>\n",
       "      <td>9</td>\n",
       "      <td>6</td>\n",
       "      <td>\\n        \\n\\n[Page S3718]\\nFrom the Congressi...</td>\n",
       "      <td>http://www.congress.gov/congressional-record/2...</td>\n",
       "      <td>2016</td>\n",
       "    </tr>\n",
       "    <tr>\n",
       "      <th>23</th>\n",
       "      <td>9</td>\n",
       "      <td>6</td>\n",
       "      <td>\\n        \\n\\n[Pages S3718-S3719]\\nFrom the Co...</td>\n",
       "      <td>http://www.congress.gov/congressional-record/2...</td>\n",
       "      <td>2016</td>\n",
       "    </tr>\n",
       "    <tr>\n",
       "      <th>24</th>\n",
       "      <td>9</td>\n",
       "      <td>6</td>\n",
       "      <td>\\n        \\n\\n[Page S3719]\\nFrom the Congressi...</td>\n",
       "      <td>http://www.congress.gov/congressional-record/2...</td>\n",
       "      <td>2016</td>\n",
       "    </tr>\n",
       "    <tr>\n",
       "      <th>25</th>\n",
       "      <td>9</td>\n",
       "      <td>6</td>\n",
       "      <td>\\n        \\n\\n[Page S3719]\\nFrom the Congressi...</td>\n",
       "      <td>http://www.congress.gov/congressional-record/2...</td>\n",
       "      <td>2016</td>\n",
       "    </tr>\n",
       "    <tr>\n",
       "      <th>26</th>\n",
       "      <td>9</td>\n",
       "      <td>6</td>\n",
       "      <td>\\n        \\n\\n[Page S3719]\\nFrom the Congressi...</td>\n",
       "      <td>http://www.congress.gov/congressional-record/2...</td>\n",
       "      <td>2016</td>\n",
       "    </tr>\n",
       "    <tr>\n",
       "      <th>27</th>\n",
       "      <td>9</td>\n",
       "      <td>6</td>\n",
       "      <td>\\n        \\n\\n[Page S3719]\\nFrom the Congressi...</td>\n",
       "      <td>http://www.congress.gov/congressional-record/2...</td>\n",
       "      <td>2016</td>\n",
       "    </tr>\n",
       "    <tr>\n",
       "      <th>28</th>\n",
       "      <td>9</td>\n",
       "      <td>6</td>\n",
       "      <td>\\n        \\n\\n[Page S3719]\\nFrom the Congressi...</td>\n",
       "      <td>http://www.congress.gov/congressional-record/2...</td>\n",
       "      <td>2016</td>\n",
       "    </tr>\n",
       "    <tr>\n",
       "      <th>29</th>\n",
       "      <td>9</td>\n",
       "      <td>6</td>\n",
       "      <td>\\n        \\n\\n[Page S3719]\\nFrom the Congressi...</td>\n",
       "      <td>http://www.congress.gov/congressional-record/2...</td>\n",
       "      <td>2016</td>\n",
       "    </tr>\n",
       "    <tr>\n",
       "      <th>30</th>\n",
       "      <td>9</td>\n",
       "      <td>6</td>\n",
       "      <td>\\n        \\n\\n[Pages S3719-S3720]\\nFrom the Co...</td>\n",
       "      <td>http://www.congress.gov/congressional-record/2...</td>\n",
       "      <td>2016</td>\n",
       "    </tr>\n",
       "    <tr>\n",
       "      <th>31</th>\n",
       "      <td>9</td>\n",
       "      <td>6</td>\n",
       "      <td>\\n        \\n\\n[Page S3720]\\nFrom the Congressi...</td>\n",
       "      <td>http://www.congress.gov/congressional-record/2...</td>\n",
       "      <td>2016</td>\n",
       "    </tr>\n",
       "    <tr>\n",
       "      <th>32</th>\n",
       "      <td>9</td>\n",
       "      <td>6</td>\n",
       "      <td>\\n        \\n\\n[Pages S3720-S3723]\\nFrom the Co...</td>\n",
       "      <td>http://www.congress.gov/congressional-record/2...</td>\n",
       "      <td>2016</td>\n",
       "    </tr>\n",
       "    <tr>\n",
       "      <th>33</th>\n",
       "      <td>9</td>\n",
       "      <td>6</td>\n",
       "      <td>\\n        \\n\\n[Page S3723]\\nFrom the Congressi...</td>\n",
       "      <td>http://www.congress.gov/congressional-record/2...</td>\n",
       "      <td>2016</td>\n",
       "    </tr>\n",
       "    <tr>\n",
       "      <th>34</th>\n",
       "      <td>9</td>\n",
       "      <td>6</td>\n",
       "      <td>\\n        \\n\\n[Pages S3723-S3724]\\nFrom the Co...</td>\n",
       "      <td>http://www.congress.gov/congressional-record/2...</td>\n",
       "      <td>2016</td>\n",
       "    </tr>\n",
       "    <tr>\n",
       "      <th>35</th>\n",
       "      <td>9</td>\n",
       "      <td>6</td>\n",
       "      <td>\\n        \\n\\n[Page S3724]\\nFrom the Congressi...</td>\n",
       "      <td>http://www.congress.gov/congressional-record/2...</td>\n",
       "      <td>2016</td>\n",
       "    </tr>\n",
       "    <tr>\n",
       "      <th>36</th>\n",
       "      <td>9</td>\n",
       "      <td>6</td>\n",
       "      <td>\\n        \\n\\n[Page S3724]\\nFrom the Congressi...</td>\n",
       "      <td>http://www.congress.gov/congressional-record/2...</td>\n",
       "      <td>2016</td>\n",
       "    </tr>\n",
       "    <tr>\n",
       "      <th>37</th>\n",
       "      <td>9</td>\n",
       "      <td>6</td>\n",
       "      <td>\\n        \\n\\n[Pages S3724-S3725]\\nFrom the Co...</td>\n",
       "      <td>http://www.congress.gov/congressional-record/2...</td>\n",
       "      <td>2016</td>\n",
       "    </tr>\n",
       "    <tr>\n",
       "      <th>38</th>\n",
       "      <td>9</td>\n",
       "      <td>6</td>\n",
       "      <td>\\n        \\n\\n[Pages S3725-S3783]\\nFrom the Co...</td>\n",
       "      <td>http://www.congress.gov/congressional-record/2...</td>\n",
       "      <td>2016</td>\n",
       "    </tr>\n",
       "    <tr>\n",
       "      <th>39</th>\n",
       "      <td>9</td>\n",
       "      <td>6</td>\n",
       "      <td>\\n        \\n\\n[Page S3783]\\nFrom the Congressi...</td>\n",
       "      <td>http://www.congress.gov/congressional-record/2...</td>\n",
       "      <td>2016</td>\n",
       "    </tr>\n",
       "    <tr>\n",
       "      <th>40</th>\n",
       "      <td>9</td>\n",
       "      <td>6</td>\n",
       "      <td>\\n        \\n\\n[Page S3783]\\nFrom the Congressi...</td>\n",
       "      <td>http://www.congress.gov/congressional-record/2...</td>\n",
       "      <td>2016</td>\n",
       "    </tr>\n",
       "    <tr>\n",
       "      <th>41</th>\n",
       "      <td>9</td>\n",
       "      <td>6</td>\n",
       "      <td>\\n        \\n\\n[Page S3783]\\nFrom the Congressi...</td>\n",
       "      <td>http://www.congress.gov/congressional-record/2...</td>\n",
       "      <td>2016</td>\n",
       "    </tr>\n",
       "    <tr>\n",
       "      <th>42</th>\n",
       "      <td>9</td>\n",
       "      <td>6</td>\n",
       "      <td>\\n        \\n\\n[Page S3783]\\nFrom the Congressi...</td>\n",
       "      <td>http://www.congress.gov/congressional-record/2...</td>\n",
       "      <td>2016</td>\n",
       "    </tr>\n",
       "    <tr>\n",
       "      <th>43</th>\n",
       "      <td>9</td>\n",
       "      <td>6</td>\n",
       "      <td>\\n        \\n\\n[Page S3783]\\nFrom the Congressi...</td>\n",
       "      <td>http://www.congress.gov/congressional-record/2...</td>\n",
       "      <td>2016</td>\n",
       "    </tr>\n",
       "    <tr>\n",
       "      <th>44</th>\n",
       "      <td>9</td>\n",
       "      <td>6</td>\n",
       "      <td>\\n        \\n\\n[Pages S3783-S3786]\\nFrom the Co...</td>\n",
       "      <td>http://www.congress.gov/congressional-record/2...</td>\n",
       "      <td>2016</td>\n",
       "    </tr>\n",
       "    <tr>\n",
       "      <th>45</th>\n",
       "      <td>9</td>\n",
       "      <td>6</td>\n",
       "      <td>\\n        \\n\\n[Page S3786]\\nFrom the Congressi...</td>\n",
       "      <td>http://www.congress.gov/congressional-record/2...</td>\n",
       "      <td>2016</td>\n",
       "    </tr>\n",
       "  </tbody>\n",
       "</table>\n",
       "</div>"
      ],
      "text/plain": [
       "    day  month                                       originaltext  \\\n",
       "0     9      6  \\n        \\n\\n[Page S3667]\\nFrom the Congressi...   \n",
       "1     9      6  \\n        \\n\\n[Page S3667]\\nFrom the Congressi...   \n",
       "2     9      6  \\n        \\n\\n[Page S3667]\\nFrom the Congressi...   \n",
       "3     9      6  \\n        \\n\\n[Page S3667]\\nFrom the Congressi...   \n",
       "4     9      6  \\n        \\n\\n[Page S3667]\\nFrom the Congressi...   \n",
       "5     9      6  \\n        \\n\\n[Pages S3667-S3668]\\nFrom the Co...   \n",
       "6     9      6  \\n        \\n\\n[Page S3668]\\nFrom the Congressi...   \n",
       "7     9      6  \\n        \\n\\n[Page S3668]\\nFrom the Congressi...   \n",
       "8     9      6  \\n        \\n\\n[Page S3668]\\nFrom the Congressi...   \n",
       "9     9      6  \\n        \\n\\n[Pages S3668-S3677]\\nFrom the Co...   \n",
       "10    9      6  \\n        \\n\\n[Page S3677]\\nFrom the Congressi...   \n",
       "11    9      6  \\n        \\n\\n[Pages S3677-S3715]\\nFrom the Co...   \n",
       "12    9      6  \\n        \\n\\n[Page S3715]\\nFrom the Congressi...   \n",
       "13    9      6  \\n        \\n\\n[Pages S3715-S3716]\\nFrom the Co...   \n",
       "14    9      6  \\n        \\n\\n[Page S3716]\\nFrom the Congressi...   \n",
       "15    9      6  \\n        \\n\\n[Page S3716]\\nFrom the Congressi...   \n",
       "16    9      6  \\n        \\n\\n[Pages S3716-S3717]\\nFrom the Co...   \n",
       "17    9      6  \\n        \\n\\n[Page S3717]\\nFrom the Congressi...   \n",
       "18    9      6  \\n        \\n\\n[Pages S3717-S3718]\\nFrom the Co...   \n",
       "19    9      6  \\n        \\n\\n[Page S3718]\\nFrom the Congressi...   \n",
       "20    9      6  \\n        \\n\\n[Page S3718]\\nFrom the Congressi...   \n",
       "21    9      6  \\n        \\n\\n[Page S3718]\\nFrom the Congressi...   \n",
       "22    9      6  \\n        \\n\\n[Page S3718]\\nFrom the Congressi...   \n",
       "23    9      6  \\n        \\n\\n[Pages S3718-S3719]\\nFrom the Co...   \n",
       "24    9      6  \\n        \\n\\n[Page S3719]\\nFrom the Congressi...   \n",
       "25    9      6  \\n        \\n\\n[Page S3719]\\nFrom the Congressi...   \n",
       "26    9      6  \\n        \\n\\n[Page S3719]\\nFrom the Congressi...   \n",
       "27    9      6  \\n        \\n\\n[Page S3719]\\nFrom the Congressi...   \n",
       "28    9      6  \\n        \\n\\n[Page S3719]\\nFrom the Congressi...   \n",
       "29    9      6  \\n        \\n\\n[Page S3719]\\nFrom the Congressi...   \n",
       "30    9      6  \\n        \\n\\n[Pages S3719-S3720]\\nFrom the Co...   \n",
       "31    9      6  \\n        \\n\\n[Page S3720]\\nFrom the Congressi...   \n",
       "32    9      6  \\n        \\n\\n[Pages S3720-S3723]\\nFrom the Co...   \n",
       "33    9      6  \\n        \\n\\n[Page S3723]\\nFrom the Congressi...   \n",
       "34    9      6  \\n        \\n\\n[Pages S3723-S3724]\\nFrom the Co...   \n",
       "35    9      6  \\n        \\n\\n[Page S3724]\\nFrom the Congressi...   \n",
       "36    9      6  \\n        \\n\\n[Page S3724]\\nFrom the Congressi...   \n",
       "37    9      6  \\n        \\n\\n[Pages S3724-S3725]\\nFrom the Co...   \n",
       "38    9      6  \\n        \\n\\n[Pages S3725-S3783]\\nFrom the Co...   \n",
       "39    9      6  \\n        \\n\\n[Page S3783]\\nFrom the Congressi...   \n",
       "40    9      6  \\n        \\n\\n[Page S3783]\\nFrom the Congressi...   \n",
       "41    9      6  \\n        \\n\\n[Page S3783]\\nFrom the Congressi...   \n",
       "42    9      6  \\n        \\n\\n[Page S3783]\\nFrom the Congressi...   \n",
       "43    9      6  \\n        \\n\\n[Page S3783]\\nFrom the Congressi...   \n",
       "44    9      6  \\n        \\n\\n[Pages S3783-S3786]\\nFrom the Co...   \n",
       "45    9      6  \\n        \\n\\n[Page S3786]\\nFrom the Congressi...   \n",
       "\n",
       "                                                  url  year  \n",
       "0   http://www.congress.gov/congressional-record/2...  2016  \n",
       "1   http://www.congress.gov/congressional-record/2...  2016  \n",
       "2   http://www.congress.gov/congressional-record/2...  2016  \n",
       "3   http://www.congress.gov/congressional-record/2...  2016  \n",
       "4   http://www.congress.gov/congressional-record/2...  2016  \n",
       "5   http://www.congress.gov/congressional-record/2...  2016  \n",
       "6   http://www.congress.gov/congressional-record/2...  2016  \n",
       "7   http://www.congress.gov/congressional-record/2...  2016  \n",
       "8   http://www.congress.gov/congressional-record/2...  2016  \n",
       "9   http://www.congress.gov/congressional-record/2...  2016  \n",
       "10  http://www.congress.gov/congressional-record/2...  2016  \n",
       "11  http://www.congress.gov/congressional-record/2...  2016  \n",
       "12  http://www.congress.gov/congressional-record/2...  2016  \n",
       "13  http://www.congress.gov/congressional-record/2...  2016  \n",
       "14  http://www.congress.gov/congressional-record/2...  2016  \n",
       "15  http://www.congress.gov/congressional-record/2...  2016  \n",
       "16  http://www.congress.gov/congressional-record/2...  2016  \n",
       "17  http://www.congress.gov/congressional-record/2...  2016  \n",
       "18  http://www.congress.gov/congressional-record/2...  2016  \n",
       "19  http://www.congress.gov/congressional-record/2...  2016  \n",
       "20  http://www.congress.gov/congressional-record/2...  2016  \n",
       "21  http://www.congress.gov/congressional-record/2...  2016  \n",
       "22  http://www.congress.gov/congressional-record/2...  2016  \n",
       "23  http://www.congress.gov/congressional-record/2...  2016  \n",
       "24  http://www.congress.gov/congressional-record/2...  2016  \n",
       "25  http://www.congress.gov/congressional-record/2...  2016  \n",
       "26  http://www.congress.gov/congressional-record/2...  2016  \n",
       "27  http://www.congress.gov/congressional-record/2...  2016  \n",
       "28  http://www.congress.gov/congressional-record/2...  2016  \n",
       "29  http://www.congress.gov/congressional-record/2...  2016  \n",
       "30  http://www.congress.gov/congressional-record/2...  2016  \n",
       "31  http://www.congress.gov/congressional-record/2...  2016  \n",
       "32  http://www.congress.gov/congressional-record/2...  2016  \n",
       "33  http://www.congress.gov/congressional-record/2...  2016  \n",
       "34  http://www.congress.gov/congressional-record/2...  2016  \n",
       "35  http://www.congress.gov/congressional-record/2...  2016  \n",
       "36  http://www.congress.gov/congressional-record/2...  2016  \n",
       "37  http://www.congress.gov/congressional-record/2...  2016  \n",
       "38  http://www.congress.gov/congressional-record/2...  2016  \n",
       "39  http://www.congress.gov/congressional-record/2...  2016  \n",
       "40  http://www.congress.gov/congressional-record/2...  2016  \n",
       "41  http://www.congress.gov/congressional-record/2...  2016  \n",
       "42  http://www.congress.gov/congressional-record/2...  2016  \n",
       "43  http://www.congress.gov/congressional-record/2...  2016  \n",
       "44  http://www.congress.gov/congressional-record/2...  2016  \n",
       "45  http://www.congress.gov/congressional-record/2...  2016  "
      ]
     },
     "execution_count": 223,
     "metadata": {},
     "output_type": "execute_result"
    }
   ],
   "source": [
    "df"
   ]
  },
  {
   "cell_type": "code",
   "execution_count": 224,
   "metadata": {
    "collapsed": false
   },
   "outputs": [
    {
     "data": {
      "text/plain": [
       "'http://www.congress.gov/congressional-record/2016/06/09/senate-section/article/S3667-2'"
      ]
     },
     "execution_count": 224,
     "metadata": {},
     "output_type": "execute_result"
    }
   ],
   "source": [
    "df.url[1]"
   ]
  },
  {
   "cell_type": "code",
   "execution_count": 225,
   "metadata": {
    "collapsed": false
   },
   "outputs": [
    {
     "name": "stdout",
     "output_type": "stream",
     "text": [
      "\n",
      "        \n",
      "\n",
      "[Page S3667]\n",
      "From the Congressional Record Online through the Government Publishing Office [www.gpo.gov]\n",
      "\n",
      "\n",
      "\n",
      "\n",
      "                      WELCOMING THE GUEST CHAPLAIN\n",
      "\n",
      "  Mr. CORKER. Mr. President, I rise to speak of Pastor Steve Berger. It \n",
      "moves me to hear his voice echoing throughout this Chamber. He is one \n",
      "of the preeminent spiritual leaders in our Nation. He prays daily with \n",
      "his wife Sarah, who happens to be in the Chamber.\n",
      "  He prays daily for our Nation. There is a purity of his mission in \n",
      "leading a church that is making a difference in our State, and I think \n",
      "making a difference in our country, leading efforts not only here but \n",
      "around the world to bring people together, and I am so thrilled this \n",
      "Chamber and the people of our country are able to witness someone who I \n",
      "believe to be one of the greatest spiritual leaders in our Nation.\n",
      "  I only hope more people would be able to hear from him. Truly, it is \n",
      "a very moving moment for me to have a friend like Steve Berger, who \n",
      "means so much to our State and country, before us. I thank him for his \n",
      "willingness to do this.\n",
      "  The PRESIDING OFFICER. The Senator from Tennessee.\n",
      "  Mr. ALEXANDER. Mr. President, I welcome Steve Berger and thank \n",
      "Senator Corker for arranging for him to be here today. Steve is, \n",
      "indeed, one of our most distinguished Tennesseans. We welcome his \n",
      "family and some of his friends who are with us in the Gallery.\n",
      "  Chaplain Barry Black has reminded us that this tradition of opening \n",
      "the Senate with a prayer has been with us since the Senate began, and \n",
      "the Senate has had a Chaplain before the First Amendment to our \n",
      "Constitution was adopted. This tradition is an essential part of the \n",
      "American character, and having Steve Berger here to help us celebrate \n",
      "that essential part of the American character is a very special moment \n",
      "for me as well as for Senator Corker.\n",
      "\n",
      "                          ____________________\n",
      "\n",
      "\n",
      "\n",
      "    \n"
     ]
    }
   ],
   "source": [
    "print(df.originaltext[3])"
   ]
  },
  {
   "cell_type": "code",
   "execution_count": 226,
   "metadata": {
    "collapsed": false
   },
   "outputs": [],
   "source": [
    "test = df.originaltext[3]"
   ]
  },
  {
   "cell_type": "code",
   "execution_count": 227,
   "metadata": {
    "collapsed": false
   },
   "outputs": [],
   "source": [
    "test = test.replace(\"\\n\",\"\")#.strip()\n"
   ]
  },
  {
   "cell_type": "code",
   "execution_count": 228,
   "metadata": {
    "collapsed": false
   },
   "outputs": [
    {
     "name": "stdout",
     "output_type": "stream",
     "text": [
      "        [Page S3667]From the Congressional Record Online through the Government Publishing Office [www.gpo.gov]                      WELCOMING THE GUEST CHAPLAIN  Mr. CORKER. Mr. President, I rise to speak of Pastor Steve Berger. It moves me to hear his voice echoing throughout this Chamber. He is one of the preeminent spiritual leaders in our Nation. He prays daily with his wife Sarah, who happens to be in the Chamber.  He prays daily for our Nation. There is a purity of his mission in leading a church that is making a difference in our State, and I think making a difference in our country, leading efforts not only here but around the world to bring people together, and I am so thrilled this Chamber and the people of our country are able to witness someone who I believe to be one of the greatest spiritual leaders in our Nation.  I only hope more people would be able to hear from him. Truly, it is a very moving moment for me to have a friend like Steve Berger, who means so much to our State and country, before us. I thank him for his willingness to do this.  The PRESIDING OFFICER. The Senator from Tennessee.  Mr. ALEXANDER. Mr. President, I welcome Steve Berger and thank Senator Corker for arranging for him to be here today. Steve is, indeed, one of our most distinguished Tennesseans. We welcome his family and some of his friends who are with us in the Gallery.  Chaplain Barry Black has reminded us that this tradition of opening the Senate with a prayer has been with us since the Senate began, and the Senate has had a Chaplain before the First Amendment to our Constitution was adopted. This tradition is an essential part of the American character, and having Steve Berger here to help us celebrate that essential part of the American character is a very special moment for me as well as for Senator Corker.                          ____________________    \n"
     ]
    }
   ],
   "source": [
    "print (test)"
   ]
  },
  {
   "cell_type": "code",
   "execution_count": 229,
   "metadata": {
    "collapsed": false
   },
   "outputs": [
    {
     "name": "stdout",
     "output_type": "stream",
     "text": [
      "['', '', '', '', '', '', '', '', '[Page', 'S3667]From', 'the', 'Congressional', 'Record', 'Online', 'through', 'the', 'Government', 'Publishing', 'Office', '[www.gpo.gov]', '', '', '', '', '', '', '', '', '', '', '', '', '', '', '', '', '', '', '', '', '', 'WELCOMING', 'THE', 'GUEST', 'CHAPLAIN', '', 'Mr.', 'CORKER.', 'Mr.', 'President,', 'I', 'rise', 'to', 'speak', 'of', 'Pastor', 'Steve', 'Berger.', 'It', 'moves', 'me', 'to', 'hear', 'his', 'voice', 'echoing', 'throughout', 'this', 'Chamber.', 'He', 'is', 'one', 'of', 'the', 'preeminent', 'spiritual', 'leaders', 'in', 'our', 'Nation.', 'He', 'prays', 'daily', 'with', 'his', 'wife', 'Sarah,', 'who', 'happens', 'to', 'be', 'in', 'the', 'Chamber.', '', 'He', 'prays', 'daily', 'for', 'our', 'Nation.', 'There', 'is', 'a', 'purity', 'of', 'his', 'mission', 'in', 'leading', 'a', 'church', 'that', 'is', 'making', 'a', 'difference', 'in', 'our', 'State,', 'and', 'I', 'think', 'making', 'a', 'difference', 'in', 'our', 'country,', 'leading', 'efforts', 'not', 'only', 'here', 'but', 'around', 'the', 'world', 'to', 'bring', 'people', 'together,', 'and', 'I', 'am', 'so', 'thrilled', 'this', 'Chamber', 'and', 'the', 'people', 'of', 'our', 'country', 'are', 'able', 'to', 'witness', 'someone', 'who', 'I', 'believe', 'to', 'be', 'one', 'of', 'the', 'greatest', 'spiritual', 'leaders', 'in', 'our', 'Nation.', '', 'I', 'only', 'hope', 'more', 'people', 'would', 'be', 'able', 'to', 'hear', 'from', 'him.', 'Truly,', 'it', 'is', 'a', 'very', 'moving', 'moment', 'for', 'me', 'to', 'have', 'a', 'friend', 'like', 'Steve', 'Berger,', 'who', 'means', 'so', 'much', 'to', 'our', 'State', 'and', 'country,', 'before', 'us.', 'I', 'thank', 'him', 'for', 'his', 'willingness', 'to', 'do', 'this.', '', 'The', 'PRESIDING', 'OFFICER.', 'The', 'Senator', 'from', 'Tennessee.', '', 'Mr.', 'ALEXANDER.', 'Mr.', 'President,', 'I', 'welcome', 'Steve', 'Berger', 'and', 'thank', 'Senator', 'Corker', 'for', 'arranging', 'for', 'him', 'to', 'be', 'here', 'today.', 'Steve', 'is,', 'indeed,', 'one', 'of', 'our', 'most', 'distinguished', 'Tennesseans.', 'We', 'welcome', 'his', 'family', 'and', 'some', 'of', 'his', 'friends', 'who', 'are', 'with', 'us', 'in', 'the', 'Gallery.', '', 'Chaplain', 'Barry', 'Black', 'has', 'reminded', 'us', 'that', 'this', 'tradition', 'of', 'opening', 'the', 'Senate', 'with', 'a', 'prayer', 'has', 'been', 'with', 'us', 'since', 'the', 'Senate', 'began,', 'and', 'the', 'Senate', 'has', 'had', 'a', 'Chaplain', 'before', 'the', 'First', 'Amendment', 'to', 'our', 'Constitution', 'was', 'adopted.', 'This', 'tradition', 'is', 'an', 'essential', 'part', 'of', 'the', 'American', 'character,', 'and', 'having', 'Steve', 'Berger', 'here', 'to', 'help', 'us', 'celebrate', 'that', 'essential', 'part', 'of', 'the', 'American', 'character', 'is', 'a', 'very', 'special', 'moment', 'for', 'me', 'as', 'well', 'as', 'for', 'Senator', 'Corker.', '', '', '', '', '', '', '', '', '', '', '', '', '', '', '', '', '', '', '', '', '', '', '', '', '', '____________________', '', '', '', '']\n"
     ]
    }
   ],
   "source": [
    "split = test.split(' ')\n",
    "print(split)"
   ]
  },
  {
   "cell_type": "code",
   "execution_count": 230,
   "metadata": {
    "collapsed": false
   },
   "outputs": [],
   "source": [
    "split = test.split(' ')\n",
    "for i in split:\n",
    "    \n",
    "    if i is '':\n",
    "        split.remove(i)"
   ]
  },
  {
   "cell_type": "code",
   "execution_count": 231,
   "metadata": {
    "collapsed": false
   },
   "outputs": [
    {
     "data": {
      "text/plain": [
       "351"
      ]
     },
     "execution_count": 231,
     "metadata": {},
     "output_type": "execute_result"
    }
   ],
   "source": [
    "len(split)"
   ]
  },
  {
   "cell_type": "code",
   "execution_count": 232,
   "metadata": {
    "collapsed": true
   },
   "outputs": [],
   "source": [
    "titles = ['Mr.','Mrs.','Ms.','Miss.', 'The']\n",
    "newspeakers = []\n",
    "for index in range(0, len(split)):\n",
    "    if split[index] in titles:\n",
    "        count = 0\n",
    "        for i in split[index+1]:\n",
    "            if i.isupper() == True:\n",
    "                count += 1\n",
    "        if count > 2:\n",
    "            newspeakers.append(index)"
   ]
  },
  {
   "cell_type": "code",
   "execution_count": 233,
   "metadata": {
    "collapsed": false
   },
   "outputs": [
    {
     "name": "stdout",
     "output_type": "stream",
     "text": [
      "16 Mr. CORKER.\n",
      "Mr.\n",
      "191 The PRESIDING\n",
      "The\n",
      "198 Mr. ALEXANDER.\n",
      "Mr.\n"
     ]
    }
   ],
   "source": [
    "for i in newspeakers:\n",
    "    print (i, (' ').join(split[i:i+2]))\n",
    "    print (split[i])"
   ]
  },
  {
   "cell_type": "code",
   "execution_count": 234,
   "metadata": {
    "collapsed": false
   },
   "outputs": [],
   "source": [
    "sectioned_text = {}\n",
    "title = []\n",
    "for i in split[:(int(newspeakers[0]))]:\n",
    "    if i.isupper():\n",
    "        title.append(i)\n",
    "\n",
    "               \n",
    "            \n",
    "sectioned_text['article_title'] = (' ').join(title)\n",
    "for i in newspeakers:\n",
    "    try:\n",
    "        key = (' ').join(split[i:i+2])\n",
    "        start = i+2\n",
    "        end = newspeakers[newspeakers.index(i)+1]\n",
    "        sectioned_text[key]=(\" \").join(split[start:end])\n",
    "    except IndexError:\n",
    "        key = (' ').join(split[i:i+2])\n",
    "        start = i+2\n",
    "        sectioned_text[key]=(\" \").join(split[start:])\n",
    "\n",
    "\n",
    "#     try:\n",
    "        \n",
    "    \n",
    "    \n",
    "    \n",
    "#     print (i)\n",
    "#     print (split[i])\n",
    "#     print (split[i+1])\n",
    "#     try:\n",
    "#         sectioned_text[((' ').join(split[i:(i+1)]) )]= split[i:(newspeakers.index(i)+1)]\n",
    "#     except IndexError:\n",
    "#         sectioned_text[(split[(i+1)])] = split[i:(len(split)-1)]\n",
    "\n",
    "    \n",
    "            "
   ]
  },
  {
   "cell_type": "code",
   "execution_count": 235,
   "metadata": {
    "collapsed": false
   },
   "outputs": [
    {
     "name": "stdout",
     "output_type": "stream",
     "text": [
      "{'article_title': 'WELCOMING THE GUEST CHAPLAIN', 'Mr. CORKER.': 'Mr. President, I rise to speak of Pastor Steve Berger. It moves me to hear his voice echoing throughout this Chamber. He is one of the preeminent spiritual leaders in our Nation. He prays daily with his wife Sarah, who happens to be in the Chamber. He prays daily for our Nation. There is a purity of his mission in leading a church that is making a difference in our State, and I think making a difference in our country, leading efforts not only here but around the world to bring people together, and I am so thrilled this Chamber and the people of our country are able to witness someone who I believe to be one of the greatest spiritual leaders in our Nation. I only hope more people would be able to hear from him. Truly, it is a very moving moment for me to have a friend like Steve Berger, who means so much to our State and country, before us. I thank him for his willingness to do this.', 'The PRESIDING': 'OFFICER. The Senator from Tennessee.', 'Mr. ALEXANDER.': 'Mr. President, I welcome Steve Berger and thank Senator Corker for arranging for him to be here today. Steve is, indeed, one of our most distinguished Tennesseans. We welcome his family and some of his friends who are with us in the Gallery. Chaplain Barry Black has reminded us that this tradition of opening the Senate with a prayer has been with us since the Senate began, and the Senate has had a Chaplain before the First Amendment to our Constitution was adopted. This tradition is an essential part of the American character, and having Steve Berger here to help us celebrate that essential part of the American character is a very special moment for me as well as for Senator Corker.                         ____________________    '}\n"
     ]
    }
   ],
   "source": [
    "print(sectioned_text)"
   ]
  },
  {
   "cell_type": "code",
   "execution_count": 34,
   "metadata": {
    "collapsed": false
   },
   "outputs": [
    {
     "name": "stdout",
     "output_type": "stream",
     "text": [
      "['\\n', '\\n\\n[Page', 'S3667]\\nFrom', 'the', 'Congressional', 'Record', 'Online', 'through', 'the', 'Government', 'Publishing', 'Office', '[www.gpo.gov]\\n\\n\\n\\n\\n', 'WELCOMING', 'THE', 'GUEST', 'CHAPLAIN\\n\\n', 'Mr.', 'CORKER.', 'Mr.', 'President,', 'I', 'rise', 'to', 'speak', 'of', 'Pastor', 'Steve', 'Berger.', 'It', '\\nmoves', 'me', 'to', 'hear', 'his', 'voice', 'echoing', 'throughout', 'this', 'Chamber.', 'He', 'is', 'one', '\\nof', 'the', 'preeminent', 'spiritual', 'leaders', 'in', 'our', 'Nation.', 'He', 'prays', 'daily', 'with', '\\nhis', 'wife', 'Sarah,', 'who', 'happens', 'to', 'be', 'in', 'the', 'Chamber.\\n', 'He', 'prays', 'daily', 'for', 'our', 'Nation.', 'There', 'is', 'a', 'purity', 'of', 'his', 'mission', 'in', '\\nleading', 'a', 'church', 'that', 'is', 'making', 'a', 'difference', 'in', 'our', 'State,', 'and', 'I', 'think', '\\nmaking', 'a', 'difference', 'in', 'our', 'country,', 'leading', 'efforts', 'not', 'only', 'here', 'but', '\\naround', 'the', 'world', 'to', 'bring', 'people', 'together,', 'and', 'I', 'am', 'so', 'thrilled', 'this', '\\nChamber', 'and', 'the', 'people', 'of', 'our', 'country', 'are', 'able', 'to', 'witness', 'someone', 'who', 'I', '\\nbelieve', 'to', 'be', 'one', 'of', 'the', 'greatest', 'spiritual', 'leaders', 'in', 'our', 'Nation.\\n', 'I', 'only', 'hope', 'more', 'people', 'would', 'be', 'able', 'to', 'hear', 'from', 'him.', 'Truly,', 'it', 'is', '\\na', 'very', 'moving', 'moment', 'for', 'me', 'to', 'have', 'a', 'friend', 'like', 'Steve', 'Berger,', 'who', '\\nmeans', 'so', 'much', 'to', 'our', 'State', 'and', 'country,', 'before', 'us.', 'I', 'thank', 'him', 'for', 'his', '\\nwillingness', 'to', 'do', 'this.\\n', 'The', 'PRESIDING', 'OFFICER.', 'The', 'Senator', 'from', 'Tennessee.\\n', 'Mr.', 'ALEXANDER.', 'Mr.', 'President,', 'I', 'welcome', 'Steve', 'Berger', 'and', 'thank', '\\nSenator', 'Corker', 'for', 'arranging', 'for', 'him', 'to', 'be', 'here', 'today.', 'Steve', 'is,', '\\nindeed,', 'one', 'of', 'our', 'most', 'distinguished', 'Tennesseans.', 'We', 'welcome', 'his', '\\nfamily', 'and', 'some', 'of', 'his', 'friends', 'who', 'are', 'with', 'us', 'in', 'the', 'Gallery.\\n', 'Chaplain', 'Barry', 'Black', 'has', 'reminded', 'us', 'that', 'this', 'tradition', 'of', 'opening', '\\nthe', 'Senate', 'with', 'a', 'prayer', 'has', 'been', 'with', 'us', 'since', 'the', 'Senate', 'began,', 'and', '\\nthe', 'Senate', 'has', 'had', 'a', 'Chaplain', 'before', 'the', 'First', 'Amendment', 'to', 'our', '\\nConstitution', 'was', 'adopted.', 'This', 'tradition', 'is', 'an', 'essential', 'part', 'of', 'the', '\\nAmerican', 'character,', 'and', 'having', 'Steve', 'Berger', 'here', 'to', 'help', 'us', 'celebrate', '\\nthat', 'essential', 'part', 'of', 'the', 'American', 'character', 'is', 'a', 'very', 'special', 'moment', '\\nfor', 'me', 'as', 'well', 'as', 'for', 'Senator', 'Corker.\\n\\n', '', '', '', '', '', '', '', '', '', '', '', '', '', '', '', '', '', '', '', '', '', '', '', '____________________\\n\\n\\n\\n', '', '', '', '']\n"
     ]
    }
   ],
   "source": [
    "print (split)"
   ]
  },
  {
   "cell_type": "code",
   "execution_count": null,
   "metadata": {
    "collapsed": true
   },
   "outputs": [],
   "source": []
  }
 ],
 "metadata": {
  "kernelspec": {
   "display_name": "Python 3",
   "language": "python",
   "name": "python3"
  },
  "language_info": {
   "codemirror_mode": {
    "name": "ipython",
    "version": 3
   },
   "file_extension": ".py",
   "mimetype": "text/x-python",
   "name": "python",
   "nbconvert_exporter": "python",
   "pygments_lexer": "ipython3",
   "version": "3.5.1"
  }
 },
 "nbformat": 4,
 "nbformat_minor": 0
}
