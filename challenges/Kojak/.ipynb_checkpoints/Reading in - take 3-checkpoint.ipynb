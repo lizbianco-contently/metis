{
 "cells": [
  {
   "cell_type": "code",
   "execution_count": 89,
   "metadata": {
    "collapsed": false
   },
   "outputs": [],
   "source": [
    "import json\n",
    "import pandas as pd\n",
    "import os\n",
    "import re\n",
    "from string import punctuation\n",
    "import pickle\n",
    "import csv"
   ]
  },
  {
   "cell_type": "code",
   "execution_count": 90,
   "metadata": {
    "collapsed": true
   },
   "outputs": [],
   "source": [
    "r = re.compile(r'[\\s{}]+'.format(re.escape(punctuation)))"
   ]
  },
  {
   "cell_type": "code",
   "execution_count": 91,
   "metadata": {
    "collapsed": true
   },
   "outputs": [],
   "source": [
    "\n",
    "s114 = []\n",
    "\n",
    "data114 = []\n",
    "\n",
    "speakers114=[]\n",
    "\n",
    "\n",
    "sd114 = []\n",
    "directory = \"Data/114congress/114senate\"\n",
    "outlist = s114\n",
    "session = '114'\n",
    "\n",
    "filenames = data114\n",
    "rosterfile = 'roster114.csv'\n",
    "speaker_dict = sd114"
   ]
  },
  {
   "cell_type": "code",
   "execution_count": 92,
   "metadata": {
    "collapsed": false
   },
   "outputs": [],
   "source": [
    "def read_em_in(directory, outlist):\n",
    "    for filename in os.listdir(directory):\n",
    "        filename = directory+'/'+filename\n",
    "        with open(filename) as json_data:\n",
    "            d = json.load(json_data)\n",
    "            for i in d:\n",
    "                outlist.append(i)\n",
    "            json_data.close\n",
    "    print(len(outlist))\n",
    "    "
   ]
  },
  {
   "cell_type": "code",
   "execution_count": 93,
   "metadata": {
    "collapsed": false
   },
   "outputs": [
    {
     "name": "stdout",
     "output_type": "stream",
     "text": [
      "11086\n"
     ]
    }
   ],
   "source": [
    "read_em_in(directory, outlist)"
   ]
  },
  {
   "cell_type": "code",
   "execution_count": 94,
   "metadata": {
    "collapsed": false
   },
   "outputs": [],
   "source": [
    "def get_senators(rosterfile, speakerlist):\n",
    "    roster = pd.read_csv(rosterfile)\n",
    "    temp_senators= []\n",
    "    for i in (roster['title']):\n",
    "        i = i.strip(\"[]\")\n",
    "        name = i.split(',')[0]\n",
    "        lastname = str(name.split(\" \")[-1:])\n",
    "        counter = 0   \n",
    "        for j in lastname:\n",
    "            if j.isupper():\n",
    "                counter = counter+1\n",
    "        if counter == 1:\n",
    "            temp_senators.append(lastname.upper())\n",
    "        else:\n",
    "            Mc_name = (lastname[2:5])+(lastname[5:].upper())\n",
    "            temp_senators.append(Mc_name)\n",
    "\n",
    "    for i in temp_senators:\n",
    "        i = (i.strip(\"'[]'\"))\n",
    "        speakerlist.append(i)\n",
    "\n"
   ]
  },
  {
   "cell_type": "code",
   "execution_count": 95,
   "metadata": {
    "collapsed": false
   },
   "outputs": [],
   "source": [
    "get_senators(rosterfile, speakers114)"
   ]
  },
  {
   "cell_type": "code",
   "execution_count": 96,
   "metadata": {
    "collapsed": false
   },
   "outputs": [
    {
     "data": {
      "text/plain": [
       "['LEAHY',\n",
       " 'HATCH',\n",
       " 'COCHRAN',\n",
       " 'GRASSLEY',\n",
       " 'McCONNELL',\n",
       " 'MIKULSKI',\n",
       " 'SHELBY',\n",
       " 'McCAIN',\n",
       " 'REID',\n",
       " 'FEINSTEIN',\n",
       " 'BOXER',\n",
       " 'MURRAY',\n",
       " 'INHOFE',\n",
       " 'WYDEN',\n",
       " 'ROBERTS',\n",
       " 'DURBIN',\n",
       " 'REED',\n",
       " 'SESSIONS',\n",
       " 'COLLINS',\n",
       " 'ENZI',\n",
       " 'SCHUMER',\n",
       " 'CRAPO',\n",
       " 'NELSON',\n",
       " 'CARPER',\n",
       " 'STABENOW',\n",
       " 'CANTWELL',\n",
       " 'CORNYN',\n",
       " 'MURKOWSKI',\n",
       " 'GRAHAM',\n",
       " 'ALEXANDER',\n",
       " 'BURR',\n",
       " 'THUNE',\n",
       " 'ISAKSON',\n",
       " 'VITTER',\n",
       " 'MENENDEZ',\n",
       " 'CARDIN',\n",
       " 'SANDERS',\n",
       " 'BROWN',\n",
       " 'CASEY',\n",
       " 'CORKER',\n",
       " 'McCASKILL',\n",
       " 'KLOBUCHAR',\n",
       " 'WHITEHOUSE',\n",
       " 'TESTER',\n",
       " 'BARRASSO',\n",
       " 'WICKER',\n",
       " 'UDALL',\n",
       " 'SHAHEEN',\n",
       " 'WARNER',\n",
       " 'RISCH',\n",
       " 'MERKLEY',\n",
       " 'BENNET',\n",
       " 'GILLIBRAND',\n",
       " 'FRANKEN',\n",
       " 'MANCHIN',\n",
       " 'COONS',\n",
       " 'KIRK',\n",
       " 'COATS',\n",
       " 'BLUNT',\n",
       " 'MORAN',\n",
       " 'PORTMAN',\n",
       " 'BOOZMAN',\n",
       " 'TOOMEY',\n",
       " 'HOEVEN',\n",
       " 'RUBIO',\n",
       " 'JOHNSON',\n",
       " 'PAUL',\n",
       " 'BLUMENTHAL',\n",
       " 'LEE',\n",
       " 'AYOTTE',\n",
       " 'HELLER',\n",
       " 'SCHATZ',\n",
       " 'SCOTT',\n",
       " 'BALDWIN',\n",
       " 'FLAKE',\n",
       " 'DONNELLY',\n",
       " 'MURPHY',\n",
       " 'HIRONO',\n",
       " 'HEINRICH',\n",
       " 'KING',\n",
       " 'KAINE',\n",
       " 'CRUZ',\n",
       " 'WARREN',\n",
       " 'FISCHER',\n",
       " 'HEITKAMP',\n",
       " 'MARKEY',\n",
       " 'BOOKER',\n",
       " 'CAPITO',\n",
       " 'PETERS',\n",
       " 'CASSIDY',\n",
       " 'GARDNER',\n",
       " 'LANKFORD',\n",
       " 'COTTON',\n",
       " 'DAINES',\n",
       " 'ROUNDS',\n",
       " 'PERDUE',\n",
       " 'TILLIS',\n",
       " 'ERNST',\n",
       " 'SASSE',\n",
       " 'SULLIVAN']"
      ]
     },
     "execution_count": 96,
     "metadata": {},
     "output_type": "execute_result"
    }
   ],
   "source": [
    "speakers114"
   ]
  },
  {
   "cell_type": "code",
   "execution_count": 97,
   "metadata": {
    "collapsed": false
   },
   "outputs": [],
   "source": [
    "def get_all_data(sessionlist, session, out):\n",
    "    for line in sessionlist:\n",
    "        sectioned_text = {}\n",
    "        url = line['url']\n",
    "        day = line['day']\n",
    "        month = line['month']\n",
    "        year = line['year']\n",
    "        sectioned_text['url']=url\n",
    "        sectioned_text['date']=year+'-'+month+'-'+day\n",
    "        sectioned_text['session'] = session\n",
    "        sectioned_text['text'] = line['originaltext']\n",
    "        out.append(sectioned_text)"
   ]
  },
  {
   "cell_type": "code",
   "execution_count": 98,
   "metadata": {
    "collapsed": false
   },
   "outputs": [],
   "source": [
    "get_all_data(s114, '114', sd114)"
   ]
  },
  {
   "cell_type": "code",
   "execution_count": 99,
   "metadata": {
    "collapsed": true
   },
   "outputs": [],
   "source": [
    "ends = [\"I yield\", \"I suggest the absence of a quorum\", \"The PRESIDING OFFICER\", \"The VICE PRESIDENT\", \"The President\"]"
   ]
  },
  {
   "cell_type": "code",
   "execution_count": 100,
   "metadata": {
    "collapsed": false
   },
   "outputs": [],
   "source": [
    "for i in speakers114:\n",
    "    ends.append(i)"
   ]
  },
  {
   "cell_type": "code",
   "execution_count": 101,
   "metadata": {
    "collapsed": false
   },
   "outputs": [
    {
     "data": {
      "text/plain": [
       "100"
      ]
     },
     "execution_count": 101,
     "metadata": {},
     "output_type": "execute_result"
    }
   ],
   "source": [
    "len(speakers114)"
   ]
  },
  {
   "cell_type": "code",
   "execution_count": 102,
   "metadata": {
    "collapsed": false
   },
   "outputs": [
    {
     "data": {
      "text/plain": [
       "{'date': '2015-01-07',\n",
       " 'session': '114',\n",
       " 'text': \"\\n        \\n\\n[Page S66]\\nFrom the Congressional Record Online through the Government Publishing Office [www.gpo.gov]\\n\\n\\n\\n\\n                         SUBMITTED RESOLUTIONS\\n\\n                                 ______\\n                                 \\n\\nSENATE RESOLUTION 21--MAKING MAJORITY PARTY APPOINTMENTS FOR THE 114TH \\n                                CONGRESS\\n\\n  Mr. McCONNELL submitted the following resolution; which was \\nconsidered and agreed to:\\n\\n                               S. Res. 21\\n\\n       Resolved, That the following be the majority membership on \\n     the following committees for the remainder of the 114th \\n     Congress, or until their successors are appointed:\\n       Committee on Agriculture, Nutrition, and Forestry: Mr. \\n     Cochran, Mr. McConnell, Mr. Roberts, Mr. Boozman, Mr. Hoeven, \\n     Mr. Perdue, Mrs. Ernst, Mr. Tillis, Mr. Sasse, Mr. Grassley, \\n     Mr. Thune.\\n       Committee on Appropriations: Mr. Cochran, Mr. McConnell, \\n     Mr. Shelby, Mr. Alexander, Ms. Collins, Ms. Murkowski, Mr. \\n     Graham, Mr. Kirk, Mr. Blunt, Mr. Moran, Mr. Hoeven, Mr. \\n     Boozman, Mrs. Capito, Mr. Cassidy, Mr. Lankford, Mr. Daines.\\n       Committee on Armed Services: Mr. McCain (Chairman), Mr. \\n     Inhofe, Mr. Sessions, Mr. Wicker, Ms. Ayotte, Mrs. Fischer, \\n     Mr. Cotton, Mr. Rounds, Mrs. Ernst, Mr. Tillis, Mr. Sullivan, \\n     Mr. Lee, Mr. Graham, Mr. Cruz.\\n       Committee on Banking, Housing, and Urban Affairs: Mr. \\n     Shelby, Mr. Crapo, Mr. Corker, Mr. Vitter, Mr. Toomey, Mr. \\n     Kirk, Mr. Heller, Mr. Scott, Mr. Sasse, Mr. Cotton, Mr. \\n     Rounds, Mr. Moran.\\n       Committee on Budget: Mr. Grassley, Mr. Enzi, Mr. Sessions, \\n     Mr. Crapo, Mr. Graham, Mr. Portman, Mr. Toomey, Mr. Johnson, \\n     Ms. Ayotte, Mr. Wicker, Mr. Corker, Mr. Perdue.\\n       Committee on Commerce, Science, and Transportation: Mr. \\n     Thune, Mr. Wicker, Mr. Blunt, Mr. Rubio, Ms. Ayotte, Mr. \\n     Cruz, Mrs. Fischer, Mr. Moran, Mr. Sullivan, Mr. Johnson, Mr. \\n     Heller, Mr. Gardner, Mr. Daines.\\n       Committee on Energy and Natural Resources: Ms. Murkowski \\n     (Chairman), Mr. Barrasso, Mr. Risch, Mr. Lee, Mr. Flake, Mr. \\n     Daines, Mr. Cassidy, Mr. Gardner, Mr. Portman, Mr. Hoeven, \\n     Mr. Alexander, Mrs. Capito.\\n       Committee on Environment and Public Works: Mr. Inhofe, Mr. \\n     Vitter, Mr. Barrasso, Mrs. Capito, Mr. Crapo, Mr. Boozman, \\n     Mr. Sessions, Mr. Wicker, Mrs. Fischer, Mr. Rounds, Mr. \\n     Sullivan.\\n       Committee on Finance: Mr. Hatch, Mr. Grassley, Mr. Crapo, \\n     Mr. Roberts, Mr. Enzi, Mr. Cornyn, Mr. Thune, Mr. Burr, Mr. \\n     Isakson, Mr. Portman, Mr. Toomey, Mr. Coats, Mr. Heller, Mr. \\n     Scott.\\n       Committee on Foreign Relations: Mr. Corker, Mr. Risch, Mr. \\n     Rubio, Mr. Johnson, Mr. Flake, Mr. Gardner, Mr. Perdue, Mr. \\n     Isakson, Mr. Paul, Mr. Barrasso.\\n       Committee on Health, Education, Labor, and Pensions: Mr. \\n     Enzi, Mr. Alexander, Mr. Burr, Mr. Isakson, Mr. Paul, Ms. \\n     Collins, Ms. Murkowski, Mr. Kirk, Mr. Scott, Mr. Hatch, Mr. \\n     Roberts, Mr. Cassidy.\\n       Committee on Homeland Security and Governmental Affairs: \\n     Mr. McCain, Mr. Johnson, Mr. Portman, Mr. Paul, Mr. Lankford, \\n     Ms. Ayotte, Mr. Enzi, Mrs. Ernst, Mr. Sasse.\\n       Committee on the Judiciary: Mr. Hatch, Mr. Grassley, Mr. \\n     Sessions, Mr. Graham, Mr. Cornyn, Mr. Lee, Mr. Cruz, Mr. \\n     Vitter, Mr. Flake, Mr. Perdue, Mr. Tillis.\\n       Committee on Rules and Administration: Mr. Alexander, Mr. \\n     McConnell, Mr. Cochran, Mr. Roberts, Mr. Shelby, Mr. Blunt, \\n     Mr. Cruz, Mrs. Capito, Mr. Boozman, Mr. Wicker.\\n       Committee on Small Business and Entrepreneurship: Mr. \\n     Vitter, Mr. Risch, Mr. Rubio, Mr. Paul, Mr. Scott, Mrs. \\n     Fischer, Mr. Gardner, Mrs. Ernst, Ms. Ayotte, Mr. Enzi.\\n       Committee on Veterans' Affairs: Mr. Isakson, Mr. Moran, Mr. \\n     Boozman, Mr. Heller, Mr. Cassidy, Mr. Rounds, Mr. Tillis, Mr. \\n     Sullivan.\\n       Committee on Indian Affairs: Mr. McCain, Ms. Murkowski, Mr. \\n     Barrasso, Mr. Hoeven, Mr. Lankford, Mr. Daines, Mr. Crapo, \\n     Mr. Moran.\\n       Committee on Ethics: Mr. Roberts, Mr. Isakson, Mr. Risch.\\n       Committee on Intelligence: Mr. Burr, Mr. Risch, Mr. Coats, \\n     Mr. Rubio, Ms. Collins, Mr. Blunt, Mr. Lankford, Mr. Cotton.\\n       Committee on Aging: Ms. Collins, Mr. Hatch, Mr. Kirk, Mr. \\n     Flake, Mr. Scott, Mr. Corker, Mr. Heller, Mr. Cotton, Mr. \\n     Perdue, Mr. Tillis, Mr. Sasse.\\n       Joint Economic Committee: Mr. Coats, Mr. Lee, Mr. Cotton, \\n     Mr. Sasse, Mr. Cruz, Mr. Cassidy.\\n\\n                          ____________________\\n\\n\\n\\n    \",\n",
       " 'url': 'http://www.congress.gov/congressional-record/2015/01/07/senate-section/article/S66-1'}"
      ]
     },
     "execution_count": 102,
     "metadata": {},
     "output_type": "execute_result"
    }
   ],
   "source": [
    "sd114[105]"
   ]
  },
  {
   "cell_type": "code",
   "execution_count": 103,
   "metadata": {
    "collapsed": true
   },
   "outputs": [],
   "source": [
    "data114 = []"
   ]
  },
  {
   "cell_type": "code",
   "execution_count": 104,
   "metadata": {
    "collapsed": false
   },
   "outputs": [],
   "source": [
    "def by_speaker(data, senators, output):\n",
    "    temp_senate_speeches = []\n",
    "    \n",
    "\n",
    "\n",
    "    for i in data:\n",
    "        text = i['text'].replace(\"\\n\",\"\")\n",
    "        for j in senators:\n",
    "            if j in text:\n",
    "                start = text.index(j)\n",
    "                i['text'] = text[start:]\n",
    "                i['speaker'] = j\n",
    "                temp_senate_speeches.append(i)\n",
    "\n",
    "    print(len(temp_senate_speeches))\n",
    "    for i in temp_senate_speeches:\n",
    "            text = i['text']\n",
    "            for j in ends:\n",
    "                if j in text[2:]:\n",
    "                    end = text.index(j)\n",
    "                    i['text'] = text[:end]\n",
    "\n",
    "            if (len(i['text'])) > 1000:\n",
    "                output.append(i)\n",
    "    \n",
    "            \n"
   ]
  },
  {
   "cell_type": "code",
   "execution_count": 105,
   "metadata": {
    "collapsed": false
   },
   "outputs": [
    {
     "name": "stdout",
     "output_type": "stream",
     "text": [
      "21938\n"
     ]
    }
   ],
   "source": [
    "by_speaker(sd114, speakers114, data114)\n"
   ]
  },
  {
   "cell_type": "code",
   "execution_count": 106,
   "metadata": {
    "collapsed": false
   },
   "outputs": [
    {
     "data": {
      "text/plain": [
       "7186"
      ]
     },
     "execution_count": 106,
     "metadata": {},
     "output_type": "execute_result"
    }
   ],
   "source": [
    "len(data114)"
   ]
  },
  {
   "cell_type": "code",
   "execution_count": 108,
   "metadata": {
    "collapsed": false
   },
   "outputs": [
    {
     "data": {
      "text/plain": [
       "{'date': '2015-01-13',\n",
       " 'session': '114',\n",
       " 'speaker': 'DURBIN',\n",
       " 'text': \"DURBIN. Mr. President, it is true that we are in the process of negotiating and discussing on the Democratic side the amendments that will be offered, and yes, there will be amendments offered. Senator Boxer has been part of this effort--and I just got off the phone with her--and she is now working with her staff to come up with amendments she believes will withstand any procedural challenge on the floor and, hopefully, those amendments will be brought up to the floor soon.  Senator Cantwell, who is the floor leader on our side on this particular measure, is also open. There is no question that we will be prepared to and will offer amendments. We are trying to finalize the language at this point and the order in which the amendments will be offered.  We will be working with the Republicans once we have our own set of amendments in place. There is no effort to obstruct this process. We generally agreed that we would not be voting today on amendments. It is possible--before the end of the day--that we will have an agreement to move forward in terms of the submission and debate on the amendments and the votes to occur perhaps next week. But that is still unresolved, and we are still talking about it.  What is interesting is to put this in perspective. We are talking about S. 1. This is the very first bill offered by the new Republican majority in the Senate. It is a bill, as they say, to approve the Keystone XL Pipeline.  The Republicans' highest priority and their No. 1 bill now that they have majority status in the Senate is the approval of a pipeline project to benefit one company--a Canadian company--and create 35 permanent jobs. The highest priority of the Republican majority in the Senate is to debate and pass a bill to benefit a Canadian company to create 35 permanent jobs.  This special interest, small-ball effort, is not a national economic or energy policy or a plan to make America energy independent. The Keystone XL Pipeline, sadly, is going to have a negative impact on the environment--and not just in the United States. It will literally affect all adjoining countries.  The tar sands that will be carried in this pipeline will increase the amount of pollution, greenhouse gas emissions--first when they are mined in Canada and later when they are refined. We know this because tar sands are currently coming into the United States--Canadian tar sands--and are being processed at a refinery in Wood River, IL. It is a refinery now owned by the Phillips oil company, and their refined product is distributed throughout the Midwest.  So the Keystone XL Pipeline is not the first Canadian tar sands pipeline. We already have a pipeline, and that existing pipeline--in the course of cleaning up Canadian tar sands so it can be made into products that can be sold on the market--generates something called petcoke. Petcoke is the waste product--the dirty part of the Canadian tar sands--that needs to be removed before they become viable petroleum products.  If you don't believe this petcoke is a danger, you only need to come to the great city of Chicago, which I am honored to represent. I visited the southeast side of Chicago. The British Petroleum refinery, which is at the end of Lake Michigan in the northern part of Indiana, refines the Canadian tar sands and generates, as part of the refining process, literally hills of petcoke--this black, sooty, nasty product they stack up near the refinery. Unfortunately, many times it ends up within the boundaries of the city of Chicago.  What impact do hills of petcoke have on a neighborhood? When the wind blows, this nasty, dirty product blows all over the homes, the families, and the children who live in that neighborhood. I have seen it. I have visited mothers with small children who try to seal the windows of their homes because this petcoke can get through any crack and into their homes, leaving a sooty deposit around them.  For those who argue that these Canadian tar sands pose no environmental threat, come take a look at these petcoke hills that are generated now by the process of refining this product.  Additionally, the Keystone XL Pipeline doesn't move us away from the dangerous tipping point which we face when it comes to climate change and global warming. In fact, it is going to speed up the day of reckoning. Leading scientists warn us that we are running out of time. As a Nation and as a world, if we do not accept the reality of what is happening to our environment, we are going to pay a heavy price.  According to the U.N. Intergovernmental Panel on Climate Change, at least half of the world's energy supply will need to come from low-carbon sources in the future--wind, solar, even nuclear--by 2050, if we are going to avoid catastrophic climate changes. That barely gives us 35 years to do something for our kids and grandkids. This Keystone bill does not even acknowledge that reality.  I have come to the floor many times and offered the challenge which I will renew today. I believe the Republican Party of the United States of America represented in the Senate is the only major political party in the world today that denies global warming and climate change. It is the only major political party which refuses to accept the premise that is well established in science, well established by our departments, such as the Department of Defense, that our activity as human beings on Earth is changing the world we live in--and not for the better.  One Republican pulled me aside off the floor, after I made this challenge several times, and said: Durbin, you are wrong. There is actually a political party in Australia that denies global warming as well. Well, that may be true, but the fact that they have such little company when it comes to this position suggests that our Republicans are denying reality. This bill denies that reality as well.  If it is about jobs, I suggest--not only to the majority leader but to the labor unions and to others interested in creating American jobs--that there are better alternatives in the energy sector. Solar power is already generating 3.4 million jobs in the United States. Remember, the Keystone XL Pipeline generates 35 permanent jobs, and, according to some estimates, maybe 40,000 temporary supply jobs for the construction of the pipeline. The Keystone XL Pipeline will create 35 permanent jobs while solar power is generating 3.4 million jobs in America. By the end of 2013, 24,000 of them were created just that year. Jobs were created in the solar industry at a growth rate of 20 percent over 2012. It is a growth industry for clean, green jobs. In Illinois, 9 solar projects employ almost 4,000 workers.  Solar isn't the only energy source we can invest in. Fuel cell technology doesn't get much attention but supports 11,000 jobs versus 35 permanent jobs for the Keystone XL Pipeline. The U.S. Department of Energy estimates that with the rapid increase in fuel cells, 180,000 new domestic jobs can be created by 2020 and 685,000 by 2035.  The International Renewable Energy Agency found the renewable energy industry in the United States responsible for 625,000 direct and indirect jobs in solar, biofuels, wind, biomass, hydropower, and geothermal industries. That is a conservative estimate. So if we are interested in clean energy, if we want to do the right thing by our environment for our kids and grandkids and we want to create American jobs--this isn't 35 jobs, which is the highest priority of the Senate Republican Caucus;[[Page S161]]this is looking at alternative sources of energy, which will create jobs and not destroy the planet.  The Keystone XL Pipeline will produce oil with a process that produces 17 percent more carbon than any conventional crude oils. That oil is going to be shipped, if the Republicans have their way, through a pipeline from Canada all the way to Texas, over and near thousands of lakes and aquifers that Americans rely on for clean drinking water.  After it reaches Port Arthur, TX--the original plan, which I think is still the case--it will be exported, so even the refined product is not going to be used here in America. So we ask our Republican colleagues: Where is your plan to make sure America leads the world in creating good-paying, green jobs for the future? Where is your plan to increase America's production of wind, solar, thermonuclear, cellulosic, and other forms of renewable energy? In fact, when it came to debating the extension of some tax benefits to these industries, many Republicans opposed it. They instead wanted to see us move toward initiatives such as the Keystone XL Pipeline.  So this is an important debate, and it is one that we ought to take in the context of the challenges our generation faces. We will either acknowledge the global environmental reality and deal with it, or we will have to answer to our children and grandchildren why we put the profits of 1 Canadian company and why we put 35 jobs ahead of a meaningful discussion about a national energy policy that is consistent with a clean and strong environment for years to come.                          ____________________    \",\n",
       " 'url': 'http://www.congress.gov/congressional-record/2015/01/13/senate-section/article/S160-2'}"
      ]
     },
     "execution_count": 108,
     "metadata": {},
     "output_type": "execute_result"
    }
   ],
   "source": [
    "data114[100]"
   ]
  },
  {
   "cell_type": "code",
   "execution_count": 109,
   "metadata": {
    "collapsed": true
   },
   "outputs": [],
   "source": [
    "def write_to_json(speakerdata, session):\n",
    "    filename = session+'_2.txt'\n",
    "    with open(filename, 'w') as outfile:\n",
    "        json.dump(speakerdata, outfile)"
   ]
  },
  {
   "cell_type": "code",
   "execution_count": 110,
   "metadata": {
    "collapsed": false
   },
   "outputs": [],
   "source": [
    "write_to_json(data114, '114')"
   ]
  },
  {
   "cell_type": "code",
   "execution_count": null,
   "metadata": {
    "collapsed": true
   },
   "outputs": [],
   "source": []
  }
 ],
 "metadata": {
  "kernelspec": {
   "display_name": "Python 3",
   "language": "python",
   "name": "python3"
  },
  "language_info": {
   "codemirror_mode": {
    "name": "ipython",
    "version": 3
   },
   "file_extension": ".py",
   "mimetype": "text/x-python",
   "name": "python",
   "nbconvert_exporter": "python",
   "pygments_lexer": "ipython3",
   "version": "3.5.1"
  }
 },
 "nbformat": 4,
 "nbformat_minor": 0
}
