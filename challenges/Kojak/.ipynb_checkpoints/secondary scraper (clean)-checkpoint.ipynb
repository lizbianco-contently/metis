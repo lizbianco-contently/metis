{
 "cells": [
  {
   "cell_type": "code",
   "execution_count": 1,
   "metadata": {
    "collapsed": true
   },
   "outputs": [],
   "source": [
    "import requests\n",
    "from bs4 import BeautifulSoup\n",
    "from pprint import pprint\n",
    "import re\n",
    "import pandas as pd\n",
    "import dateutil.parser\n",
    "from selenium import webdriver\n",
    "from selenium.webdriver.common.keys import Keys\n",
    "import time\n",
    "from selenium.common.exceptions import NoSuchElementException\n",
    "import csv\n",
    "import os\n",
    "from collections import OrderedDict\n",
    "import json"
   ]
  },
  {
   "cell_type": "code",
   "execution_count": 2,
   "metadata": {
    "collapsed": true
   },
   "outputs": [],
   "source": [
    "start_links=['https://www.congress.gov/congressional-record/111th-congress/browse-by-date',\n",
    "            'https://www.congress.gov/congressional-record/110th-congress/browse-by-date',\n",
    "            'https://www.congress.gov/congressional-record/109th-congress/browse-by-date',\n",
    "            'https://www.congress.gov/congressional-record/108th-congress/browse-by-date',\n",
    "            'https://www.congress.gov/congressional-record/107th-congress/browse-by-date',\n",
    "            'https://www.congress.gov/congressional-record/106th-congress/browse-by-date',\n",
    "            'https://www.congress.gov/congressional-record/105th-congress/browse-by-date',\n",
    "             'https://www.congress.gov/congressional-record/104th-congress/browse-by-date']\n"
   ]
  },
  {
   "cell_type": "code",
   "execution_count": 3,
   "metadata": {
    "collapsed": true
   },
   "outputs": [],
   "source": [
    "sessions = ['111', '110', '109', '108', '107', '106', '105', '104']"
   ]
  },
  {
   "cell_type": "code",
   "execution_count": 9,
   "metadata": {
    "collapsed": false
   },
   "outputs": [
    {
     "name": "stdout",
     "output_type": "stream",
     "text": [
      "Data/111congress/111senate/\n",
      "Data/110congress/110senate/\n",
      "Data/109congress/109senate/\n",
      "Data/108congress/108senate/\n",
      "Data/107congress/107senate/\n",
      "Data/106congress/106senate/\n",
      "Data/105congress/105senate/\n",
      "Data/104congress/104senate/\n"
     ]
    }
   ],
   "source": [
    "for i in sessions:\n",
    "    session = i\n",
    "    filename = 'Data/'+session+'congress/'+session+'senate/'\n",
    "    print (filename)"
   ]
  },
  {
   "cell_type": "code",
   "execution_count": 6,
   "metadata": {
    "collapsed": true
   },
   "outputs": [],
   "source": [
    "ziplist = zip(start_links, sessions)"
   ]
  },
  {
   "cell_type": "code",
   "execution_count": 7,
   "metadata": {
    "collapsed": false
   },
   "outputs": [
    {
     "name": "stdout",
     "output_type": "stream",
     "text": [
      "https://www.congress.gov/congressional-record/111th-congress/browse-by-date\n",
      "111\n",
      "https://www.congress.gov/congressional-record/110th-congress/browse-by-date\n",
      "110\n",
      "https://www.congress.gov/congressional-record/109th-congress/browse-by-date\n",
      "109\n",
      "https://www.congress.gov/congressional-record/108th-congress/browse-by-date\n",
      "108\n",
      "https://www.congress.gov/congressional-record/107th-congress/browse-by-date\n",
      "107\n",
      "https://www.congress.gov/congressional-record/106th-congress/browse-by-date\n",
      "106\n",
      "https://www.congress.gov/congressional-record/105th-congress/browse-by-date\n",
      "105\n",
      "https://www.congress.gov/congressional-record/104th-congress/browse-by-date\n",
      "104\n"
     ]
    }
   ],
   "source": [
    "for i in ziplist:\n",
    "    print (i[0])\n",
    "    print (i[1])"
   ]
  },
  {
   "cell_type": "code",
   "execution_count": null,
   "metadata": {
    "collapsed": true
   },
   "outputs": [],
   "source": []
  },
  {
   "cell_type": "code",
   "execution_count": null,
   "metadata": {
    "collapsed": false
   },
   "outputs": [
    {
     "name": "stdout",
     "output_type": "stream",
     "text": [
      "https://www.congress.gov/congressional-record/111th-congress/browse-by-date\n",
      "348\n",
      "287\n"
     ]
    }
   ],
   "source": [
    "for item in zip(start_links, sessions):    \n",
    "    session = item[1]\n",
    "    url = item[0]\n",
    "    response = requests.get(url)\n",
    "    page = response.text\n",
    "    soup = BeautifulSoup(page, \"html.parser\")\n",
    "    all_links=[]\n",
    "    for link in soup.find_all('a'):\n",
    "        all_links.append(link.get('href'))\n",
    "    senate_links = []\n",
    "    house_links = []\n",
    "    for i in all_links:\n",
    "        if \"senate-section\" in i:\n",
    "            senate_links.append(i)\n",
    "        if \"house-section\" in i:\n",
    "            house_links.append(i)\n",
    "    print (url)\n",
    "    print (len(senate_links))\n",
    "    print (len(house_links))\n",
    "\n",
    "    for i in senate_links:\n",
    "        url = 'http://www.congress.gov'+i\n",
    "        response = requests.get(url)\n",
    "        page = response.text\n",
    "        soup = BeautifulSoup(page, \"html.parser\")\n",
    "        temp_all_links = []\n",
    "        for link in soup.find_all('a'):\n",
    "            temp_all_links.append(link.get('href'))\n",
    "        temp_article_links = []\n",
    "        for i in temp_all_links:\n",
    "            if \"/article/\" in i:\n",
    "                temp_article_links.append(i)\n",
    "        article_texts = []\n",
    "        for j in temp_article_links:\n",
    "            url ='http://www.congress.gov'+j\n",
    "            response = requests.get(url)\n",
    "            page = response.text\n",
    "            soup = BeautifulSoup(page, \"html.parser\")\n",
    "            originaltext =  soup.find(class_='styled').text\n",
    "            day = j.split('/')[4]\n",
    "            month = j.split('/')[3]\n",
    "            year = j.split('/')[2]\n",
    "            tempdict = {\"url\": url, \"originaltext\": originaltext, \"day\":day, \"month\":month, \"year\":year}\n",
    "            article_texts.append(tempdict)\n",
    "        filename = 'Data/'+session+'congress/'+session+'senate/'+year+'_'+month+'_'+day\n",
    "        with open(filename, 'w') as outfile:\n",
    "            json.dump(article_texts, outfile)"
   ]
  },
  {
   "cell_type": "code",
   "execution_count": 12,
   "metadata": {
    "collapsed": true
   },
   "outputs": [],
   "source": [
    "for i in ziplist:\n",
    "    get_text(i)"
   ]
  },
  {
   "cell_type": "code",
   "execution_count": null,
   "metadata": {
    "collapsed": true
   },
   "outputs": [],
   "source": []
  }
 ],
 "metadata": {
  "kernelspec": {
   "display_name": "Python 3",
   "language": "python",
   "name": "python3"
  },
  "language_info": {
   "codemirror_mode": {
    "name": "ipython",
    "version": 3
   },
   "file_extension": ".py",
   "mimetype": "text/x-python",
   "name": "python",
   "nbconvert_exporter": "python",
   "pygments_lexer": "ipython3",
   "version": "3.5.1"
  }
 },
 "nbformat": 4,
 "nbformat_minor": 0
}
