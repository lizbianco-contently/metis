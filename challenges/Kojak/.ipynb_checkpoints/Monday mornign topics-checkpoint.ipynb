{
 "cells": [
  {
   "cell_type": "code",
   "execution_count": 1,
   "metadata": {
    "collapsed": true
   },
   "outputs": [],
   "source": [
    "topics = [(0, '0.006*military activities + 0.006*personnel strengths + 0.006*prescribe military + 0.006*strengths fiscal + 0.004*skies + 0.004*open skies + 0.004*cyber threat + 0.004*skies treaty + 0.004*defense activities + 0.004*energy prescribe + 0.004*construction defense + 0.003*closure + 0.003*russian + 0.003*realignment + 0.003*installations'), (1, '0.013*mccain supra + 0.008*alexander mrs + 0.007*nelson supra + 0.006*murkowski supra + 0.006*nominations + 0.005*mikulski supra + 0.004*mcconnell supra + 0.004*murray supra + 0.003*congressional record + 0.003*appeared + 0.003*received senate + 0.003*senate appeared + 0.003*appeared congressional + 0.003*prekindergarten + 0.003*childhood'), (2, '0.010*violent + 0.009*extremism + 0.009*violent extremism + 0.004*dollar + 0.004*counter + 0.003*countering violent + 0.003*metrics + 0.003*counter violent + 0.003*inventory + 0.002*investigative + 0.002*currency + 0.002*section homeland + 0.002*government data + 0.002*partnerships violent + 0.002*enterprise'), (3, '0.012*aircraft systems + 0.007*economic freedom + 0.004*oda + 0.003*achieves + 0.002*aeronautical + 0.002*eligible entity + 0.002*customs border + 0.002*border protection + 0.002*airworthiness + 0.002*safety standards + 0.002*faa modernization + 0.002*runway + 0.002*volunteer + 0.002*deck + 0.002*remote'), (4, '0.004*federal chief + 0.003*asset + 0.003*vessel + 0.002*striking administrator + 0.002*provide modernization + 0.002*stat amended + 0.002*discharge + 0.002*notice period + 0.002*general services + 0.002*leave employee + 0.002*integrated plan + 0.001*flight deck + 0.001*indian tribe + 0.001*inserting semicolon + 0.001*cybersecurity'), (5, '0.014*resolution res + 0.013*proposed concurrent + 0.012*provided legislation + 0.012*total fiscal + 0.012*period total + 0.011*line increase + 0.011*increase page + 0.007*congressional budget + 0.007*government fiscal + 0.007*levels fiscal + 0.007*budget united + 0.007*forth appropriate + 0.007*res setting + 0.007*appropriate budgetary + 0.007*forth congressional'), (6, '0.008*firearm + 0.007*agencies fiscal + 0.006*firearms + 0.005*departments commerce + 0.004*taxable + 0.003*licensee + 0.003*check + 0.003*licensed + 0.003*background check + 0.003*sbir + 0.003*mass + 0.003*taxable year + 0.002*transferee + 0.002*transfer firearm + 0.002*ammunition'), (7, '0.014*educational agency + 0.014*local educational + 0.006*state educational + 0.005*charter + 0.005*educational agencies + 0.003*english + 0.003*eligible entity + 0.003*charter school + 0.002*charter schools + 0.002*principals + 0.002*instruction + 0.002*learners + 0.002*teacher + 0.002*school leaders + 0.002*instructional'), (8, '0.015*joint task + 0.003*child achieves + 0.003*department leadership + 0.002*rights civil + 0.002*pacific + 0.002*royalties payments + 0.002*children disabilities + 0.002*high energy + 0.002*native american + 0.002*achieves act + 0.002*offices department + 0.001*grid + 0.001*medal honor + 0.001*matching funds + 0.001*dam'), (9, '0.005*proposed authorize + 0.003*defense shall + 0.003*defense activities + 0.003*construction defense + 0.003*energy prescribe + 0.002*retired + 0.002*submit congressional + 0.002*joint duty + 0.002*retired pay + 0.002*gambling + 0.001*personnel action + 0.001*russian + 0.001*spouse + 0.001*selective + 0.001*selective service'), (10, '0.004*amtrak + 0.003*marys + 0.003*st marys + 0.002*dealer + 0.002*strategy policy + 0.002*veterans administration + 0.002*coverage tricare + 0.002*safety oversight + 0.002*nelson submitted + 0.002*communities risk + 0.002*foreign service + 0.001*routine regular + 0.001*operations joint + 0.001*illness + 0.001*intercity'), (11, '0.005*alien + 0.005*chief information + 0.004*information officer + 0.004*countering + 0.004*shelby ms + 0.004*shelby + 0.004*mr shelby + 0.003*appropriations departments + 0.003*firearm + 0.002*investigative leave + 0.002*justice science + 0.002*science related + 0.002*commerce justice + 0.002*making appropriations + 0.002*ending september'), (12, '0.009*cybersecurity + 0.007*indicators + 0.006*threat indicators + 0.004*indicator + 0.004*defensive + 0.004*threat indicator + 0.004*alien + 0.004*federal entities + 0.003*cybersecurity threats + 0.002*cybersecurity threat + 0.002*appropriate federal + 0.002*mccain authorize + 0.002*defensive measures + 0.002*defensive measure + 0.002*indicators defensive'), (13, '0.001*montana + 0.001*model aircraft + 0.001*supreme court + 0.001*police + 0.001*troops + 0.001*dr + 0.001*va + 0.001*obamacare + 0.001*printed record + 0.001*kids + 0.001*altitude + 0.001*story + 0.001*iowa + 0.001*climate change + 0.001*nevada'), (14, '0.003*policy united + 0.003*basin + 0.002*murkowski provide + 0.002*irrigation + 0.002*reclamation + 0.002*ballast water + 0.002*ballast + 0.002*water supply + 0.002*drinking water + 0.002*drinking + 0.002*clean energy + 0.002*transmission + 0.001*river basin + 0.001*fish + 0.001*lighting'), (15, '0.008*opioid + 0.005*heroin + 0.005*yakima + 0.004*addiction + 0.003*modernization energy + 0.003*mass violence + 0.003*urban development + 0.003*pain + 0.003*yakima river + 0.002*opioid abuse + 0.002*opioids + 0.002*substance use + 0.002*prescription opioid + 0.002*overdose + 0.002*september purposes'), (16, '0.015*unmanned + 0.014*unmanned aircraft + 0.010*airport + 0.009*federal aviation + 0.009*aviation administration + 0.006*faa + 0.005*flight + 0.004*carrier + 0.004*zone + 0.004*administrator shall + 0.004*air carrier + 0.004*freedom zone + 0.003*airports + 0.003*administrator federal + 0.003*airspace'), (17, '0.003*grade indicated + 0.003*biodiesel + 0.003*appointment grade + 0.002*indicated united + 0.002*launch + 0.002*officers appointment + 0.002*named officers + 0.002*rocket + 0.001*army title + 0.001*named officer + 0.001*officer appointment + 0.001*states army + 0.001*climate change + 0.001*mikulski submitted + 0.001*states navy'), (18, '0.003*keystone + 0.003*business concerns + 0.003*sbir program + 0.003*xl + 0.003*keystone xl + 0.003*xl pipeline + 0.002*eligible state + 0.002*crude + 0.002*deduction + 0.002*phase + 0.002*crude oil + 0.002*program sttr + 0.002*sttr program + 0.002*retrofit + 0.002*approve keystone'), (19, '0.005*grade indicated + 0.004*motor + 0.004*appointment grade + 0.003*directors + 0.003*indicated united + 0.003*board directors + 0.002*named officer + 0.002*officers appointment + 0.002*whistleblower + 0.002*carrier + 0.002*officer appointment + 0.002*motor vehicle + 0.002*named officers + 0.002*notice leave + 0.002*states navy')]"
   ]
  },
  {
   "cell_type": "code",
   "execution_count": 2,
   "metadata": {
    "collapsed": false
   },
   "outputs": [
    {
     "data": {
      "text/plain": [
       "20"
      ]
     },
     "execution_count": 2,
     "metadata": {},
     "output_type": "execute_result"
    }
   ],
   "source": [
    "len(topics)"
   ]
  },
  {
   "cell_type": "code",
   "execution_count": 3,
   "metadata": {
    "collapsed": true
   },
   "outputs": [],
   "source": [
    "topic_title=[]"
   ]
  },
  {
   "cell_type": "code",
   "execution_count": 4,
   "metadata": {
    "collapsed": false
   },
   "outputs": [
    {
     "data": {
      "text/plain": [
       "(0,\n",
       " '0.006*military activities + 0.006*personnel strengths + 0.006*prescribe military + 0.006*strengths fiscal + 0.004*skies + 0.004*open skies + 0.004*cyber threat + 0.004*skies treaty + 0.004*defense activities + 0.004*energy prescribe + 0.004*construction defense + 0.003*closure + 0.003*russian + 0.003*realignment + 0.003*installations')"
      ]
     },
     "execution_count": 4,
     "metadata": {},
     "output_type": "execute_result"
    }
   ],
   "source": [
    "topics[0]"
   ]
  },
  {
   "cell_type": "code",
   "execution_count": 5,
   "metadata": {
    "collapsed": true
   },
   "outputs": [],
   "source": [
    "topic_title.append('military defense')"
   ]
  },
  {
   "cell_type": "code",
   "execution_count": 6,
   "metadata": {
    "collapsed": false
   },
   "outputs": [
    {
     "data": {
      "text/plain": [
       "(1,\n",
       " '0.013*mccain supra + 0.008*alexander mrs + 0.007*nelson supra + 0.006*murkowski supra + 0.006*nominations + 0.005*mikulski supra + 0.004*mcconnell supra + 0.004*murray supra + 0.003*congressional record + 0.003*appeared + 0.003*received senate + 0.003*senate appeared + 0.003*appeared congressional + 0.003*prekindergarten + 0.003*childhood')"
      ]
     },
     "execution_count": 6,
     "metadata": {},
     "output_type": "execute_result"
    }
   ],
   "source": [
    "topics[1]"
   ]
  },
  {
   "cell_type": "code",
   "execution_count": 7,
   "metadata": {
    "collapsed": true
   },
   "outputs": [],
   "source": [
    "topic_title.append('unknown')"
   ]
  },
  {
   "cell_type": "code",
   "execution_count": 8,
   "metadata": {
    "collapsed": false
   },
   "outputs": [
    {
     "data": {
      "text/plain": [
       "(2,\n",
       " '0.010*violent + 0.009*extremism + 0.009*violent extremism + 0.004*dollar + 0.004*counter + 0.003*countering violent + 0.003*metrics + 0.003*counter violent + 0.003*inventory + 0.002*investigative + 0.002*currency + 0.002*section homeland + 0.002*government data + 0.002*partnerships violent + 0.002*enterprise')"
      ]
     },
     "execution_count": 8,
     "metadata": {},
     "output_type": "execute_result"
    }
   ],
   "source": [
    "topics[2]"
   ]
  },
  {
   "cell_type": "code",
   "execution_count": 9,
   "metadata": {
    "collapsed": true
   },
   "outputs": [],
   "source": [
    "topic_title.append('violent extreamism')"
   ]
  },
  {
   "cell_type": "code",
   "execution_count": 10,
   "metadata": {
    "collapsed": false
   },
   "outputs": [
    {
     "data": {
      "text/plain": [
       "(3,\n",
       " '0.012*aircraft systems + 0.007*economic freedom + 0.004*oda + 0.003*achieves + 0.002*aeronautical + 0.002*eligible entity + 0.002*customs border + 0.002*border protection + 0.002*airworthiness + 0.002*safety standards + 0.002*faa modernization + 0.002*runway + 0.002*volunteer + 0.002*deck + 0.002*remote')"
      ]
     },
     "execution_count": 10,
     "metadata": {},
     "output_type": "execute_result"
    }
   ],
   "source": [
    "topics[3]"
   ]
  },
  {
   "cell_type": "code",
   "execution_count": 11,
   "metadata": {
    "collapsed": true
   },
   "outputs": [],
   "source": [
    "topic_title.append('FAA and aircraft systems')"
   ]
  },
  {
   "cell_type": "code",
   "execution_count": 12,
   "metadata": {
    "collapsed": false
   },
   "outputs": [
    {
     "data": {
      "text/plain": [
       "(4,\n",
       " '0.004*federal chief + 0.003*asset + 0.003*vessel + 0.002*striking administrator + 0.002*provide modernization + 0.002*stat amended + 0.002*discharge + 0.002*notice period + 0.002*general services + 0.002*leave employee + 0.002*integrated plan + 0.001*flight deck + 0.001*indian tribe + 0.001*inserting semicolon + 0.001*cybersecurity')"
      ]
     },
     "execution_count": 12,
     "metadata": {},
     "output_type": "execute_result"
    }
   ],
   "source": [
    "topics[4]"
   ]
  },
  {
   "cell_type": "code",
   "execution_count": 13,
   "metadata": {
    "collapsed": true
   },
   "outputs": [],
   "source": [
    "topic_title.append('unknown')"
   ]
  },
  {
   "cell_type": "code",
   "execution_count": 14,
   "metadata": {
    "collapsed": false
   },
   "outputs": [
    {
     "data": {
      "text/plain": [
       "(5,\n",
       " '0.014*resolution res + 0.013*proposed concurrent + 0.012*provided legislation + 0.012*total fiscal + 0.012*period total + 0.011*line increase + 0.011*increase page + 0.007*congressional budget + 0.007*government fiscal + 0.007*levels fiscal + 0.007*budget united + 0.007*forth appropriate + 0.007*res setting + 0.007*appropriate budgetary + 0.007*forth congressional')"
      ]
     },
     "execution_count": 14,
     "metadata": {},
     "output_type": "execute_result"
    }
   ],
   "source": [
    "topics[5]"
   ]
  },
  {
   "cell_type": "code",
   "execution_count": 16,
   "metadata": {
    "collapsed": false
   },
   "outputs": [],
   "source": [
    "topic_title.append('budget')"
   ]
  },
  {
   "cell_type": "code",
   "execution_count": null,
   "metadata": {
    "collapsed": false
   },
   "outputs": [],
   "source": []
  }
 ],
 "metadata": {
  "kernelspec": {
   "display_name": "Python 3",
   "language": "python",
   "name": "python3"
  },
  "language_info": {
   "codemirror_mode": {
    "name": "ipython",
    "version": 3
   },
   "file_extension": ".py",
   "mimetype": "text/x-python",
   "name": "python",
   "nbconvert_exporter": "python",
   "pygments_lexer": "ipython3",
   "version": "3.5.1"
  }
 },
 "nbformat": 4,
 "nbformat_minor": 0
}
