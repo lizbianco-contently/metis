{
 "cells": [
  {
   "cell_type": "code",
   "execution_count": 161,
   "metadata": {
    "collapsed": true
   },
   "outputs": [],
   "source": [
    "import pandas as pd\n",
    "import numpy as np\n",
    "import matplotlib.pyplot as plt\n",
    "% matplotlib inline"
   ]
  },
  {
   "cell_type": "code",
   "execution_count": 112,
   "metadata": {
    "collapsed": true
   },
   "outputs": [],
   "source": [
    "df = pd.read_csv('OnlineNewsPopularity.csv')\n",
    "df.rename(columns=lambda x: x.strip(), inplace=True)\n",
    "morethan1400 = []\n",
    "for row in df['shares']:\n",
    "    if row > 1400:\n",
    "        morethan1400.append(True)\n",
    "    else:\n",
    "        morethan1400.append(False)\n",
    "df['morethan1400']= morethan1400"
   ]
  },
  {
   "cell_type": "code",
   "execution_count": 113,
   "metadata": {
    "collapsed": false
   },
   "outputs": [],
   "source": [
    "df['weekday_is_monday'] = df['weekday_is_monday'].replace({1:\"Monday\", 0:''})\n",
    "df['weekday_is_tuesday'] = df['weekday_is_tuesday'].replace({1:\"Tuesday\", 0:''})\n",
    "df['weekday_is_wednesday'] = df['weekday_is_wednesday'].replace({1:\"Wednesday\", 0:''})\n",
    "df['weekday_is_thursday'] = df['weekday_is_thursday'].replace({1:\"Thursday\", 0:''})\n",
    "df['weekday_is_friday'] = df['weekday_is_friday'].replace({1:\"Friday\", 0:''})\n",
    "df['weekday_is_saturday'] = df['weekday_is_saturday'].replace({1:\"Saturday\", 0:''})\n",
    "df['weekday_is_sunday'] = df['weekday_is_sunday'].replace({1:\"Sunday\", 0:''})"
   ]
  },
  {
   "cell_type": "code",
   "execution_count": 114,
   "metadata": {
    "collapsed": true
   },
   "outputs": [],
   "source": [
    "df['day'] = df['weekday_is_monday']+df['weekday_is_tuesday']+df['weekday_is_wednesday']+df['weekday_is_thursday']+df['weekday_is_friday']+df['weekday_is_saturday']+df['weekday_is_sunday']"
   ]
  },
  {
   "cell_type": "code",
   "execution_count": 167,
   "metadata": {
    "collapsed": false
   },
   "outputs": [],
   "source": [
    "shares_by_day = df[['day', 'shares']]\n"
   ]
  },
  {
   "cell_type": "code",
   "execution_count": 214,
   "metadata": {
    "collapsed": false
   },
   "outputs": [],
   "source": [
    "Monday = np.array(pivoted.Monday)\n",
    "Monday = Monday[~np.isnan(Monday)]\n",
    "\n",
    "Tuesday = np.array(pivoted.Tuesday)\n",
    "Tuesday = Tuesday[~np.isnan(Tuesday)]\n",
    "\n",
    "Wednesday = np.array(pivoted.Wednesday)\n",
    "Wednesday = Wednesday[~np.isnan(Wednesday)]\n",
    "\n",
    "Thursday = np.array(pivoted.Thursday)\n",
    "Thursday = Thursday[~np.isnan(Thursday)]\n",
    "\n",
    "Friday = np.array(pivoted.Friday)\n",
    "Friday = Friday[~np.isnan(Friday)]\n",
    "\n",
    "Saturday = np.array(pivoted.Saturday)\n",
    "Saturday = Saturday[~np.isnan(Saturday)]\n",
    "\n",
    "Sunday = np.array(pivoted.Sunday)\n",
    "Sunday = Sunday[~np.isnan(Sunday)]\n",
    "\n",
    "\n",
    "Weekend =np.append(Saturday, Sunday)\n",
    "\n"
   ]
  },
  {
   "cell_type": "code",
   "execution_count": 216,
   "metadata": {
    "collapsed": false
   },
   "outputs": [
    {
     "name": "stdout",
     "output_type": "stream",
     "text": [
      "6661\n",
      "7390\n",
      "7435\n",
      "7267\n",
      "5701\n",
      "5190\n"
     ]
    }
   ],
   "source": [
    "print(len(Monday))\n",
    "print(len(Tuesday))\n",
    "print(len(Wednesday))\n",
    "print(len(Thursday))\n",
    "print(len(Friday))\n",
    "print(len(Weekend))\n"
   ]
  },
  {
   "cell_type": "code",
   "execution_count": 222,
   "metadata": {
    "collapsed": false
   },
   "outputs": [],
   "source": [
    "Monday = np.random.choice(Monday, size=5000, replace=False)\n",
    "Tuesday = np.random.choice(Tuesday, size=5000, replace=False)\n",
    "Wednesday = np.random.choice(Wednesday, size=5000, replace=False)\n",
    "Thursday = np.random.choice(Thursday, size=5000, replace=False)\n",
    "Friday = np.random.choice(Friday, size=5000, replace=False)\n",
    "Weekend = np.random.choice(Weekend, size=5000, replace=False)\n",
    "\n"
   ]
  },
  {
   "cell_type": "code",
   "execution_count": null,
   "metadata": {
    "collapsed": true
   },
   "outputs": [],
   "source": []
  },
  {
   "cell_type": "code",
   "execution_count": 185,
   "metadata": {
    "collapsed": false
   },
   "outputs": [],
   "source": [
    "pivoted = shares_by_day.pivot(index=None, columns='day', values='shares')"
   ]
  },
  {
   "cell_type": "code",
   "execution_count": 189,
   "metadata": {
    "collapsed": false
   },
   "outputs": [],
   "source": [
    "\n",
    "pivoted = pivoted[['Monday','Tuesday','Wednesday','Thursday','Friday','Saturday','Sunday']]"
   ]
  },
  {
   "cell_type": "code",
   "execution_count": 192,
   "metadata": {
    "collapsed": false
   },
   "outputs": [],
   "source": [
    "pivoted.to_csv('for_box_plot.csv', index=False)"
   ]
  },
  {
   "cell_type": "code",
   "execution_count": 196,
   "metadata": {
    "collapsed": false
   },
   "outputs": [
    {
     "data": {
      "image/png": "[encoded data removed]",
      "text/plain": [
       "<matplotlib.figure.Figure at 0x11dc53470>"
      ]
     },
     "metadata": {},
     "output_type": "display_data"
    },
    {
     "ename": "AttributeError",
     "evalue": "module 'matplotlib.pyplot' has no attribute 'set_xticklabels'",
     "output_type": "error",
     "traceback": [
      "\u001b[0;31m---------------------------------------------------------------------------\u001b[0m",
      "\u001b[0;31mAttributeError\u001b[0m                            Traceback (most recent call last)",
      "\u001b[0;32m<ipython-input-196-699f41f3962d>\u001b[0m in \u001b[0;36m<module>\u001b[0;34m()\u001b[0m\n\u001b[1;32m      1\u001b[0m \u001b[0;34m\u001b[0m\u001b[0m\n\u001b[1;32m      2\u001b[0m \u001b[0mplt\u001b[0m\u001b[0;34m.\u001b[0m\u001b[0mshow\u001b[0m\u001b[0;34m(\u001b[0m\u001b[0mpivoted\u001b[0m\u001b[0;34m.\u001b[0m\u001b[0mplot\u001b[0m\u001b[0;34m(\u001b[0m\u001b[0mkind\u001b[0m \u001b[0;34m=\u001b[0m \u001b[0;34m'box'\u001b[0m\u001b[0;34m)\u001b[0m\u001b[0;34m)\u001b[0m\u001b[0;34m\u001b[0m\u001b[0m\n\u001b[0;32m----> 3\u001b[0;31m \u001b[0mplt\u001b[0m\u001b[0;34m.\u001b[0m\u001b[0mset_xticklabels\u001b[0m\u001b[0;34m(\u001b[0m\u001b[0mnp\u001b[0m\u001b[0;34m.\u001b[0m\u001b[0marange\u001b[0m\u001b[0;34m(\u001b[0m\u001b[0;36m0\u001b[0m\u001b[0;34m,\u001b[0m \u001b[0;36m10000\u001b[0m\u001b[0;34m,\u001b[0m \u001b[0;36m1000\u001b[0m\u001b[0;34m)\u001b[0m\u001b[0;34m)\u001b[0m\u001b[0;34m\u001b[0m\u001b[0m\n\u001b[0m",
      "\u001b[0;31mAttributeError\u001b[0m: module 'matplotlib.pyplot' has no attribute 'set_xticklabels'"
     ]
    }
   ],
   "source": [
    "\n",
    "plt.show(pivoted.plot(kind = 'box'))\n",
    "plt.set_xticklabels(np.arange(0, 10000, 1000))"
   ]
  },
  {
   "cell_type": "markdown",
   "metadata": {},
   "source": [
    "shares_by_day.to_csv('shares_by_day.csv')"
   ]
  },
  {
   "cell_type": "code",
   "execution_count": 102,
   "metadata": {
    "collapsed": false
   },
   "outputs": [],
   "source": [
    "df.to_csv('binaryshares.csv')"
   ]
  },
  {
   "cell_type": "code",
   "execution_count": 106,
   "metadata": {
    "collapsed": false
   },
   "outputs": [
    {
     "data": {
      "text/plain": [
       "0        Monday\n",
       "1        Monday\n",
       "2        Monday\n",
       "3        Monday\n",
       "4        Monday\n",
       "5        Monday\n",
       "6        Monday\n",
       "7        Monday\n",
       "8        Monday\n",
       "9        Monday\n",
       "10       Monday\n",
       "11       Monday\n",
       "12       Monday\n",
       "13       Monday\n",
       "14       Monday\n",
       "15       Monday\n",
       "16       Monday\n",
       "17       Monday\n",
       "18       Monday\n",
       "19       Monday\n",
       "20       Monday\n",
       "21       Monday\n",
       "22       Monday\n",
       "23       Monday\n",
       "24       Monday\n",
       "25       Monday\n",
       "26       Monday\n",
       "27       Monday\n",
       "28       Monday\n",
       "29       Monday\n",
       "          ...  \n",
       "39614          \n",
       "39615          \n",
       "39616          \n",
       "39617          \n",
       "39618          \n",
       "39619          \n",
       "39620          \n",
       "39621          \n",
       "39622          \n",
       "39623          \n",
       "39624          \n",
       "39625          \n",
       "39626          \n",
       "39627          \n",
       "39628          \n",
       "39629          \n",
       "39630          \n",
       "39631          \n",
       "39632          \n",
       "39633          \n",
       "39634          \n",
       "39635          \n",
       "39636          \n",
       "39637          \n",
       "39638          \n",
       "39639          \n",
       "39640          \n",
       "39641          \n",
       "39642          \n",
       "39643          \n",
       "Name: weekday_is_monday, dtype: object"
      ]
     },
     "execution_count": 106,
     "metadata": {},
     "output_type": "execute_result"
    }
   ],
   "source": [
    "df['weekday_is_monday']"
   ]
  },
  {
   "cell_type": "code",
   "execution_count": 70,
   "metadata": {
    "collapsed": false
   },
   "outputs": [],
   "source": [
    "df[\"days\"] = df['weekday_is_monday'].astype(str)+df['weekday_is_tuesday'].astype(str)+df['weekday_is_wednesday'].astype(str)+df['weekday_is_thursday'].astype(str)+df['weekday_is_friday'].astype(str)+df['weekday_is_saturday'].astype(str)+df['weekday_is_sunday'].astype(str)"
   ]
  },
  {
   "cell_type": "code",
   "execution_count": 91,
   "metadata": {
    "collapsed": false
   },
   "outputs": [],
   "source": [
    "dayname = []\n",
    "for row in day:\n",
    "    \n",
    "    if row is '1.00.00.00.00.00.00.0':\n",
    "        dayname.append('Monday')\n",
    "    elif row is '0.01.00.00.00.00.00.0':\n",
    "        dayname.append('Tuesday')\n",
    "    elif row is '0.00.01.00.00.00.00.0':\n",
    "        dayname.append('Wednesday')\n",
    "    elif row is '0.0.00.01.00.00.00.0':\n",
    "        dayname.append('Thursday')\n",
    "    elif row is '0.0.00.00.01.00.00.0':\n",
    "        dayname.append('Friday')\n",
    "    elif row is '0.0.00.00.00.01.00.0':\n",
    "        dayname.append('Saturday')\n",
    "    elif row is '0.0.00.00.00.0.01.0':\n",
    "        dayname.append('Sunday')\n",
    "# df['byday']=day"
   ]
  },
  {
   "cell_type": "code",
   "execution_count": 92,
   "metadata": {
    "collapsed": false
   },
   "outputs": [
    {
     "data": {
      "text/plain": [
       "[]"
      ]
     },
     "execution_count": 92,
     "metadata": {},
     "output_type": "execute_result"
    }
   ],
   "source": [
    "dayname\n"
   ]
  },
  {
   "cell_type": "code",
   "execution_count": 57,
   "metadata": {
    "collapsed": false
   },
   "outputs": [
    {
     "data": {
      "text/plain": [
       "url\n",
       "http://mashable.com/2013/12/09/wand-remote-control/                                                                  1\n",
       "http://mashable.com/2013/04/01/troll-appreciation-day-tickets-2/                                                     4\n",
       "http://mashable.com/2014/12/10/mad-max-trailer/                                                                      5\n",
       "http://mashable.com/2013/07/11/nokia-lumia-1020/                                                                     8\n",
       "http://mashable.com/2014/10/09/lying-down-for-jobs-during-the-great-depression/                                     22\n",
       "http://mashable.com/2014/01/16/titanic-replica-theme-park/                                                          22\n",
       "http://mashable.com/2013/07/10/tablets-education-competition/                                                       23\n",
       "http://mashable.com/2014/10/23/air-new-zealand-hobbit-video/                                                        28\n",
       "http://mashable.com/2014/10/10/battle-for-kobani/                                                                   28\n",
       "http://mashable.com/2014/07/10/wireless-birth-control/                                                              35\n",
       "http://mashable.com/2014/10/21/mispronounced-words-tech/                                                            36\n",
       "http://mashable.com/2013/06/06/bradley-manning-dell-iraq/                                                           41\n",
       "http://mashable.com/2014/12/09/top-music-videos-2014/                                                               42\n",
       "http://mashable.com/2013/07/23/mt-fuji-street-view/                                                                 42\n",
       "http://mashable.com/2014/06/16/george-r-r-martin-baseball-pitch/                                                    43\n",
       "http://mashable.com/2014/11/06/wirelurker-ios-malware/                                                              43\n",
       "http://mashable.com/2014/08/05/mad-magazine-keeping-up/                                                             44\n",
       "http://mashable.com/2013/07/02/roger-clark-ny1-air-guitar/                                                          45\n",
       "http://mashable.com/2013/06/11/mextures/                                                                            47\n",
       "http://mashable.com/2013/07/10/bxby-gif-film/                                                                       48\n",
       "http://mashable.com/2014/09/24/counting-subreddit/                                                                  48\n",
       "http://mashable.com/2013/07/23/hasbro-games-ipad/                                                                   49\n",
       "http://mashable.com/2014/09/09/tv-characters-age-now/                                                               49\n",
       "http://mashable.com/2014/08/29/squirrel-birdfeeder/                                                                 49\n",
       "http://mashable.com/2014/12/14/kids-with-santa/                                                                     50\n",
       "http://mashable.com/2014/09/16/tim-mcgraw-live-stream-concert-amexunstaged/                                         50\n",
       "http://mashable.com/2013/07/03/nfl-robert-gill-25-mph-gym-treadmill/                                                51\n",
       "http://mashable.com/2014/12/11/indian-food-executive-identified-as-man-behind-isis-twitter-account/                 52\n",
       "http://mashable.com/2014/11/27/mst3k-thanksgiving-marathon/                                                         53\n",
       "http://mashable.com/2014/11/07/amazon-echo-shopping-smart-home/                                                     54\n",
       "                                                                                                                 ...  \n",
       "http://mashable.com/2014/01/15/apple-settles-ftc-lawsuit/                                                       139500\n",
       "http://mashable.com/2013/11/25/teenage-online-activity/                                                         139600\n",
       "http://mashable.com/2014/04/14/travel-tax-refund/                                                               141400\n",
       "http://mashable.com/2013/08/26/how-to-photoshop-a-person/                                                       143100\n",
       "http://mashable.com/2013/03/02/resume-design/                                                                   144400\n",
       "http://mashable.com/2014/05/11/iran-copies-american-spy-drone/                                                  144900\n",
       "http://mashable.com/2014/04/15/twitter-improves-for-advertisers/                                                145500\n",
       "http://mashable.com/2013/12/04/christmas-movie-mashup/                                                          158900\n",
       "http://mashable.com/2014/11/15/5-cant-miss-apps-space-age/                                                      161600\n",
       "http://mashable.com/2013/12/09/wearably/                                                                        180600\n",
       "http://mashable.com/2013/12/26/mcdonalds-kills-mcresource-line/                                                 193400\n",
       "http://mashable.com/2013/07/08/supercut-one-man-trailers/                                                       196700\n",
       "http://mashable.com/2013/12/25/xbox-one-getting-started/                                                        197600\n",
       "http://mashable.com/2014/11/28/ray-rice-gets-another-chance-to-play-in-nfl-after-judge-overturns-suspension/    200100\n",
       "http://mashable.com/2013/12/04/snl-paul-rudd-one-direction-promo/                                               205600\n",
       "http://mashable.com/2014/01/07/obama-nsa-reform-lawmakers-meeting/                                              208300\n",
       "http://mashable.com/2013/07/12/sprint-unlimited-data-for-life/                                                  210300\n",
       "http://mashable.com/2014/11/24/email-myths/                                                                     211600\n",
       "http://mashable.com/2013/02/28/myspace-tom-twitter/                                                             227300\n",
       "http://mashable.com/2013/10/18/childhood-mashups/                                                               233400\n",
       "http://mashable.com/2014/10/22/ebola-cdc-active-monitoring/                                                     284700\n",
       "http://mashable.com/2013/11/14/ibm-watson-brief/                                                                298400\n",
       "http://mashable.com/2013/03/28/blackberry-1-million/                                                            306100\n",
       "http://mashable.com/2014/01/14/australia-heatwave-photos/                                                       310800\n",
       "http://mashable.com/2013/11/12/roomba-880-review/                                                               441000\n",
       "http://mashable.com/2013/03/02/wealth-inequality/                                                               617900\n",
       "http://mashable.com/2013/11/18/kanye-west-harvard-lecture/                                                      652900\n",
       "http://mashable.com/2014/04/09/first-100-gilt-soundcloud-stitchfix/                                             663600\n",
       "http://mashable.com/2013/04/15/dove-ad-beauty-sketches/                                                         690400\n",
       "http://mashable.com/2013/07/03/low-cost-iphone/                                                                 843300\n",
       "Name: shares, dtype: int64"
      ]
     },
     "execution_count": 57,
     "metadata": {},
     "output_type": "execute_result"
    }
   ],
   "source": [
    "df.shares.sort_values()"
   ]
  },
  {
   "cell_type": "code",
   "execution_count": 20,
   "metadata": {
    "collapsed": false,
    "scrolled": true
   },
   "outputs": [
    {
     "data": {
      "text/plain": [
       "array(['url', 'timedelta', 'n_tokens_title', 'n_tokens_content',\n",
       "       'n_unique_tokens', 'n_non_stop_words', 'n_non_stop_unique_tokens',\n",
       "       'num_hrefs', 'num_self_hrefs', 'num_imgs', 'num_videos',\n",
       "       'average_token_length', 'num_keywords', 'data_channel_is_lifestyle',\n",
       "       'data_channel_is_entertainment', 'data_channel_is_bus',\n",
       "       'data_channel_is_socmed', 'data_channel_is_tech',\n",
       "       'data_channel_is_world', 'kw_min_min', 'kw_max_min', 'kw_avg_min',\n",
       "       'kw_min_max', 'kw_max_max', 'kw_avg_max', 'kw_min_avg',\n",
       "       'kw_max_avg', 'kw_avg_avg', 'self_reference_min_shares',\n",
       "       'self_reference_max_shares', 'self_reference_avg_sharess',\n",
       "       'weekday_is_monday', 'weekday_is_tuesday', 'weekday_is_wednesday',\n",
       "       'weekday_is_thursday', 'weekday_is_friday', 'weekday_is_saturday',\n",
       "       'weekday_is_sunday', 'is_weekend', 'LDA_00', 'LDA_01', 'LDA_02',\n",
       "       'LDA_03', 'LDA_04', 'global_subjectivity',\n",
       "       'global_sentiment_polarity', 'global_rate_positive_words',\n",
       "       'global_rate_negative_words', 'rate_positive_words',\n",
       "       'rate_negative_words', 'avg_positive_polarity',\n",
       "       'min_positive_polarity', 'max_positive_polarity',\n",
       "       'avg_negative_polarity', 'min_negative_polarity',\n",
       "       'max_negative_polarity', 'title_subjectivity',\n",
       "       'title_sentiment_polarity', 'abs_title_subjectivity',\n",
       "       'abs_title_sentiment_polarity', 'shares', 'morethan1400'], dtype=object)"
      ]
     },
     "execution_count": 20,
     "metadata": {},
     "output_type": "execute_result"
    }
   ],
   "source": [
    "df.columns.values"
   ]
  },
  {
   "cell_type": "code",
   "execution_count": 32,
   "metadata": {
    "collapsed": false
   },
   "outputs": [],
   "source": [
    "df = df.drop([['timedelta','is_weekend',]])"
   ]
  },
  {
   "cell_type": "code",
   "execution_count": null,
   "metadata": {
    "collapsed": true
   },
   "outputs": [],
   "source": []
  }
 ],
 "metadata": {
  "kernelspec": {
   "display_name": "Python 3",
   "language": "python",
   "name": "python3"
  },
  "language_info": {
   "codemirror_mode": {
    "name": "ipython",
    "version": 3
   },
   "file_extension": ".py",
   "mimetype": "text/x-python",
   "name": "python",
   "nbconvert_exporter": "python",
   "pygments_lexer": "ipython3",
   "version": "3.5.1"
  }
 },
 "nbformat": 4,
 "nbformat_minor": 0
}
