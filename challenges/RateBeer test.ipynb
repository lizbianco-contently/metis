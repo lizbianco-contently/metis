{
 "cells": [
  {
   "cell_type": "code",
   "execution_count": 1,
   "metadata": {
    "collapsed": false
   },
   "outputs": [],
   "source": [
    "import ratebeer"
   ]
  },
  {
   "cell_type": "code",
   "execution_count": 3,
   "metadata": {
    "collapsed": true
   },
   "outputs": [],
   "source": [
    "rb = ratebeer.RateBeer()\n"
   ]
  },
  {
   "cell_type": "code",
   "execution_count": 24,
   "metadata": {
    "collapsed": false
   },
   "outputs": [],
   "source": [
    "results = rb.search(\"grapefruit IPA\")"
   ]
  },
  {
   "cell_type": "code",
   "execution_count": 25,
   "metadata": {
    "collapsed": false
   },
   "outputs": [
    {
     "data": {
      "text/plain": [
       "{'beers': [<Beer('/beer/2-kids-obligatory-grapefruit-ipa/387912/')>,\n",
       "  <Beer('/beer/3-stars-grapefruit-ghost-white-ipa/359886/')>,\n",
       "  <Beer('/beer/32-north-nautical-mile-ipa--grapefruit/354179/')>,\n",
       "  <Beer('/beer/4th-tap-co-op-long-walk-grapefruit-ipa/369205/')>,\n",
       "  <Beer('/beer/a1a-ale-works-grapefruit-ipa/400025/')>,\n",
       "  <Beer('/beer/abita-grapefruit-harvest-ipa/240857/')>,\n",
       "  <Beer('/beer/all-in-brewing-lorem-ipsum-session-ipa--grapefruit/334267/')>,\n",
       "  <Beer('/beer/all-in-brewing-the-purpose-of-ipa--grapefruit/338881/')>,\n",
       "  <Beer('/beer/alpine-beer-company-nelson-ipa--grapefruit/396734/')>,\n",
       "  <Beer('/beer/angry-chair-ascension-ipa--grapefruit/346071/')>,\n",
       "  <Beer('/beer/angry-chair-byron-ipa--grapefruit/339933/')>,\n",
       "  <Beer('/beer/angry-chair-grapefruit-ipa/367858/')>,\n",
       "  <Beer('/beer/appalachian-mountain-zest-yoself-grapefruit-ipa/416975/')>,\n",
       "  <Beer('/beer/arcade-grapefruit-ipa/284398/')>,\n",
       "  <Beer('/beer/ardent-ipa-batch-10--grapefruit/321177/')>,\n",
       "  <Beer('/beer/atwater-going-heavy-grapefruit-dipa/372142/')>,\n",
       "  <Beer('/beer/b-52-wingman-wheat-ipa-with-citra-grapefruit/276204/')>,\n",
       "  <Beer('/beer/bacchus-single-hop-experimental-grapefruit-ipa/350198/')>,\n",
       "  <Beer('/beer/bainbridge-island-windfall-grapefruit-ipa/392287/')>,\n",
       "  <Beer('/beer/barrio-grapefruit-ipa/377534/')>,\n",
       "  <Beer('/beer/batch-aus-edens-zest-grapefruit-ipa/328936/')>,\n",
       "  <Beer('/beer/bauhaus-brew-labs-sky-five-midwest-coast-ipa--cardamom-grapefruit-zest/329117/')>,\n",
       "  <Beer('/beer/bauhaus-brew-labs-sky-five-midwest-coast-ipa--grapefruit/299255/')>,\n",
       "  <Beer('/beer/beaver-street-grapefruit-ipa/348922/')>,\n",
       "  <Beer('/beer/benchmark-ipa--grapefruit/227273/')>,\n",
       "  <Beer('/beer/blue-heron-grapefruit-ipa/151220/')>,\n",
       "  <Beer('/beer/bold-city-chinook-ipa--grapefruit-and-honey/98816/')>,\n",
       "  <Beer('/beer/boneyard-grapefruit-ipa/198949/')>,\n",
       "  <Beer('/beer/brew-by-numbers-11-13-session-ipa--grapefruit/363402/')>,\n",
       "  <Beer('/beer/brewsters-raddle-your-hops-grapefruit-ipa/327550/')>,\n",
       "  <Beer('/beer/bridge-hopilano-ipa--grapefruit-belma/299069/')>,\n",
       "  <Beer('/beer/brouwerij-kees-pink-grapefruit-ipa/339886/')>,\n",
       "  <Beer('/beer/captain-lawrence-effortless-grapefruit-session-ipa/409184/')>,\n",
       "  <Beer('/beer/captain-lawrence-grapefruit-ipa/353376/')>,\n",
       "  <Beer('/beer/carolina-brewery-flagship-ipa--grapefruit-zest/323009/')>,\n",
       "  <Beer('/beer/cask-larder-nanas-pink-grapefruit-ipa/217637/')>,\n",
       "  <Beer('/beer/company-pomp-and-pamplemousse-grapefruit-ipa/335332/')>,\n",
       "  <Beer('/beer/coronado-idiot-ipa--grapefruit/377440/')>,\n",
       "  <Beer('/beer/coronado-islander-ipa--grapefruit/373513/')>,\n",
       "  <Beer('/beer/crooked-tongue-woppyjammer-ipa--grapefruit/399010/')>,\n",
       "  <Beer('/beer/cyclers-grapefruit-basil-breakaway-ipa/324004/')>,\n",
       "  <Beer('/beer/de-molen-fruit-ipa-grapefruit/290477/')>,\n",
       "  <Beer('/beer/dead-frog-furious-friar-belgian-ipa--grapefruit-jalapeno-orange/351788/')>,\n",
       "  <Beer('/beer/desert-eagle-grapefruit-session-white-ipa/319457/')>,\n",
       "  <Beer('/beer/dicks-grapefruit-ipa/419710/')>,\n",
       "  <Beer('/beer/dogwood-grapefruit-ipa/350788/')>,\n",
       "  <Beer('/beer/draught-house-grapefruit-ipa/190006/')>,\n",
       "  <Beer('/beer/dry-dock-grapefruit-ipa/377762/')>,\n",
       "  <Beer('/beer/dubina-bell-road-ipa--grapefruit/399411/')>,\n",
       "  <Beer('/beer/ekim-grapefruit-viking-ipa/416125/')>,\n",
       "  <Beer('/beer/empire-grapefruit-dipa/336883/')>,\n",
       "  <Beer('/beer/engrained-grapefruit-ipa/404472/')>,\n",
       "  <Beer('/beer/exile-grapefruit-sting-ipa/374806/')>,\n",
       "  <Beer('/beer/fate-az-grapefruit-ipa/252256/')>,\n",
       "  <Beer('/beer/fate-az-grapefruit-mint-imperial-ipa/312859/')>,\n",
       "  <Beer('/beer/fate-az-grapefruit-wheat-ipa/311190/')>,\n",
       "  <Beer('/beer/fifty-west-coast-to-coast-ipa-grapefruit/327891/')>,\n",
       "  <Beer('/beer/firewheel-stripa-with-grapefruit/351276/')>,\n",
       "  <Beer('/beer/first-magnitude-ursa-ipa--grapefruit/386922/')>,\n",
       "  <Beer('/beer/fish-tale-grapefruit-ipa/378492/')>,\n",
       "  <Beer('/beer/flying-dog-snake-dog-ipa-grapefruit-peel/204901/')>,\n",
       "  <Beer('/beer/four-corners-grapefruit-ipa/317927/')>,\n",
       "  <Beer('/beer/fuggles-warlock-destiny-ipa--grapefruit/398365/')>,\n",
       "  <Beer('/beer/funky-buddha-hop-gun-ipa--grapefruit/144780/')>,\n",
       "  <Beer('/beer/ghostfish-grapefruit-ipa/351153/')>,\n",
       "  <Beer('/beer/grand-rounds-hop-bollocks-session-ipa--grapefruit/379865/')>,\n",
       "  <Beer('/beer/granite-brewery-grapefruit-lagoon-ipa/171693/')>,\n",
       "  <Beer('/beer/gravel-bottom-grapefruit-ipa/230850/')>,\n",
       "  <Beer('/beer/great-flood-grapefruit-ipa/271980/')>,\n",
       "  <Beer('/beer/great-lakes-brewing-pink-grapefruit-ipa/168083/')>,\n",
       "  <Beer('/beer/great-lakes-commodore-perry-ipa-grapefruit-peel/220104/')>,\n",
       "  <Beer('/beer/hamilton-family-front-porch-grapefruit-session-ipa/333473/')>,\n",
       "  <Beer('/beer/harriet-west-side-ipa-with-grapefruit-peel/190984/')>,\n",
       "  <Beer('/beer/howe-sound-hip-hops-grapefruit-ipa/144950/')>,\n",
       "  <Beer('/beer/howe-sound-super-jupiter-grapefruit-ipa/199326/')>,\n",
       "  <Beer('/beer/huss-grapefruit-gargoyle-ipa/289844/')>,\n",
       "  <Beer('/beer/incredible-grapefruit-ipa/413768/')>,\n",
       "  <Beer('/beer/iron-hill-grapefruit-ipa/337488/')>,\n",
       "  <Beer('/beer/ironfire-grapefruit-ipa/402103/')>,\n",
       "  <Beer('/beer/ise-kadoya-grapefruit-grassy-ipa/362746/')>,\n",
       "  <Beer('/beer/ise-kadoya-grapefruit-ipa/332494/')>,\n",
       "  <Beer('/beer/karl-strauss-tower-20-double-ipa--grapefruit-citra/216699/')>,\n",
       "  <Beer('/beer/krafty-brew-grapefruit-ipa/301602/')>,\n",
       "  <Beer('/beer/laughing-dog-rocket-dog-rye-ipa-lemon-grapefruit-peels/233521/')>,\n",
       "  <Beer('/beer/lolo-peak-grapefruit-ipa/386218/')>,\n",
       "  <Beer('/beer/ltd-grapefruit-double-ipa/380328/')>,\n",
       "  <Beer('/beer/lucky-envelope-grapefruit-eniac-ipa/402031/')>,\n",
       "  <Beer('/beer/mac-and-jacks-ibis-ipa--grapefruit/396533/')>,\n",
       "  <Beer('/beer/martin-house-juice--grapefruit-session-ipa/347672/')>,\n",
       "  <Beer('/beer/mastrys-grapefruit-ipa/326728/')>,\n",
       "  <Beer('/beer/milwaukee-ale-house-grapefruit-ipa/414440/')>,\n",
       "  <Beer('/beer/minoh-osaru-grapefruit-ipa/396291/')>,\n",
       "  <Beer('/beer/mission-grapefruit-ipa/374226/')>,\n",
       "  <Beer('/beer/molly-pitcher-grapefruit-ipa/376940/')>,\n",
       "  <Beer('/beer/moon-dog-boscos-grapefruit-cucumber-ipa/410202/')>,\n",
       "  <Beer('/beer/mt-carmel-imperial-ipa-with-grapefruit-zest/270777/')>,\n",
       "  <Beer('/beer/nerdbrewing-beta-2-smashed-grapefruit-dipa/350454/')>,\n",
       "  <Beer('/beer/neshaminy-creek-county-line-ipa--grapefruit/259285/')>,\n",
       "  <Beer('/beer/nighthawk-grapefruit-ipa/360169/')>],\n",
       " 'breweries': []}"
      ]
     },
     "execution_count": 25,
     "metadata": {},
     "output_type": "execute_result"
    }
   ],
   "source": [
    "results"
   ]
  },
  {
   "cell_type": "code",
   "execution_count": 32,
   "metadata": {
    "collapsed": false
   },
   "outputs": [],
   "source": [
    "r = results['beers'][5].get_reviews\n"
   ]
  },
  {
   "cell_type": "code",
   "execution_count": 47,
   "metadata": {
    "collapsed": false
   },
   "outputs": [
    {
     "data": {
      "text/plain": [
       "method"
      ]
     },
     "execution_count": 47,
     "metadata": {},
     "output_type": "execute_result"
    }
   ],
   "source": [
    "type(r)"
   ]
  },
  {
   "cell_type": "code",
   "execution_count": 51,
   "metadata": {
    "collapsed": false
   },
   "outputs": [
    {
     "ename": "TypeError",
     "evalue": "int() argument must be a string, a bytes-like object or a number, not 'Tag'",
     "output_type": "error",
     "traceback": [
      "\u001b[0;31m---------------------------------------------------------------------------\u001b[0m",
      "\u001b[0;31mTypeError\u001b[0m                                 Traceback (most recent call last)",
      "\u001b[0;32m<ipython-input-51-98a48f99ed9b>\u001b[0m in \u001b[0;36m<module>\u001b[0;34m()\u001b[0m\n\u001b[0;32m----> 1\u001b[0;31m \u001b[0mrb\u001b[0m\u001b[0;34m.\u001b[0m\u001b[0mbeer\u001b[0m\u001b[0;34m(\u001b[0m\u001b[0;34m'/beer/captain-lawrence-grapefruit-ipa/353376/'\u001b[0m\u001b[0;34m)\u001b[0m\u001b[0;34m\u001b[0m\u001b[0m\n\u001b[0m",
      "\u001b[0;32m//anaconda/lib/python3.5/site-packages/ratebeer/ratebeer.py\u001b[0m in \u001b[0;36mbeer\u001b[0;34m(self, url)\u001b[0m\n\u001b[1;32m    141\u001b[0m     \u001b[0;32mdef\u001b[0m \u001b[0mbeer\u001b[0m\u001b[0;34m(\u001b[0m\u001b[0mself\u001b[0m\u001b[0;34m,\u001b[0m \u001b[0murl\u001b[0m\u001b[0;34m)\u001b[0m\u001b[0;34m:\u001b[0m\u001b[0;34m\u001b[0m\u001b[0m\n\u001b[1;32m    142\u001b[0m         \u001b[0;34m\"\"\"Returns a dict with beer information for the requested URL\"\"\"\u001b[0m\u001b[0;34m\u001b[0m\u001b[0m\n\u001b[0;32m--> 143\u001b[0;31m         \u001b[0;32mreturn\u001b[0m \u001b[0mself\u001b[0m\u001b[0;34m.\u001b[0m\u001b[0mget_beer\u001b[0m\u001b[0;34m(\u001b[0m\u001b[0murl\u001b[0m\u001b[0;34m,\u001b[0m \u001b[0;32mTrue\u001b[0m\u001b[0;34m)\u001b[0m\u001b[0;34m.\u001b[0m\u001b[0m__dict__\u001b[0m\u001b[0;34m\u001b[0m\u001b[0m\n\u001b[0m\u001b[1;32m    144\u001b[0m \u001b[0;34m\u001b[0m\u001b[0m\n\u001b[1;32m    145\u001b[0m     \u001b[0;32mdef\u001b[0m \u001b[0mget_brewery\u001b[0m\u001b[0;34m(\u001b[0m\u001b[0mself\u001b[0m\u001b[0;34m,\u001b[0m \u001b[0murl\u001b[0m\u001b[0;34m,\u001b[0m \u001b[0mfetch\u001b[0m\u001b[0;34m=\u001b[0m\u001b[0;32mNone\u001b[0m\u001b[0;34m)\u001b[0m\u001b[0;34m:\u001b[0m\u001b[0;34m\u001b[0m\u001b[0m\n",
      "\u001b[0;32m//anaconda/lib/python3.5/site-packages/ratebeer/ratebeer.py\u001b[0m in \u001b[0;36mget_beer\u001b[0;34m(self, url, fetch)\u001b[0m\n\u001b[1;32m    137\u001b[0m         \u001b[0;32mif\u001b[0m \u001b[0mfetch\u001b[0m \u001b[0;32mis\u001b[0m \u001b[0;32mNone\u001b[0m\u001b[0;34m:\u001b[0m\u001b[0;34m\u001b[0m\u001b[0m\n\u001b[1;32m    138\u001b[0m             \u001b[0mfetch\u001b[0m \u001b[0;34m=\u001b[0m \u001b[0;32mFalse\u001b[0m\u001b[0;34m\u001b[0m\u001b[0m\n\u001b[0;32m--> 139\u001b[0;31m         \u001b[0;32mreturn\u001b[0m \u001b[0mmodels\u001b[0m\u001b[0;34m.\u001b[0m\u001b[0mBeer\u001b[0m\u001b[0;34m(\u001b[0m\u001b[0murl\u001b[0m\u001b[0;34m,\u001b[0m \u001b[0mfetch\u001b[0m\u001b[0;34m)\u001b[0m\u001b[0;34m\u001b[0m\u001b[0m\n\u001b[0m\u001b[1;32m    140\u001b[0m \u001b[0;34m\u001b[0m\u001b[0m\n\u001b[1;32m    141\u001b[0m     \u001b[0;32mdef\u001b[0m \u001b[0mbeer\u001b[0m\u001b[0;34m(\u001b[0m\u001b[0mself\u001b[0m\u001b[0;34m,\u001b[0m \u001b[0murl\u001b[0m\u001b[0;34m)\u001b[0m\u001b[0;34m:\u001b[0m\u001b[0;34m\u001b[0m\u001b[0m\n",
      "\u001b[0;32m//anaconda/lib/python3.5/site-packages/ratebeer/models.py\u001b[0m in \u001b[0;36m__init__\u001b[0;34m(self, url, fetch)\u001b[0m\n\u001b[1;32m     70\u001b[0m             \u001b[0mfetch\u001b[0m \u001b[0;34m=\u001b[0m \u001b[0;32mFalse\u001b[0m\u001b[0;34m\u001b[0m\u001b[0m\n\u001b[1;32m     71\u001b[0m         \u001b[0;32mif\u001b[0m \u001b[0mfetch\u001b[0m\u001b[0;34m:\u001b[0m\u001b[0;34m\u001b[0m\u001b[0m\n\u001b[0;32m---> 72\u001b[0;31m             \u001b[0mself\u001b[0m\u001b[0;34m.\u001b[0m\u001b[0m_populate\u001b[0m\u001b[0;34m(\u001b[0m\u001b[0;34m)\u001b[0m\u001b[0;34m\u001b[0m\u001b[0m\n\u001b[0m\u001b[1;32m     73\u001b[0m         \u001b[0mself\u001b[0m\u001b[0;34m.\u001b[0m\u001b[0m_has_fetched\u001b[0m \u001b[0;34m=\u001b[0m \u001b[0mfetch\u001b[0m\u001b[0;34m\u001b[0m\u001b[0m\n\u001b[1;32m     74\u001b[0m \u001b[0;34m\u001b[0m\u001b[0m\n",
      "\u001b[0;32m//anaconda/lib/python3.5/site-packages/ratebeer/models.py\u001b[0m in \u001b[0;36m_populate\u001b[0;34m(self)\u001b[0m\n\u001b[1;32m    132\u001b[0m             \u001b[0mself\u001b[0m\u001b[0;34m.\u001b[0m\u001b[0mbrewed_at\u001b[0m \u001b[0;34m=\u001b[0m \u001b[0;32mNone\u001b[0m\u001b[0;34m\u001b[0m\u001b[0m\n\u001b[1;32m    133\u001b[0m         \u001b[0;32mtry\u001b[0m\u001b[0;34m:\u001b[0m\u001b[0;34m\u001b[0m\u001b[0m\n\u001b[0;32m--> 134\u001b[0;31m             \u001b[0mself\u001b[0m\u001b[0;34m.\u001b[0m\u001b[0moverall_rating\u001b[0m \u001b[0;34m=\u001b[0m \u001b[0mint\u001b[0m\u001b[0;34m(\u001b[0m\u001b[0msoup\u001b[0m\u001b[0;34m.\u001b[0m\u001b[0mfind\u001b[0m\u001b[0;34m(\u001b[0m\u001b[0;34m'span'\u001b[0m\u001b[0;34m,\u001b[0m \u001b[0mtext\u001b[0m\u001b[0;34m=\u001b[0m\u001b[0;34m'overall'\u001b[0m\u001b[0;34m)\u001b[0m\u001b[0;34m.\u001b[0m\u001b[0mnext_sibling\u001b[0m\u001b[0;34m.\u001b[0m\u001b[0mnext_sibling\u001b[0m\u001b[0;34m)\u001b[0m\u001b[0;34m\u001b[0m\u001b[0m\n\u001b[0m\u001b[1;32m    135\u001b[0m         \u001b[0;32mexcept\u001b[0m \u001b[0mValueError\u001b[0m\u001b[0;34m:\u001b[0m \u001b[0;31m# 'n/a'\u001b[0m\u001b[0;34m\u001b[0m\u001b[0m\n\u001b[1;32m    136\u001b[0m             \u001b[0mself\u001b[0m\u001b[0;34m.\u001b[0m\u001b[0moverall_rating\u001b[0m \u001b[0;34m=\u001b[0m \u001b[0;32mNone\u001b[0m\u001b[0;34m\u001b[0m\u001b[0m\n",
      "\u001b[0;31mTypeError\u001b[0m: int() argument must be a string, a bytes-like object or a number, not 'Tag'"
     ]
    }
   ],
   "source": [
    "rb.beer('/beer/captain-lawrence-grapefruit-ipa/353376/')"
   ]
  },
  {
   "cell_type": "code",
   "execution_count": null,
   "metadata": {
    "collapsed": true
   },
   "outputs": [],
   "source": []
  }
 ],
 "metadata": {
  "kernelspec": {
   "display_name": "Python 3",
   "language": "python",
   "name": "python3"
  },
  "language_info": {
   "codemirror_mode": {
    "name": "ipython",
    "version": 3
   },
   "file_extension": ".py",
   "mimetype": "text/x-python",
   "name": "python",
   "nbconvert_exporter": "python",
   "pygments_lexer": "ipython3",
   "version": "3.5.1"
  }
 },
 "nbformat": 4,
 "nbformat_minor": 0
}
