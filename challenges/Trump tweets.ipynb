{
 "cells": [
  {
   "cell_type": "code",
   "execution_count": 1,
   "metadata": {
    "collapsed": true
   },
   "outputs": [],
   "source": [
    "import requests\n",
    "from requests_oauthlib import OAuth1"
   ]
  },
  {
   "cell_type": "code",
   "execution_count": 2,
   "metadata": {
    "collapsed": false
   },
   "outputs": [
    {
     "data": {
      "text/plain": [
       "'/Users/EBianco'"
      ]
     },
     "execution_count": 2,
     "metadata": {},
     "output_type": "execute_result"
    }
   ],
   "source": [
    "from os.path import expanduser\n",
    "home = expanduser(\"~\")\n",
    "home"
   ]
  },
  {
   "cell_type": "code",
   "execution_count": 4,
   "metadata": {
    "collapsed": false
   },
   "outputs": [],
   "source": [
    "import cnfg\n",
    "config = cnfg.load(home + \"/.twitter_config\")\n"
   ]
  },
  {
   "cell_type": "code",
   "execution_count": 5,
   "metadata": {
    "collapsed": true
   },
   "outputs": [],
   "source": [
    "\n",
    "oauth = OAuth1(config[\"consumer_key\"],\n",
    "               config[\"consumer_secret\"],\n",
    "               config[\"access_token\"],\n",
    "               config[\"access_token_secret\"])\n"
   ]
  },
  {
   "cell_type": "code",
   "execution_count": 7,
   "metadata": {
    "collapsed": false
   },
   "outputs": [
    {
     "name": "stdout",
     "output_type": "stream",
     "text": [
      "in_reply_to_user_id\n",
      "retweeted\n",
      "source\n",
      "lang\n",
      "id\n",
      "created_at\n",
      "entities\n",
      "text\n",
      "retweet_count\n",
      "id_str\n",
      "quoted_status_id\n",
      "truncated\n",
      "in_reply_to_screen_name\n",
      "favorite_count\n",
      "place\n",
      "user\n",
      "favorited\n",
      "in_reply_to_status_id\n",
      "in_reply_to_status_id_str\n",
      "in_reply_to_user_id_str\n",
      "quoted_status_id_str\n",
      "possibly_sensitive\n",
      "retweeted_status\n",
      "geo\n",
      "is_quote_status\n",
      "coordinates\n",
      "contributors\n"
     ]
    }
   ],
   "source": [
    "response = requests.get(\"https://api.twitter.com/1.1/statuses/user_timeline.json\",\n",
    "                        auth=oauth)\n",
    "\n",
    "tweets = response.json()\n",
    "\n",
    "for key in tweets[0].keys():\n",
    "    print (key)\n",
    "    \n"
   ]
  },
  {
   "cell_type": "code",
   "execution_count": 8,
   "metadata": {
    "collapsed": false
   },
   "outputs": [
    {
     "name": "stdout",
     "output_type": "stream",
     "text": [
      "{'completed_in': 0.059,\n",
      " 'count': 20,\n",
      " 'max_id': 735066609300082688,\n",
      " 'max_id_str': '735066609300082688',\n",
      " 'next_results': '?max_id=735066595937116159&q=trump&count=20&include_entities=1',\n",
      " 'query': 'trump',\n",
      " 'refresh_url': '?since_id=735066609300082688&q=trump&include_entities=1',\n",
      " 'since_id': 0,\n",
      " 'since_id_str': '0'}\n"
     ]
    }
   ],
   "source": [
    "parameters = {\"q\": \"trump\", \"count\":20}\n",
    "response = requests.get(\"https://api.twitter.com/1.1/search/tweets.json\",\n",
    "                        params = parameters,\n",
    "                        auth=oauth)\n",
    "\n",
    "from pprint import pprint\n",
    "pprint(response.json()['search_metadata'])"
   ]
  },
  {
   "cell_type": "code",
   "execution_count": 11,
   "metadata": {
    "collapsed": false
   },
   "outputs": [
    {
     "name": "stdout",
     "output_type": "stream",
     "text": [
      "PAGE 1\n",
      "735066609300082688 Trump “Clarifies” Position On School Guns https://t.co/6iwWw2X1So #tcot\n",
      "\n",
      "735066608448770048 .@Noahpinion @nybooks link https://t.co/l5TByljXeq - Mark Danner, UC Berkley\n",
      "\n",
      "735066606833967108 RT @nickowens100: Here's Trump eating pizza starting from the crust. This should be enough proof he doesn't deserve to be president. https:…\n",
      "\n",
      "735066606506639361 TRIABLOGUE: Trump's Mob Connections https://t.co/z5tpreD7c3\n",
      "\n",
      "735066605890080768 RT @thehill: Clinton campaign releases video slamming Trump's foreign policy qualifications https://t.co/KDRLUdaKXc https://t.co/N4Qh3PuTwb\n",
      "\n",
      "735066605613395968 RT @amyasherk: I'm tired of doing a mans job! I hope Trump puts butt kicking leaders in office! It shouldn't matter who they are! https://t…\n",
      "\n",
      "735066605500014592 RT @JTAnews: Trump: no plans for Israel trip “at the moment” https://t.co/f8pK54uIWb\n",
      "\n",
      "735066604938137600 Trump, finally, sets a good precedent: Your Say https://t.co/6dfAxxziOC\n",
      "\n",
      "735066604145250304 RT @YoungBLKRepub: Not a word from POLITICO on a major Clinton ally McAuliffe being under federal investigation? They'd run 10 stories if i…\n",
      "\n",
      "735066603830665217 I cannot stand Hillary's voice.  Or Trump's for that matter.\n",
      "\n",
      "735066603646296064 RT @PoeJackson1: Trump Is Winning  #Trump2016 #TrumpTrain #Election2016 #DonaldTrump #TrumpWomen #viralmarketing #Viral #VIDEO  https://t.c…\n",
      "\n",
      "735066602266234880 RT @i9erys: It's time to stop sending billion of dollars to countries that hate us☆#islam #muslim #Obama #Hillary #Trump https://t.co/FoXZk…\n",
      "\n",
      "735066600521531392 Seth Meyers destroys Trump’s clueless gun pandering: He doesn’t even know they go ‘bang!’ https://t.co/p2keDzxRSh https://t.co/xxP8VC6X1I\n",
      "\n",
      "735066598940106752 RT @SteveDeaceShow: Trump will lie to VETERANS he supposedly raised millions for, but he won't lie to you about SCOTUS picks? Come on, man.\n",
      "\n",
      "735066598596304896 RT @gatewaypundit: FOR FIRST TIME EVER=&gt; Donald Trump Leads Crooked Hillary in Average of All National Polls https://t.co/PyFPqE2O33 via @g…\n",
      "\n",
      "735066598319493120 The Official #TrumpMuteButton for #CrookedDonald Trump, \"Make America _______ Again\" | Fill In The Blank &amp; RT https://t.co/rPjhfaDG3b\n",
      "\n",
      "735066597166067712 RT @SteveRattner: Trump's tax return summarized - via @NewYorker https://t.co/15pEJG9iO1\n",
      "\n",
      "735066596897652736 After decades of manipulating politicians\n",
      "the media is befuddled that #Trump is\n",
      "manipulating THEM. LMAO ! @Morning_Joe \n",
      "@cspanwj @NewDay\n",
      "\n",
      "735066595983122432 Donald Trump mete miedo en Estados Unidos, muchos analizan mudarse a Canadá #CUARTOPODER https://t.co/FFpxRDRE2v https://t.co/pzhV7R2Km4\n",
      "\n",
      "735066595937116160 #TedCruz pledged to support #Trump if he is nominee (\"yes \n",
      "because I gave my word\") and then reneged on his pledge!\n",
      "https://t.co/kuHojzB7Lc\n",
      "\n"
     ]
    }
   ],
   "source": [
    "\n",
    "tweets = response.json()['statuses']\n",
    "\n",
    "print ('PAGE 1')\n",
    "for tweet in tweets:\n",
    "    print (tweet['id'], tweet['text'])\n",
    "    print()"
   ]
  },
  {
   "cell_type": "code",
   "execution_count": 12,
   "metadata": {
    "collapsed": false
   },
   "outputs": [
    {
     "name": "stdout",
     "output_type": "stream",
     "text": [
      "PAGE 2\n",
      "RT @Morning_Joe: .@BernieSanders leads @realDonaldTrump by 15 points in new poll https://t.co/f4QqUzfgCH\n",
      "\n",
      "@GirlGamer7 thanks for commenting 😃 lol that's an even funnier reason for Trump to play hunie pop :p\n",
      "\n",
      "RT @FredZeppelin12: The gall of this unaccomplished carpet bagging coat tailing criminal to lecture billionaire #Trump he's unqualified htt…\n",
      "\n",
      "@VABVOX Trump is lying yet again...\n",
      "\n",
      "Hillary Clinton calls Trump a 'bully' who threatens economy https://t.co/KEyJmI33Ds\n",
      "\n",
      "@MSNBC how about you guys discuss how @BernieSanders beats Trump in every poll?\n",
      "\n",
      "RT @PizzaPartyBen: TRUMP WAS RIGHT AGAIN https://t.co/vENVLB4vlJ\n",
      "\n",
      "Plumbing Book, answering questions that triples your savings &amp; protects against Contractor rip-offs. https://t.co/PyIK1ZKYzv #Trump #news\n",
      "\n",
      "\"Make America Great Again\" vs \"Fighting for Us\" (ugh!). Say what you will about Donald Trump, but he's way better at marketing than Hillary.\n",
      "\n",
      "やめろやめろやめろやめろやめろやめろ…。ほんとにやめてください。\n",
      "「ドナルド・トランプ大統領誕生」現実味増す、世論調査平均でヒラリー・クリントン氏を逆転 https://t.co/qRdugcsDp4\n",
      "\n",
      "Even IF Bernie had a better chance of beating #Trump (highly unlikely!) it's @HillaryClinton we want as President - not #Bernie OR Trump\n",
      "\n",
      "@Morning_Joe You people have spent an hour and 15 mins on Trump . Whats with that morning trash\n",
      "\n",
      "\"Silent Majority: 55% of Americans Want Independent to Run Against Trump, Clinton https://t.co/7bYnZCCKzI\"\n",
      "\n",
      "RT @DavidMDrucker: .@GOP moves to fill void for @realDonaldTrump, whose campaign lags organized &amp; data-driven @HillaryClinton campaign: htt…\n",
      "\n",
      "@realdonald trump  TALK ISSUES, NOT TRASH. TRASH TALK doesn't make us comfortable of what you'll do when the rubber meets the road.  @joenbc\n",
      "\n",
      "@EWErickson Et tu, Brute? Who ISN'T responsible for the $19tn in debt we're in. Yeah, that'd be Trump, he wasn't there, Hillary was though.\n",
      "\n",
      "@HillaryClinton: Es mucho más lo que nos une que lo que nos divide. Es tiempo de unirnos para parar a Donald Trump. https://t.co/eUj36f88cN\n",
      "\n",
      "RT @GreatDismal: 3) What's happening now, though, with Trump, that's finally the 100% real deal. That's American fascism, straight up.\n",
      "\n",
      "@RosemryS Trump is a loon! lol he is not even an expert on his own religion let alone Islam lol he is talking from his deluded ignorance\n",
      "\n",
      "Trump: 'It Wouldn't Bother Me at All' to Ask Congress for Declaration of War https://t.co/7SQz266eMS\n",
      "\n"
     ]
    }
   ],
   "source": [
    "search_url = \"https://api.twitter.com/1.1/search/tweets.json\"\n",
    "next_page_url = search_url + response.json()['search_metadata']['next_results']\n",
    "\n",
    "response = requests.get(next_page_url, auth=oauth)\n",
    "\n",
    "print ('PAGE 2')\n",
    "for tweet in response.json()['statuses']:\n",
    "    print (tweet['text'])\n",
    "    print()"
   ]
  },
  {
   "cell_type": "code",
   "execution_count": 13,
   "metadata": {
    "collapsed": true
   },
   "outputs": [],
   "source": [
    "import tweepy"
   ]
  },
  {
   "cell_type": "code",
   "execution_count": 14,
   "metadata": {
    "collapsed": true
   },
   "outputs": [],
   "source": [
    "auth = tweepy.OAuthHandler(config[\"consumer_key\"],\n",
    "                           config[\"consumer_secret\"])\n",
    "auth.set_access_token(config[\"access_token\"],\n",
    "                      config[\"access_token_secret\"])\n",
    "\n",
    "api=tweepy.API(auth)"
   ]
  },
  {
   "cell_type": "code",
   "execution_count": 15,
   "metadata": {
    "collapsed": false
   },
   "outputs": [
    {
     "name": "stdout",
     "output_type": "stream",
     "text": [
      "Status(in_reply_to_user_id=None, _api=<tweepy.api.API object at 0x10691a4e0>, retweeted=False, source='Twitter Web Client', author=User(default_profile_image=False, _api=<tweepy.api.API object at 0x10691a4e0>, location='New York, NY', followers_count=7327, statuses_count=15160, is_translation_enabled=False, lang='en', protected=False, name='CBS News PressOffice', favourites_count=117, id=331211313, profile_background_tile=False, created_at=datetime.datetime(2011, 7, 7, 20, 30, 9), follow_request_sent=False, entities={'url': {'urls': [{'display_url': 'cbspressexpress.com/div.php/cbs_ne…', 'url': 'http://t.co/Xkz5ULSSqR', 'indices': [0, 22], 'expanded_url': 'http://www.cbspressexpress.com/div.php/cbs_news/'}]}, 'description': {'urls': []}}, geo_enabled=True, profile_image_url_https='https://pbs.twimg.com/profile_images/2081272641/cbs-news-logo_normal.gif', time_zone='Eastern Time (US & Canada)', url='http://t.co/Xkz5ULSSqR', profile_sidebar_border_color='C0DEED', notifications=False, _json={'default_profile_image': False, 'favourites_count': 117, 'location': 'New York, NY', 'followers_count': 7327, 'statuses_count': 15160, 'is_translation_enabled': False, 'protected': False, 'name': 'CBS News PressOffice', 'profile_background_image_url_https': 'https://pbs.twimg.com/profile_background_images/288448685/cbsnews-bg-2.jpg', 'id': 331211313, 'profile_background_tile': False, 'created_at': 'Thu Jul 07 20:30:09 +0000 2011', 'follow_request_sent': False, 'entities': {'url': {'urls': [{'display_url': 'cbspressexpress.com/div.php/cbs_ne…', 'url': 'http://t.co/Xkz5ULSSqR', 'indices': [0, 22], 'expanded_url': 'http://www.cbspressexpress.com/div.php/cbs_news/'}]}, 'description': {'urls': []}}, 'profile_image_url_https': 'https://pbs.twimg.com/profile_images/2081272641/cbs-news-logo_normal.gif', 'geo_enabled': True, 'is_translator': False, 'time_zone': 'Eastern Time (US & Canada)', 'url': 'http://t.co/Xkz5ULSSqR', 'profile_sidebar_border_color': 'C0DEED', 'profile_background_image_url': 'http://pbs.twimg.com/profile_background_images/288448685/cbsnews-bg-2.jpg', 'profile_text_color': '333333', 'profile_image_url': 'http://pbs.twimg.com/profile_images/2081272641/cbs-news-logo_normal.gif', 'following': False, 'profile_sidebar_fill_color': 'DDEEF6', 'notifications': False, 'contributors_enabled': False, 'default_profile': False, 'utc_offset': -14400, 'profile_link_color': '0084B4', 'verified': True, 'lang': 'en', 'description': 'The official Twitter account of the Press Office at @CBSNews. #CBSNews', 'listed_count': 230, 'has_extended_profile': False, 'profile_use_background_image': True, 'id_str': '331211313', 'profile_background_color': 'C0DEED', 'screen_name': 'CBSNewsPress', 'friends_count': 294}, profile_sidebar_fill_color='DDEEF6', profile_use_background_image=True, profile_background_color='C0DEED', profile_background_image_url_https='https://pbs.twimg.com/profile_background_images/288448685/cbsnews-bg-2.jpg', following=False, screen_name='CBSNewsPress', utc_offset=-14400, contributors_enabled=False, verified=True, profile_image_url='http://pbs.twimg.com/profile_images/2081272641/cbs-news-logo_normal.gif', profile_background_image_url='http://pbs.twimg.com/profile_background_images/288448685/cbsnews-bg-2.jpg', description='The official Twitter account of the Press Office at @CBSNews. #CBSNews', listed_count=230, has_extended_profile=False, is_translator=False, id_str='331211313', profile_text_color='333333', default_profile=False, friends_count=294, profile_link_color='0084B4'), id=735067407333609477, created_at=datetime.datetime(2016, 5, 24, 11, 18, 21), retweeted_status=Status(in_reply_to_user_id=None, _api=<tweepy.api.API object at 0x10691a4e0>, retweeted=False, source='SocialFlow', author=User(default_profile_image=False, _api=<tweepy.api.API object at 0x10691a4e0>, location='Studio 57, CBS Broadcast Ctr.', followers_count=225896, statuses_count=70794, is_translation_enabled=False, lang='en', protected=False, name='CBS This Morning', favourites_count=2220, id=17134268, profile_background_tile=False, created_at=datetime.datetime(2008, 11, 3, 17, 5, 29), follow_request_sent=False, entities={'url': {'urls': [{'display_url': 'CBSThisMorning.com', 'url': 'http://t.co/Txaxq3Si', 'indices': [0, 20], 'expanded_url': 'http://CBSThisMorning.com'}]}, 'description': {'urls': []}}, geo_enabled=True, profile_image_url_https='https://pbs.twimg.com/profile_images/651362377540112384/eNioIfCp_normal.jpg', time_zone='Eastern Time (US & Canada)', url='http://t.co/Txaxq3Si', profile_sidebar_border_color='FFFFFF', notifications=False, _json={'default_profile_image': False, 'favourites_count': 2220, 'location': 'Studio 57, CBS Broadcast Ctr.', 'followers_count': 225896, 'statuses_count': 70794, 'is_translation_enabled': False, 'protected': False, 'name': 'CBS This Morning', 'profile_background_image_url_https': 'https://pbs.twimg.com/profile_background_images/662583012/xu9wdkhc1d7rpohwdsd8.jpeg', 'id': 17134268, 'profile_background_tile': False, 'created_at': 'Mon Nov 03 17:05:29 +0000 2008', 'follow_request_sent': False, 'entities': {'url': {'urls': [{'display_url': 'CBSThisMorning.com', 'url': 'http://t.co/Txaxq3Si', 'indices': [0, 20], 'expanded_url': 'http://CBSThisMorning.com'}]}, 'description': {'urls': []}}, 'profile_image_url_https': 'https://pbs.twimg.com/profile_images/651362377540112384/eNioIfCp_normal.jpg', 'geo_enabled': True, 'is_translator': False, 'time_zone': 'Eastern Time (US & Canada)', 'url': 'http://t.co/Txaxq3Si', 'profile_banner_url': 'https://pbs.twimg.com/profile_banners/17134268/1454423647', 'profile_background_image_url': 'http://pbs.twimg.com/profile_background_images/662583012/xu9wdkhc1d7rpohwdsd8.jpeg', 'profile_text_color': '000000', 'profile_image_url': 'http://pbs.twimg.com/profile_images/651362377540112384/eNioIfCp_normal.jpg', 'following': False, 'profile_sidebar_fill_color': 'FDFAED', 'notifications': False, 'contributors_enabled': False, 'default_profile': False, 'utc_offset': -14400, 'profile_link_color': '476ECD', 'verified': True, 'lang': 'en', 'description': 'The news is back in morning news. #newsisback', 'listed_count': 3335, 'has_extended_profile': False, 'profile_use_background_image': True, 'id_str': '17134268', 'profile_background_color': 'FDFAED', 'screen_name': 'CBSThisMorning', 'friends_count': 1152, 'profile_sidebar_border_color': 'FFFFFF'}, profile_sidebar_fill_color='FDFAED', profile_use_background_image=True, profile_background_color='FDFAED', profile_background_image_url_https='https://pbs.twimg.com/profile_background_images/662583012/xu9wdkhc1d7rpohwdsd8.jpeg', following=False, screen_name='CBSThisMorning', utc_offset=-14400, contributors_enabled=False, verified=True, profile_image_url='http://pbs.twimg.com/profile_images/651362377540112384/eNioIfCp_normal.jpg', profile_background_image_url='http://pbs.twimg.com/profile_background_images/662583012/xu9wdkhc1d7rpohwdsd8.jpeg', profile_banner_url='https://pbs.twimg.com/profile_banners/17134268/1454423647', description='The news is back in morning news. #newsisback', listed_count=3335, has_extended_profile=False, is_translator=False, id_str='17134268', profile_text_color='000000', default_profile=False, friends_count=1152, profile_link_color='476ECD'), id=735066990516277248, created_at=datetime.datetime(2016, 5, 24, 11, 16, 42), entities={'user_mentions': [{'indices': [124, 136], 'id_str': '21702539', 'name': 'Nancy Cordes', 'screen_name': 'nancycordes', 'id': 21702539}], 'symbols': [], 'hashtags': [], 'urls': []}, text=\"In this first coordinated attack, Clinton is going after one of Trump's biggest selling points: his business experience. -- @NancyCordes\", metadata={'result_type': 'recent', 'iso_language_code': 'en'}, geo=None, truncated=False, _json={'in_reply_to_user_id': None, 'retweeted': False, 'source': '<a href=\"http://www.socialflow.com\" rel=\"nofollow\">SocialFlow</a>', 'lang': 'en', 'id': 735066990516277248, 'created_at': 'Tue May 24 11:16:42 +0000 2016', 'entities': {'user_mentions': [{'indices': [124, 136], 'id_str': '21702539', 'name': 'Nancy Cordes', 'screen_name': 'nancycordes', 'id': 21702539}], 'symbols': [], 'hashtags': [], 'urls': []}, 'text': \"In this first coordinated attack, Clinton is going after one of Trump's biggest selling points: his business experience. -- @NancyCordes\", 'metadata': {'result_type': 'recent', 'iso_language_code': 'en'}, 'id_str': '735066990516277248', 'truncated': False, 'in_reply_to_screen_name': None, 'favorite_count': 1, 'place': None, 'user': {'default_profile_image': False, 'favourites_count': 2220, 'location': 'Studio 57, CBS Broadcast Ctr.', 'followers_count': 225896, 'statuses_count': 70794, 'is_translation_enabled': False, 'protected': False, 'name': 'CBS This Morning', 'profile_background_image_url_https': 'https://pbs.twimg.com/profile_background_images/662583012/xu9wdkhc1d7rpohwdsd8.jpeg', 'id': 17134268, 'profile_background_tile': False, 'created_at': 'Mon Nov 03 17:05:29 +0000 2008', 'follow_request_sent': False, 'entities': {'url': {'urls': [{'display_url': 'CBSThisMorning.com', 'url': 'http://t.co/Txaxq3Si', 'indices': [0, 20], 'expanded_url': 'http://CBSThisMorning.com'}]}, 'description': {'urls': []}}, 'profile_image_url_https': 'https://pbs.twimg.com/profile_images/651362377540112384/eNioIfCp_normal.jpg', 'geo_enabled': True, 'is_translator': False, 'time_zone': 'Eastern Time (US & Canada)', 'url': 'http://t.co/Txaxq3Si', 'profile_banner_url': 'https://pbs.twimg.com/profile_banners/17134268/1454423647', 'profile_background_image_url': 'http://pbs.twimg.com/profile_background_images/662583012/xu9wdkhc1d7rpohwdsd8.jpeg', 'profile_text_color': '000000', 'profile_image_url': 'http://pbs.twimg.com/profile_images/651362377540112384/eNioIfCp_normal.jpg', 'following': False, 'profile_sidebar_fill_color': 'FDFAED', 'notifications': False, 'contributors_enabled': False, 'default_profile': False, 'utc_offset': -14400, 'profile_link_color': '476ECD', 'verified': True, 'lang': 'en', 'description': 'The news is back in morning news. #newsisback', 'listed_count': 3335, 'has_extended_profile': False, 'profile_use_background_image': True, 'id_str': '17134268', 'profile_background_color': 'FDFAED', 'screen_name': 'CBSThisMorning', 'friends_count': 1152, 'profile_sidebar_border_color': 'FFFFFF'}, 'favorited': False, 'in_reply_to_status_id': None, 'in_reply_to_status_id_str': None, 'in_reply_to_user_id_str': None, 'geo': None, 'is_quote_status': False, 'coordinates': None, 'contributors': None, 'retweet_count': 2}, in_reply_to_screen_name=None, favorite_count=1, is_quote_status=False, in_reply_to_status_id_str=None, user=User(default_profile_image=False, _api=<tweepy.api.API object at 0x10691a4e0>, location='Studio 57, CBS Broadcast Ctr.', followers_count=225896, statuses_count=70794, is_translation_enabled=False, lang='en', protected=False, name='CBS This Morning', favourites_count=2220, id=17134268, profile_background_tile=False, created_at=datetime.datetime(2008, 11, 3, 17, 5, 29), follow_request_sent=False, entities={'url': {'urls': [{'display_url': 'CBSThisMorning.com', 'url': 'http://t.co/Txaxq3Si', 'indices': [0, 20], 'expanded_url': 'http://CBSThisMorning.com'}]}, 'description': {'urls': []}}, geo_enabled=True, profile_image_url_https='https://pbs.twimg.com/profile_images/651362377540112384/eNioIfCp_normal.jpg', time_zone='Eastern Time (US & Canada)', url='http://t.co/Txaxq3Si', profile_sidebar_border_color='FFFFFF', notifications=False, _json={'default_profile_image': False, 'favourites_count': 2220, 'location': 'Studio 57, CBS Broadcast Ctr.', 'followers_count': 225896, 'statuses_count': 70794, 'is_translation_enabled': False, 'protected': False, 'name': 'CBS This Morning', 'profile_background_image_url_https': 'https://pbs.twimg.com/profile_background_images/662583012/xu9wdkhc1d7rpohwdsd8.jpeg', 'id': 17134268, 'profile_background_tile': False, 'created_at': 'Mon Nov 03 17:05:29 +0000 2008', 'follow_request_sent': False, 'entities': {'url': {'urls': [{'display_url': 'CBSThisMorning.com', 'url': 'http://t.co/Txaxq3Si', 'indices': [0, 20], 'expanded_url': 'http://CBSThisMorning.com'}]}, 'description': {'urls': []}}, 'profile_image_url_https': 'https://pbs.twimg.com/profile_images/651362377540112384/eNioIfCp_normal.jpg', 'geo_enabled': True, 'is_translator': False, 'time_zone': 'Eastern Time (US & Canada)', 'url': 'http://t.co/Txaxq3Si', 'profile_banner_url': 'https://pbs.twimg.com/profile_banners/17134268/1454423647', 'profile_background_image_url': 'http://pbs.twimg.com/profile_background_images/662583012/xu9wdkhc1d7rpohwdsd8.jpeg', 'profile_text_color': '000000', 'profile_image_url': 'http://pbs.twimg.com/profile_images/651362377540112384/eNioIfCp_normal.jpg', 'following': False, 'profile_sidebar_fill_color': 'FDFAED', 'notifications': False, 'contributors_enabled': False, 'default_profile': False, 'utc_offset': -14400, 'profile_link_color': '476ECD', 'verified': True, 'lang': 'en', 'description': 'The news is back in morning news. #newsisback', 'listed_count': 3335, 'has_extended_profile': False, 'profile_use_background_image': True, 'id_str': '17134268', 'profile_background_color': 'FDFAED', 'screen_name': 'CBSThisMorning', 'friends_count': 1152, 'profile_sidebar_border_color': 'FFFFFF'}, profile_sidebar_fill_color='FDFAED', profile_use_background_image=True, profile_background_color='FDFAED', profile_background_image_url_https='https://pbs.twimg.com/profile_background_images/662583012/xu9wdkhc1d7rpohwdsd8.jpeg', following=False, screen_name='CBSThisMorning', utc_offset=-14400, contributors_enabled=False, verified=True, profile_image_url='http://pbs.twimg.com/profile_images/651362377540112384/eNioIfCp_normal.jpg', profile_background_image_url='http://pbs.twimg.com/profile_background_images/662583012/xu9wdkhc1d7rpohwdsd8.jpeg', profile_banner_url='https://pbs.twimg.com/profile_banners/17134268/1454423647', description='The news is back in morning news. #newsisback', listed_count=3335, has_extended_profile=False, is_translator=False, id_str='17134268', profile_text_color='000000', default_profile=False, friends_count=1152, profile_link_color='476ECD'), favorited=False, in_reply_to_status_id=None, lang='en', in_reply_to_user_id_str=None, retweet_count=2, id_str='735066990516277248', place=None, coordinates=None, contributors=None, source_url='http://www.socialflow.com'), entities={'user_mentions': [{'indices': [3, 18], 'id_str': '17134268', 'name': 'CBS This Morning', 'screen_name': 'CBSThisMorning', 'id': 17134268}, {'indices': [139, 140], 'id_str': '21702539', 'name': 'Nancy Cordes', 'screen_name': 'nancycordes', 'id': 21702539}], 'symbols': [], 'hashtags': [], 'urls': []}, text=\"RT @CBSThisMorning: In this first coordinated attack, Clinton is going after one of Trump's biggest selling points: his business experience…\", metadata={'result_type': 'recent', 'iso_language_code': 'en'}, geo=None, truncated=False, _json={'in_reply_to_user_id': None, 'retweeted': False, 'source': '<a href=\"http://twitter.com\" rel=\"nofollow\">Twitter Web Client</a>', 'lang': 'en', 'id': 735067407333609477, 'created_at': 'Tue May 24 11:18:21 +0000 2016', 'entities': {'user_mentions': [{'indices': [3, 18], 'id_str': '17134268', 'name': 'CBS This Morning', 'screen_name': 'CBSThisMorning', 'id': 17134268}, {'indices': [139, 140], 'id_str': '21702539', 'name': 'Nancy Cordes', 'screen_name': 'nancycordes', 'id': 21702539}], 'symbols': [], 'hashtags': [], 'urls': []}, 'text': \"RT @CBSThisMorning: In this first coordinated attack, Clinton is going after one of Trump's biggest selling points: his business experience…\", 'metadata': {'result_type': 'recent', 'iso_language_code': 'en'}, 'id_str': '735067407333609477', 'truncated': False, 'in_reply_to_screen_name': None, 'favorite_count': 0, 'place': None, 'user': {'default_profile_image': False, 'favourites_count': 117, 'location': 'New York, NY', 'followers_count': 7327, 'statuses_count': 15160, 'is_translation_enabled': False, 'protected': False, 'name': 'CBS News PressOffice', 'profile_background_image_url_https': 'https://pbs.twimg.com/profile_background_images/288448685/cbsnews-bg-2.jpg', 'id': 331211313, 'profile_background_tile': False, 'created_at': 'Thu Jul 07 20:30:09 +0000 2011', 'follow_request_sent': False, 'entities': {'url': {'urls': [{'display_url': 'cbspressexpress.com/div.php/cbs_ne…', 'url': 'http://t.co/Xkz5ULSSqR', 'indices': [0, 22], 'expanded_url': 'http://www.cbspressexpress.com/div.php/cbs_news/'}]}, 'description': {'urls': []}}, 'profile_image_url_https': 'https://pbs.twimg.com/profile_images/2081272641/cbs-news-logo_normal.gif', 'geo_enabled': True, 'is_translator': False, 'time_zone': 'Eastern Time (US & Canada)', 'url': 'http://t.co/Xkz5ULSSqR', 'profile_sidebar_border_color': 'C0DEED', 'profile_background_image_url': 'http://pbs.twimg.com/profile_background_images/288448685/cbsnews-bg-2.jpg', 'profile_text_color': '333333', 'profile_image_url': 'http://pbs.twimg.com/profile_images/2081272641/cbs-news-logo_normal.gif', 'following': False, 'profile_sidebar_fill_color': 'DDEEF6', 'notifications': False, 'contributors_enabled': False, 'default_profile': False, 'utc_offset': -14400, 'profile_link_color': '0084B4', 'verified': True, 'lang': 'en', 'description': 'The official Twitter account of the Press Office at @CBSNews. #CBSNews', 'listed_count': 230, 'has_extended_profile': False, 'profile_use_background_image': True, 'id_str': '331211313', 'profile_background_color': 'C0DEED', 'screen_name': 'CBSNewsPress', 'friends_count': 294}, 'favorited': False, 'in_reply_to_status_id': None, 'in_reply_to_status_id_str': None, 'in_reply_to_user_id_str': None, 'retweeted_status': {'in_reply_to_user_id': None, 'retweeted': False, 'source': '<a href=\"http://www.socialflow.com\" rel=\"nofollow\">SocialFlow</a>', 'lang': 'en', 'id': 735066990516277248, 'created_at': 'Tue May 24 11:16:42 +0000 2016', 'entities': {'user_mentions': [{'indices': [124, 136], 'id_str': '21702539', 'name': 'Nancy Cordes', 'screen_name': 'nancycordes', 'id': 21702539}], 'symbols': [], 'hashtags': [], 'urls': []}, 'text': \"In this first coordinated attack, Clinton is going after one of Trump's biggest selling points: his business experience. -- @NancyCordes\", 'metadata': {'result_type': 'recent', 'iso_language_code': 'en'}, 'id_str': '735066990516277248', 'truncated': False, 'in_reply_to_screen_name': None, 'favorite_count': 1, 'place': None, 'user': {'default_profile_image': False, 'favourites_count': 2220, 'location': 'Studio 57, CBS Broadcast Ctr.', 'followers_count': 225896, 'statuses_count': 70794, 'is_translation_enabled': False, 'protected': False, 'name': 'CBS This Morning', 'profile_background_image_url_https': 'https://pbs.twimg.com/profile_background_images/662583012/xu9wdkhc1d7rpohwdsd8.jpeg', 'id': 17134268, 'profile_background_tile': False, 'created_at': 'Mon Nov 03 17:05:29 +0000 2008', 'follow_request_sent': False, 'entities': {'url': {'urls': [{'display_url': 'CBSThisMorning.com', 'url': 'http://t.co/Txaxq3Si', 'indices': [0, 20], 'expanded_url': 'http://CBSThisMorning.com'}]}, 'description': {'urls': []}}, 'profile_image_url_https': 'https://pbs.twimg.com/profile_images/651362377540112384/eNioIfCp_normal.jpg', 'geo_enabled': True, 'is_translator': False, 'time_zone': 'Eastern Time (US & Canada)', 'url': 'http://t.co/Txaxq3Si', 'profile_banner_url': 'https://pbs.twimg.com/profile_banners/17134268/1454423647', 'profile_background_image_url': 'http://pbs.twimg.com/profile_background_images/662583012/xu9wdkhc1d7rpohwdsd8.jpeg', 'profile_text_color': '000000', 'profile_image_url': 'http://pbs.twimg.com/profile_images/651362377540112384/eNioIfCp_normal.jpg', 'following': False, 'profile_sidebar_fill_color': 'FDFAED', 'notifications': False, 'contributors_enabled': False, 'default_profile': False, 'utc_offset': -14400, 'profile_link_color': '476ECD', 'verified': True, 'lang': 'en', 'description': 'The news is back in morning news. #newsisback', 'listed_count': 3335, 'has_extended_profile': False, 'profile_use_background_image': True, 'id_str': '17134268', 'profile_background_color': 'FDFAED', 'screen_name': 'CBSThisMorning', 'friends_count': 1152, 'profile_sidebar_border_color': 'FFFFFF'}, 'favorited': False, 'in_reply_to_status_id': None, 'in_reply_to_status_id_str': None, 'in_reply_to_user_id_str': None, 'geo': None, 'is_quote_status': False, 'coordinates': None, 'contributors': None, 'retweet_count': 2}, 'geo': None, 'is_quote_status': False, 'coordinates': None, 'contributors': None, 'retweet_count': 2}, in_reply_to_screen_name=None, favorite_count=0, is_quote_status=False, in_reply_to_status_id_str=None, user=User(default_profile_image=False, _api=<tweepy.api.API object at 0x10691a4e0>, location='New York, NY', followers_count=7327, statuses_count=15160, is_translation_enabled=False, lang='en', protected=False, name='CBS News PressOffice', favourites_count=117, id=331211313, profile_background_tile=False, created_at=datetime.datetime(2011, 7, 7, 20, 30, 9), follow_request_sent=False, entities={'url': {'urls': [{'display_url': 'cbspressexpress.com/div.php/cbs_ne…', 'url': 'http://t.co/Xkz5ULSSqR', 'indices': [0, 22], 'expanded_url': 'http://www.cbspressexpress.com/div.php/cbs_news/'}]}, 'description': {'urls': []}}, geo_enabled=True, profile_image_url_https='https://pbs.twimg.com/profile_images/2081272641/cbs-news-logo_normal.gif', time_zone='Eastern Time (US & Canada)', url='http://t.co/Xkz5ULSSqR', profile_sidebar_border_color='C0DEED', notifications=False, _json={'default_profile_image': False, 'favourites_count': 117, 'location': 'New York, NY', 'followers_count': 7327, 'statuses_count': 15160, 'is_translation_enabled': False, 'protected': False, 'name': 'CBS News PressOffice', 'profile_background_image_url_https': 'https://pbs.twimg.com/profile_background_images/288448685/cbsnews-bg-2.jpg', 'id': 331211313, 'profile_background_tile': False, 'created_at': 'Thu Jul 07 20:30:09 +0000 2011', 'follow_request_sent': False, 'entities': {'url': {'urls': [{'display_url': 'cbspressexpress.com/div.php/cbs_ne…', 'url': 'http://t.co/Xkz5ULSSqR', 'indices': [0, 22], 'expanded_url': 'http://www.cbspressexpress.com/div.php/cbs_news/'}]}, 'description': {'urls': []}}, 'profile_image_url_https': 'https://pbs.twimg.com/profile_images/2081272641/cbs-news-logo_normal.gif', 'geo_enabled': True, 'is_translator': False, 'time_zone': 'Eastern Time (US & Canada)', 'url': 'http://t.co/Xkz5ULSSqR', 'profile_sidebar_border_color': 'C0DEED', 'profile_background_image_url': 'http://pbs.twimg.com/profile_background_images/288448685/cbsnews-bg-2.jpg', 'profile_text_color': '333333', 'profile_image_url': 'http://pbs.twimg.com/profile_images/2081272641/cbs-news-logo_normal.gif', 'following': False, 'profile_sidebar_fill_color': 'DDEEF6', 'notifications': False, 'contributors_enabled': False, 'default_profile': False, 'utc_offset': -14400, 'profile_link_color': '0084B4', 'verified': True, 'lang': 'en', 'description': 'The official Twitter account of the Press Office at @CBSNews. #CBSNews', 'listed_count': 230, 'has_extended_profile': False, 'profile_use_background_image': True, 'id_str': '331211313', 'profile_background_color': 'C0DEED', 'screen_name': 'CBSNewsPress', 'friends_count': 294}, profile_sidebar_fill_color='DDEEF6', profile_use_background_image=True, profile_background_color='C0DEED', profile_background_image_url_https='https://pbs.twimg.com/profile_background_images/288448685/cbsnews-bg-2.jpg', following=False, screen_name='CBSNewsPress', utc_offset=-14400, contributors_enabled=False, verified=True, profile_image_url='http://pbs.twimg.com/profile_images/2081272641/cbs-news-logo_normal.gif', profile_background_image_url='http://pbs.twimg.com/profile_background_images/288448685/cbsnews-bg-2.jpg', description='The official Twitter account of the Press Office at @CBSNews. #CBSNews', listed_count=230, has_extended_profile=False, is_translator=False, id_str='331211313', profile_text_color='333333', default_profile=False, friends_count=294, profile_link_color='0084B4'), favorited=False, in_reply_to_status_id=None, lang='en', in_reply_to_user_id_str=None, retweet_count=2, id_str='735067407333609477', place=None, coordinates=None, contributors=None, source_url='http://twitter.com')\n"
     ]
    }
   ],
   "source": [
    "\n",
    "max_tweets=1\n",
    "\n",
    "#Tweepy Cursor handles pagination .. \n",
    "\n",
    "for tweet in tweepy.Cursor(api.search,q=\"Trump\").items(max_tweets):\n",
    "    print (tweet)"
   ]
  },
  {
   "cell_type": "code",
   "execution_count": 16,
   "metadata": {
    "collapsed": true
   },
   "outputs": [],
   "source": [
    "\n",
    "results=[]\n",
    "\n",
    "for tweet in tweepy.Cursor(api.search,q=\"Trump\").items(10):\n",
    "    results.append(tweet)"
   ]
  },
  {
   "cell_type": "code",
   "execution_count": 17,
   "metadata": {
    "collapsed": true
   },
   "outputs": [],
   "source": [
    "import pandas as pd"
   ]
  },
  {
   "cell_type": "code",
   "execution_count": 18,
   "metadata": {
    "collapsed": true
   },
   "outputs": [],
   "source": [
    "def structure_results(results):\n",
    "    id_list=[tweet.id for tweet in results]\n",
    "    data=pd.DataFrame(id_list,columns=['id'])\n",
    "    \n",
    "    data[\"text\"]= [tweet.text.encode('utf-8') for tweet in results]\n",
    "    data[\"datetime\"]=[tweet.created_at for tweet in results]\n",
    "    data[\"Location\"]=[tweet.place for tweet in results]\n",
    "    \n",
    "    return data"
   ]
  },
  {
   "cell_type": "code",
   "execution_count": 22,
   "metadata": {
    "collapsed": false
   },
   "outputs": [
    {
     "data": {
      "text/html": [
       "<div>\n",
       "<table border=\"1\" class=\"dataframe\">\n",
       "  <thead>\n",
       "    <tr style=\"text-align: right;\">\n",
       "      <th></th>\n",
       "      <th>id</th>\n",
       "      <th>text</th>\n",
       "      <th>datetime</th>\n",
       "      <th>Location</th>\n",
       "    </tr>\n",
       "  </thead>\n",
       "  <tbody>\n",
       "    <tr>\n",
       "      <th>0</th>\n",
       "      <td>735067577236492288</td>\n",
       "      <td>b'Donald Trump: unencumbered by truth, reality...</td>\n",
       "      <td>2016-05-24 11:19:01</td>\n",
       "      <td>None</td>\n",
       "    </tr>\n",
       "    <tr>\n",
       "      <th>1</th>\n",
       "      <td>735067577160859648</td>\n",
       "      <td>b'RT @JonCozart: also been practicing my Trump...</td>\n",
       "      <td>2016-05-24 11:19:01</td>\n",
       "      <td>None</td>\n",
       "    </tr>\n",
       "    <tr>\n",
       "      <th>2</th>\n",
       "      <td>735067573704855552</td>\n",
       "      <td>b'RT @TRUMP_PREZ: Why is Hillary Clinton silen...</td>\n",
       "      <td>2016-05-24 11:19:01</td>\n",
       "      <td>None</td>\n",
       "    </tr>\n",
       "    <tr>\n",
       "      <th>3</th>\n",
       "      <td>735067573125976065</td>\n",
       "      <td>b\"RT @postpolitics: Trump has been tweeting ab...</td>\n",
       "      <td>2016-05-24 11:19:00</td>\n",
       "      <td>None</td>\n",
       "    </tr>\n",
       "    <tr>\n",
       "      <th>4</th>\n",
       "      <td>735067572576587776</td>\n",
       "      <td>b'RT @AmericanBride3: America calls her #crook...</td>\n",
       "      <td>2016-05-24 11:19:00</td>\n",
       "      <td>None</td>\n",
       "    </tr>\n",
       "    <tr>\n",
       "      <th>5</th>\n",
       "      <td>735067569904844800</td>\n",
       "      <td>b\"A summary:\\nTrump: Hilary is crooked, I hate...</td>\n",
       "      <td>2016-05-24 11:19:00</td>\n",
       "      <td>None</td>\n",
       "    </tr>\n",
       "    <tr>\n",
       "      <th>6</th>\n",
       "      <td>735067569527369728</td>\n",
       "      <td>b'RT @DPRK_News: Noted shouting idiot Donald T...</td>\n",
       "      <td>2016-05-24 11:19:00</td>\n",
       "      <td>None</td>\n",
       "    </tr>\n",
       "    <tr>\n",
       "      <th>7</th>\n",
       "      <td>735067568570912768</td>\n",
       "      <td>b'@mehdirhasan There is a lot of money to make...</td>\n",
       "      <td>2016-05-24 11:18:59</td>\n",
       "      <td>None</td>\n",
       "    </tr>\n",
       "    <tr>\n",
       "      <th>8</th>\n",
       "      <td>735067568247963649</td>\n",
       "      <td>b'RT @votevets: Veterans protesting outside Tr...</td>\n",
       "      <td>2016-05-24 11:18:59</td>\n",
       "      <td>None</td>\n",
       "    </tr>\n",
       "    <tr>\n",
       "      <th>9</th>\n",
       "      <td>735067568239562752</td>\n",
       "      <td>b'RT @DanDeFreest: 35 years ago Trump duped Ho...</td>\n",
       "      <td>2016-05-24 11:18:59</td>\n",
       "      <td>None</td>\n",
       "    </tr>\n",
       "  </tbody>\n",
       "</table>\n",
       "</div>"
      ],
      "text/plain": [
       "                   id                                               text  \\\n",
       "0  735067577236492288  b'Donald Trump: unencumbered by truth, reality...   \n",
       "1  735067577160859648  b'RT @JonCozart: also been practicing my Trump...   \n",
       "2  735067573704855552  b'RT @TRUMP_PREZ: Why is Hillary Clinton silen...   \n",
       "3  735067573125976065  b\"RT @postpolitics: Trump has been tweeting ab...   \n",
       "4  735067572576587776  b'RT @AmericanBride3: America calls her #crook...   \n",
       "5  735067569904844800  b\"A summary:\\nTrump: Hilary is crooked, I hate...   \n",
       "6  735067569527369728  b'RT @DPRK_News: Noted shouting idiot Donald T...   \n",
       "7  735067568570912768  b'@mehdirhasan There is a lot of money to make...   \n",
       "8  735067568247963649  b'RT @votevets: Veterans protesting outside Tr...   \n",
       "9  735067568239562752  b'RT @DanDeFreest: 35 years ago Trump duped Ho...   \n",
       "\n",
       "             datetime Location  \n",
       "0 2016-05-24 11:19:01     None  \n",
       "1 2016-05-24 11:19:01     None  \n",
       "2 2016-05-24 11:19:01     None  \n",
       "3 2016-05-24 11:19:00     None  \n",
       "4 2016-05-24 11:19:00     None  \n",
       "5 2016-05-24 11:19:00     None  \n",
       "6 2016-05-24 11:19:00     None  \n",
       "7 2016-05-24 11:18:59     None  \n",
       "8 2016-05-24 11:18:59     None  \n",
       "9 2016-05-24 11:18:59     None  "
      ]
     },
     "execution_count": 22,
     "metadata": {},
     "output_type": "execute_result"
    }
   ],
   "source": [
    "data=structure_results(results)\n",
    "data"
   ]
  },
  {
   "cell_type": "code",
   "execution_count": 28,
   "metadata": {
    "collapsed": true
   },
   "outputs": [],
   "source": [
    "import json\n",
    "from pymongo import MongoClient\n",
    "\n",
    "client = MongoClient()\n",
    "\n",
    "# database\n",
    "db = client.trump\n",
    "\n",
    "# collection\n",
    "tweets = db.trumptweets"
   ]
  },
  {
   "cell_type": "code",
   "execution_count": 29,
   "metadata": {
    "collapsed": true
   },
   "outputs": [],
   "source": [
    "for tweet in results:\n",
    "    data={}\n",
    "    data['tweet']=tweet.text.encode('utf-8') \n",
    "    data['datetime']=tweet.created_at\n",
    "    tweets.insert_one(data)\n"
   ]
  },
  {
   "cell_type": "code",
   "execution_count": 30,
   "metadata": {
    "collapsed": false
   },
   "outputs": [
    {
     "data": {
      "text/plain": [
       "{'_id': ObjectId('574439755d9ccd42f71ca2af'),\n",
       " 'datetime': datetime.datetime(2016, 5, 24, 11, 19, 1),\n",
       " 'tweet': b'Donald Trump: unencumbered by truth, reality, knowledge or common sense.'}"
      ]
     },
     "execution_count": 30,
     "metadata": {},
     "output_type": "execute_result"
    }
   ],
   "source": [
    "\n",
    "tweets.find_one()\n"
   ]
  },
  {
   "cell_type": "code",
   "execution_count": 31,
   "metadata": {
    "collapsed": false
   },
   "outputs": [
    {
     "data": {
      "text/plain": [
       "pymongo.collection.Collection"
      ]
     },
     "execution_count": 31,
     "metadata": {},
     "output_type": "execute_result"
    }
   ],
   "source": [
    "type(tweets)"
   ]
  },
  {
   "cell_type": "code",
   "execution_count": 32,
   "metadata": {
    "collapsed": false
   },
   "outputs": [
    {
     "data": {
      "text/plain": [
       "pymongo.database.Database"
      ]
     },
     "execution_count": 32,
     "metadata": {},
     "output_type": "execute_result"
    }
   ],
   "source": [
    "\n",
    "type(db)"
   ]
  },
  {
   "cell_type": "code",
   "execution_count": null,
   "metadata": {
    "collapsed": true
   },
   "outputs": [],
   "source": []
  }
 ],
 "metadata": {
  "kernelspec": {
   "display_name": "Python 3",
   "language": "python",
   "name": "python3"
  },
  "language_info": {
   "codemirror_mode": {
    "name": "ipython",
    "version": 3
   },
   "file_extension": ".py",
   "mimetype": "text/x-python",
   "name": "python",
   "nbconvert_exporter": "python",
   "pygments_lexer": "ipython3",
   "version": "3.5.1"
  }
 },
 "nbformat": 4,
 "nbformat_minor": 0
}
