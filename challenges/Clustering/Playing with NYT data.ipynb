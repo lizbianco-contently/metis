{
 "cells": [
  {
   "cell_type": "code",
   "execution_count": 2,
   "metadata": {
    "collapsed": true
   },
   "outputs": [],
   "source": [
    "import json"
   ]
  },
  {
   "cell_type": "code",
   "execution_count": 3,
   "metadata": {
    "collapsed": true
   },
   "outputs": [],
   "source": [
    "\n",
    "with open('Trumparticles.txt') as json_data:\n",
    "    d = json.load(json_data)\n",
    "    json_data.close()"
   ]
  },
  {
   "cell_type": "code",
   "execution_count": 4,
   "metadata": {
    "collapsed": true
   },
   "outputs": [],
   "source": [
    "with open('HRCarticles.txt') as json_data:\n",
    "    h = json.load(json_data)\n",
    "    json_data.close()"
   ]
  },
  {
   "cell_type": "code",
   "execution_count": 5,
   "metadata": {
    "collapsed": false
   },
   "outputs": [
    {
     "data": {
      "text/plain": [
       "8744"
      ]
     },
     "execution_count": 5,
     "metadata": {},
     "output_type": "execute_result"
    }
   ],
   "source": [
    "len(d)"
   ]
  },
  {
   "cell_type": "code",
   "execution_count": 6,
   "metadata": {
    "collapsed": false
   },
   "outputs": [
    {
     "data": {
      "text/plain": [
       "8385"
      ]
     },
     "execution_count": 6,
     "metadata": {},
     "output_type": "execute_result"
    }
   ],
   "source": [
    "len(h)"
   ]
  },
  {
   "cell_type": "code",
   "execution_count": 95,
   "metadata": {
    "collapsed": false
   },
   "outputs": [
    {
     "data": {
      "text/plain": [
       "{'date': '2016-04-18T00',\n",
       " 'full_text': ['Advertisement',\n",
       "  'Advertisement',\n",
       "  'By MICHAEL D. SHEARAPRIL 17, 2016\\n',\n",
       "  '\\nCreditStephen Crowley/The New York Times        ',\n",
       "  'WASHINGTON — Over the last seven decades, photographs of American presidents side by side with the kings of Saudi Arabia have provided visual evidence of an enduring, strategic alliance between the United States and the oil-rich kingdom in the Middle East.',\n",
       "  'On Wednesday, President Obama will add one more photo to the scrapbook when he arrives in Riyadh, the Saudi capital, for a private meeting with King Salman, Saudi Arabia’s 80-year-old monarch.',\n",
       "  'But the expected image of the two leaders will fail to convey the depth of the strain on the relationship between Saudi Arabia and the United States. During Mr. Obama’s tenure, there has been distrust and disagreement over how to contain Iran, the fight against the Islamic State, the future of Syria and clashes in Yemen. Blunt comments about the Saudis by Mr. Obama in a recent interview have deepened the ill will.',\n",
       "  '“The relationship is troubled. It’s rocky,” said Frederic Wehrey, a senior associate in the Middle East Program at the Carnegie Endowment for International Peace. But, he added, “it’s not headed for an impending collapse.”',\n",
       "  'That is because the two nations still need each other. The United States provides military and intelligence support to the kingdom for its regional security, and is expected to announce additional support this week. Saudi Arabia helps fight terror groups like Al Qaeda and remains the second-largest provider of oil imports to the United States, selling about one million barrels per day.',\n",
       "  'Advertisement',\n",
       "  'Now, with Mr. Obama in the twilight of his presidency, Saudi leaders are looking past him, to the winner of November’s presidential election.',\n",
       "  '“For them, the Obama ship sailed a long time ago,” said Danielle Pletka, the senior vice president for foreign and defense policy studies at the American Enterprise Institute, a conservative think tank. “They, like the rest of us, don’t have a clue what’s coming next.”',\n",
       "  'Advertisement',\n",
       "  'In the 70 years since President Franklin D. Roosevelt initiated the alliance at the end of World War II, the Saudis have primarily looked to the United States to help ensure its security in an often unstable region. They want the United States to have their back, especially in a potential conflict with Iran, their longstanding regional rival.',\n",
       "  'That has meant, for the most part, military equipment: The United States has helped Saudi Arabia, a Sunni-dominated state, to obtain weapons to deter Iran, a mostly Shiite country. More recently, the Saudis have sought intelligence assistance and training, and the United States has given the Saudis targeting and logistical support for their war in Yemen.',\n",
       "  'This week, the United States is expected to announce that it will bolster ballistic missile defenses in the region and provide new support for Saudi efforts to counter cyberattacks from Iran and elsewhere.',\n",
       "  'Saudi Arabia has “become more and more dependent on the U.S. military for any really serious contingency,” said Anthony H. Cordesman, who holds the Arleigh A. Burke Chair in Strategy at the Center for Strategic and International Studies.',\n",
       "  'The United States has looked to Saudi Arabia as a source of stability in the Middle East, an ally whose oil reserves have only recently begun to diminish in importance for American interests.',\n",
       "  '“American presidents want to have a decent relationship with the country that exports more oil than any other in the rest of the world,” said F.Gregory Gause III, a professor at the Bush School of Government and Public Service at Texas A&M; University.',\n",
       "  'Advertisement',\n",
       "  'Saudi Arabia has worked with the United States in a campaign against Al Qaeda — and more recently against the Islamic State, a group seen as a regional danger and a direct threat to American security. The United States has sought the kingdom’s help in efforts to end the Syrian civil war.',\n",
       "  'The Obama administration also wants changes inside Saudi Arabia, where religious minorities and women often face marginalization. Officials said Mr. Obama would raise the issue of human rights, but few expect the subject to overshadow security concerns.',\n",
       "  'White House officials say the alliance remains strong. Even so, Rob Malley, a Middle East adviser to the president, conceded last week that “our views and those of some of our partners in the region, and Saudi Arabia in particular, have not always been perfectly aligned.”',\n",
       "  'From the Saudi perspective, confidence in United States support was undermined in 2011 by what they perceived as Mr. Obama’s failure to support Hosni Mubarak, the ousted president of Egypt, during the Arab Spring. It was further rattled when Mr. Obama drew a “red line” against the Syrian government’s use of chemical weapons, then stopped short of taking military action to enforce it. Mr. Obama has said he is proud of his last-minute restraint, but the 2013 episode made the Saudis question the commitment of the United States to defending its allies in the region.',\n",
       "  'In the years since, those questions have turned to deep concern, notably as Mr. Obama engaged with Iran — once a diplomatic pariah — in an effort to reach a deal to end the country’s nuclear weapons program. American officials have hailed the agreement, completed last year, calling it successful in keeping Iran from becoming a nuclear power.',\n",
       "  'Inside Saudi Arabia, though, the thaw between the Americans and the Iranians is seen as a dangerous shift in the region’s balance of power. The Saudis fear conventional and terrorist attacks from Iran, and they worry that the United States is backing away from the defense commitment it has maintained for decades.',\n",
       "  '“For Saudi Arabia, this is always existential,” Mr. Cordesman said. “For us, it’s another regional problem.”',\n",
       "  'Another simmering problem is the longstanding suspicion among some in the United States that the Saudi government or some of its officials participated in the plotting for the Sept. 11, 2001, attacks. In recent days, Saudi officials warned American lawmakers that they might sell off hundreds of billions of dollars’ worth of American assets if Congress passes a bill that would allow the Saudi government to be held responsible in United States courts for any role it may have had in the attacks.',\n",
       "  'Advertisement',\n",
       "  'Still, a senior State Department official said the relationship is better now, the day before Mr. Obama’s trip, than it was two years ago, after the Syria “red line” incident. Efforts to mend relations by Secretary of State John Kerry and John O. Brennan, the C.I.A. director, have led to Saudi help in brokering a cease-fire in Syria and cooperation from the United States in the Saudis’ fight against Iranian-backed forces in Yemen.',\n",
       "  'If the relationship is getting better, it is doing so despite blunt and revealing comments that Mr. Obama made about Saudi Arabia during a series of interviews for a recent magazine article.',\n",
       "  'Mr. Obama told Jeffrey Goldberg, a correspondent for The Atlantic, that Saudi Arabia would have to find a way to coexist with Iran by learning to “share the neighborhood and institute some sort of cold peace.” He referred to the Saudis and other American allies in Europe as “free riders” who accept security help from the United States without sharing the burden. The article related a conversation between Mr. Obama and Malcolm Turnbull, the prime minister of Australia.',\n",
       "  '“Aren’t the Saudis your friends?” Mr. Turnbull asked, according to Mr. Goldberg. “It’s complicated,” the president responded.',\n",
       "  'White House officials play down the impact of Mr. Obama’s comments, noting that the administration has long pressed its allies to do their part. But people familiar with the Saudi reaction to the president’s comments say it was intense, and seen as a confirmation of the Saudis’ suspicions about Mr. Obama’s lack of commitment to their interests.',\n",
       "  '“I imagine it will just infuse the meeting with a coldness that didn’t need to be there,” Ms. Pletka said.',\n",
       "  'If the Saudis are ready to turn the page on the Obama presidency, they are also anxious about what comes next, especially if Donald J. Trump or Senator Ted Cruz of Texas becomes the next president.',\n",
       "  'Mr. Trump has railed against Saudi Arabia, telling The New York Times last month that he might halt all purchases of oil unless the Saudis show more effort in the fight against the Islamic State. “If Saudi Arabia was without the cloak of American protection,” Mr. Trump has said, “I don’t think it would be around.”',\n",
       "  'Advertisement',\n",
       "  'Mr. Cruz said during a presidential debate in February that the United States should “hold our friends to account, that friends do not fund jihadists that are seeking to murder us. And when it comes to Saudi Arabia, we need to have real scrutiny and real pressure.”',\n",
       "  'From the Saudi perspective, Hillary Rodham Clinton might represent a return to the kind of foreign policy they remember when her husband was president. But nothing is certain in this political season, and Senator Bernie Sanders of Vermont, the other candidate for the Democratic nomination, is an unknown to the Saudis.',\n",
       "  '“Like everybody, they have no idea what to think about Trump,” Professor Gause said. “Who knows what to make of Senator Cruz on this? The Saudis don’t know him,” he added. “I think they would be perfectly comfortable with Hillary.”',\n",
       "  'Follow The New York Times’s politics and Washington coverage on Facebook and Twitter, and sign up for the First Draft politics newsletter.',\n",
       "  \"A version of this article appears in print on April 18, 2016, on page A4 of the New York edition with the headline: An Old Alliance Faces New Pressures as Obama Heads to Saudi Arabia.  Order Reprints| Today's Paper|Subscribe\\n\\n\",\n",
       "  'Go to Home Page »'],\n",
       " 'headline': ['An Old Alliance Faces New Pressures as Obama Heads to Saudi Arabia']}"
      ]
     },
     "execution_count": 95,
     "metadata": {},
     "output_type": "execute_result"
    }
   ],
   "source": [
    "h[7000]"
   ]
  },
  {
   "cell_type": "code",
   "execution_count": 63,
   "metadata": {
    "collapsed": true
   },
   "outputs": [],
   "source": [
    "trump_clean = []"
   ]
  },
  {
   "cell_type": "code",
   "execution_count": 71,
   "metadata": {
    "collapsed": false
   },
   "outputs": [],
   "source": [
    "for i in range((len(d)-1)):\n",
    "        d[i]['full-text'] = ((str(d[i]['full_text'])).replace('\\n','')\\\n",
    "                           .replace(\"\\\\n\",\"\")\\\n",
    "                           .replace(\"\\'Advertisement\\'\", \"\")\\\n",
    "                           .replace(\"\\'Follow Us:\\',\", \"\")\\\n",
    "                           .replace(\"Room for Debate asks whether shorefront homeowners should have to open their land to all comers.\",\"\")\\\n",
    "                           .replace('New York City’s top public schools must become more diverse.',\"\"))"
   ]
  },
  {
   "cell_type": "code",
   "execution_count": 89,
   "metadata": {
    "collapsed": false
   },
   "outputs": [],
   "source": [
    "for i in range((len(h)-1)):\n",
    "        h[i]['full-text'] = ((str(h[i]['full_text'])).replace('\\n','')\\\n",
    "                           .replace(\"\\\\n\",\"\")\\\n",
    "                           .replace(\"'Advertisement'\", \"\")\\\n",
    "                           .replace(\"\\'Follow Us:\\',\", \"\")\\\n",
    "                           .replace(\"Room for Debate asks whether shorefront homeowners should have to open their land to all comers.\",\"\")\\\n",
    "                           .replace('New York City’s top public schools must become more diverse.',\"\"))\n",
    "        if \"'full-text':\" in h[i]['full-text']:\n",
    "            h[i]['full-text'] = str(h[i]['full-text']).split(\"'full-text':\")[0]"
   ]
  },
  {
   "cell_type": "code",
   "execution_count": 90,
   "metadata": {
    "collapsed": false
   },
   "outputs": [
    {
     "data": {
      "text/plain": [
       "{'date': '2016-05-16T00',\n",
       " 'full-text': \"[, , 'By THOMAS KAPLANMAY 15, 2016', 'FORT MITCHELL, Ky. — Hillary Clinton already has an assignment for her husband, Bill Clinton, if they return to the White House next year. The former president, Mrs. Clinton told voters on Sunday, will be “in charge of revitalizing the economy.”', '“Because, you know, he knows how to do it,” she said. “Especially in places like coal country and inner-cities and other parts of our country that have really been left out.”', 'Mrs. Clinton mentioned her idea for her husband while speaking at a rally outside a home in northern Kentucky. Earlier this month, she said she had told Mr. Clinton that he would need to “come out of retirement” to help put people back to work.', 'Mrs. Clinton spent Sunday campaigning in Kentucky ahead of its Democratic primary on Tuesday. At the rally here, she cited the economic success of her husband’s presidency while outlining her own plans. She also emphasized her commitment to supporting workers in the coal industry, which has a major presence in Kentucky, just as it does in West Virginia, where Mrs. Clinton lost the primary last week to Senator Bernie Sanders of Vermont.', 'She alienated some voters when she said in March, “We’re going to put a lot of coal miners and coal companies out of business.” She made the comment while talking about renewable energy, adding that coal miners should not be overlooked. But the sound bite has haunted her, and when she visited coal country in West Virginia this month, protesters chanted, “Go home!”', 'On Sunday, Mrs. Clinton emphasized her desire to help coal miners.', '“We can’t and we must not walk away from them,” she said. “I feel such a sense of obligation.”', 'Find out what you need to know about the 2016 presidential race today, and get politics news updates via Facebook, Twitter and the First Draft newsletter.', 'See More »', 'Go to Home Page »']\",\n",
       " 'full_text': ['Advertisement',\n",
       "  'Advertisement',\n",
       "  'By THOMAS KAPLANMAY 15, 2016\\n',\n",
       "  'FORT MITCHELL, Ky. — Hillary Clinton already has an assignment for her husband, Bill Clinton, if they return to the White House next year. The former president, Mrs. Clinton told voters on Sunday, will be “in charge of revitalizing the economy.”',\n",
       "  '“Because, you know, he knows how to do it,” she said. “Especially in places like coal country and inner-cities and other parts of our country that have really been left out.”',\n",
       "  'Mrs. Clinton mentioned her idea for her husband while speaking at a rally outside a home in northern Kentucky. Earlier this month, she said she had told Mr. Clinton that he would need to “come out of retirement” to help put people back to work.',\n",
       "  'Mrs. Clinton spent Sunday campaigning in Kentucky ahead of its Democratic primary on Tuesday. At the rally here, she cited the economic success of her husband’s presidency while outlining her own plans. She also emphasized her commitment to supporting workers in the coal industry, which has a major presence in Kentucky, just as it does in West Virginia, where Mrs. Clinton lost the primary last week to Senator Bernie Sanders of Vermont.',\n",
       "  'She alienated some voters when she said in March, “We’re going to put a lot of coal miners and coal companies out of business.” She made the comment while talking about renewable energy, adding that coal miners should not be overlooked. But the sound bite has haunted her, and when she visited coal country in West Virginia this month, protesters chanted, “Go home!”',\n",
       "  'On Sunday, Mrs. Clinton emphasized her desire to help coal miners.',\n",
       "  '“We can’t and we must not walk away from them,” she said. “I feel such a sense of obligation.”',\n",
       "  'Find out what you need to know about the 2016 presidential race today, and get politics news updates via Facebook, Twitter and the First Draft newsletter.',\n",
       "  'See More »',\n",
       "  'Go to Home Page »'],\n",
       " 'headline': ['Hillary Clinton Outlines Economic Plans, Which Include Her Husband']}"
      ]
     },
     "execution_count": 90,
     "metadata": {},
     "output_type": "execute_result"
    }
   ],
   "source": [
    "h[8001]"
   ]
  },
  {
   "cell_type": "code",
   "execution_count": 17,
   "metadata": {
    "collapsed": false
   },
   "outputs": [
    {
     "data": {
      "text/plain": [
       "{'date': '1998-03-27T00',\n",
       " 'full_text': [\"\\nCAPE TOWN, March 26— \\n                    With President Nelson Mandela as his escort, President Clinton appeared before Parliament here today to describe a ''common promise'' in the American and South African experiences with race and revolution.        \",\n",
       "  \"\\n                    Mr. Clinton, the first American President to visit South Africa, declared that the United States has a ''profound and pragmatic stake'' in South Africa's new democracy, and called for ''a genuine partnership based on mutual respect and mutual reward.''        \",\n",
       "  \"\\n                    He did not address the long years in which the United States, through the uneasy policy of constructive engagement, provided legitimacy to white rule here and to apartheid, the whites' laws of strict segregation.        \",\n",
       "  \"\\n                    Instead, Mr. Clinton pointed to the black members of his delegation as evidence that the descendants of African slaves had become American leaders, appearing beside the new leaders of South Africa ''united in the powerful poetry of justice.''        \",\n",
       "  \"\\n                    While warning against exaggerating the similarities, he said, ''In important ways our paths do converge, by a vision of real multiracial democracy bound together by healing and hope, renewal and redemption.''        \",\n",
       "  \"\\n                    In introducing Mr. Clinton, Popo Molefe, the premier of the Northwest Province, also avoided the subject of American policy toward apartheid, instead praising the American people for their ''consistence in loyalty to the noble cause of liberation.''        \",\n",
       "  \"\\n                    But he paused for a moment to bask in the significance of President Clinton's appearance. ''Four years ago,'' he said, ''such a visit would not have been possible, because apartheid had turned our beloved South Africa into a pariah of the world.''        \",\n",
       "  '\\n                    President Mandela never said a word in public with Mr. Clinton today. He appeared with the Mr. Clinton at a welcoming ceremony, then with a slow and limping step guided him into the Parliament building to an ovation from the delegates. On Friday Mr. Mandela is to appear at a joint news conference with Mr. Clinton, then give him a tour of the island prison where he was held years as a political captive.        ',\n",
       "  \"\\n                    On a 12-day tour of Africa, Mr. Clinton has spent three of his last four nights on Air Force One traveling between countries, and he appeared drained. His reception, too, was wan. The public was not invited to the arrival ceremony, a routine confection of anthems, salutes and troop reviews. While the President's speech was interrupted occasionally by applause, there was little of the sustained exuberance of other audiences he has encountered.        \",\n",
       "  \"\\n                    A few dozen of the leather seats in Parliament were vacant. Michael D. McCurry, the White House press secretary, said, ''We're not aware that there was any organized protest.'' Instead, he said, this was the last legislative session before the Easter break, and some members had gone home as soon as they finished business. Winnie Mandela, Mr. Mandela's former wife, was in the back of the chamber, but said nothing.        \",\n",
       "  '\\n                    After two days of emotional speeches and impromptu remarks in which he expressed regret for a range of American policy failures in Africa, Mr. Clinton stolidly stuck to his text today. While he did not fault the United States on apartheid, he did accuse Americans of asking the wrong questions about Africa.        ',\n",
       "  \"\\n                    ''It used to be when American policy makers thought of Africa at all, they would ask, what can we do for Africa, or whatever can we do about Africa?'' Mr. Clinton said. ''Those were the wrong questions. The right question today is, what can we do with Africa?''        \",\n",
       "  \"\\n                    But as in other stops of his tour, Mr. Clinton's hosts today made clear that they would still like the United States to do something for them. Administration officials have been emphasizing a policy of trade, not aid. ''You need to address both matters,'' said Deputy President Thabo Mbeki, after meeting with Mr. Clinton.        \",\n",
       "  \"\\n                    Mr. Clinton said he was trying to persuade Congress to increase aid to Africa to ''our historically highest level of aid.''        \",\n",
       "  '\\n                    The highest level for the 48 nations of sub-Sarahan Africa was $840.3 million, in 1992. This fiscal year the Administration is spending $700 million on such aid, and it hopes to increase that to $730 million next year. But even some Administration officials said they were skeptical that Congress would approve substantial increases.        ',\n",
       "  '\\n                    Aid to South Africa has fallen, from $75.6 million in 1992 to $70.6 million this year. For next year the Administration is seeking $50.5 million, according to figures from the National Security Council.        ',\n",
       "  \"\\n                    ''America wants a strong South Africa,'' Mr. Clinton said to applause in Parliament today. ''America needs a strong South Africa. And we are determined to work with you as you build a strong South Africa.''        \",\n",
       "  \"\\n                    He acknowledged that the two countries might squabble, as they have over issues like American efforts to isolate Libya. ''Like all partners, we cannot agree on everything,'' Mr. Clinton said. ''Sometimes our interests and our views diverge.'' Scattered shouts of ''Yea!'' were heard through the chamber, but they were replaced by chuckles as the President added, ''but that is true even in family partnerships.''        \",\n",
       "  '\\n                    Putting their own partnership on display today, Mr. Clinton and Hillary Rodham Clinton visited a housing project that the First Lady toured when she was in South Africa last year, a cooperative where residents of a shantytown build homes for one another. The Clintons pitched in today, tamping down mortar and plopping cinder blocks into place.        ',\n",
       "  '\\n                    President Clinton said his Administration would give $3 million this year for such projects. For her part, Mrs. Clinton paid the fee required to join the cooperative, and displayed an iron kettle that she had been given last year.        ',\n",
       "  \"\\n                    ''You told me to go home and cook a meal in it for my husband,'' she said. But, she explained, ''I live in a very big house with many people who cook for my husband'' who ''did not like the idea of my taking their work away.'' So, she said, ''I will save this pot to cook for my husband when he is not the President any longer.''        \",\n",
       "  \"\\n                    Photo: At Parliament in Cape Town yesterday, Mr. Clinton did not mention how Washington once gave legitimacy to white rule, but he pointed to blacks in his delegation as evidence that slaves' descendants are now leaders. (Associated Press)          \",\n",
       "  'Room for Debate asks whether shorefront homeowners should have to open their land to all comers.',\n",
       "  'New York City’s top public schools must become more diverse.'],\n",
       " 'headline': ['Clinton Seeks A Partnership With Africans']}"
      ]
     },
     "execution_count": 17,
     "metadata": {},
     "output_type": "execute_result"
    }
   ],
   "source": [
    "h[600]"
   ]
  },
  {
   "cell_type": "code",
   "execution_count": null,
   "metadata": {
    "collapsed": true
   },
   "outputs": [],
   "source": []
  }
 ],
 "metadata": {
  "kernelspec": {
   "display_name": "Python 3",
   "language": "python",
   "name": "python3"
  },
  "language_info": {
   "codemirror_mode": {
    "name": "ipython",
    "version": 3
   },
   "file_extension": ".py",
   "mimetype": "text/x-python",
   "name": "python",
   "nbconvert_exporter": "python",
   "pygments_lexer": "ipython3",
   "version": "3.5.1"
  }
 },
 "nbformat": 4,
 "nbformat_minor": 0
}
