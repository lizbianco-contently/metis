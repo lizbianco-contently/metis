{
 "cells": [
  {
   "cell_type": "markdown",
   "metadata": {},
   "source": [
    "following code from: http://collinjennings.com/stop_frisk/scraping_nytimes.html"
   ]
  },
  {
   "cell_type": "code",
   "execution_count": 5,
   "metadata": {
    "collapsed": true
   },
   "outputs": [],
   "source": [
    "import requests\n",
    "import bs4\n",
    "import json\n",
    "import gensim\n",
    "from collections import defaultdict\n",
    "import time \n",
    "import pandas as pd"
   ]
  },
  {
   "cell_type": "code",
   "execution_count": 15,
   "metadata": {
    "collapsed": true
   },
   "outputs": [],
   "source": [
    "with open('NYTjson.json') as json_data:\n",
    "    text = json.load(json_data)\n",
    "    json_data.close()"
   ]
  },
  {
   "cell_type": "code",
   "execution_count": 16,
   "metadata": {
    "collapsed": false
   },
   "outputs": [],
   "source": [
    "df = pd.DataFrame(text)\n",
    "df.full_text =df.full_text.str.lower()\n",
    "df.headline = df.headline.str.lower()"
   ]
  },
  {
   "cell_type": "code",
   "execution_count": 17,
   "metadata": {
    "collapsed": false
   },
   "outputs": [
    {
     "data": {
      "text/html": [
       "<div>\n",
       "<table border=\"1\" class=\"dataframe\">\n",
       "  <thead>\n",
       "    <tr style=\"text-align: right;\">\n",
       "      <th></th>\n",
       "      <th>about</th>\n",
       "      <th>date</th>\n",
       "      <th>full_text</th>\n",
       "      <th>headline</th>\n",
       "    </tr>\n",
       "  </thead>\n",
       "  <tbody>\n",
       "    <tr>\n",
       "      <th>0</th>\n",
       "      <td>Trump</td>\n",
       "      <td>1989-12-31T00</td>\n",
       "      <td>\"                    there was a moment in dec...</td>\n",
       "      <td>ideas &amp; trends; a decade ends, and the nouvell...</td>\n",
       "    </tr>\n",
       "    <tr>\n",
       "      <th>1</th>\n",
       "      <td>Trump</td>\n",
       "      <td>1989-12-31T00</td>\n",
       "      <td>\"                    dear david, when you and ...</td>\n",
       "      <td>\"how'd i do?\"</td>\n",
       "    </tr>\n",
       "    <tr>\n",
       "      <th>10</th>\n",
       "      <td>Trump</td>\n",
       "      <td>1989-12-20T00</td>\n",
       "      <td>\"                    the trump shuttle, the ai...</td>\n",
       "      <td>company news; trump shuttle, pilots reach pact</td>\n",
       "    </tr>\n",
       "    <tr>\n",
       "      <th>100</th>\n",
       "      <td>Trump</td>\n",
       "      <td>1989-09-26T00</td>\n",
       "      <td>\"                    new york city's business ...</td>\n",
       "      <td>dinkins gaining support among business executives</td>\n",
       "    </tr>\n",
       "    <tr>\n",
       "      <th>1000</th>\n",
       "      <td>Trump</td>\n",
       "      <td>1998-12-27T00</td>\n",
       "      <td>old malls, shopping center...</td>\n",
       "      <td>commercial property; old malls demolished to m...</td>\n",
       "    </tr>\n",
       "    <tr>\n",
       "      <th>10000</th>\n",
       "      <td>Clinton</td>\n",
       "      <td>2014-09-24T15</td>\n",
       "      <td>, 'the premiere of a short film by the directo...</td>\n",
       "      <td>kathryn bigelow joins new york film festival l...</td>\n",
       "    </tr>\n",
       "    <tr>\n",
       "      <th>10001</th>\n",
       "      <td>Clinton</td>\n",
       "      <td>2014-09-24T14</td>\n",
       "      <td>, 'i can’t sit here today and say if we had do...</td>\n",
       "      <td>clinton not saying i told you so</td>\n",
       "    </tr>\n",
       "    <tr>\n",
       "      <th>10002</th>\n",
       "      <td>Clinton</td>\n",
       "      <td>2014-09-24T12</td>\n",
       "      <td>, 'charitable commitments have been made. impo...</td>\n",
       "      <td>at clintons’ event, a really close watch on re...</td>\n",
       "    </tr>\n",
       "    <tr>\n",
       "      <th>10003</th>\n",
       "      <td>Clinton</td>\n",
       "      <td>2014-09-24T07</td>\n",
       "      <td>, 'obama on a war footing at the united nation...</td>\n",
       "      <td>today in politics</td>\n",
       "    </tr>\n",
       "    <tr>\n",
       "      <th>10004</th>\n",
       "      <td>Clinton</td>\n",
       "      <td>2014-09-23T17</td>\n",
       "      <td>, 'as many democrats attack companies that tak...</td>\n",
       "      <td>bill clinton on inversions: ‘this is their money’</td>\n",
       "    </tr>\n",
       "    <tr>\n",
       "      <th>10005</th>\n",
       "      <td>Clinton</td>\n",
       "      <td>2014-09-23T07</td>\n",
       "      <td>, ' u.s. cracks down on inversions  |   treasu...</td>\n",
       "      <td>morning agenda: crackdown on inversions</td>\n",
       "    </tr>\n",
       "    <tr>\n",
       "      <th>10006</th>\n",
       "      <td>Clinton</td>\n",
       "      <td>2014-09-23T07</td>\n",
       "      <td>, 'good tuesday morning and welcome to first d...</td>\n",
       "      <td>obama faces the world after bombs fall in syria</td>\n",
       "    </tr>\n",
       "    <tr>\n",
       "      <th>10007</th>\n",
       "      <td>Clinton</td>\n",
       "      <td>2014-09-23T06</td>\n",
       "      <td>, 'president obama will address the united nat...</td>\n",
       "      <td>president obama to address u.n. general assemb...</td>\n",
       "    </tr>\n",
       "    <tr>\n",
       "      <th>10008</th>\n",
       "      <td>Clinton</td>\n",
       "      <td>2014-09-23T00</td>\n",
       "      <td>, '', '      north carolina, a state long defi...</td>\n",
       "      <td>north carolina, in political flux, battles for...</td>\n",
       "    </tr>\n",
       "    <tr>\n",
       "      <th>10009</th>\n",
       "      <td>Clinton</td>\n",
       "      <td>2014-09-23T00</td>\n",
       "      <td>, '', 'follow us:', 'get the upshot in your in...</td>\n",
       "      <td>why senate control matters</td>\n",
       "    </tr>\n",
       "    <tr>\n",
       "      <th>1001</th>\n",
       "      <td>Trump</td>\n",
       "      <td>1998-12-27T00</td>\n",
       "      <td>\"                    1. kiasma -- steven holl'...</td>\n",
       "      <td>the year in review: art/architecture; public s...</td>\n",
       "    </tr>\n",
       "    <tr>\n",
       "      <th>10010</th>\n",
       "      <td>Clinton</td>\n",
       "      <td>2014-09-22T18</td>\n",
       "      <td>, 'hillary rodham clinton has said that she’ll...</td>\n",
       "      <td>seeding a slogan? clinton talks up choice and ...</td>\n",
       "    </tr>\n",
       "    <tr>\n",
       "      <th>10011</th>\n",
       "      <td>Clinton</td>\n",
       "      <td>2014-09-22T13</td>\n",
       "      <td>, 'one of my ideas is that i wanted them to do...</td>\n",
       "      <td>verbatim: the clinton family business</td>\n",
       "    </tr>\n",
       "    <tr>\n",
       "      <th>10012</th>\n",
       "      <td>Clinton</td>\n",
       "      <td>2014-09-22T09</td>\n",
       "      <td>, 'what do you get when you put hollywood star...</td>\n",
       "      <td>ready for impact: the clintons’ annual extrava...</td>\n",
       "    </tr>\n",
       "    <tr>\n",
       "      <th>10013</th>\n",
       "      <td>Clinton</td>\n",
       "      <td>2014-09-22T07</td>\n",
       "      <td>, 'good monday morning and welcome to the inau...</td>\n",
       "      <td>gillibrand’s weight watcher revealed, and a pr...</td>\n",
       "    </tr>\n",
       "    <tr>\n",
       "      <th>10014</th>\n",
       "      <td>Clinton</td>\n",
       "      <td>2014-09-22T00</td>\n",
       "      <td>, '', 'by dave itzkoffsept. 21, 2014', 'the pr...</td>\n",
       "      <td>rachel dratch in the political play ‘tail! spin!’</td>\n",
       "    </tr>\n",
       "    <tr>\n",
       "      <th>10015</th>\n",
       "      <td>Clinton</td>\n",
       "      <td>2014-09-21T00</td>\n",
       "      <td>, '', 'by kathryn shattucksept. 21, 2014', '8:...</td>\n",
       "      <td>what’s on tv sunday</td>\n",
       "    </tr>\n",
       "    <tr>\n",
       "      <th>10016</th>\n",
       "      <td>Clinton</td>\n",
       "      <td>2014-09-19T00</td>\n",
       "      <td>, '', 'by adeel hassan and victoria shannonsep...</td>\n",
       "      <td>latest news: scotland, alibaba, larry ellison,...</td>\n",
       "    </tr>\n",
       "    <tr>\n",
       "      <th>10017</th>\n",
       "      <td>Clinton</td>\n",
       "      <td>2014-09-19T00</td>\n",
       "      <td>, '', 'by alessandra stanleysept. 18, 2014', '...</td>\n",
       "      <td>‘madam secretary’ and ‘the good wife,’ tv’s mi...</td>\n",
       "    </tr>\n",
       "    <tr>\n",
       "      <th>10018</th>\n",
       "      <td>Clinton</td>\n",
       "      <td>2014-09-19T00</td>\n",
       "      <td>, '', 'by amy chozicksept. 18, 2014', 'washing...</td>\n",
       "      <td>clinton shifts to domestic issues, with a focu...</td>\n",
       "    </tr>\n",
       "    <tr>\n",
       "      <th>10019</th>\n",
       "      <td>Clinton</td>\n",
       "      <td>2014-09-19T00</td>\n",
       "      <td>, '', 'by jeremy w. peterssept. 18, 2014', 'th...</td>\n",
       "      <td>isis vote weighs heavily on senators with 2016...</td>\n",
       "    </tr>\n",
       "    <tr>\n",
       "      <th>1002</th>\n",
       "      <td>Trump</td>\n",
       "      <td>1998-12-24T00</td>\n",
       "      <td>to the editor:        ', \"...</td>\n",
       "      <td>new yorkers: naughty and nice; the male ethos</td>\n",
       "    </tr>\n",
       "    <tr>\n",
       "      <th>10020</th>\n",
       "      <td>Clinton</td>\n",
       "      <td>2014-09-18T00</td>\n",
       "      <td>, '', 'by jason horowitzsept. 17, 2014', 'des ...</td>\n",
       "      <td>biden, a catholic school ‘kid,’ praises nuns u...</td>\n",
       "    </tr>\n",
       "    <tr>\n",
       "      <th>10021</th>\n",
       "      <td>Clinton</td>\n",
       "      <td>2014-09-18T00</td>\n",
       "      <td>, '', 'by ashley parker and amy chozicksept. 1...</td>\n",
       "      <td>in debut, benghazi panel leaves sparring to ot...</td>\n",
       "    </tr>\n",
       "    <tr>\n",
       "      <th>10022</th>\n",
       "      <td>Clinton</td>\n",
       "      <td>2014-09-16T22</td>\n",
       "      <td>, 'in the conversation, david brooks and gail ...</td>\n",
       "      <td>what’s left of positive thinking?</td>\n",
       "    </tr>\n",
       "    <tr>\n",
       "      <th>...</th>\n",
       "      <td>...</td>\n",
       "      <td>...</td>\n",
       "      <td>...</td>\n",
       "      <td>...</td>\n",
       "    </tr>\n",
       "    <tr>\n",
       "      <th>9972</th>\n",
       "      <td>Clinton</td>\n",
       "      <td>2014-10-06T07</td>\n",
       "      <td>, 'good monday morning from washington, where ...</td>\n",
       "      <td>today in politics</td>\n",
       "    </tr>\n",
       "    <tr>\n",
       "      <th>9973</th>\n",
       "      <td>Clinton</td>\n",
       "      <td>2014-10-05T00</td>\n",
       "      <td>, '', 'by ashley parker and nicholas confessor...</td>\n",
       "      <td>democrats lean heavily on pacs in coordinated ...</td>\n",
       "    </tr>\n",
       "    <tr>\n",
       "      <th>9974</th>\n",
       "      <td>Clinton</td>\n",
       "      <td>2014-10-05T00</td>\n",
       "      <td>, '', 'maureen dowdoct. 4, 2014', 'washington ...</td>\n",
       "      <td>julia pierson and the glass ceiling</td>\n",
       "    </tr>\n",
       "    <tr>\n",
       "      <th>9975</th>\n",
       "      <td>Clinton</td>\n",
       "      <td>2014-10-05T00</td>\n",
       "      <td>, '', 'exclusive ', 'by                      r...</td>\n",
       "      <td>historic park avenue townhouse for $48 million</td>\n",
       "    </tr>\n",
       "    <tr>\n",
       "      <th>9976</th>\n",
       "      <td>Clinton</td>\n",
       "      <td>2014-10-04T00</td>\n",
       "      <td>, '', 'by jackie calmesoct. 3, 2014', 'milwauk...</td>\n",
       "      <td>why is first lady scarce in campaign? her last...</td>\n",
       "    </tr>\n",
       "    <tr>\n",
       "      <th>9977</th>\n",
       "      <td>Clinton</td>\n",
       "      <td>2014-10-02T09</td>\n",
       "      <td>, 'politicians have been roasted at the white-...</td>\n",
       "      <td>heard the one about clinton and the white hous...</td>\n",
       "    </tr>\n",
       "    <tr>\n",
       "      <th>9978</th>\n",
       "      <td>Clinton</td>\n",
       "      <td>2014-10-02T07</td>\n",
       "      <td>, 'good thursday morning from washington, wher...</td>\n",
       "      <td>today in politics</td>\n",
       "    </tr>\n",
       "    <tr>\n",
       "      <th>9979</th>\n",
       "      <td>Clinton</td>\n",
       "      <td>2014-10-02T00</td>\n",
       "      <td>, '', 'gail collinsoct. 1, 2014', 'there was t...</td>\n",
       "      <td>securing social security</td>\n",
       "    </tr>\n",
       "    <tr>\n",
       "      <th>998</th>\n",
       "      <td>Trump</td>\n",
       "      <td>1998-12-28T00</td>\n",
       "      <td>raised on radio        ', ...</td>\n",
       "      <td>books of the times; who knows what joy lingers...</td>\n",
       "    </tr>\n",
       "    <tr>\n",
       "      <th>9980</th>\n",
       "      <td>Clinton</td>\n",
       "      <td>2014-10-01T21</td>\n",
       "      <td>, 'at an intimate and emotional reception to h...</td>\n",
       "      <td>video notebook: clinton honors military families</td>\n",
       "    </tr>\n",
       "    <tr>\n",
       "      <th>9981</th>\n",
       "      <td>Clinton</td>\n",
       "      <td>2014-10-01T21</td>\n",
       "      <td>at an intimate and emotional reception to hono...</td>\n",
       "      <td>clinton speaks to military families</td>\n",
       "    </tr>\n",
       "    <tr>\n",
       "      <th>9982</th>\n",
       "      <td>Clinton</td>\n",
       "      <td>2014-10-01T13</td>\n",
       "      <td>, 'two new polls from quinnipiac university sk...</td>\n",
       "      <td>in polls, good news for kasich, but less so fo...</td>\n",
       "    </tr>\n",
       "    <tr>\n",
       "      <th>9983</th>\n",
       "      <td>Clinton</td>\n",
       "      <td>2014-10-01T09</td>\n",
       "      <td>, 'will he run? ', 'no, not mitt romney. georg...</td>\n",
       "      <td>a clooney white house bid? the odds aren’t so ...</td>\n",
       "    </tr>\n",
       "    <tr>\n",
       "      <th>9984</th>\n",
       "      <td>Clinton</td>\n",
       "      <td>2014-10-01T07</td>\n",
       "      <td>, 'good wednesday morning, and welcome to octo...</td>\n",
       "      <td>today in politics</td>\n",
       "    </tr>\n",
       "    <tr>\n",
       "      <th>9985</th>\n",
       "      <td>Clinton</td>\n",
       "      <td>2014-10-01T00</td>\n",
       "      <td>, '', '      democrats face tough challenges i...</td>\n",
       "      <td>loss of a democratic power leaves arkansas in ...</td>\n",
       "    </tr>\n",
       "    <tr>\n",
       "      <th>9986</th>\n",
       "      <td>Clinton</td>\n",
       "      <td>2014-09-30T12</td>\n",
       "      <td>, 'hillary rodham clinton scratched another mi...</td>\n",
       "      <td>clinton skips events to spend more time with h...</td>\n",
       "    </tr>\n",
       "    <tr>\n",
       "      <th>9987</th>\n",
       "      <td>Clinton</td>\n",
       "      <td>2014-09-30T07</td>\n",
       "      <td>, 'the question following several blockbuster ...</td>\n",
       "      <td>today in politics</td>\n",
       "    </tr>\n",
       "    <tr>\n",
       "      <th>9988</th>\n",
       "      <td>Clinton</td>\n",
       "      <td>2014-09-29T17</td>\n",
       "      <td>, 'family duty has taken precedent over politi...</td>\n",
       "      <td>clintons, now grandparents, take political bre...</td>\n",
       "    </tr>\n",
       "    <tr>\n",
       "      <th>9989</th>\n",
       "      <td>Clinton</td>\n",
       "      <td>2014-09-29T00</td>\n",
       "      <td>, '', 'by john harwoodsept. 28, 2014', 'washin...</td>\n",
       "      <td>bill clinton’s record of resilience at vanguar...</td>\n",
       "    </tr>\n",
       "    <tr>\n",
       "      <th>999</th>\n",
       "      <td>Trump</td>\n",
       "      <td>1998-12-27T00</td>\n",
       "      <td>\"                    if anybody is planning a ...</td>\n",
       "      <td>private sector; a quiet night for the trump clan</td>\n",
       "    </tr>\n",
       "    <tr>\n",
       "      <th>9990</th>\n",
       "      <td>Clinton</td>\n",
       "      <td>2014-09-29T00</td>\n",
       "      <td>, '', 'by jonathan weismansept. 28, 2014', 'on...</td>\n",
       "      <td>house hopefuls in g.o.p. seek rightward shift</td>\n",
       "    </tr>\n",
       "    <tr>\n",
       "      <th>9991</th>\n",
       "      <td>Clinton</td>\n",
       "      <td>2014-09-29T00</td>\n",
       "      <td>, '', 'by somini senguptasept. 28, 2014', 'nar...</td>\n",
       "      <td>narendra modi outlines goals for india on eve ...</td>\n",
       "    </tr>\n",
       "    <tr>\n",
       "      <th>9992</th>\n",
       "      <td>Clinton</td>\n",
       "      <td>2014-09-28T00</td>\n",
       "      <td>, '', 'by tara mohrsept. 27, 2014', 'a new stu...</td>\n",
       "      <td>learning to love criticism</td>\n",
       "    </tr>\n",
       "    <tr>\n",
       "      <th>9993</th>\n",
       "      <td>Clinton</td>\n",
       "      <td>2014-09-28T00</td>\n",
       "      <td>, '', 'by amy chozick and nicholas kulishsept....</td>\n",
       "      <td>daughter for chelsea clinton (and granddaughte...</td>\n",
       "    </tr>\n",
       "    <tr>\n",
       "      <th>9994</th>\n",
       "      <td>Clinton</td>\n",
       "      <td>2014-09-27T11</td>\n",
       "      <td>, 'chelsea clinton announced the birth of her ...</td>\n",
       "      <td>a day old, and already a potential nominee (in...</td>\n",
       "    </tr>\n",
       "    <tr>\n",
       "      <th>9995</th>\n",
       "      <td>Clinton</td>\n",
       "      <td>2014-09-27T09</td>\n",
       "      <td>chelsea clinton has given birth to a girl, giv...</td>\n",
       "      <td>chelsea clinton gives birth to girl</td>\n",
       "    </tr>\n",
       "    <tr>\n",
       "      <th>9996</th>\n",
       "      <td>Clinton</td>\n",
       "      <td>2014-09-26T00</td>\n",
       "      <td>, '', 'follow us:', 'get the upshot in your in...</td>\n",
       "      <td>romney in 2016? never say never</td>\n",
       "    </tr>\n",
       "    <tr>\n",
       "      <th>9997</th>\n",
       "      <td>Clinton</td>\n",
       "      <td>2014-09-25T15</td>\n",
       "      <td>, 'i’ve been mostly ignoring the various “romn...</td>\n",
       "      <td>why we’re talking about mitt romney</td>\n",
       "    </tr>\n",
       "    <tr>\n",
       "      <th>9998</th>\n",
       "      <td>Clinton</td>\n",
       "      <td>2014-09-25T13</td>\n",
       "      <td>, 'the resignation of eric h. holder jr. as at...</td>\n",
       "      <td>long by the president’s side</td>\n",
       "    </tr>\n",
       "    <tr>\n",
       "      <th>9999</th>\n",
       "      <td>Clinton</td>\n",
       "      <td>2014-09-25T10</td>\n",
       "      <td>, 'the “super pac” ready for hillary plans to ...</td>\n",
       "      <td>a bit more cash to pave the way for a clinton ...</td>\n",
       "    </tr>\n",
       "  </tbody>\n",
       "</table>\n",
       "<p>12412 rows × 4 columns</p>\n",
       "</div>"
      ],
      "text/plain": [
       "         about           date  \\\n",
       "0        Trump  1989-12-31T00   \n",
       "1        Trump  1989-12-31T00   \n",
       "10       Trump  1989-12-20T00   \n",
       "100      Trump  1989-09-26T00   \n",
       "1000     Trump  1998-12-27T00   \n",
       "10000  Clinton  2014-09-24T15   \n",
       "10001  Clinton  2014-09-24T14   \n",
       "10002  Clinton  2014-09-24T12   \n",
       "10003  Clinton  2014-09-24T07   \n",
       "10004  Clinton  2014-09-23T17   \n",
       "10005  Clinton  2014-09-23T07   \n",
       "10006  Clinton  2014-09-23T07   \n",
       "10007  Clinton  2014-09-23T06   \n",
       "10008  Clinton  2014-09-23T00   \n",
       "10009  Clinton  2014-09-23T00   \n",
       "1001     Trump  1998-12-27T00   \n",
       "10010  Clinton  2014-09-22T18   \n",
       "10011  Clinton  2014-09-22T13   \n",
       "10012  Clinton  2014-09-22T09   \n",
       "10013  Clinton  2014-09-22T07   \n",
       "10014  Clinton  2014-09-22T00   \n",
       "10015  Clinton  2014-09-21T00   \n",
       "10016  Clinton  2014-09-19T00   \n",
       "10017  Clinton  2014-09-19T00   \n",
       "10018  Clinton  2014-09-19T00   \n",
       "10019  Clinton  2014-09-19T00   \n",
       "1002     Trump  1998-12-24T00   \n",
       "10020  Clinton  2014-09-18T00   \n",
       "10021  Clinton  2014-09-18T00   \n",
       "10022  Clinton  2014-09-16T22   \n",
       "...        ...            ...   \n",
       "9972   Clinton  2014-10-06T07   \n",
       "9973   Clinton  2014-10-05T00   \n",
       "9974   Clinton  2014-10-05T00   \n",
       "9975   Clinton  2014-10-05T00   \n",
       "9976   Clinton  2014-10-04T00   \n",
       "9977   Clinton  2014-10-02T09   \n",
       "9978   Clinton  2014-10-02T07   \n",
       "9979   Clinton  2014-10-02T00   \n",
       "998      Trump  1998-12-28T00   \n",
       "9980   Clinton  2014-10-01T21   \n",
       "9981   Clinton  2014-10-01T21   \n",
       "9982   Clinton  2014-10-01T13   \n",
       "9983   Clinton  2014-10-01T09   \n",
       "9984   Clinton  2014-10-01T07   \n",
       "9985   Clinton  2014-10-01T00   \n",
       "9986   Clinton  2014-09-30T12   \n",
       "9987   Clinton  2014-09-30T07   \n",
       "9988   Clinton  2014-09-29T17   \n",
       "9989   Clinton  2014-09-29T00   \n",
       "999      Trump  1998-12-27T00   \n",
       "9990   Clinton  2014-09-29T00   \n",
       "9991   Clinton  2014-09-29T00   \n",
       "9992   Clinton  2014-09-28T00   \n",
       "9993   Clinton  2014-09-28T00   \n",
       "9994   Clinton  2014-09-27T11   \n",
       "9995   Clinton  2014-09-27T09   \n",
       "9996   Clinton  2014-09-26T00   \n",
       "9997   Clinton  2014-09-25T15   \n",
       "9998   Clinton  2014-09-25T13   \n",
       "9999   Clinton  2014-09-25T10   \n",
       "\n",
       "                                               full_text  \\\n",
       "0      \"                    there was a moment in dec...   \n",
       "1      \"                    dear david, when you and ...   \n",
       "10     \"                    the trump shuttle, the ai...   \n",
       "100    \"                    new york city's business ...   \n",
       "1000                       old malls, shopping center...   \n",
       "10000  , 'the premiere of a short film by the directo...   \n",
       "10001  , 'i can’t sit here today and say if we had do...   \n",
       "10002  , 'charitable commitments have been made. impo...   \n",
       "10003  , 'obama on a war footing at the united nation...   \n",
       "10004  , 'as many democrats attack companies that tak...   \n",
       "10005  , ' u.s. cracks down on inversions  |   treasu...   \n",
       "10006  , 'good tuesday morning and welcome to first d...   \n",
       "10007  , 'president obama will address the united nat...   \n",
       "10008  , '', '      north carolina, a state long defi...   \n",
       "10009  , '', 'follow us:', 'get the upshot in your in...   \n",
       "1001   \"                    1. kiasma -- steven holl'...   \n",
       "10010  , 'hillary rodham clinton has said that she’ll...   \n",
       "10011  , 'one of my ideas is that i wanted them to do...   \n",
       "10012  , 'what do you get when you put hollywood star...   \n",
       "10013  , 'good monday morning and welcome to the inau...   \n",
       "10014  , '', 'by dave itzkoffsept. 21, 2014', 'the pr...   \n",
       "10015  , '', 'by kathryn shattucksept. 21, 2014', '8:...   \n",
       "10016  , '', 'by adeel hassan and victoria shannonsep...   \n",
       "10017  , '', 'by alessandra stanleysept. 18, 2014', '...   \n",
       "10018  , '', 'by amy chozicksept. 18, 2014', 'washing...   \n",
       "10019  , '', 'by jeremy w. peterssept. 18, 2014', 'th...   \n",
       "1002                       to the editor:        ', \"...   \n",
       "10020  , '', 'by jason horowitzsept. 17, 2014', 'des ...   \n",
       "10021  , '', 'by ashley parker and amy chozicksept. 1...   \n",
       "10022  , 'in the conversation, david brooks and gail ...   \n",
       "...                                                  ...   \n",
       "9972   , 'good monday morning from washington, where ...   \n",
       "9973   , '', 'by ashley parker and nicholas confessor...   \n",
       "9974   , '', 'maureen dowdoct. 4, 2014', 'washington ...   \n",
       "9975   , '', 'exclusive ', 'by                      r...   \n",
       "9976   , '', 'by jackie calmesoct. 3, 2014', 'milwauk...   \n",
       "9977   , 'politicians have been roasted at the white-...   \n",
       "9978   , 'good thursday morning from washington, wher...   \n",
       "9979   , '', 'gail collinsoct. 1, 2014', 'there was t...   \n",
       "998                        raised on radio        ', ...   \n",
       "9980   , 'at an intimate and emotional reception to h...   \n",
       "9981   at an intimate and emotional reception to hono...   \n",
       "9982   , 'two new polls from quinnipiac university sk...   \n",
       "9983   , 'will he run? ', 'no, not mitt romney. georg...   \n",
       "9984   , 'good wednesday morning, and welcome to octo...   \n",
       "9985   , '', '      democrats face tough challenges i...   \n",
       "9986   , 'hillary rodham clinton scratched another mi...   \n",
       "9987   , 'the question following several blockbuster ...   \n",
       "9988   , 'family duty has taken precedent over politi...   \n",
       "9989   , '', 'by john harwoodsept. 28, 2014', 'washin...   \n",
       "999    \"                    if anybody is planning a ...   \n",
       "9990   , '', 'by jonathan weismansept. 28, 2014', 'on...   \n",
       "9991   , '', 'by somini senguptasept. 28, 2014', 'nar...   \n",
       "9992   , '', 'by tara mohrsept. 27, 2014', 'a new stu...   \n",
       "9993   , '', 'by amy chozick and nicholas kulishsept....   \n",
       "9994   , 'chelsea clinton announced the birth of her ...   \n",
       "9995   chelsea clinton has given birth to a girl, giv...   \n",
       "9996   , '', 'follow us:', 'get the upshot in your in...   \n",
       "9997   , 'i’ve been mostly ignoring the various “romn...   \n",
       "9998   , 'the resignation of eric h. holder jr. as at...   \n",
       "9999   , 'the “super pac” ready for hillary plans to ...   \n",
       "\n",
       "                                                headline  \n",
       "0      ideas & trends; a decade ends, and the nouvell...  \n",
       "1                                          \"how'd i do?\"  \n",
       "10        company news; trump shuttle, pilots reach pact  \n",
       "100    dinkins gaining support among business executives  \n",
       "1000   commercial property; old malls demolished to m...  \n",
       "10000  kathryn bigelow joins new york film festival l...  \n",
       "10001                   clinton not saying i told you so  \n",
       "10002  at clintons’ event, a really close watch on re...  \n",
       "10003                                  today in politics  \n",
       "10004  bill clinton on inversions: ‘this is their money’  \n",
       "10005            morning agenda: crackdown on inversions  \n",
       "10006    obama faces the world after bombs fall in syria  \n",
       "10007  president obama to address u.n. general assemb...  \n",
       "10008  north carolina, in political flux, battles for...  \n",
       "10009                         why senate control matters  \n",
       "1001   the year in review: art/architecture; public s...  \n",
       "10010  seeding a slogan? clinton talks up choice and ...  \n",
       "10011              verbatim: the clinton family business  \n",
       "10012  ready for impact: the clintons’ annual extrava...  \n",
       "10013  gillibrand’s weight watcher revealed, and a pr...  \n",
       "10014  rachel dratch in the political play ‘tail! spin!’  \n",
       "10015                                what’s on tv sunday  \n",
       "10016  latest news: scotland, alibaba, larry ellison,...  \n",
       "10017  ‘madam secretary’ and ‘the good wife,’ tv’s mi...  \n",
       "10018  clinton shifts to domestic issues, with a focu...  \n",
       "10019  isis vote weighs heavily on senators with 2016...  \n",
       "1002       new yorkers: naughty and nice; the male ethos  \n",
       "10020  biden, a catholic school ‘kid,’ praises nuns u...  \n",
       "10021  in debut, benghazi panel leaves sparring to ot...  \n",
       "10022                  what’s left of positive thinking?  \n",
       "...                                                  ...  \n",
       "9972                                   today in politics  \n",
       "9973   democrats lean heavily on pacs in coordinated ...  \n",
       "9974                 julia pierson and the glass ceiling  \n",
       "9975      historic park avenue townhouse for $48 million  \n",
       "9976   why is first lady scarce in campaign? her last...  \n",
       "9977   heard the one about clinton and the white hous...  \n",
       "9978                                   today in politics  \n",
       "9979                            securing social security  \n",
       "998    books of the times; who knows what joy lingers...  \n",
       "9980    video notebook: clinton honors military families  \n",
       "9981                 clinton speaks to military families  \n",
       "9982   in polls, good news for kasich, but less so fo...  \n",
       "9983   a clooney white house bid? the odds aren’t so ...  \n",
       "9984                                   today in politics  \n",
       "9985   loss of a democratic power leaves arkansas in ...  \n",
       "9986   clinton skips events to spend more time with h...  \n",
       "9987                                   today in politics  \n",
       "9988   clintons, now grandparents, take political bre...  \n",
       "9989   bill clinton’s record of resilience at vanguar...  \n",
       "999     private sector; a quiet night for the trump clan  \n",
       "9990       house hopefuls in g.o.p. seek rightward shift  \n",
       "9991   narendra modi outlines goals for india on eve ...  \n",
       "9992                         learning to love criticism   \n",
       "9993   daughter for chelsea clinton (and granddaughte...  \n",
       "9994   a day old, and already a potential nominee (in...  \n",
       "9995                 chelsea clinton gives birth to girl  \n",
       "9996                     romney in 2016? never say never  \n",
       "9997                 why we’re talking about mitt romney  \n",
       "9998                        long by the president’s side  \n",
       "9999   a bit more cash to pave the way for a clinton ...  \n",
       "\n",
       "[12412 rows x 4 columns]"
      ]
     },
     "execution_count": 17,
     "metadata": {},
     "output_type": "execute_result"
    }
   ],
   "source": [
    "df"
   ]
  },
  {
   "cell_type": "code",
   "execution_count": 21,
   "metadata": {
    "collapsed": true
   },
   "outputs": [],
   "source": [
    "from sklearn.feature_extraction.text import CountVectorizer\n",
    "from sklearn.feature_extraction.text import TfidfVectorizer"
   ]
  },
  {
   "cell_type": "code",
   "execution_count": 22,
   "metadata": {
    "collapsed": true
   },
   "outputs": [],
   "source": [
    "vectorizer = CountVectorizer(analyzer='word',\n",
    "                                  ngram_range=(1, 2), stop_words='english',\n",
    "                                  token_pattern='\\\\b[a-z][a-z]+\\\\b')"
   ]
  },
  {
   "cell_type": "code",
   "execution_count": 23,
   "metadata": {
    "collapsed": false
   },
   "outputs": [],
   "source": [
    "myvector = vectorizer.fit_transform(df.full_text)"
   ]
  },
  {
   "cell_type": "code",
   "execution_count": 24,
   "metadata": {
    "collapsed": true
   },
   "outputs": [],
   "source": [
    "words = sorted([(i,v) for v,i in vectorizer.vocabulary_.items()])"
   ]
  },
  {
   "cell_type": "code",
   "execution_count": 25,
   "metadata": {
    "collapsed": true
   },
   "outputs": [],
   "source": [
    "from sklearn.decomposition import NMF\n",
    "model = NMF(n_components=5, init='random', random_state=0)\n",
    "doc_topics = model.fit_transform(myvector)"
   ]
  },
  {
   "cell_type": "code",
   "execution_count": 27,
   "metadata": {
    "collapsed": false
   },
   "outputs": [
    {
     "data": {
      "text/plain": [
       "(12412, 5)"
      ]
     },
     "execution_count": 27,
     "metadata": {},
     "output_type": "execute_result"
    }
   ],
   "source": [
    "doc_topics.shape"
   ]
  },
  {
   "cell_type": "code",
   "execution_count": 28,
   "metadata": {
    "collapsed": false
   },
   "outputs": [
    {
     "data": {
      "text/plain": [
       "array([ 0.        ,  0.        ,  0.        ,  0.00532093,  0.01045293])"
      ]
     },
     "execution_count": 28,
     "metadata": {},
     "output_type": "execute_result"
    }
   ],
   "source": [
    "doc_topics[1]"
   ]
  },
  {
   "cell_type": "code",
   "execution_count": 29,
   "metadata": {
    "collapsed": true
   },
   "outputs": [],
   "source": [
    "doc_cluster = [list(r).index(max(r)) for r in doc_topics]"
   ]
  },
  {
   "cell_type": "code",
   "execution_count": 32,
   "metadata": {
    "collapsed": false
   },
   "outputs": [
    {
     "data": {
      "text/plain": [
       "1"
      ]
     },
     "execution_count": 32,
     "metadata": {},
     "output_type": "execute_result"
    }
   ],
   "source": []
  },
  {
   "cell_type": "code",
   "execution_count": 30,
   "metadata": {
    "collapsed": false
   },
   "outputs": [
    {
     "ename": "TypeError",
     "evalue": "'int' object is not iterable",
     "output_type": "error",
     "traceback": [
      "\u001b[0;31m---------------------------------------------------------------------------\u001b[0m",
      "\u001b[0;31mTypeError\u001b[0m                                 Traceback (most recent call last)",
      "\u001b[0;32m<ipython-input-30-8962fa1d79ef>\u001b[0m in \u001b[0;36m<module>\u001b[0;34m()\u001b[0m\n\u001b[1;32m      1\u001b[0m \u001b[0;32mfrom\u001b[0m \u001b[0mcollections\u001b[0m \u001b[0;32mimport\u001b[0m \u001b[0mdefaultdict\u001b[0m\u001b[0;34m\u001b[0m\u001b[0m\n\u001b[1;32m      2\u001b[0m \u001b[0mclusters\u001b[0m \u001b[0;34m=\u001b[0m \u001b[0mdefaultdict\u001b[0m\u001b[0;34m(\u001b[0m\u001b[0mlist\u001b[0m\u001b[0;34m)\u001b[0m\u001b[0;34m\u001b[0m\u001b[0m\n\u001b[0;32m----> 3\u001b[0;31m \u001b[0;32mfor\u001b[0m \u001b[0mi\u001b[0m\u001b[0;34m,\u001b[0m\u001b[0md\u001b[0m \u001b[0;32min\u001b[0m \u001b[0mdoc_cluster\u001b[0m\u001b[0;34m:\u001b[0m\u001b[0;34m\u001b[0m\u001b[0m\n\u001b[0m\u001b[1;32m      4\u001b[0m     \u001b[0mclusters\u001b[0m\u001b[0;34m[\u001b[0m\u001b[0md\u001b[0m\u001b[0;34m]\u001b[0m\u001b[0;34m.\u001b[0m\u001b[0mappend\u001b[0m\u001b[0;34m(\u001b[0m\u001b[0mi\u001b[0m\u001b[0;34m)\u001b[0m\u001b[0;34m\u001b[0m\u001b[0m\n",
      "\u001b[0;31mTypeError\u001b[0m: 'int' object is not iterable"
     ]
    }
   ],
   "source": [
    "from collections import defaultdict\n",
    "clusters = defaultdict(list)\n",
    "for i,d in doc_cluster:\n",
    "    clusters[d].append(i)"
   ]
  },
  {
   "cell_type": "code",
   "execution_count": 33,
   "metadata": {
    "collapsed": false
   },
   "outputs": [
    {
     "data": {
      "text/plain": [
       "(5, 3155161)"
      ]
     },
     "execution_count": 33,
     "metadata": {},
     "output_type": "execute_result"
    }
   ],
   "source": [
    "model.components_.shape"
   ]
  },
  {
   "cell_type": "code",
   "execution_count": 34,
   "metadata": {
    "collapsed": true
   },
   "outputs": [],
   "source": [
    "topic_words = []\n",
    "for r in model.components_:\n",
    "    a = sorted([(v,i) for i,v in enumerate(r)],reverse=True)[0:7]\n",
    "    topic_words.append([words[e[1]] for e in a])"
   ]
  },
  {
   "cell_type": "code",
   "execution_count": 35,
   "metadata": {
    "collapsed": false
   },
   "outputs": [
    {
     "data": {
      "text/plain": [
       "[[(2139018, 'president'),\n",
       "  (1346622, 'impeachment'),\n",
       "  (2711218, 'students'),\n",
       "  (497935, 'clinton'),\n",
       "  (592524, 'constitution'),\n",
       "  (2811473, 'texts'),\n",
       "  (2120842, 'power')],\n",
       " [(1807821, 'mr'),\n",
       "  (2432769, 'said'),\n",
       "  (2899671, 'trump'),\n",
       "  (1813296, 'mr trump'),\n",
       "  (497935, 'clinton'),\n",
       "  (1856990, 'new'),\n",
       "  (373871, 'campaign')],\n",
       " [(1435660, 'israel'),\n",
       "  (1282649, 'history'),\n",
       "  (2936943, 'understands'),\n",
       "  (3111938, 'world'),\n",
       "  (1135295, 'gaza'),\n",
       "  (2704935, 'strip'),\n",
       "  (1135407, 'gaza strip')],\n",
       " [(2018894, 'people'),\n",
       "  (1164481, 'going'),\n",
       "  (131877, 'applause'),\n",
       "  (1508837, 'know'),\n",
       "  (2820224, 'think'),\n",
       "  (2509482, 'senator'),\n",
       "  (2139018, 'president')],\n",
       " [(1856990, 'new'),\n",
       "  (2697952, 'street'),\n",
       "  (3144286, 'york'),\n",
       "  (1860389, 'new york'),\n",
       "  (2432769, 'said'),\n",
       "  (3067764, 'west'),\n",
       "  (480593, 'city')]]"
      ]
     },
     "execution_count": 35,
     "metadata": {},
     "output_type": "execute_result"
    }
   ],
   "source": [
    "topic_words"
   ]
  },
  {
   "cell_type": "code",
   "execution_count": 37,
   "metadata": {
    "collapsed": false
   },
   "outputs": [
    {
     "ename": "TypeError",
     "evalue": "randomized_svd() missing 1 required positional argument: 'M'",
     "output_type": "error",
     "traceback": [
      "\u001b[0;31m---------------------------------------------------------------------------\u001b[0m",
      "\u001b[0;31mTypeError\u001b[0m                                 Traceback (most recent call last)",
      "\u001b[0;32m<ipython-input-37-3a01ec87b23d>\u001b[0m in \u001b[0;36m<module>\u001b[0;34m()\u001b[0m\n\u001b[1;32m      2\u001b[0m U, Sigma, VT = randomized_svd(n_components=15,\n\u001b[1;32m      3\u001b[0m                                       \u001b[0mn_iter\u001b[0m\u001b[0;34m=\u001b[0m\u001b[0;36m5\u001b[0m\u001b[0;34m,\u001b[0m\u001b[0;34m\u001b[0m\u001b[0m\n\u001b[0;32m----> 4\u001b[0;31m                                       random_state=None)\n\u001b[0m",
      "\u001b[0;31mTypeError\u001b[0m: randomized_svd() missing 1 required positional argument: 'M'"
     ]
    }
   ],
   "source": [
    "from sklearn.utils.extmath import randomized_svd\n",
    "U, Sigma, VT = randomized_svd(n_components=15,\n",
    "                                      n_iter=5,\n",
    "                                      random_state=None)"
   ]
  },
  {
   "cell_type": "code",
   "execution_count": 26,
   "metadata": {
    "collapsed": false
   },
   "outputs": [
    {
     "ename": "NameError",
     "evalue": "name 'Sigma' is not defined",
     "output_type": "error",
     "traceback": [
      "\u001b[0;31m---------------------------------------------------------------------------\u001b[0m",
      "\u001b[0;31mNameError\u001b[0m                                 Traceback (most recent call last)",
      "\u001b[0;32m<ipython-input-26-99f3e4d5bca2>\u001b[0m in \u001b[0;36m<module>\u001b[0;34m()\u001b[0m\n\u001b[0;32m----> 1\u001b[0;31m \u001b[0mSigma\u001b[0m\u001b[0;34m\u001b[0m\u001b[0m\n\u001b[0m",
      "\u001b[0;31mNameError\u001b[0m: name 'Sigma' is not defined"
     ]
    }
   ],
   "source": [
    "Sigma"
   ]
  },
  {
   "cell_type": "code",
   "execution_count": null,
   "metadata": {
    "collapsed": true
   },
   "outputs": [],
   "source": []
  },
  {
   "cell_type": "code",
   "execution_count": null,
   "metadata": {
    "collapsed": true
   },
   "outputs": [],
   "source": []
  },
  {
   "cell_type": "code",
   "execution_count": null,
   "metadata": {
    "collapsed": true
   },
   "outputs": [],
   "source": []
  },
  {
   "cell_type": "code",
   "execution_count": null,
   "metadata": {
    "collapsed": true
   },
   "outputs": [],
   "source": []
  },
  {
   "cell_type": "code",
   "execution_count": 9,
   "metadata": {
    "collapsed": true
   },
   "outputs": [],
   "source": [
    "\n",
    "## These are a few extraneous lines to remove before splitting the articles into wordlists. \n",
    "nyt_stopwords = ['Want both newspaper\\ndeliveryand free, unlimited digital access?', 'Advertisement', \n",
    "              'Want unlimited access\\nto NYTimes.com and our apps?', 'reprints', 'papersubscribe',  'Find out what you need to know about the 2016 presidential race today, and get politics news updates via Facebook, Twitter and the First Draft newsletter.',\n",
    "  'See More »',\n",
    "  'Go to Home Page »',  'Room for Debate asks whether shorefront homeowners should have to open their land to all comers.',\n",
    "  'New York City’s top public schools must become more diverse.','A version of this article appears in print on', \"Order Reprints| Today's Paper|Subscribe\"]"
   ]
  },
  {
   "cell_type": "code",
   "execution_count": 5,
   "metadata": {
    "collapsed": true
   },
   "outputs": [],
   "source": [
    "\n",
    "## These stopwords are from the nltk module with a few additions. \n",
    "stopwords = ['i', 'me', 'my', 'myself', 'we', 'our', 'ours', 'ourselves', 'you', 'your', 'yours', 'yourself', 'yourselves', \n",
    " 'he', 'him', 'his', 'himself', 'she', 'her', 'hers', 'herself', 'it', 'its', 'itself', 'they', 'them', 'their', \n",
    " 'theirs', 'themselves', 'what', 'which', 'who', 'whom', 'this', 'that', 'these', 'those', 'am', 'is', 'are', \n",
    " 'was', 'were', 'be', 'been', 'being', 'have', 'has', 'had', 'having', 'do', 'does', \n",
    " 'did', 'doing', 'a', 'an', 'the', 'and', 'but', 'if', 'or', 'because', 'as', 'until', 'while', 'of', \n",
    " 'at', 'by', 'for', 'with', 'about', 'against', 'between', 'into', 'through', 'during', 'before', 'after', \n",
    " 'above', 'below', 'to', 'from', 'up', 'down', 'in', 'out', 'on', 'off', 'over', 'under', 'again', 'further', 'then', \n",
    " 'once', 'here', 'there', 'when', 'where', 'why', 'how', 'all', 'any', 'both', 'each', 'few', 'more', 'most', 'other', \n",
    " 'some', 'such', 'no', 'nor', 'not', 'only', 'own', 'same', 'so', 'than', 'too', 'very', 's', 't', 'can', 'will', \n",
    " 'just', 'don', 'should', 'now', 'more…', 'nyt' ]"
   ]
  },
  {
   "cell_type": "code",
   "execution_count": 10,
   "metadata": {
    "collapsed": false
   },
   "outputs": [],
   "source": [
    "import string\n",
    "#from collections import defaultdict\n",
    "punct = list(set(string.punctuation))\n",
    "numbers = set('1234567890')\n",
    "punct.append('”')\n",
    "punct.append('“') #”\n",
    "punct.append(\"’\")\n",
    "\n",
    "date_list = [] \n",
    "new_text = defaultdict(list) \n",
    "text_lists = [] \n",
    "for article in articles: \n",
    "    text = article['full_text']\n",
    "    clean_text = []\n",
    "    for graph in text: \n",
    "        if graph in nyt_stopwords or len(graph) <3: \n",
    "            continue\n",
    "        else:\n",
    "            graph = graph.encode('utf8').decode('utf8')\n",
    "            graph = graph.replace(\"’s\", '')\n",
    "            graph = graph.replace ('-', ' ')\n",
    "            clean_text =  clean_text + graph.split()\n",
    "            clean_text = [''.join(ch for ch in word if ch not in punct and ch not in numbers).lower() \n",
    "                          for word in clean_text]\n",
    "            clean_text = [word for word in clean_text if word not in stopwords and len(word)>2]\n",
    "    date = article['date']\n",
    "       # year = date.split('-')[0]\n",
    "       #month = date.split('-')[1]\n",
    "       # new_date = year + month\n",
    "    new_text[date] = clean_text\n",
    "    text_lists.append(clean_text)\n",
    "    date_list.append(date)"
   ]
  },
  {
   "cell_type": "code",
   "execution_count": 11,
   "metadata": {
    "collapsed": true
   },
   "outputs": [],
   "source": [
    "from gensim import corpora, models\n",
    "import pandas as pd\n",
    "def get_lda_from_lists_of_words(lists_of_words, **kwargs):\n",
    "    dictionary = corpora.Dictionary(lists_of_words) # this dictionary maps terms to integers\n",
    "    corpus = [dictionary.doc2bow(text) for text in lists_of_words] # create a bag of words from each document\n",
    "    tfidf = models.TfidfModel(corpus) # this models the significance of words by document\n",
    "    corpus_tfidf = tfidf[corpus]\n",
    "    kwargs[\"id2word\"] = dictionary # set the dictionary\n",
    "    lda_model = models.LdaModel(corpus_tfidf, **kwargs)\n",
    "    def get_topics(words): return dict(lda_model[dictionary.doc2bow(words)])\n",
    "    topics_df = pd.DataFrame(get_topics(text) for text in lists_of_words).fillna(0.001)\n",
    "    topics_df.columns = [str(cn) for cn in topics_df.columns]\n",
    "    return lda_model, topics_df, dictionary"
   ]
  },
  {
   "cell_type": "code",
   "execution_count": 12,
   "metadata": {
    "collapsed": false
   },
   "outputs": [
    {
     "name": "stdout",
     "output_type": "stream",
     "text": [
      "688.6528980000003\n"
     ]
    }
   ],
   "source": [
    "\n",
    "t0 = time.clock()\n",
    "articles_lda, topic_model_df, dictionary  = get_lda_from_lists_of_words(text_lists, num_topics=35, passes=20)\n",
    "print(time.clock() - t0)"
   ]
  },
  {
   "cell_type": "code",
   "execution_count": 13,
   "metadata": {
    "collapsed": true
   },
   "outputs": [],
   "source": [
    "def print_top_terms(lda, dictionary, num_terms=10):\n",
    "    for i in range(0, lda.num_topics):\n",
    "        terms = [dictionary[word_id] for word_id, score in articles_lda.get_topic_terms(i, topn=num_terms)] \n",
    "        print(\"Top terms for topic #\", str(i), \": \", \", \".join(terms))\n",
    "   "
   ]
  },
  {
   "cell_type": "code",
   "execution_count": 14,
   "metadata": {
    "collapsed": false
   },
   "outputs": [
    {
     "name": "stdout",
     "output_type": "stream",
     "text": [
      "Top terms for topic # 0 :  modernizing, memorials, unveiled, apologized, haley, detained, distraction, app, whomever, rachel\n",
      "Top terms for topic # 1 :  clinton, trump, mrs, said, obama, campaign, republican, democratic, president, voters\n",
      "Top terms for topic # 2 :  edwards, biden, overtime, handily, eisenberg, streisand, praising, entitlement, rio, branding\n",
      "Top terms for topic # 3 :  newyork, crooked, denmark, counterpoint, abu, gunman, reshape, crist, therapists, cappelli\n",
      "Top terms for topic # 4 :  omalley, applause, activists, nominate, nominations, testify, gaza, winfrey, lazar, martinez\n",
      "Top terms for topic # 5 :  defied, migrants, greenhouse, roundup, reckless, bully, farrell, mathematical, migrant, omitted\n",
      "Top terms for topic # 6 :  latinos, rant, antonin, respectful, cannon, hosting, unwillingness, trending, deeds, bruising\n",
      "Top terms for topic # 7 :  bernardino, espn, hypocrisy, mosque, unbound, disadvantage, populous, bader, giffords, enrichment\n",
      "Top terms for topic # 8 :  panetta, transparency, wisconsin, firing, uninsured, correctness, stimulus, discourse, degeneres, renewable\n",
      "Top terms for topic # 9 :  wisconsin, clinching, anaheim, beliefs, electability, charleston, qualifications, wyoming, cain, sen\n",
      "Top terms for topic # 10 :  vermont, weekday, islamic, liberal, hate, reform, posted, rival, syria, congressional\n",
      "Top terms for topic # 11 :  moines, des, stump, unify, matchup, pbs, trustworthy, advocated, airing, lopsided\n",
      "Top terms for topic # 12 :  error, muslim, messages, contested, clinch, pollster, volunteers, transition, surveyed, evangelical\n",
      "Top terms for topic # 13 :  targeting, emma, gays, unfavorably, willett, coalesce, bantam, naacp, lesbians, passionately\n",
      "Top terms for topic # 14 :  blog, via, lewandowski, debates, populist, documents, reforms, yeah, ferguson, campaigned\n",
      "Top terms for topic # 15 :  sanders, iowa, bernie, hampshire, elections, poll, gun, draft, follow, headline\n",
      "Top terms for topic # 16 :  manafort, deportation, merrick, plurality, reliably, agricultural, missions, ferraro, adopting, grabs\n",
      "Top terms for topic # 17 :  provoking, cheney, monologue, albright, betraying, unity, baghdad, socialism, predominantly, crosswords\n",
      "Top terms for topic # 18 :  cruz, christie, bloomberg, candidacy, lewinsky, contests, carson, ted, paced, impeachment\n",
      "Top terms for topic # 19 :  jong, alicia, unpopularity, nashua, briefings, kendall, ickes, doctrine, mccurry, brutality\n",
      "Top terms for topic # 20 :  cox, wis, josh, congo, implicit, wiley, counterterrorism, butler, mahmoud, bishop\n",
      "Top terms for topic # 21 :  updates, libya, demographic, abortions, unite, healy, highlighted, adelson, transcripts, aramco\n",
      "Top terms for topic # 22 :  aligned, ideals, scripted, miranda, respectfully, disavowed, ricos, crisscrossing, gillespie, articulated\n",
      "Top terms for topic # 23 :  muslims, sioux, hypothetical, royalties, grievances, uniting, powering, ballistic, egan, assumes\n",
      "Top terms for topic # 24 :  feedback, superdelegates, turnout, emissions, misstated, sen, cameron, incorrectly, timescbs, islam\n",
      "Top terms for topic # 25 :  pew, zimmerman, protester, wow, unflattering, ideologically, junta, mckinnon, cnbc, shear\n",
      "Top terms for topic # 26 :  surname, que, misogyny, recordings, imprint, condone, adapt, imperil, retribution, forgiving\n",
      "Top terms for topic # 27 :  cnn, pressmay, arkansas, female, paced, syrian, argument, independents, nixon, arizona\n",
      "Top terms for topic # 28 :  netanyahu, troop, obituary, osama, bombings, kenya, anxieties, epa, libyan, dispatch\n",
      "Top terms for topic # 29 :  briefing, hispanics, liberalism, rundown, sanger, hassan, banning, hiv, nurses, orthodoxy\n",
      "Top terms for topic # 30 :  elites, ashley, carville, antiwar, texts, activism, matalin, grueling, bono, judd\n",
      "Top terms for topic # 31 :  subscribe, kimmel, sexism, inroads, somalia, assaults, dartmouth, sox, fink, restrooms\n",
      "Top terms for topic # 32 :  libertarian, quinnipiac, brock, friess, pitting, propositions, shootout, campaigners, romantics, schrager\n",
      "Top terms for topic # 33 :  hackers, rebuke, combating, deported, erica, yemen, resonated, setup, schmidt, conceal\n",
      "Top terms for topic # 34 :  briggs, rep, drone, felons, yahoo, terrain, negatives, revitalizing, fleeing, ladys\n"
     ]
    }
   ],
   "source": [
    "print_top_terms(articles_lda, dictionary)\n"
   ]
  },
  {
   "cell_type": "code",
   "execution_count": 15,
   "metadata": {
    "collapsed": true
   },
   "outputs": [],
   "source": [
    "from datetime import datetime\n",
    "import matplotlib.dates as mdates\n",
    "date_recs = [] \n",
    "for date in date_list: \n",
    "    k = str(date).split('T')[0]\n",
    "    date_recs.append(datetime.strptime(k, \"%Y-%m-%d\"))\n",
    "\n",
    "x = mdates.date2num(date_recs)\n",
    "dd = mdates.num2date(x)"
   ]
  },
  {
   "cell_type": "code",
   "execution_count": 16,
   "metadata": {
    "collapsed": true
   },
   "outputs": [],
   "source": [
    "topic_model_df['dates'] = pd.Series(date_recs, index=topic_model_df.index)\n"
   ]
  },
  {
   "cell_type": "code",
   "execution_count": 17,
   "metadata": {
    "collapsed": true
   },
   "outputs": [],
   "source": [
    "topic_model_df.set_index('dates', inplace=True)\n"
   ]
  },
  {
   "cell_type": "code",
   "execution_count": 18,
   "metadata": {
    "collapsed": false
   },
   "outputs": [
    {
     "data": {
      "text/html": [
       "<div>\n",
       "<table border=\"1\" class=\"dataframe\">\n",
       "  <thead>\n",
       "    <tr style=\"text-align: right;\">\n",
       "      <th></th>\n",
       "      <th>0</th>\n",
       "      <th>1</th>\n",
       "      <th>2</th>\n",
       "      <th>3</th>\n",
       "      <th>4</th>\n",
       "      <th>5</th>\n",
       "      <th>6</th>\n",
       "      <th>7</th>\n",
       "      <th>8</th>\n",
       "      <th>9</th>\n",
       "      <th>...</th>\n",
       "      <th>25</th>\n",
       "      <th>26</th>\n",
       "      <th>27</th>\n",
       "      <th>28</th>\n",
       "      <th>29</th>\n",
       "      <th>30</th>\n",
       "      <th>31</th>\n",
       "      <th>32</th>\n",
       "      <th>33</th>\n",
       "      <th>34</th>\n",
       "    </tr>\n",
       "    <tr>\n",
       "      <th>dates</th>\n",
       "      <th></th>\n",
       "      <th></th>\n",
       "      <th></th>\n",
       "      <th></th>\n",
       "      <th></th>\n",
       "      <th></th>\n",
       "      <th></th>\n",
       "      <th></th>\n",
       "      <th></th>\n",
       "      <th></th>\n",
       "      <th></th>\n",
       "      <th></th>\n",
       "      <th></th>\n",
       "      <th></th>\n",
       "      <th></th>\n",
       "      <th></th>\n",
       "      <th></th>\n",
       "      <th></th>\n",
       "      <th></th>\n",
       "      <th></th>\n",
       "      <th></th>\n",
       "    </tr>\n",
       "  </thead>\n",
       "  <tbody>\n",
       "    <tr>\n",
       "      <th>1989-12-31</th>\n",
       "      <td>0.001000</td>\n",
       "      <td>0.738319</td>\n",
       "      <td>0.001</td>\n",
       "      <td>0.001</td>\n",
       "      <td>0.001</td>\n",
       "      <td>0.001</td>\n",
       "      <td>0.001</td>\n",
       "      <td>0.001</td>\n",
       "      <td>0.001</td>\n",
       "      <td>0.001</td>\n",
       "      <td>...</td>\n",
       "      <td>0.001</td>\n",
       "      <td>0.001</td>\n",
       "      <td>0.014296</td>\n",
       "      <td>0.001</td>\n",
       "      <td>0.001000</td>\n",
       "      <td>0.001</td>\n",
       "      <td>0.001</td>\n",
       "      <td>0.001</td>\n",
       "      <td>0.001</td>\n",
       "      <td>0.001</td>\n",
       "    </tr>\n",
       "    <tr>\n",
       "      <th>1989-12-31</th>\n",
       "      <td>0.001000</td>\n",
       "      <td>0.824396</td>\n",
       "      <td>0.001</td>\n",
       "      <td>0.001</td>\n",
       "      <td>0.001</td>\n",
       "      <td>0.001</td>\n",
       "      <td>0.001</td>\n",
       "      <td>0.001</td>\n",
       "      <td>0.001</td>\n",
       "      <td>0.001</td>\n",
       "      <td>...</td>\n",
       "      <td>0.001</td>\n",
       "      <td>0.001</td>\n",
       "      <td>0.017631</td>\n",
       "      <td>0.001</td>\n",
       "      <td>0.001000</td>\n",
       "      <td>0.001</td>\n",
       "      <td>0.001</td>\n",
       "      <td>0.001</td>\n",
       "      <td>0.001</td>\n",
       "      <td>0.001</td>\n",
       "    </tr>\n",
       "    <tr>\n",
       "      <th>1989-12-31</th>\n",
       "      <td>0.015568</td>\n",
       "      <td>0.813157</td>\n",
       "      <td>0.001</td>\n",
       "      <td>0.001</td>\n",
       "      <td>0.001</td>\n",
       "      <td>0.001</td>\n",
       "      <td>0.001</td>\n",
       "      <td>0.001</td>\n",
       "      <td>0.001</td>\n",
       "      <td>0.001</td>\n",
       "      <td>...</td>\n",
       "      <td>0.001</td>\n",
       "      <td>0.001</td>\n",
       "      <td>0.022206</td>\n",
       "      <td>0.001</td>\n",
       "      <td>0.019128</td>\n",
       "      <td>0.001</td>\n",
       "      <td>0.001</td>\n",
       "      <td>0.001</td>\n",
       "      <td>0.001</td>\n",
       "      <td>0.001</td>\n",
       "    </tr>\n",
       "    <tr>\n",
       "      <th>1989-12-28</th>\n",
       "      <td>0.001000</td>\n",
       "      <td>0.749347</td>\n",
       "      <td>0.001</td>\n",
       "      <td>0.001</td>\n",
       "      <td>0.001</td>\n",
       "      <td>0.001</td>\n",
       "      <td>0.001</td>\n",
       "      <td>0.001</td>\n",
       "      <td>0.001</td>\n",
       "      <td>0.001</td>\n",
       "      <td>...</td>\n",
       "      <td>0.001</td>\n",
       "      <td>0.001</td>\n",
       "      <td>0.001000</td>\n",
       "      <td>0.001</td>\n",
       "      <td>0.001000</td>\n",
       "      <td>0.001</td>\n",
       "      <td>0.001</td>\n",
       "      <td>0.001</td>\n",
       "      <td>0.001</td>\n",
       "      <td>0.001</td>\n",
       "    </tr>\n",
       "    <tr>\n",
       "      <th>1989-12-28</th>\n",
       "      <td>0.001000</td>\n",
       "      <td>0.667332</td>\n",
       "      <td>0.001</td>\n",
       "      <td>0.001</td>\n",
       "      <td>0.001</td>\n",
       "      <td>0.001</td>\n",
       "      <td>0.001</td>\n",
       "      <td>0.001</td>\n",
       "      <td>0.001</td>\n",
       "      <td>0.001</td>\n",
       "      <td>...</td>\n",
       "      <td>0.001</td>\n",
       "      <td>0.001</td>\n",
       "      <td>0.032592</td>\n",
       "      <td>0.001</td>\n",
       "      <td>0.001000</td>\n",
       "      <td>0.001</td>\n",
       "      <td>0.001</td>\n",
       "      <td>0.001</td>\n",
       "      <td>0.001</td>\n",
       "      <td>0.001</td>\n",
       "    </tr>\n",
       "  </tbody>\n",
       "</table>\n",
       "<p>5 rows × 35 columns</p>\n",
       "</div>"
      ],
      "text/plain": [
       "                   0         1      2      3      4      5      6      7  \\\n",
       "dates                                                                      \n",
       "1989-12-31  0.001000  0.738319  0.001  0.001  0.001  0.001  0.001  0.001   \n",
       "1989-12-31  0.001000  0.824396  0.001  0.001  0.001  0.001  0.001  0.001   \n",
       "1989-12-31  0.015568  0.813157  0.001  0.001  0.001  0.001  0.001  0.001   \n",
       "1989-12-28  0.001000  0.749347  0.001  0.001  0.001  0.001  0.001  0.001   \n",
       "1989-12-28  0.001000  0.667332  0.001  0.001  0.001  0.001  0.001  0.001   \n",
       "\n",
       "                8      9  ...       25     26        27     28        29  \\\n",
       "dates                     ...                                              \n",
       "1989-12-31  0.001  0.001  ...    0.001  0.001  0.014296  0.001  0.001000   \n",
       "1989-12-31  0.001  0.001  ...    0.001  0.001  0.017631  0.001  0.001000   \n",
       "1989-12-31  0.001  0.001  ...    0.001  0.001  0.022206  0.001  0.019128   \n",
       "1989-12-28  0.001  0.001  ...    0.001  0.001  0.001000  0.001  0.001000   \n",
       "1989-12-28  0.001  0.001  ...    0.001  0.001  0.032592  0.001  0.001000   \n",
       "\n",
       "               30     31     32     33     34  \n",
       "dates                                          \n",
       "1989-12-31  0.001  0.001  0.001  0.001  0.001  \n",
       "1989-12-31  0.001  0.001  0.001  0.001  0.001  \n",
       "1989-12-31  0.001  0.001  0.001  0.001  0.001  \n",
       "1989-12-28  0.001  0.001  0.001  0.001  0.001  \n",
       "1989-12-28  0.001  0.001  0.001  0.001  0.001  \n",
       "\n",
       "[5 rows x 35 columns]"
      ]
     },
     "execution_count": 18,
     "metadata": {},
     "output_type": "execute_result"
    }
   ],
   "source": [
    "topic_model_df.head()\n"
   ]
  },
  {
   "cell_type": "code",
   "execution_count": 25,
   "metadata": {
    "collapsed": false
   },
   "outputs": [
    {
     "data": {
      "text/plain": [
       "<pandas.tools.plotting.FramePlotMethods object at 0x12e6f0940>"
      ]
     },
     "execution_count": 25,
     "metadata": {},
     "output_type": "execute_result"
    }
   ],
   "source": [
    "%matplotlib inline\n",
    "import matplotlib.pyplot as plt\n",
    "import matplotlib \n",
    "\n",
    "pd.DataFrame.plot(topic_model_df[['6']])"
   ]
  },
  {
   "cell_type": "code",
   "execution_count": null,
   "metadata": {
    "collapsed": true
   },
   "outputs": [],
   "source": []
  }
 ],
 "metadata": {
  "kernelspec": {
   "display_name": "Python 3",
   "language": "python",
   "name": "python3"
  },
  "language_info": {
   "codemirror_mode": {
    "name": "ipython",
    "version": 3
   },
   "file_extension": ".py",
   "mimetype": "text/x-python",
   "name": "python",
   "nbconvert_exporter": "python",
   "pygments_lexer": "ipython3",
   "version": "3.5.1"
  }
 },
 "nbformat": 4,
 "nbformat_minor": 0
}
