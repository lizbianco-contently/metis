{
 "cells": [
  {
   "cell_type": "code",
   "execution_count": 1,
   "metadata": {
    "collapsed": true
   },
   "outputs": [],
   "source": [
    "import requests\n",
    "from requests_oauthlib import OAuth1"
   ]
  },
  {
   "cell_type": "code",
   "execution_count": 2,
   "metadata": {
    "collapsed": false
   },
   "outputs": [
    {
     "data": {
      "text/plain": [
       "'/Users/EBianco'"
      ]
     },
     "execution_count": 2,
     "metadata": {},
     "output_type": "execute_result"
    }
   ],
   "source": [
    "from os.path import expanduser\n",
    "home = expanduser(\"~\")\n",
    "home"
   ]
  },
  {
   "cell_type": "code",
   "execution_count": 3,
   "metadata": {
    "collapsed": false
   },
   "outputs": [
    {
     "name": "stdout",
     "output_type": "stream",
     "text": [
      "/Users/EBianco/.twitter_config\r\n"
     ]
    }
   ],
   "source": [
    "!ls ~/.twitter_config"
   ]
  },
  {
   "cell_type": "code",
   "execution_count": 4,
   "metadata": {
    "collapsed": true
   },
   "outputs": [],
   "source": [
    "import cnfg\n",
    "config = cnfg.load(home + \"/.twitter_config\")"
   ]
  },
  {
   "cell_type": "code",
   "execution_count": 5,
   "metadata": {
    "collapsed": true
   },
   "outputs": [],
   "source": [
    "oauth = OAuth1(config[\"consumer_key\"],\n",
    "              config[\"consumer_secret\"],\n",
    "              config[\"access_token\"],\n",
    "              config[\"access_token_secret\"])"
   ]
  },
  {
   "cell_type": "code",
   "execution_count": 8,
   "metadata": {
    "collapsed": false
   },
   "outputs": [
    {
     "name": "stdout",
     "output_type": "stream",
     "text": [
      "in_reply_to_status_id\n",
      "retweeted_status\n",
      "in_reply_to_user_id\n",
      "retweeted\n",
      "lang\n",
      "contributors\n",
      "possibly_sensitive\n",
      "text\n",
      "place\n",
      "id\n",
      "in_reply_to_status_id_str\n",
      "coordinates\n",
      "favorite_count\n",
      "in_reply_to_user_id_str\n",
      "extended_entities\n",
      "in_reply_to_screen_name\n",
      "id_str\n",
      "user\n",
      "is_quote_status\n",
      "entities\n",
      "favorited\n",
      "created_at\n",
      "retweet_count\n",
      "truncated\n",
      "source\n",
      "geo\n"
     ]
    }
   ],
   "source": [
    "response = requests.get(\"https://api.twitter.com/1.1/statuses/user_timeline.json\",\n",
    "                        auth=oauth)\n",
    "\n",
    "tweets = response.json()\n",
    "\n",
    "for key in tweets[0].keys():\n",
    "    print (key)"
   ]
  },
  {
   "cell_type": "code",
   "execution_count": 9,
   "metadata": {
    "collapsed": false
   },
   "outputs": [
    {
     "data": {
      "text/plain": [
       "{'contributors': None,\n",
       " 'coordinates': None,\n",
       " 'created_at': 'Sat May 14 14:20:54 +0000 2016',\n",
       " 'entities': {'hashtags': [{'indices': [101, 109], 'text': 'dataviz'},\n",
       "   {'indices': [110, 115], 'text': 'maps'}],\n",
       "  'media': [{'display_url': 'pic.twitter.com/2bOoWJ3vSf',\n",
       "    'expanded_url': 'http://twitter.com/visualoop/status/729582013569699840/photo/1',\n",
       "    'id': 729582013343215616,\n",
       "    'id_str': '729582013343215616',\n",
       "    'indices': [116, 139],\n",
       "    'media_url': 'http://pbs.twimg.com/media/Ch_--cPWMAAd7DL.jpg',\n",
       "    'media_url_https': 'https://pbs.twimg.com/media/Ch_--cPWMAAd7DL.jpg',\n",
       "    'sizes': {'large': {'h': 317, 'resize': 'fit', 'w': 448},\n",
       "     'medium': {'h': 317, 'resize': 'fit', 'w': 448},\n",
       "     'small': {'h': 241, 'resize': 'fit', 'w': 340},\n",
       "     'thumb': {'h': 150, 'resize': 'crop', 'w': 150}},\n",
       "    'source_status_id': 729582013569699840,\n",
       "    'source_status_id_str': '729582013569699840',\n",
       "    'source_user_id': 218083367,\n",
       "    'source_user_id_str': '218083367',\n",
       "    'type': 'photo',\n",
       "    'url': 'https://t.co/2bOoWJ3vSf'}],\n",
       "  'symbols': [],\n",
       "  'urls': [{'display_url': 'ow.ly/YghbJ',\n",
       "    'expanded_url': 'http://ow.ly/YghbJ',\n",
       "    'indices': [77, 100],\n",
       "    'url': 'https://t.co/xyq1vIUPUm'}],\n",
       "  'user_mentions': [{'id': 218083367,\n",
       "    'id_str': '218083367',\n",
       "    'indices': [3, 13],\n",
       "    'name': 'Visualoop',\n",
       "    'screen_name': 'visualoop'}]},\n",
       " 'extended_entities': {'media': [{'display_url': 'pic.twitter.com/2bOoWJ3vSf',\n",
       "    'expanded_url': 'http://twitter.com/visualoop/status/729582013569699840/photo/1',\n",
       "    'id': 729582013343215616,\n",
       "    'id_str': '729582013343215616',\n",
       "    'indices': [116, 139],\n",
       "    'media_url': 'http://pbs.twimg.com/media/Ch_--cPWMAAd7DL.jpg',\n",
       "    'media_url_https': 'https://pbs.twimg.com/media/Ch_--cPWMAAd7DL.jpg',\n",
       "    'sizes': {'large': {'h': 317, 'resize': 'fit', 'w': 448},\n",
       "     'medium': {'h': 317, 'resize': 'fit', 'w': 448},\n",
       "     'small': {'h': 241, 'resize': 'fit', 'w': 340},\n",
       "     'thumb': {'h': 150, 'resize': 'crop', 'w': 150}},\n",
       "    'source_status_id': 729582013569699840,\n",
       "    'source_status_id_str': '729582013569699840',\n",
       "    'source_user_id': 218083367,\n",
       "    'source_user_id_str': '218083367',\n",
       "    'type': 'photo',\n",
       "    'url': 'https://t.co/2bOoWJ3vSf'}]},\n",
       " 'favorite_count': 0,\n",
       " 'favorited': False,\n",
       " 'geo': None,\n",
       " 'id': 731489467983351808,\n",
       " 'id_str': '731489467983351808',\n",
       " 'in_reply_to_screen_name': None,\n",
       " 'in_reply_to_status_id': None,\n",
       " 'in_reply_to_status_id_str': None,\n",
       " 'in_reply_to_user_id': None,\n",
       " 'in_reply_to_user_id_str': None,\n",
       " 'is_quote_status': False,\n",
       " 'lang': 'en',\n",
       " 'place': None,\n",
       " 'possibly_sensitive': False,\n",
       " 'retweet_count': 3,\n",
       " 'retweeted': True,\n",
       " 'retweeted_status': {'contributors': None,\n",
       "  'coordinates': None,\n",
       "  'created_at': 'Mon May 09 08:01:21 +0000 2016',\n",
       "  'entities': {'hashtags': [{'indices': [86, 94], 'text': 'dataviz'},\n",
       "    {'indices': [95, 100], 'text': 'maps'}],\n",
       "   'media': [{'display_url': 'pic.twitter.com/2bOoWJ3vSf',\n",
       "     'expanded_url': 'http://twitter.com/visualoop/status/729582013569699840/photo/1',\n",
       "     'id': 729582013343215616,\n",
       "     'id_str': '729582013343215616',\n",
       "     'indices': [101, 124],\n",
       "     'media_url': 'http://pbs.twimg.com/media/Ch_--cPWMAAd7DL.jpg',\n",
       "     'media_url_https': 'https://pbs.twimg.com/media/Ch_--cPWMAAd7DL.jpg',\n",
       "     'sizes': {'large': {'h': 317, 'resize': 'fit', 'w': 448},\n",
       "      'medium': {'h': 317, 'resize': 'fit', 'w': 448},\n",
       "      'small': {'h': 241, 'resize': 'fit', 'w': 340},\n",
       "      'thumb': {'h': 150, 'resize': 'crop', 'w': 150}},\n",
       "     'type': 'photo',\n",
       "     'url': 'https://t.co/2bOoWJ3vSf'}],\n",
       "   'symbols': [],\n",
       "   'urls': [{'display_url': 'ow.ly/YghbJ',\n",
       "     'expanded_url': 'http://ow.ly/YghbJ',\n",
       "     'indices': [62, 85],\n",
       "     'url': 'https://t.co/xyq1vIUPUm'}],\n",
       "   'user_mentions': []},\n",
       "  'extended_entities': {'media': [{'display_url': 'pic.twitter.com/2bOoWJ3vSf',\n",
       "     'expanded_url': 'http://twitter.com/visualoop/status/729582013569699840/photo/1',\n",
       "     'id': 729582013343215616,\n",
       "     'id_str': '729582013343215616',\n",
       "     'indices': [101, 124],\n",
       "     'media_url': 'http://pbs.twimg.com/media/Ch_--cPWMAAd7DL.jpg',\n",
       "     'media_url_https': 'https://pbs.twimg.com/media/Ch_--cPWMAAd7DL.jpg',\n",
       "     'sizes': {'large': {'h': 317, 'resize': 'fit', 'w': 448},\n",
       "      'medium': {'h': 317, 'resize': 'fit', 'w': 448},\n",
       "      'small': {'h': 241, 'resize': 'fit', 'w': 340},\n",
       "      'thumb': {'h': 150, 'resize': 'crop', 'w': 150}},\n",
       "     'type': 'photo',\n",
       "     'url': 'https://t.co/2bOoWJ3vSf'}]},\n",
       "  'favorite_count': 6,\n",
       "  'favorited': False,\n",
       "  'geo': None,\n",
       "  'id': 729582013569699840,\n",
       "  'id_str': '729582013569699840',\n",
       "  'in_reply_to_screen_name': None,\n",
       "  'in_reply_to_status_id': None,\n",
       "  'in_reply_to_status_id_str': None,\n",
       "  'in_reply_to_user_id': None,\n",
       "  'in_reply_to_user_id_str': None,\n",
       "  'is_quote_status': False,\n",
       "  'lang': 'en',\n",
       "  'place': None,\n",
       "  'possibly_sensitive': False,\n",
       "  'retweet_count': 3,\n",
       "  'retweeted': True,\n",
       "  'source': '<a href=\"http://www.hootsuite.com\" rel=\"nofollow\">Hootsuite</a>',\n",
       "  'text': 'Making of the Atlas of the World Wide Web, by Dafna Aizenberg https://t.co/xyq1vIUPUm #dataviz #maps https://t.co/2bOoWJ3vSf',\n",
       "  'truncated': False,\n",
       "  'user': {'contributors_enabled': False,\n",
       "   'created_at': 'Sun Nov 21 11:05:43 +0000 2010',\n",
       "   'default_profile': False,\n",
       "   'default_profile_image': False,\n",
       "   'description': 'A community for top infographics designers, data journalists and enthusiasts.Thanks for dropping by!',\n",
       "   'entities': {'description': {'urls': []},\n",
       "    'url': {'urls': [{'display_url': 'visualoop.com',\n",
       "       'expanded_url': 'http://visualoop.com',\n",
       "       'indices': [0, 22],\n",
       "       'url': 'http://t.co/cWADVObPd0'}]}},\n",
       "   'favourites_count': 186,\n",
       "   'follow_request_sent': False,\n",
       "   'followers_count': 7994,\n",
       "   'following': False,\n",
       "   'friends_count': 2434,\n",
       "   'geo_enabled': True,\n",
       "   'has_extended_profile': False,\n",
       "   'id': 218083367,\n",
       "   'id_str': '218083367',\n",
       "   'is_translation_enabled': False,\n",
       "   'is_translator': False,\n",
       "   'lang': 'en',\n",
       "   'listed_count': 820,\n",
       "   'location': 'Brazil',\n",
       "   'name': 'Visualoop',\n",
       "   'notifications': False,\n",
       "   'profile_background_color': 'C0DEED',\n",
       "   'profile_background_image_url': 'http://pbs.twimg.com/profile_background_images/882538953/c0ea44da91d8b6302ef320d135ac646f.jpeg',\n",
       "   'profile_background_image_url_https': 'https://pbs.twimg.com/profile_background_images/882538953/c0ea44da91d8b6302ef320d135ac646f.jpeg',\n",
       "   'profile_background_tile': False,\n",
       "   'profile_banner_url': 'https://pbs.twimg.com/profile_banners/218083367/1417587611',\n",
       "   'profile_image_url': 'http://pbs.twimg.com/profile_images/540027783221497856/yQcQhJnT_normal.png',\n",
       "   'profile_image_url_https': 'https://pbs.twimg.com/profile_images/540027783221497856/yQcQhJnT_normal.png',\n",
       "   'profile_link_color': '0084B4',\n",
       "   'profile_sidebar_border_color': 'FFFFFF',\n",
       "   'profile_sidebar_fill_color': 'DDEEF6',\n",
       "   'profile_text_color': '333333',\n",
       "   'profile_use_background_image': True,\n",
       "   'protected': False,\n",
       "   'screen_name': 'visualoop',\n",
       "   'statuses_count': 43428,\n",
       "   'time_zone': None,\n",
       "   'url': 'http://t.co/cWADVObPd0',\n",
       "   'utc_offset': None,\n",
       "   'verified': False}},\n",
       " 'source': '<a href=\"http://twitter.com\" rel=\"nofollow\">Twitter Web Client</a>',\n",
       " 'text': 'RT @visualoop: Making of the Atlas of the World Wide Web, by Dafna Aizenberg https://t.co/xyq1vIUPUm #dataviz #maps https://t.co/2bOoWJ3vSf',\n",
       " 'truncated': False,\n",
       " 'user': {'contributors_enabled': False,\n",
       "  'created_at': 'Fri Jul 09 13:20:10 +0000 2010',\n",
       "  'default_profile': True,\n",
       "  'default_profile_image': False,\n",
       "  'description': 'Puppets. Drinking with my family. Nerding out. (Wait, was that already implied?)',\n",
       "  'entities': {'description': {'urls': []}},\n",
       "  'favourites_count': 15,\n",
       "  'follow_request_sent': False,\n",
       "  'followers_count': 62,\n",
       "  'following': False,\n",
       "  'friends_count': 79,\n",
       "  'geo_enabled': False,\n",
       "  'has_extended_profile': False,\n",
       "  'id': 164674423,\n",
       "  'id_str': '164674423',\n",
       "  'is_translation_enabled': False,\n",
       "  'is_translator': False,\n",
       "  'lang': 'en',\n",
       "  'listed_count': 2,\n",
       "  'location': '',\n",
       "  'name': 'Liz Bianco',\n",
       "  'notifications': False,\n",
       "  'profile_background_color': 'C0DEED',\n",
       "  'profile_background_image_url': 'http://abs.twimg.com/images/themes/theme1/bg.png',\n",
       "  'profile_background_image_url_https': 'https://abs.twimg.com/images/themes/theme1/bg.png',\n",
       "  'profile_background_tile': False,\n",
       "  'profile_image_url': 'http://pbs.twimg.com/profile_images/1099838799/Photo_48_normal.jpg',\n",
       "  'profile_image_url_https': 'https://pbs.twimg.com/profile_images/1099838799/Photo_48_normal.jpg',\n",
       "  'profile_link_color': '0084B4',\n",
       "  'profile_sidebar_border_color': 'C0DEED',\n",
       "  'profile_sidebar_fill_color': 'DDEEF6',\n",
       "  'profile_text_color': '333333',\n",
       "  'profile_use_background_image': True,\n",
       "  'protected': True,\n",
       "  'screen_name': 'liz_bianco',\n",
       "  'statuses_count': 458,\n",
       "  'time_zone': 'Eastern Time (US & Canada)',\n",
       "  'url': None,\n",
       "  'utc_offset': -14400,\n",
       "  'verified': False}}"
      ]
     },
     "execution_count": 9,
     "metadata": {},
     "output_type": "execute_result"
    }
   ],
   "source": [
    "tweets[0]"
   ]
  },
  {
   "cell_type": "code",
   "execution_count": 11,
   "metadata": {
    "collapsed": false
   },
   "outputs": [
    {
     "name": "stdout",
     "output_type": "stream",
     "text": [
      "RT @visualoop: Making of the Atlas of the World Wide Web, by Dafna Aizenberg https://t.co/xyq1vIUPUm #dataviz #maps https://t.co/2bOoWJ3vSf\n",
      "RT @randal_olson: The flow of traffic through U.S. highways. #travel #dataviz\n",
      "\n",
      "https://t.co/GhIVDREa8c https://t.co/aTPdeeONXn\n",
      "@heyheybetty The Adventures of Rosie and Emmy would be incredible\n",
      "@heyheybetty she was fluffy and named emmy and I love her\n",
      "I have misspelled the word neighbors more today that I ever have in my life. #adventuresindatascience #knearestneighbors #neighbots\n",
      "@heyheybetty alternatively: being able to do work with one hand and pet a doggy with the other.\n",
      "Metis project idea: predict how badly a person's project is going given the type of music they are playing. (Playing Alanis on repeat rn.)\n",
      "@JoshMBernstein did tickets really sell out in 30 seconds?!\n",
      "@neilhalloran Thank you for creating Fallen.io I want everyone to see it. Any plans to create a version with captions for the deaf?\n",
      "RetailWire Discussion: Does Wegmans carry too much private label? http://t.co/9V9yodB0Ll via @retailwire\n",
      "\"I wish we had more beers.\" \"We can do that.\" \"I guess I meant to say I wish we had more beers and a hammock.\" #Nashville2014\n",
      "I had to be at work at 7 this morning - that justifies spending $7 on a breakfast burrito from Murray's, right?\n",
      "Okay, one of my new accounts has Yoda in a treehouse. My day just got 1000x better http://t.co/wGqF3DriAl\n",
      "@heyheybetty : Keara, you have really bad taste in men. K: I KNOW! #baseball\n",
      "Sampling Rebel IPA for the patrons and rockstars of Percy's tavern!\n",
      "New personal best for a half Marathon - 2:09:52\n",
      "@eumbrino \"content unavailable\"! But how well I know how creepy you are? :(\n",
      "My dad and I have always been into hats. http://t.co/zYZEdUWtrq\n",
      "Way to make @nycbeerweek weird @QueensBrewery . The bikinis and sexism really make me feel welcome.\n",
      "#nycbeerweek =amazing\n"
     ]
    }
   ],
   "source": [
    "for tweet in tweets:\n",
    "    print (tweet['text'])\n",
    "    print"
   ]
  },
  {
   "cell_type": "code",
   "execution_count": 12,
   "metadata": {
    "collapsed": false
   },
   "outputs": [
    {
     "name": "stdout",
     "output_type": "stream",
     "text": [
      "{'completed_in': 0.139,\n",
      " 'count': 20,\n",
      " 'max_id': 732285974831616000,\n",
      " 'max_id_str': '732285974831616000',\n",
      " 'next_results': '?max_id=732284902079668224&q=oscars&count=20&include_entities=1',\n",
      " 'query': 'oscars',\n",
      " 'refresh_url': '?since_id=732285974831616000&q=oscars&include_entities=1',\n",
      " 'since_id': 0,\n",
      " 'since_id_str': '0'}\n"
     ]
    }
   ],
   "source": [
    "parameters = {\"q\": \"oscars\", \"count\":20}\n",
    "response = requests.get(\"https://api.twitter.com/1.1/search/tweets.json\",\n",
    "                       params = parameters,\n",
    "                       auth = oauth)\n",
    "from pprint import pprint\n",
    "pprint(response.json()['search_metadata'])"
   ]
  },
  {
   "cell_type": "code",
   "execution_count": 14,
   "metadata": {
    "collapsed": false
   },
   "outputs": [
    {
     "name": "stdout",
     "output_type": "stream",
     "text": [
      "PAGE 1\n",
      "732285974831616000 RT @OneDrecti0nFans: This solo of Niall deserves 58 grammys, 48 oscars, 389 golden globes and a Nobel peace prize\n",
      "\n",
      "https://t.co/mNrcoSKXzo\n",
      "732285899820666880 Death to the imposters, label me the king\n",
      "my dreams could win Oscars. - J.cole\n",
      "732285757461794817 RT @m2nzii: @bohdi_13 death to the imposters, label me the king, my dreams could win oscars🙌\n",
      "732285729066364929 RT @harrymoonavenue: Anyways Harry is the king and Dunkirk will snatch Oscars. Bye.\n",
      "732285540222042118 RT @Mave_25: Brighton divers give em oscars\n",
      "732285489634480128 RT @styIesyves: he is the best actor tho. he invented acting. without him the oscars wouldn't exist  https://t.co/CbHNK8zLpQ\n",
      "732285452183429120 he is the best actor tho. he invented acting. without him the oscars wouldn't exist  https://t.co/CbHNK8zLpQ\n",
      "732285432260644864 Emmy Rossum Wearing Monique Lhuillier Dress - 2015 Vanity Fair Oscars Party https://t.co/x7iPVlQNkH #EmmyRossum\n",
      "732285321187053572 RT @usavsarg: USA THE OSCARS SELFIE vs ARGENTINIAN THE IRON MARTINS SELFIE https://t.co/nmlLPmRmX9\n",
      "732285306611900417 RT @hayfield16: SENIORS: interested in performing at Senior Oscars on 6/15? Sign up here (seniors only) https://t.co/zP6eznbecL\n",
      "732285306024660993 Brighton divers give em oscars\n",
      "732285297132769284 Si ça vaut pas un oscars ça ??!! ... J'y connais rien au cinéma alors ! Mdrr https://t.co/GRlHNJFoys\n",
      "732285268217188353 RT @SanLorenzos: LIVE on #Periscope: At the food oscars. San Lorenzos up for a few awards. 👍🏻 https://t.co/ymsK27hI4C\n",
      "732285233257570304 RT @OneDrecti0nFans: This solo of Niall deserves 58 grammys, 48 oscars, 389 golden globes and a Nobel peace prize\n",
      "\n",
      "https://t.co/mNrcoSKXzo\n",
      "732285209438130176 Good Burger deserves multiple Oscars\n",
      "732285157978341378 Again, the Provost says we're better than the Oscars (and the BAFTAs!) #icuSACAs\n",
      "732285155566583809 RT @friendsofkgs: Our next big event is ....\n",
      " THE OSCARS - SUMMER BALL 25TH JUNE 2016\n",
      "Touch of Pearl performing, excellent food - £55 per h…\n",
      "732285139741335553 ok good so where are lana parrilla's oscars and golden globes?\n",
      "732285053544374276 @ShikaShik26 a Grammy too yamean on sum real 30's deserve oscars 😂\n",
      "732284902079668225 Julianne Moore  2015 Oscars Red Carpet in Hollywood https://t.co/UFDomzFeTI #AcademyAwards\n"
     ]
    }
   ],
   "source": [
    "tweets = response.json()['statuses']\n",
    "\n",
    "print ('PAGE 1')\n",
    "for tweet in tweets:\n",
    "    print (tweet['id'], tweet['text'])\n",
    "    print\n",
    "    "
   ]
  },
  {
   "cell_type": "code",
   "execution_count": 16,
   "metadata": {
    "collapsed": false
   },
   "outputs": [
    {
     "name": "stdout",
     "output_type": "stream",
     "text": [
      "PAGE 2\n",
      "@Cristian__Ro enserio Cristian?\n",
      "@cavillschris @dorkycevans They said they stan actors who don't get enough recognition.. Why would actors w no recognition be getting Oscars\n",
      "RT @pictoline: Leonardo DiCaprio 😭 \n",
      "#Oscars https://t.co/Ugrwz1XSw2\n",
      "Ryan Gosling's First Oscars Red Carpet Was Adorable For One Reason ##RyanGosling… https://t.co/eY4WaRDn9F\n",
      "RT @elcosodelapizza: Pequeña diferencia entre los oscars y los Martin fierro. https://t.co/qstC5pUfZF\n",
      "@natepallett @mikeyday92 i miss giving oscars... 😭💔\n",
      "RT @bonappetit: And the award for best snacks goes to these 22 recipes https://t.co/zE4oELDMsE https://t.co/Mkr1eCKDeE\n",
      "RT @MarthaSchad: #THEOscars\n",
      "#TheOscars2016\n",
      "#Oscars\n",
      " https://t.co/bOcEUoguYH https://t.co/JPMpWBLWn2\n",
      "RT @harrymoonavenue: Anyways Harry is the king and Dunkirk will snatch Oscars. Bye.\n",
      "RT @check123com: What happened this day in #History? May 16th - The First ever Academy Awards:\n",
      "https://t.co/Bl91iedFC1 …\n",
      "#movies https://t.…\n",
      "RT @OneDrecti0nFans: This solo of Niall deserves 58 grammys, 48 oscars, 389 golden globes and a Nobel peace prize\n",
      "\n",
      "https://t.co/mNrcoSKXzo\n",
      "RT @usavsarg: USA THE OSCARS SELFIE vs ARGENTINIAN THE IRON MARTINS SELFIE https://t.co/nmlLPmRmX9\n",
      "RT @womensmediacntr: Oscars Gender Gap--Only 19% Non-Acting Nominations to Women https://t.co/Ft6pFikQuM  #OscarsWomen #Oscars2016 https://…\n",
      "@bohdi_13 death to the imposters, label me the king, my dreams could win oscars🙌\n",
      "How to Incorporate Oscars Glamour into Your Home -#Realtor - #Century21 - #Zillow - https://t.co/wlgk439d3V -\n",
      "some of y'all are calling harry stans extra but if this was about any of the other boys, y'all would be like \"YES HES SNATCHING OSCARS\"\n",
      "Dustin Hoffman Wins Best Actor: 1989 Oscars https://t.co/rSvAGEWtWI via @YouTube\n",
      "RT @NEHgov: The 1st Oscars were given out #OTD 1929, @BackStoryRadio explores Hollywood: https://t.co/7L3Qm9YGNM @TheAcademy https://t.co/j…\n",
      "@TomiLaffly @FemaleCritics maybe? I just think breathless Oscar talk at Cannes is premature. Do Oscars other than Best Pic really matter?\n",
      "The oscars didn't exist until February 1, 1994\n"
     ]
    }
   ],
   "source": [
    "search_url = \"https://api.twitter.com/1.1/search/tweets.json\"\n",
    "next_page_url = search_url + response.json()['search_metadata']['next_results']\n",
    "\n",
    "response = requests.get(next_page_url, auth=oauth)\n",
    "\n",
    "print('PAGE 2')\n",
    "for tweet in response.json()['statuses']:\n",
    "    print (tweet['text'])\n",
    "    print"
   ]
  },
  {
   "cell_type": "code",
   "execution_count": 17,
   "metadata": {
    "collapsed": false
   },
   "outputs": [
    {
     "name": "stdout",
     "output_type": "stream",
     "text": [
      "Collecting tweepy\n",
      "  Downloading tweepy-3.5.0-py2.py3-none-any.whl\n",
      "Requirement already satisfied (use --upgrade to upgrade): requests-oauthlib>=0.4.1 in /anaconda/lib/python3.5/site-packages (from tweepy)\n",
      "Requirement already satisfied (use --upgrade to upgrade): six>=1.7.3 in /anaconda/lib/python3.5/site-packages (from tweepy)\n",
      "Requirement already satisfied (use --upgrade to upgrade): requests>=2.4.3 in /anaconda/lib/python3.5/site-packages (from tweepy)\n",
      "Requirement already satisfied (use --upgrade to upgrade): oauthlib>=0.6.2 in /anaconda/lib/python3.5/site-packages (from requests-oauthlib>=0.4.1->tweepy)\n",
      "Installing collected packages: tweepy\n",
      "Successfully installed tweepy-3.5.0\n"
     ]
    }
   ],
   "source": [
    "!pip install tweepy"
   ]
  },
  {
   "cell_type": "code",
   "execution_count": 18,
   "metadata": {
    "collapsed": true
   },
   "outputs": [],
   "source": [
    "import tweepy"
   ]
  },
  {
   "cell_type": "code",
   "execution_count": 19,
   "metadata": {
    "collapsed": true
   },
   "outputs": [],
   "source": [
    "auth = tweepy.OAuthHandler(config['consumer_key'],\n",
    "                          config[\"consumer_secret\"])\n",
    "auth.set_access_token(config[\"access_token\"],\n",
    "                     config[\"access_token_secret\"])\n",
    "api=tweepy.API(auth)"
   ]
  },
  {
   "cell_type": "code",
   "execution_count": 20,
   "metadata": {
    "collapsed": false
   },
   "outputs": [
    {
     "name": "stdout",
     "output_type": "stream",
     "text": [
      "Status(in_reply_to_status_id=None, retweeted_status=Status(in_reply_to_status_id=None, in_reply_to_user_id=None, retweeted=False, lang='und', contributors=None, _json={'in_reply_to_status_id': None, 'in_reply_to_user_id': None, 'retweeted': False, 'lang': 'und', 'contributors': None, 'metadata': {'iso_language_code': 'und', 'result_type': 'recent'}, 'text': 'Michael Jackson, Kevin Connolly y Leonardo DiCaprio, 1998. https://t.co/4JhWU0V5cC', 'place': None, 'id': 701986123686346754, 'possibly_sensitive': False, 'in_reply_to_status_id_str': None, 'coordinates': None, 'favorite_count': 147, 'in_reply_to_user_id_str': None, 'in_reply_to_screen_name': None, 'id_str': '701986123686346754', 'user': {'profile_background_tile': True, 'profile_banner_url': 'https://pbs.twimg.com/profile_banners/2195198102/1429900937', 'is_translator': False, 'screen_name': 'ImagenRetro', 'name': 'MUNDO RETRO.', 'profile_image_url_https': 'https://pbs.twimg.com/profile_images/594992109335150593/hq97Sum9_normal.png', 'lang': 'es', 'profile_background_color': '131516', 'contributors_enabled': False, 'statuses_count': 230, 'notifications': False, 'default_profile': False, 'profile_background_image_url': 'http://abs.twimg.com/images/themes/theme14/bg.gif', 'id': 2195198102, 'profile_background_image_url_https': 'https://abs.twimg.com/images/themes/theme14/bg.gif', 'following': False, 'followers_count': 6490, 'profile_use_background_image': True, 'profile_image_url': 'http://pbs.twimg.com/profile_images/594992109335150593/hq97Sum9_normal.png', 'time_zone': 'Central Time (US & Canada)', 'utc_offset': -18000, 'profile_link_color': '009999', 'verified': False, 'favourites_count': 5388, 'default_profile_image': False, 'description': 'Te traemos lo mejor de las décadas pasadas en fotos. Síguenos y conoce más sobre lo retro. Puedes enviar contenido al DM. ✉️ Activa nuestras notificaciones.', 'url': None, 'has_extended_profile': False, 'profile_sidebar_fill_color': 'EFEFEF', 'follow_request_sent': False, 'id_str': '2195198102', 'profile_sidebar_border_color': 'EEEEEE', 'is_translation_enabled': False, 'entities': {'description': {'urls': []}}, 'profile_text_color': '333333', 'listed_count': 9, 'geo_enabled': False, 'protected': False, 'friends_count': 14, 'location': 'Latinoamericana. ', 'created_at': 'Fri Nov 15 01:59:15 +0000 2013'}, 'is_quote_status': False, 'entities': {'symbols': [], 'media': [{'media_url_https': 'https://pbs.twimg.com/media/Cb30qEmVIAE8GDd.jpg', 'id': 701986120565858305, 'display_url': 'pic.twitter.com/4JhWU0V5cC', 'type': 'photo', 'url': 'https://t.co/4JhWU0V5cC', 'indices': [59, 82], 'sizes': {'large': {'h': 640, 'w': 960, 'resize': 'fit'}, 'small': {'h': 453, 'w': 680, 'resize': 'fit'}, 'medium': {'h': 640, 'w': 960, 'resize': 'fit'}, 'thumb': {'h': 150, 'w': 150, 'resize': 'crop'}}, 'expanded_url': 'http://twitter.com/ImagenRetro/status/701986123686346754/photo/1', 'media_url': 'http://pbs.twimg.com/media/Cb30qEmVIAE8GDd.jpg', 'id_str': '701986120565858305'}], 'user_mentions': [], 'hashtags': [], 'urls': []}, 'favorited': False, 'created_at': 'Tue Feb 23 04:25:08 +0000 2016', 'retweet_count': 86, 'truncated': False, 'source': '<a href=\"http://twitter.com\" rel=\"nofollow\">Twitter Web Client</a>', 'geo': None}, metadata={'iso_language_code': 'und', 'result_type': 'recent'}, text='Michael Jackson, Kevin Connolly y Leonardo DiCaprio, 1998. https://t.co/4JhWU0V5cC', place=None, id=701986123686346754, possibly_sensitive=False, in_reply_to_status_id_str=None, coordinates=None, favorite_count=147, retweet_count=86, author=User(profile_background_tile=True, is_translator=False, name='MUNDO RETRO.', is_translation_enabled=False, lang='es', geo_enabled=False, profile_background_color='131516', favourites_count=5388, statuses_count=230, default_profile=False, _json={'profile_background_tile': True, 'profile_banner_url': 'https://pbs.twimg.com/profile_banners/2195198102/1429900937', 'is_translator': False, 'screen_name': 'ImagenRetro', 'name': 'MUNDO RETRO.', 'profile_image_url_https': 'https://pbs.twimg.com/profile_images/594992109335150593/hq97Sum9_normal.png', 'lang': 'es', 'profile_background_color': '131516', 'contributors_enabled': False, 'statuses_count': 230, 'notifications': False, 'default_profile': False, 'profile_background_image_url': 'http://abs.twimg.com/images/themes/theme14/bg.gif', 'id': 2195198102, 'profile_background_image_url_https': 'https://abs.twimg.com/images/themes/theme14/bg.gif', 'following': False, 'followers_count': 6490, 'profile_use_background_image': True, 'profile_image_url': 'http://pbs.twimg.com/profile_images/594992109335150593/hq97Sum9_normal.png', 'time_zone': 'Central Time (US & Canada)', 'utc_offset': -18000, 'profile_link_color': '009999', 'verified': False, 'favourites_count': 5388, 'default_profile_image': False, 'description': 'Te traemos lo mejor de las décadas pasadas en fotos. Síguenos y conoce más sobre lo retro. Puedes enviar contenido al DM. ✉️ Activa nuestras notificaciones.', 'url': None, 'has_extended_profile': False, 'profile_sidebar_fill_color': 'EFEFEF', 'follow_request_sent': False, 'id_str': '2195198102', 'profile_sidebar_border_color': 'EEEEEE', 'is_translation_enabled': False, 'entities': {'description': {'urls': []}}, 'profile_text_color': '333333', 'listed_count': 9, 'geo_enabled': False, 'protected': False, 'friends_count': 14, 'location': 'Latinoamericana. ', 'created_at': 'Fri Nov 15 01:59:15 +0000 2013'}, profile_background_image_url='http://abs.twimg.com/images/themes/theme14/bg.gif', id=2195198102, profile_background_image_url_https='https://abs.twimg.com/images/themes/theme14/bg.gif', following=False, followers_count=6490, profile_use_background_image=True, profile_image_url='http://pbs.twimg.com/profile_images/594992109335150593/hq97Sum9_normal.png', time_zone='Central Time (US & Canada)', utc_offset=-18000, profile_link_color='009999', verified=False, contributors_enabled=False, friends_count=14, default_profile_image=False, description='Te traemos lo mejor de las décadas pasadas en fotos. Síguenos y conoce más sobre lo retro. Puedes enviar contenido al DM. ✉️ Activa nuestras notificaciones.', profile_image_url_https='https://pbs.twimg.com/profile_images/594992109335150593/hq97Sum9_normal.png', notifications=False, _api=<tweepy.api.API object at 0x106b4cdd8>, follow_request_sent=False, id_str='2195198102', profile_sidebar_border_color='EEEEEE', entities={'description': {'urls': []}}, location='Latinoamericana. ', profile_text_color='333333', listed_count=9, profile_sidebar_fill_color='EFEFEF', url=None, created_at=datetime.datetime(2013, 11, 15, 1, 59, 15), protected=False, screen_name='ImagenRetro', has_extended_profile=False, profile_banner_url='https://pbs.twimg.com/profile_banners/2195198102/1429900937'), _api=<tweepy.api.API object at 0x106b4cdd8>, in_reply_to_screen_name=None, id_str='701986123686346754', user=User(profile_background_tile=True, is_translator=False, name='MUNDO RETRO.', is_translation_enabled=False, lang='es', geo_enabled=False, profile_background_color='131516', favourites_count=5388, statuses_count=230, default_profile=False, _json={'profile_background_tile': True, 'profile_banner_url': 'https://pbs.twimg.com/profile_banners/2195198102/1429900937', 'is_translator': False, 'screen_name': 'ImagenRetro', 'name': 'MUNDO RETRO.', 'profile_image_url_https': 'https://pbs.twimg.com/profile_images/594992109335150593/hq97Sum9_normal.png', 'lang': 'es', 'profile_background_color': '131516', 'contributors_enabled': False, 'statuses_count': 230, 'notifications': False, 'default_profile': False, 'profile_background_image_url': 'http://abs.twimg.com/images/themes/theme14/bg.gif', 'id': 2195198102, 'profile_background_image_url_https': 'https://abs.twimg.com/images/themes/theme14/bg.gif', 'following': False, 'followers_count': 6490, 'profile_use_background_image': True, 'profile_image_url': 'http://pbs.twimg.com/profile_images/594992109335150593/hq97Sum9_normal.png', 'time_zone': 'Central Time (US & Canada)', 'utc_offset': -18000, 'profile_link_color': '009999', 'verified': False, 'favourites_count': 5388, 'default_profile_image': False, 'description': 'Te traemos lo mejor de las décadas pasadas en fotos. Síguenos y conoce más sobre lo retro. Puedes enviar contenido al DM. ✉️ Activa nuestras notificaciones.', 'url': None, 'has_extended_profile': False, 'profile_sidebar_fill_color': 'EFEFEF', 'follow_request_sent': False, 'id_str': '2195198102', 'profile_sidebar_border_color': 'EEEEEE', 'is_translation_enabled': False, 'entities': {'description': {'urls': []}}, 'profile_text_color': '333333', 'listed_count': 9, 'geo_enabled': False, 'protected': False, 'friends_count': 14, 'location': 'Latinoamericana. ', 'created_at': 'Fri Nov 15 01:59:15 +0000 2013'}, profile_background_image_url='http://abs.twimg.com/images/themes/theme14/bg.gif', id=2195198102, profile_background_image_url_https='https://abs.twimg.com/images/themes/theme14/bg.gif', following=False, followers_count=6490, profile_use_background_image=True, profile_image_url='http://pbs.twimg.com/profile_images/594992109335150593/hq97Sum9_normal.png', time_zone='Central Time (US & Canada)', utc_offset=-18000, profile_link_color='009999', verified=False, contributors_enabled=False, friends_count=14, default_profile_image=False, description='Te traemos lo mejor de las décadas pasadas en fotos. Síguenos y conoce más sobre lo retro. Puedes enviar contenido al DM. ✉️ Activa nuestras notificaciones.', profile_image_url_https='https://pbs.twimg.com/profile_images/594992109335150593/hq97Sum9_normal.png', notifications=False, _api=<tweepy.api.API object at 0x106b4cdd8>, follow_request_sent=False, id_str='2195198102', profile_sidebar_border_color='EEEEEE', entities={'description': {'urls': []}}, location='Latinoamericana. ', profile_text_color='333333', listed_count=9, profile_sidebar_fill_color='EFEFEF', url=None, created_at=datetime.datetime(2013, 11, 15, 1, 59, 15), protected=False, screen_name='ImagenRetro', has_extended_profile=False, profile_banner_url='https://pbs.twimg.com/profile_banners/2195198102/1429900937'), is_quote_status=False, entities={'symbols': [], 'media': [{'media_url_https': 'https://pbs.twimg.com/media/Cb30qEmVIAE8GDd.jpg', 'id': 701986120565858305, 'display_url': 'pic.twitter.com/4JhWU0V5cC', 'type': 'photo', 'url': 'https://t.co/4JhWU0V5cC', 'indices': [59, 82], 'sizes': {'large': {'h': 640, 'w': 960, 'resize': 'fit'}, 'small': {'h': 453, 'w': 680, 'resize': 'fit'}, 'medium': {'h': 640, 'w': 960, 'resize': 'fit'}, 'thumb': {'h': 150, 'w': 150, 'resize': 'crop'}}, 'expanded_url': 'http://twitter.com/ImagenRetro/status/701986123686346754/photo/1', 'media_url': 'http://pbs.twimg.com/media/Cb30qEmVIAE8GDd.jpg', 'id_str': '701986120565858305'}], 'user_mentions': [], 'hashtags': [], 'urls': []}, source_url='http://twitter.com', favorited=False, geo=None, in_reply_to_user_id_str=None, truncated=False, source='Twitter Web Client', created_at=datetime.datetime(2016, 2, 23, 4, 25, 8)), in_reply_to_user_id=None, retweeted=False, lang='und', contributors=None, _json={'in_reply_to_status_id': None, 'retweeted_status': {'in_reply_to_status_id': None, 'in_reply_to_user_id': None, 'retweeted': False, 'lang': 'und', 'contributors': None, 'metadata': {'iso_language_code': 'und', 'result_type': 'recent'}, 'text': 'Michael Jackson, Kevin Connolly y Leonardo DiCaprio, 1998. https://t.co/4JhWU0V5cC', 'place': None, 'id': 701986123686346754, 'possibly_sensitive': False, 'in_reply_to_status_id_str': None, 'coordinates': None, 'favorite_count': 147, 'in_reply_to_user_id_str': None, 'in_reply_to_screen_name': None, 'id_str': '701986123686346754', 'user': {'profile_background_tile': True, 'profile_banner_url': 'https://pbs.twimg.com/profile_banners/2195198102/1429900937', 'is_translator': False, 'screen_name': 'ImagenRetro', 'name': 'MUNDO RETRO.', 'profile_image_url_https': 'https://pbs.twimg.com/profile_images/594992109335150593/hq97Sum9_normal.png', 'lang': 'es', 'profile_background_color': '131516', 'contributors_enabled': False, 'statuses_count': 230, 'notifications': False, 'default_profile': False, 'profile_background_image_url': 'http://abs.twimg.com/images/themes/theme14/bg.gif', 'id': 2195198102, 'profile_background_image_url_https': 'https://abs.twimg.com/images/themes/theme14/bg.gif', 'following': False, 'followers_count': 6490, 'profile_use_background_image': True, 'profile_image_url': 'http://pbs.twimg.com/profile_images/594992109335150593/hq97Sum9_normal.png', 'time_zone': 'Central Time (US & Canada)', 'utc_offset': -18000, 'profile_link_color': '009999', 'verified': False, 'favourites_count': 5388, 'default_profile_image': False, 'description': 'Te traemos lo mejor de las décadas pasadas en fotos. Síguenos y conoce más sobre lo retro. Puedes enviar contenido al DM. ✉️ Activa nuestras notificaciones.', 'url': None, 'has_extended_profile': False, 'profile_sidebar_fill_color': 'EFEFEF', 'follow_request_sent': False, 'id_str': '2195198102', 'profile_sidebar_border_color': 'EEEEEE', 'is_translation_enabled': False, 'entities': {'description': {'urls': []}}, 'profile_text_color': '333333', 'listed_count': 9, 'geo_enabled': False, 'protected': False, 'friends_count': 14, 'location': 'Latinoamericana. ', 'created_at': 'Fri Nov 15 01:59:15 +0000 2013'}, 'is_quote_status': False, 'entities': {'symbols': [], 'media': [{'media_url_https': 'https://pbs.twimg.com/media/Cb30qEmVIAE8GDd.jpg', 'id': 701986120565858305, 'display_url': 'pic.twitter.com/4JhWU0V5cC', 'type': 'photo', 'url': 'https://t.co/4JhWU0V5cC', 'indices': [59, 82], 'sizes': {'large': {'h': 640, 'w': 960, 'resize': 'fit'}, 'small': {'h': 453, 'w': 680, 'resize': 'fit'}, 'medium': {'h': 640, 'w': 960, 'resize': 'fit'}, 'thumb': {'h': 150, 'w': 150, 'resize': 'crop'}}, 'expanded_url': 'http://twitter.com/ImagenRetro/status/701986123686346754/photo/1', 'media_url': 'http://pbs.twimg.com/media/Cb30qEmVIAE8GDd.jpg', 'id_str': '701986120565858305'}], 'user_mentions': [], 'hashtags': [], 'urls': []}, 'favorited': False, 'created_at': 'Tue Feb 23 04:25:08 +0000 2016', 'retweet_count': 86, 'truncated': False, 'source': '<a href=\"http://twitter.com\" rel=\"nofollow\">Twitter Web Client</a>', 'geo': None}, 'in_reply_to_user_id': None, 'retweeted': False, 'lang': 'und', 'contributors': None, 'metadata': {'iso_language_code': 'und', 'result_type': 'recent'}, 'text': 'RT @ImagenRetro: Michael Jackson, Kevin Connolly y Leonardo DiCaprio, 1998. https://t.co/4JhWU0V5cC', 'place': None, 'id': 732288194088185856, 'possibly_sensitive': False, 'in_reply_to_status_id_str': None, 'coordinates': None, 'favorite_count': 0, 'in_reply_to_user_id_str': None, 'in_reply_to_screen_name': None, 'id_str': '732288194088185856', 'user': {'profile_background_tile': True, 'profile_banner_url': 'https://pbs.twimg.com/profile_banners/2828859729/1462684099', 'is_translator': False, 'screen_name': 'NahuelUsberti7', 'name': 'N U 7//+x//', 'profile_image_url_https': 'https://pbs.twimg.com/profile_images/729483581093990400/q-yntFsh_normal.jpg', 'lang': 'es', 'profile_background_color': '94D487', 'contributors_enabled': False, 'statuses_count': 44544, 'notifications': False, 'default_profile': False, 'profile_background_image_url': 'http://pbs.twimg.com/profile_background_images/531525703242493952/K-cSABDC.png', 'id': 2828859729, 'profile_background_image_url_https': 'https://pbs.twimg.com/profile_background_images/531525703242493952/K-cSABDC.png', 'following': False, 'followers_count': 2296, 'profile_use_background_image': True, 'profile_image_url': 'http://pbs.twimg.com/profile_images/729483581093990400/q-yntFsh_normal.jpg', 'time_zone': 'Pacific Time (US & Canada)', 'utc_offset': -25200, 'profile_link_color': '4A913C', 'verified': False, 'favourites_count': 15934, 'default_profile_image': False, 'description': '18/de Islas Canarias en Rosario (Arg)\\nReal Madrid&R.Central⚽\\nMúsica Electro \\n(MAR+IN GARRI× & HARDWELL MIS IDOLOS❤)\\nBreathe Carolina/BLASTERJAXX', 'url': 'https://t.co/XpmoA15jEa', 'has_extended_profile': True, 'profile_sidebar_fill_color': 'DDEEF6', 'follow_request_sent': False, 'id_str': '2828859729', 'profile_sidebar_border_color': 'FFFFFF', 'is_translation_enabled': False, 'entities': {'description': {'urls': []}, 'url': {'urls': [{'url': 'https://t.co/XpmoA15jEa', 'expanded_url': 'https://instagram.com/nahuelusberti7/', 'indices': [0, 23], 'display_url': 'instagram.com/nahuelusberti7/'}]}}, 'profile_text_color': '333333', 'listed_count': 18, 'geo_enabled': True, 'protected': False, 'friends_count': 1583, 'location': 'Garrixlandia o donde haya edm', 'created_at': 'Tue Oct 14 03:09:17 +0000 2014'}, 'is_quote_status': False, 'entities': {'symbols': [], 'media': [{'media_url_https': 'https://pbs.twimg.com/media/Cb30qEmVIAE8GDd.jpg', 'source_user_id_str': '2195198102', 'source_status_id': 701986123686346754, 'sizes': {'large': {'h': 640, 'w': 960, 'resize': 'fit'}, 'small': {'h': 453, 'w': 680, 'resize': 'fit'}, 'medium': {'h': 640, 'w': 960, 'resize': 'fit'}, 'thumb': {'h': 150, 'w': 150, 'resize': 'crop'}}, 'display_url': 'pic.twitter.com/4JhWU0V5cC', 'indices': [76, 99], 'id_str': '701986120565858305', 'source_user_id': 2195198102, 'id': 701986120565858305, 'url': 'https://t.co/4JhWU0V5cC', 'type': 'photo', 'expanded_url': 'http://twitter.com/ImagenRetro/status/701986123686346754/photo/1', 'source_status_id_str': '701986123686346754', 'media_url': 'http://pbs.twimg.com/media/Cb30qEmVIAE8GDd.jpg'}], 'user_mentions': [{'indices': [3, 15], 'id_str': '2195198102', 'id': 2195198102, 'name': 'MUNDO RETRO.', 'screen_name': 'ImagenRetro'}], 'hashtags': [], 'urls': []}, 'favorited': False, 'created_at': 'Mon May 16 19:14:45 +0000 2016', 'retweet_count': 86, 'truncated': False, 'source': '<a href=\"http://twitter.com/download/android\" rel=\"nofollow\">Twitter for Android</a>', 'geo': None}, metadata={'iso_language_code': 'und', 'result_type': 'recent'}, text='RT @ImagenRetro: Michael Jackson, Kevin Connolly y Leonardo DiCaprio, 1998. https://t.co/4JhWU0V5cC', place=None, id=732288194088185856, possibly_sensitive=False, in_reply_to_status_id_str=None, coordinates=None, favorite_count=0, retweet_count=86, author=User(profile_background_tile=True, is_translator=False, name='N U 7//+x//', is_translation_enabled=False, lang='es', geo_enabled=True, profile_background_color='94D487', favourites_count=15934, statuses_count=44544, default_profile=False, _json={'profile_background_tile': True, 'profile_banner_url': 'https://pbs.twimg.com/profile_banners/2828859729/1462684099', 'is_translator': False, 'screen_name': 'NahuelUsberti7', 'name': 'N U 7//+x//', 'profile_image_url_https': 'https://pbs.twimg.com/profile_images/729483581093990400/q-yntFsh_normal.jpg', 'lang': 'es', 'profile_background_color': '94D487', 'contributors_enabled': False, 'statuses_count': 44544, 'notifications': False, 'default_profile': False, 'profile_background_image_url': 'http://pbs.twimg.com/profile_background_images/531525703242493952/K-cSABDC.png', 'id': 2828859729, 'profile_background_image_url_https': 'https://pbs.twimg.com/profile_background_images/531525703242493952/K-cSABDC.png', 'following': False, 'followers_count': 2296, 'profile_use_background_image': True, 'profile_image_url': 'http://pbs.twimg.com/profile_images/729483581093990400/q-yntFsh_normal.jpg', 'time_zone': 'Pacific Time (US & Canada)', 'utc_offset': -25200, 'profile_link_color': '4A913C', 'verified': False, 'favourites_count': 15934, 'default_profile_image': False, 'description': '18/de Islas Canarias en Rosario (Arg)\\nReal Madrid&R.Central⚽\\nMúsica Electro \\n(MAR+IN GARRI× & HARDWELL MIS IDOLOS❤)\\nBreathe Carolina/BLASTERJAXX', 'url': 'https://t.co/XpmoA15jEa', 'has_extended_profile': True, 'profile_sidebar_fill_color': 'DDEEF6', 'follow_request_sent': False, 'id_str': '2828859729', 'profile_sidebar_border_color': 'FFFFFF', 'is_translation_enabled': False, 'entities': {'description': {'urls': []}, 'url': {'urls': [{'url': 'https://t.co/XpmoA15jEa', 'expanded_url': 'https://instagram.com/nahuelusberti7/', 'indices': [0, 23], 'display_url': 'instagram.com/nahuelusberti7/'}]}}, 'profile_text_color': '333333', 'listed_count': 18, 'geo_enabled': True, 'protected': False, 'friends_count': 1583, 'location': 'Garrixlandia o donde haya edm', 'created_at': 'Tue Oct 14 03:09:17 +0000 2014'}, profile_background_image_url='http://pbs.twimg.com/profile_background_images/531525703242493952/K-cSABDC.png', id=2828859729, profile_background_image_url_https='https://pbs.twimg.com/profile_background_images/531525703242493952/K-cSABDC.png', following=False, followers_count=2296, profile_use_background_image=True, profile_image_url='http://pbs.twimg.com/profile_images/729483581093990400/q-yntFsh_normal.jpg', time_zone='Pacific Time (US & Canada)', utc_offset=-25200, profile_link_color='4A913C', verified=False, contributors_enabled=False, friends_count=1583, default_profile_image=False, description='18/de Islas Canarias en Rosario (Arg)\\nReal Madrid&R.Central⚽\\nMúsica Electro \\n(MAR+IN GARRI× & HARDWELL MIS IDOLOS❤)\\nBreathe Carolina/BLASTERJAXX', profile_image_url_https='https://pbs.twimg.com/profile_images/729483581093990400/q-yntFsh_normal.jpg', notifications=False, _api=<tweepy.api.API object at 0x106b4cdd8>, follow_request_sent=False, id_str='2828859729', profile_sidebar_border_color='FFFFFF', entities={'description': {'urls': []}, 'url': {'urls': [{'url': 'https://t.co/XpmoA15jEa', 'expanded_url': 'https://instagram.com/nahuelusberti7/', 'indices': [0, 23], 'display_url': 'instagram.com/nahuelusberti7/'}]}}, location='Garrixlandia o donde haya edm', profile_text_color='333333', listed_count=18, profile_sidebar_fill_color='DDEEF6', url='https://t.co/XpmoA15jEa', created_at=datetime.datetime(2014, 10, 14, 3, 9, 17), protected=False, screen_name='NahuelUsberti7', has_extended_profile=True, profile_banner_url='https://pbs.twimg.com/profile_banners/2828859729/1462684099'), _api=<tweepy.api.API object at 0x106b4cdd8>, in_reply_to_screen_name=None, id_str='732288194088185856', user=User(profile_background_tile=True, is_translator=False, name='N U 7//+x//', is_translation_enabled=False, lang='es', geo_enabled=True, profile_background_color='94D487', favourites_count=15934, statuses_count=44544, default_profile=False, _json={'profile_background_tile': True, 'profile_banner_url': 'https://pbs.twimg.com/profile_banners/2828859729/1462684099', 'is_translator': False, 'screen_name': 'NahuelUsberti7', 'name': 'N U 7//+x//', 'profile_image_url_https': 'https://pbs.twimg.com/profile_images/729483581093990400/q-yntFsh_normal.jpg', 'lang': 'es', 'profile_background_color': '94D487', 'contributors_enabled': False, 'statuses_count': 44544, 'notifications': False, 'default_profile': False, 'profile_background_image_url': 'http://pbs.twimg.com/profile_background_images/531525703242493952/K-cSABDC.png', 'id': 2828859729, 'profile_background_image_url_https': 'https://pbs.twimg.com/profile_background_images/531525703242493952/K-cSABDC.png', 'following': False, 'followers_count': 2296, 'profile_use_background_image': True, 'profile_image_url': 'http://pbs.twimg.com/profile_images/729483581093990400/q-yntFsh_normal.jpg', 'time_zone': 'Pacific Time (US & Canada)', 'utc_offset': -25200, 'profile_link_color': '4A913C', 'verified': False, 'favourites_count': 15934, 'default_profile_image': False, 'description': '18/de Islas Canarias en Rosario (Arg)\\nReal Madrid&R.Central⚽\\nMúsica Electro \\n(MAR+IN GARRI× & HARDWELL MIS IDOLOS❤)\\nBreathe Carolina/BLASTERJAXX', 'url': 'https://t.co/XpmoA15jEa', 'has_extended_profile': True, 'profile_sidebar_fill_color': 'DDEEF6', 'follow_request_sent': False, 'id_str': '2828859729', 'profile_sidebar_border_color': 'FFFFFF', 'is_translation_enabled': False, 'entities': {'description': {'urls': []}, 'url': {'urls': [{'url': 'https://t.co/XpmoA15jEa', 'expanded_url': 'https://instagram.com/nahuelusberti7/', 'indices': [0, 23], 'display_url': 'instagram.com/nahuelusberti7/'}]}}, 'profile_text_color': '333333', 'listed_count': 18, 'geo_enabled': True, 'protected': False, 'friends_count': 1583, 'location': 'Garrixlandia o donde haya edm', 'created_at': 'Tue Oct 14 03:09:17 +0000 2014'}, profile_background_image_url='http://pbs.twimg.com/profile_background_images/531525703242493952/K-cSABDC.png', id=2828859729, profile_background_image_url_https='https://pbs.twimg.com/profile_background_images/531525703242493952/K-cSABDC.png', following=False, followers_count=2296, profile_use_background_image=True, profile_image_url='http://pbs.twimg.com/profile_images/729483581093990400/q-yntFsh_normal.jpg', time_zone='Pacific Time (US & Canada)', utc_offset=-25200, profile_link_color='4A913C', verified=False, contributors_enabled=False, friends_count=1583, default_profile_image=False, description='18/de Islas Canarias en Rosario (Arg)\\nReal Madrid&R.Central⚽\\nMúsica Electro \\n(MAR+IN GARRI× & HARDWELL MIS IDOLOS❤)\\nBreathe Carolina/BLASTERJAXX', profile_image_url_https='https://pbs.twimg.com/profile_images/729483581093990400/q-yntFsh_normal.jpg', notifications=False, _api=<tweepy.api.API object at 0x106b4cdd8>, follow_request_sent=False, id_str='2828859729', profile_sidebar_border_color='FFFFFF', entities={'description': {'urls': []}, 'url': {'urls': [{'url': 'https://t.co/XpmoA15jEa', 'expanded_url': 'https://instagram.com/nahuelusberti7/', 'indices': [0, 23], 'display_url': 'instagram.com/nahuelusberti7/'}]}}, location='Garrixlandia o donde haya edm', profile_text_color='333333', listed_count=18, profile_sidebar_fill_color='DDEEF6', url='https://t.co/XpmoA15jEa', created_at=datetime.datetime(2014, 10, 14, 3, 9, 17), protected=False, screen_name='NahuelUsberti7', has_extended_profile=True, profile_banner_url='https://pbs.twimg.com/profile_banners/2828859729/1462684099'), is_quote_status=False, entities={'symbols': [], 'media': [{'media_url_https': 'https://pbs.twimg.com/media/Cb30qEmVIAE8GDd.jpg', 'source_user_id_str': '2195198102', 'source_status_id': 701986123686346754, 'sizes': {'large': {'h': 640, 'w': 960, 'resize': 'fit'}, 'small': {'h': 453, 'w': 680, 'resize': 'fit'}, 'medium': {'h': 640, 'w': 960, 'resize': 'fit'}, 'thumb': {'h': 150, 'w': 150, 'resize': 'crop'}}, 'display_url': 'pic.twitter.com/4JhWU0V5cC', 'indices': [76, 99], 'id_str': '701986120565858305', 'source_user_id': 2195198102, 'id': 701986120565858305, 'url': 'https://t.co/4JhWU0V5cC', 'type': 'photo', 'expanded_url': 'http://twitter.com/ImagenRetro/status/701986123686346754/photo/1', 'source_status_id_str': '701986123686346754', 'media_url': 'http://pbs.twimg.com/media/Cb30qEmVIAE8GDd.jpg'}], 'user_mentions': [{'indices': [3, 15], 'id_str': '2195198102', 'id': 2195198102, 'name': 'MUNDO RETRO.', 'screen_name': 'ImagenRetro'}], 'hashtags': [], 'urls': []}, source_url='http://twitter.com/download/android', favorited=False, geo=None, in_reply_to_user_id_str=None, truncated=False, source='Twitter for Android', created_at=datetime.datetime(2016, 5, 16, 19, 14, 45))\n"
     ]
    }
   ],
   "source": [
    "max_tweets=1\n",
    "\n",
    "for tweet in tweepy.Cursor(api.search, q=\"Leonardo DiCaprio\").items(max_tweets):\n",
    "    print(tweet)"
   ]
  },
  {
   "cell_type": "code",
   "execution_count": 22,
   "metadata": {
    "collapsed": false
   },
   "outputs": [],
   "source": [
    "results = []\n",
    "\n",
    "for tweet in tweepy.Cursor(api.search, q=\"leonard DiCaprio\").items(10):\n",
    "    results.append(tweet)"
   ]
  },
  {
   "cell_type": "code",
   "execution_count": 23,
   "metadata": {
    "collapsed": true
   },
   "outputs": [],
   "source": [
    "import pandas as pd"
   ]
  },
  {
   "cell_type": "code",
   "execution_count": 24,
   "metadata": {
    "collapsed": true
   },
   "outputs": [],
   "source": [
    "def structure_results(results):\n",
    "    id_list=[tweet.id for tweet in results]\n",
    "    data = pd.DataFrame(id_list, columns=['id'])\n",
    "    \n",
    "    data[\"text\"]=[tweet.text.encode('utf-8') for tweet in results]\n",
    "    data[\"datetime\"] = [tweet.created_at for tweet in results]\n",
    "    data[\"Location\"] = [tweet.place for tweet in results]\n",
    "    \n",
    "    return data"
   ]
  },
  {
   "cell_type": "code",
   "execution_count": 25,
   "metadata": {
    "collapsed": false
   },
   "outputs": [
    {
     "data": {
      "text/html": [
       "<div>\n",
       "<table border=\"1\" class=\"dataframe\">\n",
       "  <thead>\n",
       "    <tr style=\"text-align: right;\">\n",
       "      <th></th>\n",
       "      <th>id</th>\n",
       "      <th>text</th>\n",
       "      <th>datetime</th>\n",
       "      <th>Location</th>\n",
       "    </tr>\n",
       "  </thead>\n",
       "  <tbody>\n",
       "    <tr>\n",
       "      <th>0</th>\n",
       "      <td>732278887846162434</td>\n",
       "      <td>b'@jeanine_krist ik ben verliefd op leonard op...</td>\n",
       "      <td>2016-05-16 18:37:46</td>\n",
       "      <td>None</td>\n",
       "    </tr>\n",
       "    <tr>\n",
       "      <th>1</th>\n",
       "      <td>732228042840506369</td>\n",
       "      <td>b'RT @UrbanTVUganda: I was like Leonard DiCapr...</td>\n",
       "      <td>2016-05-16 15:15:44</td>\n",
       "      <td>None</td>\n",
       "    </tr>\n",
       "    <tr>\n",
       "      <th>2</th>\n",
       "      <td>732185582776909824</td>\n",
       "      <td>b'@CllrChrisWood @genophilia @BBC Looking forw...</td>\n",
       "      <td>2016-05-16 12:27:00</td>\n",
       "      <td>None</td>\n",
       "    </tr>\n",
       "    <tr>\n",
       "      <th>3</th>\n",
       "      <td>732166379915333632</td>\n",
       "      <td>b'RT @UrbanTVUganda: I was like Leonard DiCapr...</td>\n",
       "      <td>2016-05-16 11:10:42</td>\n",
       "      <td>None</td>\n",
       "    </tr>\n",
       "    <tr>\n",
       "      <th>4</th>\n",
       "      <td>732079025590521856</td>\n",
       "      <td>b'RT @UrbanTVUganda: I was like Leonard DiCapr...</td>\n",
       "      <td>2016-05-16 05:23:35</td>\n",
       "      <td>None</td>\n",
       "    </tr>\n",
       "  </tbody>\n",
       "</table>\n",
       "</div>"
      ],
      "text/plain": [
       "                   id                                               text  \\\n",
       "0  732278887846162434  b'@jeanine_krist ik ben verliefd op leonard op...   \n",
       "1  732228042840506369  b'RT @UrbanTVUganda: I was like Leonard DiCapr...   \n",
       "2  732185582776909824  b'@CllrChrisWood @genophilia @BBC Looking forw...   \n",
       "3  732166379915333632  b'RT @UrbanTVUganda: I was like Leonard DiCapr...   \n",
       "4  732079025590521856  b'RT @UrbanTVUganda: I was like Leonard DiCapr...   \n",
       "\n",
       "             datetime Location  \n",
       "0 2016-05-16 18:37:46     None  \n",
       "1 2016-05-16 15:15:44     None  \n",
       "2 2016-05-16 12:27:00     None  \n",
       "3 2016-05-16 11:10:42     None  \n",
       "4 2016-05-16 05:23:35     None  "
      ]
     },
     "execution_count": 25,
     "metadata": {},
     "output_type": "execute_result"
    }
   ],
   "source": [
    "data=structure_results(results)\n",
    "data.head()"
   ]
  },
  {
   "cell_type": "code",
   "execution_count": 35,
   "metadata": {
    "collapsed": false
   },
   "outputs": [],
   "source": [
    "import json\n",
    "from pymongo import MongoClient\n",
    "client = MongoClient()\n",
    "\n",
    "db = client.example\n",
    "\n",
    "tweets = db.tweets"
   ]
  },
  {
   "cell_type": "code",
   "execution_count": 36,
   "metadata": {
    "collapsed": false
   },
   "outputs": [],
   "source": [
    "for tweet in results:\n",
    "    data={}\n",
    "    data['tweet']=tweet.text.encode('utf-8') \n",
    "    data['datetime']=tweet.created_at\n",
    "    tweets.insert_one(data)"
   ]
  },
  {
   "cell_type": "code",
   "execution_count": 37,
   "metadata": {
    "collapsed": false
   },
   "outputs": [
    {
     "data": {
      "text/plain": [
       "{'_id': ObjectId('573a21345d9ccd1d196ff7fd'),\n",
       " 'datetime': datetime.datetime(2016, 5, 16, 18, 37, 46),\n",
       " 'tweet': b'@jeanine_krist ik ben verliefd op leonard op leonardo dicaprio pak me vast ik wil met je dansen net als op die grote boot'}"
      ]
     },
     "execution_count": 37,
     "metadata": {},
     "output_type": "execute_result"
    }
   ],
   "source": [
    "tweets.find_one()"
   ]
  },
  {
   "cell_type": "code",
   "execution_count": 38,
   "metadata": {
    "collapsed": false
   },
   "outputs": [
    {
     "data": {
      "text/plain": [
       "pymongo.collection.Collection"
      ]
     },
     "execution_count": 38,
     "metadata": {},
     "output_type": "execute_result"
    }
   ],
   "source": [
    "type(tweets)"
   ]
  },
  {
   "cell_type": "code",
   "execution_count": 39,
   "metadata": {
    "collapsed": false
   },
   "outputs": [
    {
     "data": {
      "text/plain": [
       "pymongo.database.Database"
      ]
     },
     "execution_count": 39,
     "metadata": {},
     "output_type": "execute_result"
    }
   ],
   "source": [
    "type(db)"
   ]
  },
  {
   "cell_type": "code",
   "execution_count": null,
   "metadata": {
    "collapsed": true
   },
   "outputs": [],
   "source": []
  }
 ],
 "metadata": {
  "kernelspec": {
   "display_name": "Python 3",
   "language": "python",
   "name": "python3"
  },
  "language_info": {
   "codemirror_mode": {
    "name": "ipython",
    "version": 3
   },
   "file_extension": ".py",
   "mimetype": "text/x-python",
   "name": "python",
   "nbconvert_exporter": "python",
   "pygments_lexer": "ipython3",
   "version": "3.5.1"
  }
 },
 "nbformat": 4,
 "nbformat_minor": 0
}
