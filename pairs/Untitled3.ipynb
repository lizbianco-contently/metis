{
 "cells": [
  {
   "cell_type": "code",
   "execution_count": 50,
   "metadata": {
    "collapsed": false
   },
   "outputs": [
    {
     "ename": "SyntaxError",
     "evalue": "invalid syntax (<ipython-input-50-b465725b5945>, line 17)",
     "output_type": "error",
     "traceback": [
      "\u001b[0;36m  File \u001b[0;32m\"<ipython-input-50-b465725b5945>\"\u001b[0;36m, line \u001b[0;32m17\u001b[0m\n\u001b[0;31m    rowcount = collections.Counter.row)\u001b[0m\n\u001b[0m                                      ^\u001b[0m\n\u001b[0;31mSyntaxError\u001b[0m\u001b[0;31m:\u001b[0m invalid syntax\n"
     ]
    }
   ],
   "source": [
    "# file = filename\n",
    "# f=open(filename, 'r')\n",
    "# reader= f.read()\n",
    "import string\n",
    "import collections\n",
    "\n",
    "reader= ['ABbCcc',\n",
    "'Good luck in the Facebook Hacker Cup this year!',\n",
    "'Ignore punctuation, please :)',\n",
    "'Sometimes test cases are hard to make up.',\n",
    "'So I just go consult Professor Dalves']\n",
    "def get_value(reader):\n",
    "    for row in reader:\n",
    "        row = row.lower()\n",
    "        row = ''.join(filter(str.isalpha, row))\n",
    "    #     print(row)\n",
    "        rowcount = collections.Counter.(row)\n",
    "        print(rowcount)\n",
    "        countlist=[]\n",
    "        for item in rowcount:\n",
    "            countlist.append(rowcount[item])\n",
    "        valuerange=list(sorted((range(1,27,), reverse=True))\n",
    "        \n",
    "        sum_of_beauty=0\n",
    "        \n",
    "        for i in countlist:\n",
    "            highestvalue = max(countlist)\n",
    "            \n",
    "        print(max(countlist))\n",
    "        \n",
    "get_value(reader)\n",
    "                      \n",
    "    \n",
    "#     for i in \n",
    "#     print (rowcount)\n",
    "    "
   ]
  },
  {
   "cell_type": "code",
   "execution_count": 46,
   "metadata": {
    "collapsed": false
   },
   "outputs": [
    {
     "ename": "TypeError",
     "evalue": "'range' object is not callable",
     "output_type": "error",
     "traceback": [
      "\u001b[0;31m---------------------------------------------------------------------------\u001b[0m",
      "\u001b[0;31mTypeError\u001b[0m                                 Traceback (most recent call last)",
      "\u001b[0;32m<ipython-input-46-fb641d3e0c9d>\u001b[0m in \u001b[0;36m<module>\u001b[0;34m()\u001b[0m\n\u001b[0;32m----> 1\u001b[0;31m \u001b[0mvaluerange\u001b[0m\u001b[0;34m=\u001b[0m\u001b[0mlist\u001b[0m\u001b[0;34m(\u001b[0m\u001b[0mrange\u001b[0m\u001b[0;34m(\u001b[0m\u001b[0;36m1\u001b[0m\u001b[0;34m,\u001b[0m\u001b[0;36m27\u001b[0m\u001b[0;34m,\u001b[0m\u001b[0;34m)\u001b[0m\u001b[0;34m(\u001b[0m\u001b[0;34m-\u001b[0m\u001b[0;36m1\u001b[0m\u001b[0;34m)\u001b[0m\u001b[0;34m)\u001b[0m\u001b[0;34m\u001b[0m\u001b[0m\n\u001b[0m",
      "\u001b[0;31mTypeError\u001b[0m: 'range' object is not callable"
     ]
    }
   ],
   "source": [
    "valuerange=list(range(1,27,))"
   ]
  },
  {
   "cell_type": "code",
   "execution_count": 45,
   "metadata": {
    "collapsed": false
   },
   "outputs": [
    {
     "name": "stdout",
     "output_type": "stream",
     "text": [
      "[1, 2, 3, 4, 5, 6, 7, 8, 9, 10, 11, 12, 13, 14, 15, 16, 17, 18, 19, 20, 21, 22, 23, 24, 25, 26]\n"
     ]
    }
   ],
   "source": [
    "print(valuerange)"
   ]
  },
  {
   "cell_type": "code",
   "execution_count": null,
   "metadata": {
    "collapsed": true
   },
   "outputs": [],
   "source": []
  }
 ],
 "metadata": {
  "kernelspec": {
   "display_name": "Python 3",
   "language": "python",
   "name": "python3"
  },
  "language_info": {
   "codemirror_mode": {
    "name": "ipython",
    "version": 3
   },
   "file_extension": ".py",
   "mimetype": "text/x-python",
   "name": "python",
   "nbconvert_exporter": "python",
   "pygments_lexer": "ipython3",
   "version": "3.5.1"
  }
 },
 "nbformat": 4,
 "nbformat_minor": 0
}
