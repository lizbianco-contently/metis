{
 "cells": [
  {
   "cell_type": "code",
   "execution_count": 10,
   "metadata": {
    "collapsed": false
   },
   "outputs": [],
   "source": [
    "# def isbalanced(string):\n",
    "#     count = 0\n",
    "#     while count >= 0:\n",
    "#         for i in string:\n",
    "#             if i == '(':\n",
    "#                 count += 1\n",
    "#             if i == ')':\n",
    "#                 count -= 1\n",
    "#         else: \n",
    "#             print(False)\n",
    "#             break\n",
    "#     if count:\n",
    "#         print (True)\n",
    "#     else:\n",
    "#         print (False)\n",
    "        "
   ]
  },
  {
   "cell_type": "code",
   "execution_count": 21,
   "metadata": {
    "collapsed": false
   },
   "outputs": [
    {
     "data": {
      "text/plain": [
       "False"
      ]
     },
     "execution_count": 21,
     "metadata": {},
     "output_type": "execute_result"
    }
   ],
   "source": [
    "isbalanced('(()()))(()')"
   ]
  },
  {
   "cell_type": "code",
   "execution_count": 15,
   "metadata": {
    "collapsed": true
   },
   "outputs": [],
   "source": [
    "def isbalanced(string):\n",
    "    mylist = []\n",
    "    for i in string:\n",
    "        if i == '(':\n",
    "            mylist.append(i)\n",
    "        else:\n",
    "            if len(mylist) == 0:\n",
    "                return False\n",
    "            mylist.pop()\n",
    "    if len(mylist) == 0:\n",
    "        return True\n",
    "    return False"
   ]
  },
  {
   "cell_type": "code",
   "execution_count": null,
   "metadata": {
    "collapsed": true
   },
   "outputs": [],
   "source": []
  }
 ],
 "metadata": {
  "kernelspec": {
   "display_name": "Python 3",
   "language": "python",
   "name": "python3"
  },
  "language_info": {
   "codemirror_mode": {
    "name": "ipython",
    "version": 3
   },
   "file_extension": ".py",
   "mimetype": "text/x-python",
   "name": "python",
   "nbconvert_exporter": "python",
   "pygments_lexer": "ipython3",
   "version": "3.5.1"
  }
 },
 "nbformat": 4,
 "nbformat_minor": 0
}
