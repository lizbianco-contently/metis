{
 "cells": [
  {
   "cell_type": "code",
   "execution_count": 10,
   "metadata": {
    "collapsed": false
   },
   "outputs": [
    {
     "name": "stdout",
     "output_type": "stream",
     "text": [
      "5.1 10.05 10.19\n"
     ]
    }
   ],
   "source": [
    "def check_check():\n",
    "    for d in range(1,100):\n",
    "        for c in range(0,1,0.01):\n",
    "            total=float(d+c)\n",
    "            target=(total*2)-0.01\n",
    "            \n",
    "            if d < 10:\n",
    "                d=('0'+(str(d)))\n",
    "            else:\n",
    "                d=str(d)\n",
    "            c = str(c).split('.')[1]\n",
    "            \n",
    "            actual = \n",
    "            \n",
    "            \n",
    "            \n",
    "            if actual==target:\n",
    "                return total\n",
    "                break\n",
    "            \n",
    "            \n",
    "            \n",
    "        if (float(d+\".\"+c)*2)-0.01 == float(c+\".\"+d):\n",
    "            return float(d+\".\"+c)\n",
    "            break\n",
    "        else:\n",
    "            \n",
    "    \n",
    "    start=float(d+\".\"+c)\n",
    "    end=float(c+\".\"+d)\n",
    "    end_2=(start*2)-0.01\n",
    "    \n",
    "    print (start, end, end_2)\n",
    "    \n",
    "check_check('05','10')"
   ]
  },
  {
   "cell_type": "code",
   "execution_count": null,
   "metadata": {
    "collapsed": true
   },
   "outputs": [],
   "source": []
  }
 ],
 "metadata": {
  "kernelspec": {
   "display_name": "Python 3",
   "language": "python",
   "name": "python3"
  },
  "language_info": {
   "codemirror_mode": {
    "name": "ipython",
    "version": 3
   },
   "file_extension": ".py",
   "mimetype": "text/x-python",
   "name": "python",
   "nbconvert_exporter": "python",
   "pygments_lexer": "ipython3",
   "version": "3.5.1"
  }
 },
 "nbformat": 4,
 "nbformat_minor": 0
}
