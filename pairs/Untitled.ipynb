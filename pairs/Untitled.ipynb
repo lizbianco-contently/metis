{
 "cells": [
  {
   "cell_type": "code",
   "execution_count": 25,
   "metadata": {
    "collapsed": false
   },
   "outputs": [],
   "source": [
    "import numpy as np\n",
    "import statsmodels.formula.api as sm\n",
    "import sklearn.datasets\n",
    "from pandas import *"
   ]
  },
  {
   "cell_type": "code",
   "execution_count": 28,
   "metadata": {
    "collapsed": false
   },
   "outputs": [
    {
     "name": "stdout",
     "output_type": "stream",
     "text": [
      "<class 'tuple'>\n"
     ]
    }
   ],
   "source": [
    "data=sklearn.datasets.make_regression(n_samples=200, n_features=20)\n",
    "#df = DataFrame(data)\n",
    "print(type(data))"
   ]
  },
  {
   "cell_type": "code",
   "execution_count": 41,
   "metadata": {
    "collapsed": false
   },
   "outputs": [],
   "source": [
    "y = np.random.randn(200)\n",
    "X = np.random.randn(200, 20)"
   ]
  },
  {
   "cell_type": "code",
   "execution_count": 42,
   "metadata": {
    "collapsed": false
   },
   "outputs": [
    {
     "data": {
      "text/plain": [
       "(200, 20)"
      ]
     },
     "execution_count": 42,
     "metadata": {},
     "output_type": "execute_result"
    }
   ],
   "source": [
    "X.shape"
   ]
  },
  {
   "cell_type": "code",
   "execution_count": 43,
   "metadata": {
    "collapsed": false
   },
   "outputs": [
    {
     "name": "stdout",
     "output_type": "stream",
     "text": [
      "[ 0.03688157 -0.05478096  0.15554341  0.00888152  0.06830947  0.05362392\n",
      " -0.03690369  0.05216983 -0.05703717 -0.09043707 -0.08261645  0.00139458\n",
      "  0.11559428  0.04774996  0.07975876 -0.02409737  0.09133729 -0.06373385\n",
      "  0.03333014 -0.0092791 ]\n"
     ]
    }
   ],
   "source": [
    "inside = (np.dot(X.T, X))\n",
    "inverse = np.linalg.inv(inside)\n",
    "outside = np.dot(inverse,X.T)\n",
    "B = np.dot(outside, y)\n",
    "print (B)"
   ]
  },
  {
   "cell_type": "code",
   "execution_count": 44,
   "metadata": {
    "collapsed": true
   },
   "outputs": [],
   "source": [
    "def getModel(y, n):\n",
    "    X = np.random.rand(200,n)\n",
    "    model = sm.OLS(y, X)\n",
    "    results = mdel.fit()\n",
    "    results.summary()\n",
    "    return[n, results.rsquared, results.rsquared_adj]"
   ]
  },
  {
   "cell_type": "code",
   "execution_count": null,
   "metadata": {
    "collapsed": true
   },
   "outputs": [],
   "source": [
    "model = []\n",
    "for i in np.arange(1,101):\n",
    "    models.append(getModel(y, i))\n",
    "    \n",
    "models_to_plot"
   ]
  }
 ],
 "metadata": {
  "kernelspec": {
   "display_name": "Python 3",
   "language": "python",
   "name": "python3"
  },
  "language_info": {
   "codemirror_mode": {
    "name": "ipython",
    "version": 3
   },
   "file_extension": ".py",
   "mimetype": "text/x-python",
   "name": "python",
   "nbconvert_exporter": "python",
   "pygments_lexer": "ipython3",
   "version": "3.5.1"
  }
 },
 "nbformat": 4,
 "nbformat_minor": 0
}
