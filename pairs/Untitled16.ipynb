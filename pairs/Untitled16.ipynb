{
 "cells": [
  {
   "cell_type": "code",
   "execution_count": 45,
   "metadata": {
    "collapsed": false
   },
   "outputs": [],
   "source": [
    "def num_to_roman(n):\n",
    "    m_count = n//1000\n",
    "    remainder = n%1000\n",
    "    d_count = remainder//500\n",
    "    remainder = remainder%500\n",
    "    c_count = remainder//100\n",
    "    remainder = remainder%100\n",
    "    l_count = remainder//50\n",
    "    remainder = remainder%50\n",
    "    x_count = remainder//10\n",
    "    remainder = remainder%10\n",
    "    v_count = remainder//5\n",
    "    i_count = remainder%5\n",
    "    roman = []\n",
    "  \n",
    "    roman.append(\"M\"*m_count)\n",
    "    roman.append(\"D\"*d_count)\n",
    "    if c_count == 4:\n",
    "        previous = test[(len(test)-1)]\n",
    "        if previous == \"D\":\n",
    "            roman.remove(previous)\n",
    "            roman.append(\"CM\")\n",
    "        else:\n",
    "            roman.append(\"CD\")\n",
    "    else:\n",
    "        roman.append(\"C\"*c_count)\n",
    "    roman.append(\"L\"*l_count)\n",
    "    if x_count ==4:\n",
    "        previous = test[(len(test)-1)]\n",
    "        if previous == \"L\":\n",
    "            roman.remove(previous)\n",
    "            roman.append(\"XC\")\n",
    "        else:\n",
    "            roman.append(\"XL\")\n",
    "    else:\n",
    "        roman.append(\"X\"*x_count)\n",
    "    roman.append(\"V\"*v_count)\n",
    "    if i_count == 4:\n",
    "        previous = test[(len(test)-1)]\n",
    "        if previous == \"V\":\n",
    "            roman.remove(previous)\n",
    "            roman.append(\"IX\")\n",
    "        else:\n",
    "            roman.append(\"IV\")\n",
    "    else:\n",
    "        roman.append(\"I\"*i_count)\n",
    "    #roman = \"M\"*m_count+\"D\"*d_count+\"C\"*c_count+\"L\"*l_count+\"X\"*x_count+\"V\"*v_count+\"I\"*i_count\n",
    "    roman = ''.join(roman)\n",
    "    return roman"
   ]
  },
  {
   "cell_type": "code",
   "execution_count": 48,
   "metadata": {
    "collapsed": false
   },
   "outputs": [
    {
     "data": {
      "text/plain": [
       "'XLIX'"
      ]
     },
     "execution_count": 48,
     "metadata": {},
     "output_type": "execute_result"
    }
   ],
   "source": [
    "num_to_roman(49)\n"
   ]
  },
  {
   "cell_type": "markdown",
   "metadata": {},
   "source": [
    "M = 1000\n",
    "D =  500\n",
    "C = 100\n",
    "L = 50\n",
    "X = 10\n",
    "V = 5\n",
    "I = 1"
   ]
  },
  {
   "cell_type": "code",
   "execution_count": null,
   "metadata": {
    "collapsed": true
   },
   "outputs": [],
   "source": []
  }
 ],
 "metadata": {
  "kernelspec": {
   "display_name": "Python 3",
   "language": "python",
   "name": "python3"
  },
  "language_info": {
   "codemirror_mode": {
    "name": "ipython",
    "version": 3
   },
   "file_extension": ".py",
   "mimetype": "text/x-python",
   "name": "python",
   "nbconvert_exporter": "python",
   "pygments_lexer": "ipython3",
   "version": "3.5.1"
  }
 },
 "nbformat": 4,
 "nbformat_minor": 0
}
